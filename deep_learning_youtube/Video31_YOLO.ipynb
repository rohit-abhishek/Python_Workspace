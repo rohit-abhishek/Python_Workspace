{
 "cells": [
  {
   "cell_type": "markdown",
   "id": "96dff512",
   "metadata": {},
   "source": [
    "```\n",
    "Facing issues with installation of YOLO 4 - Revise this later"
   ]
  },
  {
   "cell_type": "markdown",
   "id": "9e0d9ee6",
   "metadata": {},
   "source": []
  }
 ],
 "metadata": {
  "language_info": {
   "name": "python"
  }
 },
 "nbformat": 4,
 "nbformat_minor": 5
}
