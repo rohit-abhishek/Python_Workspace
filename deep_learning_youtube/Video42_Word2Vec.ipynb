{
 "cells": [
  {
   "cell_type": "markdown",
   "id": "a39b619e",
   "metadata": {},
   "source": [
    "# Word2Vec using Amazon product review dataset \n",
    "http://snap.stanford.edu/data/amazon/productGraph/categoryFiles/reviews_Cell_Phones_and_Accessories_5.json.gz"
   ]
  },
  {
   "cell_type": "code",
   "execution_count": 1,
   "id": "3c3b3c0c",
   "metadata": {},
   "outputs": [],
   "source": [
    "import gensim \n",
    "import pandas as pd "
   ]
  },
  {
   "cell_type": "code",
   "execution_count": 3,
   "id": "25883880",
   "metadata": {},
   "outputs": [],
   "source": [
    "df = pd.read_json('data/video42/reviews_Cell_Phones_and_Accessories_5.json', lines=True)"
   ]
  },
  {
   "cell_type": "code",
   "execution_count": 5,
   "id": "015fda09",
   "metadata": {},
   "outputs": [
    {
     "data": {
      "text/html": [
       "<div>\n",
       "<style scoped>\n",
       "    .dataframe tbody tr th:only-of-type {\n",
       "        vertical-align: middle;\n",
       "    }\n",
       "\n",
       "    .dataframe tbody tr th {\n",
       "        vertical-align: top;\n",
       "    }\n",
       "\n",
       "    .dataframe thead th {\n",
       "        text-align: right;\n",
       "    }\n",
       "</style>\n",
       "<table border=\"1\" class=\"dataframe\">\n",
       "  <thead>\n",
       "    <tr style=\"text-align: right;\">\n",
       "      <th></th>\n",
       "      <th>reviewerID</th>\n",
       "      <th>asin</th>\n",
       "      <th>reviewerName</th>\n",
       "      <th>helpful</th>\n",
       "      <th>reviewText</th>\n",
       "      <th>overall</th>\n",
       "      <th>summary</th>\n",
       "      <th>unixReviewTime</th>\n",
       "      <th>reviewTime</th>\n",
       "    </tr>\n",
       "  </thead>\n",
       "  <tbody>\n",
       "    <tr>\n",
       "      <th>145671</th>\n",
       "      <td>AUUQIXCA8CQDS</td>\n",
       "      <td>B00AYPEL56</td>\n",
       "      <td>JoPfef</td>\n",
       "      <td>[0, 0]</td>\n",
       "      <td>Got these so I could have additional space on ...</td>\n",
       "      <td>5</td>\n",
       "      <td>Great adapters!</td>\n",
       "      <td>1384473600</td>\n",
       "      <td>11 15, 2013</td>\n",
       "    </tr>\n",
       "    <tr>\n",
       "      <th>171403</th>\n",
       "      <td>A35UN8P5NBNU2K</td>\n",
       "      <td>B00DZ0J74W</td>\n",
       "      <td>IanA</td>\n",
       "      <td>[0, 0]</td>\n",
       "      <td>This cable is great length and its quality is ...</td>\n",
       "      <td>5</td>\n",
       "      <td>Fantastic cable!</td>\n",
       "      <td>1393718400</td>\n",
       "      <td>03 2, 2014</td>\n",
       "    </tr>\n",
       "    <tr>\n",
       "      <th>170506</th>\n",
       "      <td>A2QI4VIO4MRX8A</td>\n",
       "      <td>B00DUR2GZM</td>\n",
       "      <td>Stephen Davidson</td>\n",
       "      <td>[0, 0]</td>\n",
       "      <td>Love this product! Never had any problem with ...</td>\n",
       "      <td>5</td>\n",
       "      <td>Great Product</td>\n",
       "      <td>1390176000</td>\n",
       "      <td>01 20, 2014</td>\n",
       "    </tr>\n",
       "    <tr>\n",
       "      <th>171345</th>\n",
       "      <td>A2MENIMGJCIIKK</td>\n",
       "      <td>B00DY9LMRE</td>\n",
       "      <td>R. Wesson</td>\n",
       "      <td>[0, 1]</td>\n",
       "      <td>ordered pink and got purple. ordered 2 since t...</td>\n",
       "      <td>2</td>\n",
       "      <td>well</td>\n",
       "      <td>1392249600</td>\n",
       "      <td>02 13, 2014</td>\n",
       "    </tr>\n",
       "    <tr>\n",
       "      <th>145115</th>\n",
       "      <td>A1KEV5E0PWU9LV</td>\n",
       "      <td>B00AX7T65U</td>\n",
       "      <td>John Andrews</td>\n",
       "      <td>[0, 0]</td>\n",
       "      <td>This case is slim, has a great grip, and looks...</td>\n",
       "      <td>5</td>\n",
       "      <td>Good case</td>\n",
       "      <td>1396224000</td>\n",
       "      <td>03 31, 2014</td>\n",
       "    </tr>\n",
       "    <tr>\n",
       "      <th>177079</th>\n",
       "      <td>AS65L3A9I2ES6</td>\n",
       "      <td>B00F27CY4G</td>\n",
       "      <td>sunnyflowers1212</td>\n",
       "      <td>[0, 0]</td>\n",
       "      <td>nice case. easy to use and works well. i would...</td>\n",
       "      <td>4</td>\n",
       "      <td>Four Stars</td>\n",
       "      <td>1405555200</td>\n",
       "      <td>07 17, 2014</td>\n",
       "    </tr>\n",
       "    <tr>\n",
       "      <th>71844</th>\n",
       "      <td>A1GHPJB2N0D0RL</td>\n",
       "      <td>B006OT2UQS</td>\n",
       "      <td>C.R.U</td>\n",
       "      <td>[17, 18]</td>\n",
       "      <td>**skip to the end if you just want the Alurate...</td>\n",
       "      <td>5</td>\n",
       "      <td>The winner of the budget bluetooths...and I've...</td>\n",
       "      <td>1349049600</td>\n",
       "      <td>10 1, 2012</td>\n",
       "    </tr>\n",
       "    <tr>\n",
       "      <th>183057</th>\n",
       "      <td>A1S33E945IW6TW</td>\n",
       "      <td>B00G5VQIMM</td>\n",
       "      <td>JessPete</td>\n",
       "      <td>[0, 0]</td>\n",
       "      <td>Works great and has a low profile.  Again, I'v...</td>\n",
       "      <td>5</td>\n",
       "      <td>Another awesome charger that my  husband has s...</td>\n",
       "      <td>1400457600</td>\n",
       "      <td>05 19, 2014</td>\n",
       "    </tr>\n",
       "    <tr>\n",
       "      <th>10238</th>\n",
       "      <td>A1S0D037M0D71X</td>\n",
       "      <td>B002BH3I9U</td>\n",
       "      <td>Steven</td>\n",
       "      <td>[0, 0]</td>\n",
       "      <td>bought these for my wife after she liked using...</td>\n",
       "      <td>5</td>\n",
       "      <td>she likes them</td>\n",
       "      <td>1327795200</td>\n",
       "      <td>01 29, 2012</td>\n",
       "    </tr>\n",
       "    <tr>\n",
       "      <th>181221</th>\n",
       "      <td>ACQK1VZ94OLVB</td>\n",
       "      <td>B00FOFY1J2</td>\n",
       "      <td>Steve DeGregorio \"flyers2114\"</td>\n",
       "      <td>[0, 1]</td>\n",
       "      <td>See my YouTube review at Steve DeGregorio (fly...</td>\n",
       "      <td>4</td>\n",
       "      <td>Excellent for your power needs!</td>\n",
       "      <td>1387584000</td>\n",
       "      <td>12 21, 2013</td>\n",
       "    </tr>\n",
       "  </tbody>\n",
       "</table>\n",
       "</div>"
      ],
      "text/plain": [
       "            reviewerID        asin                   reviewerName   helpful  \\\n",
       "145671   AUUQIXCA8CQDS  B00AYPEL56                         JoPfef    [0, 0]   \n",
       "171403  A35UN8P5NBNU2K  B00DZ0J74W                           IanA    [0, 0]   \n",
       "170506  A2QI4VIO4MRX8A  B00DUR2GZM               Stephen Davidson    [0, 0]   \n",
       "171345  A2MENIMGJCIIKK  B00DY9LMRE                      R. Wesson    [0, 1]   \n",
       "145115  A1KEV5E0PWU9LV  B00AX7T65U                   John Andrews    [0, 0]   \n",
       "177079   AS65L3A9I2ES6  B00F27CY4G               sunnyflowers1212    [0, 0]   \n",
       "71844   A1GHPJB2N0D0RL  B006OT2UQS                          C.R.U  [17, 18]   \n",
       "183057  A1S33E945IW6TW  B00G5VQIMM                       JessPete    [0, 0]   \n",
       "10238   A1S0D037M0D71X  B002BH3I9U                         Steven    [0, 0]   \n",
       "181221   ACQK1VZ94OLVB  B00FOFY1J2  Steve DeGregorio \"flyers2114\"    [0, 1]   \n",
       "\n",
       "                                               reviewText  overall  \\\n",
       "145671  Got these so I could have additional space on ...        5   \n",
       "171403  This cable is great length and its quality is ...        5   \n",
       "170506  Love this product! Never had any problem with ...        5   \n",
       "171345  ordered pink and got purple. ordered 2 since t...        2   \n",
       "145115  This case is slim, has a great grip, and looks...        5   \n",
       "177079  nice case. easy to use and works well. i would...        4   \n",
       "71844   **skip to the end if you just want the Alurate...        5   \n",
       "183057  Works great and has a low profile.  Again, I'v...        5   \n",
       "10238   bought these for my wife after she liked using...        5   \n",
       "181221  See my YouTube review at Steve DeGregorio (fly...        4   \n",
       "\n",
       "                                                  summary  unixReviewTime  \\\n",
       "145671                                    Great adapters!      1384473600   \n",
       "171403                                   Fantastic cable!      1393718400   \n",
       "170506                                      Great Product      1390176000   \n",
       "171345                                               well      1392249600   \n",
       "145115                                          Good case      1396224000   \n",
       "177079                                         Four Stars      1405555200   \n",
       "71844   The winner of the budget bluetooths...and I've...      1349049600   \n",
       "183057  Another awesome charger that my  husband has s...      1400457600   \n",
       "10238                                      she likes them      1327795200   \n",
       "181221                    Excellent for your power needs!      1387584000   \n",
       "\n",
       "         reviewTime  \n",
       "145671  11 15, 2013  \n",
       "171403   03 2, 2014  \n",
       "170506  01 20, 2014  \n",
       "171345  02 13, 2014  \n",
       "145115  03 31, 2014  \n",
       "177079  07 17, 2014  \n",
       "71844    10 1, 2012  \n",
       "183057  05 19, 2014  \n",
       "10238   01 29, 2012  \n",
       "181221  12 21, 2013  "
      ]
     },
     "execution_count": 5,
     "metadata": {},
     "output_type": "execute_result"
    }
   ],
   "source": [
    "df.sample(10)"
   ]
  },
  {
   "cell_type": "code",
   "execution_count": 6,
   "id": "12cf0623",
   "metadata": {},
   "outputs": [
    {
     "data": {
      "text/plain": [
       "(194439, 9)"
      ]
     },
     "execution_count": 6,
     "metadata": {},
     "output_type": "execute_result"
    }
   ],
   "source": [
    "df.shape"
   ]
  },
  {
   "cell_type": "code",
   "execution_count": 7,
   "id": "8a2786db",
   "metadata": {},
   "outputs": [
    {
     "data": {
      "text/plain": [
       "\"They look good and stick good! I just don't like the rounded shape because I was always bumping it and Siri kept popping up and it was irritating. I just won't buy a product like this again\""
      ]
     },
     "execution_count": 7,
     "metadata": {},
     "output_type": "execute_result"
    }
   ],
   "source": [
    "# we have reviewText column on which we are interested in for Word2Vec \n",
    "df.reviewText[0]"
   ]
  },
  {
   "cell_type": "code",
   "execution_count": 8,
   "id": "ee75a7e0",
   "metadata": {},
   "outputs": [
    {
     "data": {
      "text/plain": [
       "['they',\n",
       " 'look',\n",
       " 'good',\n",
       " 'and',\n",
       " 'stick',\n",
       " 'good',\n",
       " 'just',\n",
       " 'don',\n",
       " 'like',\n",
       " 'the',\n",
       " 'rounded',\n",
       " 'shape',\n",
       " 'because',\n",
       " 'was',\n",
       " 'always',\n",
       " 'bumping',\n",
       " 'it',\n",
       " 'and',\n",
       " 'siri',\n",
       " 'kept',\n",
       " 'popping',\n",
       " 'up',\n",
       " 'and',\n",
       " 'it',\n",
       " 'was',\n",
       " 'irritating',\n",
       " 'just',\n",
       " 'won',\n",
       " 'buy',\n",
       " 'product',\n",
       " 'like',\n",
       " 'this',\n",
       " 'again']"
      ]
     },
     "execution_count": 8,
     "metadata": {},
     "output_type": "execute_result"
    }
   ],
   "source": [
    "# we have data in mixed case and puntuations are present. We can use gensim preprocessing to tokenize e.g. \n",
    "gensim.utils.simple_preprocess(df.reviewText[0])"
   ]
  },
  {
   "cell_type": "code",
   "execution_count": 10,
   "id": "addd0311",
   "metadata": {},
   "outputs": [
    {
     "data": {
      "text/plain": [
       "0    [they, look, good, and, stick, good, just, don...\n",
       "1    [these, stickers, work, like, the, review, say...\n",
       "2    [these, are, awesome, and, make, my, phone, lo...\n",
       "3    [item, arrived, in, great, time, and, was, in,...\n",
       "4    [awesome, stays, on, and, looks, great, can, b...\n",
       "5    [these, make, using, the, home, button, easy, ...\n",
       "6    [came, just, as, described, it, doesn, come, u...\n",
       "7    [it, worked, for, the, first, week, then, it, ...\n",
       "8    [good, case, solid, build, protects, phone, al...\n",
       "9    [this, is, fantastic, case, very, stylish, and...\n",
       "Name: reviewText, dtype: object"
      ]
     },
     "execution_count": 10,
     "metadata": {},
     "output_type": "execute_result"
    }
   ],
   "source": [
    "# apply this to our pandas reviewText column \n",
    "review_text = df.reviewText.apply(gensim.utils.simple_preprocess)\n",
    "review_text[:10]"
   ]
  },
  {
   "cell_type": "code",
   "execution_count": 11,
   "id": "d10f7068",
   "metadata": {},
   "outputs": [],
   "source": [
    "# initialize the gensim model \n",
    "model = gensim.models.Word2Vec(\n",
    "    window=10,                               # 10 words before and after target word\n",
    "    min_count=2,                             # if you have sentense of less than 2 words - discard them\n",
    "    workers=4,                               # 4 threads \n",
    ")\n"
   ]
  },
  {
   "cell_type": "code",
   "execution_count": 12,
   "id": "13ed04bb",
   "metadata": {},
   "outputs": [],
   "source": [
    "# buld the vocabulary\n",
    "model.build_vocab(\n",
    "    review_text, \n",
    "    progress_per=100\n",
    ")"
   ]
  },
  {
   "cell_type": "code",
   "execution_count": 13,
   "id": "b975f8b5",
   "metadata": {},
   "outputs": [
    {
     "data": {
      "text/plain": [
       "5"
      ]
     },
     "execution_count": 13,
     "metadata": {},
     "output_type": "execute_result"
    }
   ],
   "source": [
    "# model has default epoch of 5\n",
    "model.epochs"
   ]
  },
  {
   "cell_type": "code",
   "execution_count": 14,
   "id": "64c23e7c",
   "metadata": {},
   "outputs": [
    {
     "data": {
      "text/plain": [
       "194439"
      ]
     },
     "execution_count": 14,
     "metadata": {},
     "output_type": "execute_result"
    }
   ],
   "source": [
    "# what is the size of corpus \n",
    "model.corpus_count"
   ]
  },
  {
   "cell_type": "markdown",
   "id": "5dbeffde",
   "metadata": {},
   "source": [
    "``` \n",
    "Build the Word2Vec model "
   ]
  },
  {
   "cell_type": "code",
   "execution_count": 15,
   "id": "7ae64713",
   "metadata": {},
   "outputs": [
    {
     "data": {
      "text/plain": [
       "(61506423, 83868975)"
      ]
     },
     "execution_count": 15,
     "metadata": {},
     "output_type": "execute_result"
    }
   ],
   "source": [
    "model.train(review_text, epochs=model.epochs, total_examples=model.corpus_count)"
   ]
  },
  {
   "cell_type": "code",
   "execution_count": 16,
   "id": "b47efb12",
   "metadata": {},
   "outputs": [],
   "source": [
    "# save the model - so that we can use the pretrained model for other examples \n",
    "model.save('output/video42/amazon-review.model')"
   ]
  },
  {
   "cell_type": "markdown",
   "id": "4160f541",
   "metadata": {},
   "source": [
    "``` \n",
    "Experiment with model"
   ]
  },
  {
   "cell_type": "code",
   "execution_count": 18,
   "id": "79bbf3e5",
   "metadata": {},
   "outputs": [
    {
     "data": {
      "text/plain": [
       "[('shabby', 0.6609269380569458),\n",
       " ('terrible', 0.6519754528999329),\n",
       " ('good', 0.586584210395813),\n",
       " ('horrible', 0.578879714012146),\n",
       " ('legit', 0.5500673651695251),\n",
       " ('awful', 0.5285909175872803),\n",
       " ('okay', 0.5146781802177429),\n",
       " ('ok', 0.5139726400375366),\n",
       " ('crappy', 0.5087110996246338),\n",
       " ('disappointing', 0.50858473777771)]"
      ]
     },
     "execution_count": 18,
     "metadata": {},
     "output_type": "execute_result"
    }
   ],
   "source": [
    "model.wv.most_similar(\"bad\")"
   ]
  },
  {
   "cell_type": "code",
   "execution_count": 20,
   "id": "6a7365a7",
   "metadata": {},
   "outputs": [
    {
     "data": {
      "text/plain": [
       "0.5236083"
      ]
     },
     "execution_count": 20,
     "metadata": {},
     "output_type": "execute_result"
    }
   ],
   "source": [
    "model.wv.similarity(w1=\"cheap\", w2=\"inexpensive\")"
   ]
  },
  {
   "cell_type": "code",
   "execution_count": 22,
   "id": "159f05d8",
   "metadata": {},
   "outputs": [
    {
     "data": {
      "text/plain": [
       "-0.05084209"
      ]
     },
     "execution_count": 22,
     "metadata": {},
     "output_type": "execute_result"
    }
   ],
   "source": [
    "model.wv.similarity(w1=\"great\", w2=\"product\")"
   ]
  },
  {
   "cell_type": "markdown",
   "id": "fb583f62",
   "metadata": {},
   "source": [
    "# Excercise\n",
    "\n",
    "Get the data from http://snap.stanford.edu/data/amazon/productGraph/categoryFiles/reviews_Sports_and_Outdoors_5.json.gz"
   ]
  },
  {
   "cell_type": "code",
   "execution_count": 31,
   "id": "7bf25258",
   "metadata": {},
   "outputs": [
    {
     "data": {
      "text/html": [
       "<div>\n",
       "<style scoped>\n",
       "    .dataframe tbody tr th:only-of-type {\n",
       "        vertical-align: middle;\n",
       "    }\n",
       "\n",
       "    .dataframe tbody tr th {\n",
       "        vertical-align: top;\n",
       "    }\n",
       "\n",
       "    .dataframe thead th {\n",
       "        text-align: right;\n",
       "    }\n",
       "</style>\n",
       "<table border=\"1\" class=\"dataframe\">\n",
       "  <thead>\n",
       "    <tr style=\"text-align: right;\">\n",
       "      <th></th>\n",
       "      <th>reviewerID</th>\n",
       "      <th>asin</th>\n",
       "      <th>reviewerName</th>\n",
       "      <th>helpful</th>\n",
       "      <th>reviewText</th>\n",
       "      <th>overall</th>\n",
       "      <th>summary</th>\n",
       "      <th>unixReviewTime</th>\n",
       "      <th>reviewTime</th>\n",
       "    </tr>\n",
       "  </thead>\n",
       "  <tbody>\n",
       "    <tr>\n",
       "      <th>138131</th>\n",
       "      <td>A1APWHOUZBGMR2</td>\n",
       "      <td>B001RJ4Q2G</td>\n",
       "      <td>Stacy Brown \"Olystacy\"</td>\n",
       "      <td>[0, 0]</td>\n",
       "      <td>We bought this for our son on his 13th birthda...</td>\n",
       "      <td>5</td>\n",
       "      <td>FUN GAME FOR EVERYONE ABLE TO THROW A DISC</td>\n",
       "      <td>1400716800</td>\n",
       "      <td>05 22, 2014</td>\n",
       "    </tr>\n",
       "    <tr>\n",
       "      <th>80414</th>\n",
       "      <td>ADH7NHBYIKSTP</td>\n",
       "      <td>B000XHBKOU</td>\n",
       "      <td>NB</td>\n",
       "      <td>[9, 9]</td>\n",
       "      <td>Instead of buying a bunch of locks and cables,...</td>\n",
       "      <td>5</td>\n",
       "      <td>Just what I needed for city riding</td>\n",
       "      <td>1322611200</td>\n",
       "      <td>11 30, 2011</td>\n",
       "    </tr>\n",
       "    <tr>\n",
       "      <th>94134</th>\n",
       "      <td>A3EWW8FFOIDXJM</td>\n",
       "      <td>B00162Q17W</td>\n",
       "      <td>clock buyer.</td>\n",
       "      <td>[0, 2]</td>\n",
       "      <td>I thought I was going to be able to take this ...</td>\n",
       "      <td>4</td>\n",
       "      <td>Needs lots of maintenance?</td>\n",
       "      <td>1378512000</td>\n",
       "      <td>09 7, 2013</td>\n",
       "    </tr>\n",
       "    <tr>\n",
       "      <th>201614</th>\n",
       "      <td>A1LYDMJ55BBQJB</td>\n",
       "      <td>B0040J7Y5Q</td>\n",
       "      <td>Hatchling001 \"Hatchling\"</td>\n",
       "      <td>[0, 0]</td>\n",
       "      <td>I've seen he same set on other sites go for mo...</td>\n",
       "      <td>5</td>\n",
       "      <td>GREAT BUY</td>\n",
       "      <td>1360368000</td>\n",
       "      <td>02 9, 2013</td>\n",
       "    </tr>\n",
       "    <tr>\n",
       "      <th>47699</th>\n",
       "      <td>A9RTRKZM3IEOY</td>\n",
       "      <td>B000HR95NO</td>\n",
       "      <td>M. Ross \"Bacchuskitty\"</td>\n",
       "      <td>[88, 92]</td>\n",
       "      <td>I got this stove to serve as a backup for my c...</td>\n",
       "      <td>3</td>\n",
       "      <td>Decent Backup Stove</td>\n",
       "      <td>1280966400</td>\n",
       "      <td>08 5, 2010</td>\n",
       "    </tr>\n",
       "    <tr>\n",
       "      <th>24687</th>\n",
       "      <td>A16JCH8VSM5OYM</td>\n",
       "      <td>B000AO7NRY</td>\n",
       "      <td>James Zampino \"jimmy zamp\"</td>\n",
       "      <td>[2, 2]</td>\n",
       "      <td>After reading the reviews I expected this sadd...</td>\n",
       "      <td>4</td>\n",
       "      <td>GOOD VALVE</td>\n",
       "      <td>1393891200</td>\n",
       "      <td>03 4, 2014</td>\n",
       "    </tr>\n",
       "    <tr>\n",
       "      <th>84681</th>\n",
       "      <td>A128X2E3HD9XKK</td>\n",
       "      <td>B0011ZH312</td>\n",
       "      <td>M. Russo</td>\n",
       "      <td>[1, 2]</td>\n",
       "      <td>I really like these Power Grip straps; they wo...</td>\n",
       "      <td>4</td>\n",
       "      <td>Bang for the Buck</td>\n",
       "      <td>1326067200</td>\n",
       "      <td>01 9, 2012</td>\n",
       "    </tr>\n",
       "    <tr>\n",
       "      <th>289172</th>\n",
       "      <td>A1BYMKR6E2EXEJ</td>\n",
       "      <td>B00D7H9LIA</td>\n",
       "      <td>A Dogged shopper</td>\n",
       "      <td>[0, 0]</td>\n",
       "      <td>Works as promised and really stays warm for ho...</td>\n",
       "      <td>4</td>\n",
       "      <td>hot stuff</td>\n",
       "      <td>1359676800</td>\n",
       "      <td>02 1, 2013</td>\n",
       "    </tr>\n",
       "    <tr>\n",
       "      <th>98794</th>\n",
       "      <td>AFB7MSIPJIW68</td>\n",
       "      <td>B0017KUSCC</td>\n",
       "      <td>Seph</td>\n",
       "      <td>[0, 0]</td>\n",
       "      <td>Razor sharp from factory. Quick and easy open/...</td>\n",
       "      <td>5</td>\n",
       "      <td>Great knife.</td>\n",
       "      <td>1353715200</td>\n",
       "      <td>11 24, 2012</td>\n",
       "    </tr>\n",
       "    <tr>\n",
       "      <th>40571</th>\n",
       "      <td>A3N37IWYXIEFL0</td>\n",
       "      <td>B000FIE4AE</td>\n",
       "      <td>Brandon</td>\n",
       "      <td>[1, 1]</td>\n",
       "      <td>This is a great and must have tool for any bic...</td>\n",
       "      <td>5</td>\n",
       "      <td>Great bike tool</td>\n",
       "      <td>1396310400</td>\n",
       "      <td>04 1, 2014</td>\n",
       "    </tr>\n",
       "  </tbody>\n",
       "</table>\n",
       "</div>"
      ],
      "text/plain": [
       "            reviewerID        asin                reviewerName   helpful  \\\n",
       "138131  A1APWHOUZBGMR2  B001RJ4Q2G      Stacy Brown \"Olystacy\"    [0, 0]   \n",
       "80414    ADH7NHBYIKSTP  B000XHBKOU                          NB    [9, 9]   \n",
       "94134   A3EWW8FFOIDXJM  B00162Q17W                clock buyer.    [0, 2]   \n",
       "201614  A1LYDMJ55BBQJB  B0040J7Y5Q    Hatchling001 \"Hatchling\"    [0, 0]   \n",
       "47699    A9RTRKZM3IEOY  B000HR95NO      M. Ross \"Bacchuskitty\"  [88, 92]   \n",
       "24687   A16JCH8VSM5OYM  B000AO7NRY  James Zampino \"jimmy zamp\"    [2, 2]   \n",
       "84681   A128X2E3HD9XKK  B0011ZH312                    M. Russo    [1, 2]   \n",
       "289172  A1BYMKR6E2EXEJ  B00D7H9LIA            A Dogged shopper    [0, 0]   \n",
       "98794    AFB7MSIPJIW68  B0017KUSCC                        Seph    [0, 0]   \n",
       "40571   A3N37IWYXIEFL0  B000FIE4AE                     Brandon    [1, 1]   \n",
       "\n",
       "                                               reviewText  overall  \\\n",
       "138131  We bought this for our son on his 13th birthda...        5   \n",
       "80414   Instead of buying a bunch of locks and cables,...        5   \n",
       "94134   I thought I was going to be able to take this ...        4   \n",
       "201614  I've seen he same set on other sites go for mo...        5   \n",
       "47699   I got this stove to serve as a backup for my c...        3   \n",
       "24687   After reading the reviews I expected this sadd...        4   \n",
       "84681   I really like these Power Grip straps; they wo...        4   \n",
       "289172  Works as promised and really stays warm for ho...        4   \n",
       "98794   Razor sharp from factory. Quick and easy open/...        5   \n",
       "40571   This is a great and must have tool for any bic...        5   \n",
       "\n",
       "                                           summary  unixReviewTime  \\\n",
       "138131  FUN GAME FOR EVERYONE ABLE TO THROW A DISC      1400716800   \n",
       "80414           Just what I needed for city riding      1322611200   \n",
       "94134                   Needs lots of maintenance?      1378512000   \n",
       "201614                                   GREAT BUY      1360368000   \n",
       "47699                          Decent Backup Stove      1280966400   \n",
       "24687                                   GOOD VALVE      1393891200   \n",
       "84681                            Bang for the Buck      1326067200   \n",
       "289172                                   hot stuff      1359676800   \n",
       "98794                                 Great knife.      1353715200   \n",
       "40571                              Great bike tool      1396310400   \n",
       "\n",
       "         reviewTime  \n",
       "138131  05 22, 2014  \n",
       "80414   11 30, 2011  \n",
       "94134    09 7, 2013  \n",
       "201614   02 9, 2013  \n",
       "47699    08 5, 2010  \n",
       "24687    03 4, 2014  \n",
       "84681    01 9, 2012  \n",
       "289172   02 1, 2013  \n",
       "98794   11 24, 2012  \n",
       "40571    04 1, 2014  "
      ]
     },
     "execution_count": 31,
     "metadata": {},
     "output_type": "execute_result"
    }
   ],
   "source": [
    "# read the file from the location \n",
    "df_sports = pd.read_json('data/video42/reviews_Sports_and_Outdoors_5.json', lines=True)\n",
    "df_sports.sample(10)"
   ]
  },
  {
   "cell_type": "code",
   "execution_count": 32,
   "id": "b0ab7e8d",
   "metadata": {},
   "outputs": [
    {
     "data": {
      "text/plain": [
       "(296337, 9)"
      ]
     },
     "execution_count": 32,
     "metadata": {},
     "output_type": "execute_result"
    }
   ],
   "source": [
    "df_sports.shape"
   ]
  },
  {
   "cell_type": "code",
   "execution_count": 33,
   "id": "ff58c0be",
   "metadata": {},
   "outputs": [
    {
     "data": {
      "text/plain": [
       "0    [this, came, in, on, time, and, am, veru, happ...\n",
       "1    [had, factory, glock, tool, that, was, using, ...\n",
       "2    [if, you, don, have, punch, or, would, like, t...\n",
       "3    [this, works, no, better, than, any, punch, yo...\n",
       "4    [purchased, this, thinking, maybe, need, speci...\n",
       "5    [needed, this, tool, to, really, break, down, ...\n",
       "6    [if, don, have, it, get, it, all, you, need, t...\n",
       "7    [this, light, will, no, doubt, capture, the, a...\n",
       "8    [light, and, laser, torch, work, well, very, b...\n",
       "9    [does, everything, it, says, it, will, do, wou...\n",
       "Name: reviewText, dtype: object"
      ]
     },
     "execution_count": 33,
     "metadata": {},
     "output_type": "execute_result"
    }
   ],
   "source": [
    "review_text_sports = df_sports.reviewText.apply(gensim.utils.simple_preprocess)\n",
    "review_text_sports[:10]"
   ]
  },
  {
   "cell_type": "code",
   "execution_count": 34,
   "id": "7eb3e2cd",
   "metadata": {},
   "outputs": [],
   "source": [
    "# initialize the gensim model \n",
    "model_sports = gensim.models.Word2Vec(\n",
    "    window=10,                               # 10 words before and after target word\n",
    "    min_count=2,                             # if you have sentense of less than 2 words - discard them\n",
    "    workers=4,                               # 4 threads \n",
    ")\n"
   ]
  },
  {
   "cell_type": "code",
   "execution_count": 35,
   "id": "87931475",
   "metadata": {},
   "outputs": [],
   "source": [
    "# buld the vocabulary\n",
    "model_sports.build_vocab(\n",
    "    review_text_sports, \n",
    "    progress_per=1000\n",
    ")"
   ]
  },
  {
   "cell_type": "code",
   "execution_count": 36,
   "id": "d54e2cbc",
   "metadata": {},
   "outputs": [
    {
     "data": {
      "text/plain": [
       "(91341377, 121496535)"
      ]
     },
     "execution_count": 36,
     "metadata": {},
     "output_type": "execute_result"
    }
   ],
   "source": [
    "model_sports.train(review_text_sports, epochs=model_sports.epochs, total_examples=model_sports.corpus_count)"
   ]
  },
  {
   "cell_type": "code",
   "execution_count": 37,
   "id": "d1c85c9f",
   "metadata": {},
   "outputs": [],
   "source": [
    "# save the model \n",
    "model_sports.save('output/video42/amazon-sports-review.model')"
   ]
  },
  {
   "cell_type": "code",
   "execution_count": 38,
   "id": "26c42817",
   "metadata": {},
   "outputs": [
    {
     "data": {
      "text/plain": [
       "[('horrible', 0.7129591703414917),\n",
       " ('terrible', 0.6943297982215881),\n",
       " ('ugly', 0.6103164553642273),\n",
       " ('unuseable', 0.5989765524864197),\n",
       " ('unpleasant', 0.591776430606842),\n",
       " ('overwhelming', 0.5912571549415588),\n",
       " ('overpowering', 0.5837376117706299),\n",
       " ('horrendous', 0.5829005837440491),\n",
       " ('utter', 0.5512279868125916),\n",
       " ('funny', 0.5479702353477478)]"
      ]
     },
     "execution_count": 38,
     "metadata": {},
     "output_type": "execute_result"
    }
   ],
   "source": [
    "model_sports.wv.most_similar('awful')"
   ]
  },
  {
   "cell_type": "code",
   "execution_count": 39,
   "id": "2f2c67c8",
   "metadata": {},
   "outputs": [
    {
     "data": {
      "text/plain": [
       "0.78164023"
      ]
     },
     "execution_count": 39,
     "metadata": {},
     "output_type": "execute_result"
    }
   ],
   "source": [
    "model_sports.wv.similarity(w1=\"good\", w2=\"great\")"
   ]
  },
  {
   "cell_type": "code",
   "execution_count": 40,
   "id": "3d2a2a83",
   "metadata": {},
   "outputs": [
    {
     "data": {
      "text/plain": [
       "0.39291072"
      ]
     },
     "execution_count": 40,
     "metadata": {},
     "output_type": "execute_result"
    }
   ],
   "source": [
    "model_sports.wv.similarity(w1=\"slow\", w2=\"steady\")"
   ]
  },
  {
   "cell_type": "code",
   "execution_count": null,
   "id": "e4582119",
   "metadata": {},
   "outputs": [],
   "source": []
  }
 ],
 "metadata": {
  "kernelspec": {
   "display_name": "mlenv",
   "language": "python",
   "name": "python3"
  },
  "language_info": {
   "codemirror_mode": {
    "name": "ipython",
    "version": 3
   },
   "file_extension": ".py",
   "mimetype": "text/x-python",
   "name": "python",
   "nbconvert_exporter": "python",
   "pygments_lexer": "ipython3",
   "version": "3.11.8"
  }
 },
 "nbformat": 4,
 "nbformat_minor": 5
}
