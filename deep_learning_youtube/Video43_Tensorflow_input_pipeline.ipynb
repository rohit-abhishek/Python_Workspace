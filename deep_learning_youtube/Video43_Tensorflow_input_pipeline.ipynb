{
 "cells": [
  {
   "cell_type": "markdown",
   "id": "fa22c70c",
   "metadata": {},
   "source": [
    "# To run this you need Tensorflow 2.15 version "
   ]
  },
  {
   "cell_type": "code",
   "execution_count": 1,
   "id": "c4a8fa78",
   "metadata": {},
   "outputs": [],
   "source": [
    "import tensorflow as tf \n",
    "import os "
   ]
  },
  {
   "cell_type": "code",
   "execution_count": 2,
   "id": "f8d84f19",
   "metadata": {},
   "outputs": [
    {
     "data": {
      "text/plain": [
       "'2.15.0'"
      ]
     },
     "execution_count": 2,
     "metadata": {},
     "output_type": "execute_result"
    }
   ],
   "source": [
    "tf.__version__"
   ]
  },
  {
   "cell_type": "code",
   "execution_count": 3,
   "id": "fdd80c43",
   "metadata": {},
   "outputs": [
    {
     "data": {
      "text/plain": [
       "[PhysicalDevice(name='/physical_device:CPU:0', device_type='CPU'),\n",
       " PhysicalDevice(name='/physical_device:GPU:0', device_type='GPU')]"
      ]
     },
     "execution_count": 3,
     "metadata": {},
     "output_type": "execute_result"
    }
   ],
   "source": [
    "tf.config.experimental.list_physical_devices()"
   ]
  },
  {
   "cell_type": "code",
   "execution_count": 4,
   "id": "909518de",
   "metadata": {},
   "outputs": [],
   "source": [
    "daily_sales_number = [21,22,-108,31,-1,32,34,31]"
   ]
  },
  {
   "cell_type": "code",
   "execution_count": 5,
   "id": "711e8561",
   "metadata": {},
   "outputs": [
    {
     "name": "stderr",
     "output_type": "stream",
     "text": [
      "2025-06-24 13:35:31.228553: I metal_plugin/src/device/metal_device.cc:1154] Metal device set to: Apple M1 Pro\n",
      "2025-06-24 13:35:31.228578: I metal_plugin/src/device/metal_device.cc:296] systemMemory: 16.00 GB\n",
      "2025-06-24 13:35:31.228583: I metal_plugin/src/device/metal_device.cc:313] maxCacheSize: 5.33 GB\n",
      "2025-06-24 13:35:31.228618: I tensorflow/core/common_runtime/pluggable_device/pluggable_device_factory.cc:306] Could not identify NUMA node of platform GPU ID 0, defaulting to 0. Your kernel may not have been built with NUMA support.\n",
      "2025-06-24 13:35:31.228633: I tensorflow/core/common_runtime/pluggable_device/pluggable_device_factory.cc:272] Created TensorFlow device (/job:localhost/replica:0/task:0/device:GPU:0 with 0 MB memory) -> physical PluggableDevice (device: 0, name: METAL, pci bus id: <undefined>)\n"
     ]
    },
    {
     "data": {
      "text/plain": [
       "<_TensorSliceDataset element_spec=TensorSpec(shape=(), dtype=tf.int32, name=None)>"
      ]
     },
     "execution_count": 5,
     "metadata": {},
     "output_type": "execute_result"
    }
   ],
   "source": [
    "tf_dataset = tf.data.Dataset.from_tensor_slices(daily_sales_number)\n",
    "tf_dataset"
   ]
  },
  {
   "cell_type": "code",
   "execution_count": 6,
   "id": "79ab1ec4",
   "metadata": {},
   "outputs": [
    {
     "name": "stdout",
     "output_type": "stream",
     "text": [
      "tf.Tensor(21, shape=(), dtype=int32)\n",
      "tf.Tensor(22, shape=(), dtype=int32)\n",
      "tf.Tensor(-108, shape=(), dtype=int32)\n",
      "tf.Tensor(31, shape=(), dtype=int32)\n",
      "tf.Tensor(-1, shape=(), dtype=int32)\n",
      "tf.Tensor(32, shape=(), dtype=int32)\n",
      "tf.Tensor(34, shape=(), dtype=int32)\n",
      "tf.Tensor(31, shape=(), dtype=int32)\n"
     ]
    }
   ],
   "source": [
    "for i in tf_dataset:\n",
    "    print(i)"
   ]
  },
  {
   "cell_type": "code",
   "execution_count": 7,
   "id": "7c193c18",
   "metadata": {},
   "outputs": [
    {
     "name": "stdout",
     "output_type": "stream",
     "text": [
      "21\n",
      "22\n",
      "-108\n",
      "31\n",
      "-1\n",
      "32\n",
      "34\n",
      "31\n"
     ]
    }
   ],
   "source": [
    "# if we want to see the values as numpy \n",
    "for i in tf_dataset.as_numpy_iterator():\n",
    "    print (i)"
   ]
  },
  {
   "cell_type": "code",
   "execution_count": 8,
   "id": "2a7236f5",
   "metadata": {},
   "outputs": [
    {
     "name": "stdout",
     "output_type": "stream",
     "text": [
      "tf.Tensor(21, shape=(), dtype=int32)\n",
      "tf.Tensor(22, shape=(), dtype=int32)\n",
      "tf.Tensor(-108, shape=(), dtype=int32)\n"
     ]
    }
   ],
   "source": [
    "# If you want to see only first few elements of the tensorflow \n",
    "for i in tf_dataset.take(3):\n",
    "    print(i)"
   ]
  },
  {
   "cell_type": "code",
   "execution_count": 9,
   "id": "e4a880bc",
   "metadata": {},
   "outputs": [
    {
     "name": "stdout",
     "output_type": "stream",
     "text": [
      "tf.Tensor(21, shape=(), dtype=int32)\n",
      "tf.Tensor(22, shape=(), dtype=int32)\n",
      "tf.Tensor(31, shape=(), dtype=int32)\n",
      "tf.Tensor(32, shape=(), dtype=int32)\n",
      "tf.Tensor(34, shape=(), dtype=int32)\n",
      "tf.Tensor(31, shape=(), dtype=int32)\n"
     ]
    }
   ],
   "source": [
    "# Filter out invalid data from the tensorflow \n",
    "for i in tf_dataset.filter(lambda x : x>0):\n",
    "    print (i)"
   ]
  },
  {
   "cell_type": "code",
   "execution_count": 10,
   "id": "1bac57f8",
   "metadata": {},
   "outputs": [],
   "source": [
    "# lets pick only +ve value \n",
    "tf_dataset = tf_dataset.filter(lambda x : x>0)"
   ]
  },
  {
   "cell_type": "code",
   "execution_count": 11,
   "id": "54dd0915",
   "metadata": {},
   "outputs": [
    {
     "name": "stdout",
     "output_type": "stream",
     "text": [
      "tf.Tensor(1512, shape=(), dtype=int32)\n",
      "tf.Tensor(1584, shape=(), dtype=int32)\n",
      "tf.Tensor(2232, shape=(), dtype=int32)\n",
      "tf.Tensor(2304, shape=(), dtype=int32)\n",
      "tf.Tensor(2448, shape=(), dtype=int32)\n",
      "tf.Tensor(2232, shape=(), dtype=int32)\n"
     ]
    }
   ],
   "source": [
    "# Lets convert the data by multiplying it by 72 \n",
    "for i in tf_dataset.map(lambda x : x*72):\n",
    "    print(i)"
   ]
  },
  {
   "cell_type": "code",
   "execution_count": 12,
   "id": "14bc22ed",
   "metadata": {},
   "outputs": [],
   "source": [
    "tf_dataset = tf_dataset.map(lambda x : x*72)"
   ]
  },
  {
   "cell_type": "code",
   "execution_count": 13,
   "id": "a70d510a",
   "metadata": {},
   "outputs": [
    {
     "name": "stdout",
     "output_type": "stream",
     "text": [
      "tf.Tensor(1584, shape=(), dtype=int32)\n",
      "tf.Tensor(1512, shape=(), dtype=int32)\n",
      "tf.Tensor(2304, shape=(), dtype=int32)\n",
      "tf.Tensor(2448, shape=(), dtype=int32)\n",
      "tf.Tensor(2232, shape=(), dtype=int32)\n",
      "tf.Tensor(2232, shape=(), dtype=int32)\n"
     ]
    }
   ],
   "source": [
    "# Shuffle these elements randomly\n",
    "for i in tf_dataset.shuffle(2):\n",
    "    print (i)"
   ]
  },
  {
   "cell_type": "code",
   "execution_count": 14,
   "id": "6b147be9",
   "metadata": {},
   "outputs": [],
   "source": [
    "tf_dataset = tf_dataset.shuffle(2)"
   ]
  },
  {
   "cell_type": "markdown",
   "id": "f6d2ade4",
   "metadata": {},
   "source": [
    "```\n",
    "Shuffle takes a buffer size as input \n",
    "Say we have 6 elements 1,2,3,4,5,6 \n",
    "when given buffersize of 3 it will create staged part and corpus part\n",
    "shuffed_part = Staged Part, Corpus Part\n",
    "[] = [1,2,3], [4,5,6]\n",
    "it will pick random value from Staged and random value from corpus say 2 from staged and 6 from corpus. It will move the selected value from Staged to shuffle and selected value from corpus to staged \n",
    "[2] = [1,3,6], [4,5]\n",
    "It will repeat this process again say 3 and 4 \n",
    "[2,3] = [1,6,4], [5]\n",
    "again say 1 and 5 \n",
    "[2,3,1] = [6,4,5],[]\n",
    "again say 4 and no values from corpus \n",
    "[2,3,1,4] = [6,5], []\n",
    "and so on till shuffled array is populated completely\n",
    "[2,3,1,4,6,5] = [], []"
   ]
  },
  {
   "cell_type": "code",
   "execution_count": 15,
   "id": "e7eff6fd",
   "metadata": {},
   "outputs": [
    {
     "name": "stdout",
     "output_type": "stream",
     "text": [
      "tf.Tensor([1512 1584 2232 2448], shape=(4,), dtype=int32)\n",
      "tf.Tensor([2304 2232], shape=(2,), dtype=int32)\n"
     ]
    }
   ],
   "source": [
    "# you can create batches as well - useful when we want to learn batches on multiple GPU environment\n",
    "for i in tf_dataset.batch(4):\n",
    "    print (i)"
   ]
  },
  {
   "cell_type": "markdown",
   "id": "770da26e",
   "metadata": {},
   "source": [
    "``` \n",
    "Let's do all in single go "
   ]
  },
  {
   "cell_type": "code",
   "execution_count": 16,
   "id": "d99fa70b",
   "metadata": {},
   "outputs": [
    {
     "name": "stdout",
     "output_type": "stream",
     "text": [
      "tf.Tensor([1584 2232 2304], shape=(3,), dtype=int32)\n",
      "tf.Tensor([1512 2232 2448], shape=(3,), dtype=int32)\n"
     ]
    }
   ],
   "source": [
    "daily_sales_number = [21,22,-108,31,-1,32,34,31]\n",
    "\n",
    "tf_dataset = tf.data.Dataset.from_tensor_slices(daily_sales_number).filter(lambda x : x > 0).map(lambda y : y*72).shuffle(4).batch(3)\n",
    "for i in tf_dataset:\n",
    "    print (i)"
   ]
  },
  {
   "cell_type": "markdown",
   "id": "1e8c63fe",
   "metadata": {},
   "source": [
    "```\n",
    "Let's use this concept on flowers dataset "
   ]
  },
  {
   "cell_type": "code",
   "execution_count": 17,
   "id": "1578d34d",
   "metadata": {},
   "outputs": [],
   "source": [
    "images_ds = tf.data.Dataset.list_files('data/video26/datasets/flower_photos/*/*', shuffle=False)"
   ]
  },
  {
   "cell_type": "code",
   "execution_count": 18,
   "id": "ba405e07",
   "metadata": {},
   "outputs": [
    {
     "name": "stdout",
     "output_type": "stream",
     "text": [
      "tf.Tensor(b'data/video26/datasets/flower_photos/daisy/100080576_f52e8ee070_n.jpg', shape=(), dtype=string)\n",
      "tf.Tensor(b'data/video26/datasets/flower_photos/daisy/10140303196_b88d3d6cec.jpg', shape=(), dtype=string)\n",
      "tf.Tensor(b'data/video26/datasets/flower_photos/daisy/10172379554_b296050f82_n.jpg', shape=(), dtype=string)\n",
      "tf.Tensor(b'data/video26/datasets/flower_photos/daisy/10172567486_2748826a8b.jpg', shape=(), dtype=string)\n",
      "tf.Tensor(b'data/video26/datasets/flower_photos/daisy/10172636503_21bededa75_n.jpg', shape=(), dtype=string)\n"
     ]
    }
   ],
   "source": [
    "import PIL \n",
    "import matplotlib.pyplot as plt \n",
    "import matplotlib as mpl \n",
    "\n",
    "for i in images_ds.take(5):\n",
    "    print(i)"
   ]
  },
  {
   "cell_type": "code",
   "execution_count": 19,
   "id": "ad04bc21",
   "metadata": {},
   "outputs": [],
   "source": [
    "# Let's shuffle this dataset \n",
    "images_ds = images_ds.shuffle(1000)"
   ]
  },
  {
   "cell_type": "code",
   "execution_count": 20,
   "id": "1edfe4dd",
   "metadata": {},
   "outputs": [
    {
     "name": "stdout",
     "output_type": "stream",
     "text": [
      "tf.Tensor(b'data/video26/datasets/flower_photos/dandelion/14060367700_fe87e99b6a_m.jpg', shape=(), dtype=string)\n",
      "tf.Tensor(b'data/video26/datasets/flower_photos/dandelion/151861297_55b10a03a6_n.jpg', shape=(), dtype=string)\n",
      "tf.Tensor(b'data/video26/datasets/flower_photos/dandelion/14002252932_64d5cbdac7.jpg', shape=(), dtype=string)\n",
      "tf.Tensor(b'data/video26/datasets/flower_photos/daisy/8740807508_0587f5b7b7.jpg', shape=(), dtype=string)\n",
      "tf.Tensor(b'data/video26/datasets/flower_photos/daisy/19653086178_28156b7ce4_m.jpg', shape=(), dtype=string)\n"
     ]
    }
   ],
   "source": [
    "for i in images_ds.take(5):\n",
    "    print(i)"
   ]
  },
  {
   "cell_type": "code",
   "execution_count": 21,
   "id": "d810dd75",
   "metadata": {},
   "outputs": [],
   "source": [
    "class_names =[\"daisy\", \"dandelion\", \"roses\", \"sunflowers\", \"tulips\"]"
   ]
  },
  {
   "cell_type": "markdown",
   "id": "7f702d49",
   "metadata": {},
   "source": [
    "```\n",
    "Create Train Test Split"
   ]
  },
  {
   "cell_type": "code",
   "execution_count": 22,
   "id": "77d20011",
   "metadata": {},
   "outputs": [],
   "source": [
    "image_count = len(images_ds)"
   ]
  },
  {
   "cell_type": "code",
   "execution_count": 23,
   "id": "2ef74224",
   "metadata": {},
   "outputs": [
    {
     "data": {
      "text/plain": [
       "3670"
      ]
     },
     "execution_count": 23,
     "metadata": {},
     "output_type": "execute_result"
    }
   ],
   "source": [
    "image_count"
   ]
  },
  {
   "cell_type": "code",
   "execution_count": 24,
   "id": "d3fe73ee",
   "metadata": {},
   "outputs": [],
   "source": [
    "# create training set \n",
    "train_size = int(image_count * 0.8)\n",
    "train_ds = images_ds.take(train_size)\n",
    "\n",
    "# create testing set\n",
    "test_ds = images_ds.skip(train_size)"
   ]
  },
  {
   "cell_type": "code",
   "execution_count": 25,
   "id": "7a299696",
   "metadata": {},
   "outputs": [
    {
     "data": {
      "text/plain": [
       "(2936, 734)"
      ]
     },
     "execution_count": 25,
     "metadata": {},
     "output_type": "execute_result"
    }
   ],
   "source": [
    "len(train_ds), len(test_ds)"
   ]
  },
  {
   "cell_type": "code",
   "execution_count": 26,
   "id": "49c0321a",
   "metadata": {},
   "outputs": [
    {
     "data": {
      "text/plain": [
       "'daisy'"
      ]
     },
     "execution_count": 26,
     "metadata": {},
     "output_type": "execute_result"
    }
   ],
   "source": [
    "# How to get the label names from the path \n",
    "test_string = 'data/video26/datasets/flower_photos/daisy/676120388_28f03069c3.jpg'\n",
    "test_string.split('/')[-2]"
   ]
  },
  {
   "cell_type": "code",
   "execution_count": 27,
   "id": "8f5edcc5",
   "metadata": {},
   "outputs": [],
   "source": [
    "# create funciton to get the label name \n",
    "import os \n",
    "def get_label(path):                # -> since this accepts tensor object\n",
    "    label_name = tf.strings.split(path, os.path.sep)[-2]\n",
    "    class_name_tensor = tf.constant(class_names)\n",
    "    # label_index = tf.where(class_name_tensor == label_name)\n",
    "    # label_index = tf.squeeze(label_index)\n",
    "    label_index = tf.argmax(class_name_tensor == label_name)\n",
    "    \n",
    "    return tf.cast(label_index, tf.dtypes.float32)\n"
   ]
  },
  {
   "cell_type": "code",
   "execution_count": 28,
   "id": "8d94fbfa",
   "metadata": {},
   "outputs": [
    {
     "name": "stdout",
     "output_type": "stream",
     "text": [
      "tf.Tensor(0.0, shape=(), dtype=float32)\n",
      "tf.Tensor(1.0, shape=(), dtype=float32)\n",
      "tf.Tensor(0.0, shape=(), dtype=float32)\n",
      "tf.Tensor(0.0, shape=(), dtype=float32)\n",
      "tf.Tensor(1.0, shape=(), dtype=float32)\n",
      "tf.Tensor(0.0, shape=(), dtype=float32)\n",
      "tf.Tensor(0.0, shape=(), dtype=float32)\n",
      "tf.Tensor(1.0, shape=(), dtype=float32)\n",
      "tf.Tensor(0.0, shape=(), dtype=float32)\n",
      "tf.Tensor(1.0, shape=(), dtype=float32)\n",
      "tf.Tensor(0.0, shape=(), dtype=float32)\n"
     ]
    }
   ],
   "source": [
    "# Let's call this label on image dataset \n",
    "for index, i in enumerate(train_ds.map(get_label)):\n",
    "    print(i)\n",
    "    if index == 10:\n",
    "        break"
   ]
  },
  {
   "cell_type": "markdown",
   "id": "7a4951e5",
   "metadata": {},
   "source": [
    "```\n",
    "So far we are able to get only label. X part is still a file path and not picutre data. Let's create picture data"
   ]
  },
  {
   "cell_type": "code",
   "execution_count": 29,
   "id": "239ce7c0",
   "metadata": {},
   "outputs": [],
   "source": [
    "def process_image(path):\n",
    "    label = get_label(path)\n",
    "    img = tf.io.read_file(path)\n",
    "\n",
    "    # the file is in jpg formt \n",
    "    img = tf.image.decode_jpeg(img)\n",
    "\n",
    "    # resize the image to common dimension \n",
    "    img = tf.image.resize(img, [180, 180])\n",
    "\n",
    "    return img, label"
   ]
  },
  {
   "cell_type": "code",
   "execution_count": 30,
   "id": "d54a1c4a",
   "metadata": {},
   "outputs": [
    {
     "name": "stdout",
     "output_type": "stream",
     "text": [
      "(180, 180, 3) tf.Tensor(0.0, shape=(), dtype=float32)\n"
     ]
    }
   ],
   "source": [
    "for img, label in train_ds.map(process_image).take(1):\n",
    "    print (img.numpy().shape, label)"
   ]
  },
  {
   "cell_type": "code",
   "execution_count": 31,
   "id": "7863a0aa",
   "metadata": {},
   "outputs": [],
   "source": [
    "def scale_image(image, label):\n",
    "    return image/255.0, label "
   ]
  },
  {
   "cell_type": "code",
   "execution_count": 32,
   "id": "f8b693cb",
   "metadata": {},
   "outputs": [],
   "source": [
    "def expand_dims(image, label):\n",
    "    return tf.expand_dims(image), label"
   ]
  },
  {
   "cell_type": "code",
   "execution_count": 33,
   "id": "1d7668c2",
   "metadata": {},
   "outputs": [],
   "source": [
    "# perform data read and scaling the data\n",
    "train_ds = train_ds.map(process_image).map(scale_image)"
   ]
  },
  {
   "cell_type": "code",
   "execution_count": 34,
   "id": "6967a1eb",
   "metadata": {},
   "outputs": [
    {
     "name": "stdout",
     "output_type": "stream",
     "text": [
      "tf.Tensor([0.30479303 0.24596949 0.22861293], shape=(3,), dtype=float32) tf.Tensor(1.0, shape=(), dtype=float32)\n",
      "tf.Tensor([0.44731298 0.47323892 0.5155047 ], shape=(3,), dtype=float32) tf.Tensor(0.0, shape=(), dtype=float32)\n",
      "tf.Tensor([0.21854514 0.43118134 0.11505931], shape=(3,), dtype=float32) tf.Tensor(0.0, shape=(), dtype=float32)\n"
     ]
    }
   ],
   "source": [
    "for img, label in train_ds.take(3):\n",
    "    print (img[0][0], label)"
   ]
  },
  {
   "cell_type": "markdown",
   "id": "762a4aad",
   "metadata": {},
   "source": [
    "```\n",
    "Though the video was only about creating input pipeline. Lets go little further by training this using Convolutional Neural Network (Not Transfer Learning) and create a model which can predict the image correctly. "
   ]
  },
  {
   "cell_type": "code",
   "execution_count": 35,
   "id": "26075862",
   "metadata": {},
   "outputs": [],
   "source": [
    "# apply same on testing dataset \n",
    "test_ds = test_ds.map(process_image).map(scale_image)"
   ]
  },
  {
   "cell_type": "code",
   "execution_count": 36,
   "id": "9784bf8c",
   "metadata": {},
   "outputs": [],
   "source": [
    "# Lets create data augmentation layer for random flip rotation \n",
    "data_augmentation = tf.keras.models.Sequential([\n",
    "    tf.keras.layers.RandomFlip(\"horizontal\", input_shape=(180, 180, 3)),\n",
    "    tf.keras.layers.RandomRotation(0.1),\n",
    "    tf.keras.layers.RandomZoom(0.1)\n",
    "])"
   ]
  },
  {
   "cell_type": "code",
   "execution_count": 37,
   "id": "eb20878e",
   "metadata": {},
   "outputs": [],
   "source": [
    "model = tf.keras.models.Sequential([\n",
    "    data_augmentation, \n",
    "\n",
    "    # CNN \n",
    "    tf.keras.layers.Conv2D(32, 3, padding=\"same\", activation=\"relu\"), \n",
    "    tf.keras.layers.MaxPooling2D(), \n",
    "    tf.keras.layers.Conv2D(64, 3, padding=\"same\", activation=\"relu\"), \n",
    "    tf.keras.layers.MaxPooling2D(), \n",
    "    tf.keras.layers.Conv2D(128, 3, padding=\"same\", activation=\"relu\"), \n",
    "    tf.keras.layers.MaxPooling2D(), \n",
    "\n",
    "    # add a dropout layer\n",
    "    tf.keras.layers.Dropout(0.2), \n",
    "\n",
    "    # ANN \n",
    "    tf.keras.layers.Flatten(), \n",
    "    tf.keras.layers.Dense(3000, activation=\"relu\"),\n",
    "    tf.keras.layers.Dense(1000, activation=\"relu\"),\n",
    "    tf.keras.layers.Dense(5)\n",
    "])\n",
    "\n",
    "\n"
   ]
  },
  {
   "cell_type": "code",
   "execution_count": 38,
   "id": "5e3654d6",
   "metadata": {},
   "outputs": [
    {
     "name": "stderr",
     "output_type": "stream",
     "text": [
      "WARNING:absl:At this time, the v2.11+ optimizer `tf.keras.optimizers.Adam` runs slowly on M1/M2 Macs, please use the legacy Keras optimizer instead, located at `tf.keras.optimizers.legacy.Adam`.\n"
     ]
    }
   ],
   "source": [
    "model.compile(loss=tf.keras.losses.SparseCategoricalCrossentropy(from_logits=True),\n",
    "              optimizer=tf.keras.optimizers.Adam(), metrics=[\"accuracy\"])"
   ]
  },
  {
   "cell_type": "code",
   "execution_count": 39,
   "id": "144be3e8",
   "metadata": {},
   "outputs": [],
   "source": [
    "# train_ds = train_ds.batch(250).prefetch(tf.data.AUTOTUNE)\n",
    "train_ds = train_ds.batch(32).prefetch(tf.data.AUTOTUNE)"
   ]
  },
  {
   "cell_type": "code",
   "execution_count": 40,
   "id": "47b51963",
   "metadata": {},
   "outputs": [],
   "source": [
    "test_ds = test_ds.batch(32)"
   ]
  },
  {
   "cell_type": "code",
   "execution_count": 41,
   "id": "4eef26e4",
   "metadata": {},
   "outputs": [
    {
     "name": "stdout",
     "output_type": "stream",
     "text": [
      "(<tf.Tensor: shape=(32, 180, 180, 3), dtype=float32, numpy=\n",
      "array([[[[7.69266546e-01, 7.45700777e-01, 2.64342785e-01],\n",
      "         [6.80566490e-01, 7.43376911e-01, 2.02331170e-01],\n",
      "         [5.96753836e-01, 5.96790135e-01, 1.24364570e-01],\n",
      "         ...,\n",
      "         [3.21133621e-02, 5.19826710e-02, 3.59115228e-02],\n",
      "         [6.27442747e-02, 8.58380944e-02, 5.36817573e-02],\n",
      "         [7.85265639e-02, 1.06435120e-01, 4.82212566e-02]],\n",
      "\n",
      "        [[7.41089284e-01, 7.18082786e-01, 2.62527257e-01],\n",
      "         [6.26209140e-01, 6.42679811e-01, 8.62745047e-02],\n",
      "         [4.26318109e-01, 4.73638356e-01, 6.06753565e-02],\n",
      "         ...,\n",
      "         [6.67973310e-02, 6.93681836e-02, 3.63615379e-02],\n",
      "         [2.60777418e-02, 6.39216527e-02, 3.96725200e-02],\n",
      "         [9.92819816e-02, 9.27888528e-02, 9.73429382e-02]],\n",
      "\n",
      "        [[6.38162732e-01, 6.47204041e-01, 4.85838763e-02],\n",
      "         [4.81372535e-01, 5.23856223e-01, 5.32679670e-02],\n",
      "         [3.07262152e-01, 3.68772715e-01, 2.13507488e-02],\n",
      "         ...,\n",
      "         [6.15101941e-02, 6.89539686e-02, 4.82205264e-02],\n",
      "         [3.46403010e-02, 7.16777965e-02, 3.76904048e-02],\n",
      "         [6.70292079e-02, 7.44735822e-02, 4.38265949e-02]],\n",
      "\n",
      "        ...,\n",
      "\n",
      "        [[1.51960641e-01, 2.19462380e-01, 5.90772852e-02],\n",
      "         [1.26035154e-01, 1.93027630e-01, 7.94121325e-02],\n",
      "         [8.77630860e-02, 2.26107672e-01, 7.91570172e-02],\n",
      "         ...,\n",
      "         [9.27749649e-02, 1.69607922e-01, 2.59263925e-02],\n",
      "         [9.24832821e-02, 1.82898298e-01, 3.75816002e-02],\n",
      "         [8.50775391e-02, 1.99564382e-01, 1.54684894e-02]],\n",
      "\n",
      "        [[1.20524414e-01, 1.98366612e-01, 1.02287635e-01],\n",
      "         [1.13007270e-01, 2.06208676e-01, 1.24848429e-02],\n",
      "         [1.42200127e-01, 2.04684347e-01, 6.01317920e-02],\n",
      "         ...,\n",
      "         [1.26773283e-01, 1.92461327e-01, 6.24601319e-02],\n",
      "         [9.60794538e-02, 1.93137348e-01, 4.04584035e-02],\n",
      "         [1.06207520e-01, 1.94641665e-01, 9.32471454e-03]],\n",
      "\n",
      "        [[1.81663126e-01, 2.30915174e-01, 9.63325202e-02],\n",
      "         [1.23572819e-01, 1.68932229e-01, 6.76472262e-02],\n",
      "         [1.22287482e-01, 2.00827733e-01, 8.06171000e-02],\n",
      "         ...,\n",
      "         [1.02533400e-01, 1.89134985e-01, 3.17059048e-02],\n",
      "         [9.21997577e-02, 1.74596280e-01, 4.29849140e-02],\n",
      "         [3.96072678e-02, 1.92026436e-01, 1.58750508e-02]]],\n",
      "\n",
      "\n",
      "       [[[8.83508861e-01, 8.31814349e-01, 3.13241333e-02],\n",
      "         [8.81989837e-01, 8.24146688e-01, 5.06536057e-03],\n",
      "         [9.00732279e-01, 8.08775127e-01, 9.87654459e-03],\n",
      "         ...,\n",
      "         [5.51017597e-02, 1.12617940e-01, 7.29666352e-02],\n",
      "         [7.54540041e-02, 1.17102951e-01, 7.75239021e-02],\n",
      "         [5.34615740e-02, 1.00956015e-01, 6.19883984e-02]],\n",
      "\n",
      "        [[8.20043564e-01, 7.82897592e-01, 1.46695729e-02],\n",
      "         [8.80010903e-01, 8.38888884e-01, 1.63943376e-02],\n",
      "         [8.78340602e-01, 8.01506937e-01, 5.08351310e-04],\n",
      "         ...,\n",
      "         [4.97277156e-02, 1.11329019e-01, 7.55447075e-02],\n",
      "         [5.39211072e-02, 1.03267826e-01, 6.57404885e-02],\n",
      "         [5.59732653e-02, 1.02450982e-01, 6.53958172e-02]],\n",
      "\n",
      "        [[7.73462832e-01, 7.41436720e-01, 2.91999523e-02],\n",
      "         [8.32207739e-01, 7.93282509e-01, 6.22730702e-03],\n",
      "         [8.87799561e-01, 8.15559208e-01, 1.88332144e-02],\n",
      "         ...,\n",
      "         [4.55763042e-02, 1.03600979e-01, 7.69488513e-02],\n",
      "         [5.45928404e-02, 1.05174243e-01, 8.27520043e-02],\n",
      "         [5.84544614e-02, 1.01591714e-01, 7.92605579e-02]],\n",
      "\n",
      "        ...,\n",
      "\n",
      "        [[4.08376530e-02, 4.12189960e-02, 3.96512039e-02],\n",
      "         [1.81009490e-02, 6.61765486e-02, 3.33878249e-02],\n",
      "         [3.28977183e-02, 6.19221404e-02, 3.29279564e-02],\n",
      "         ...,\n",
      "         [2.23855413e-02, 2.27183681e-02, 2.05216836e-02],\n",
      "         [2.22220998e-02, 3.00652366e-02, 2.15324182e-02],\n",
      "         [1.98134370e-02, 2.68518776e-02, 1.42580420e-02]],\n",
      "\n",
      "        [[2.84858774e-02, 5.85149862e-02, 1.19100213e-02],\n",
      "         [2.63619199e-02, 4.83660139e-02, 2.75600459e-02],\n",
      "         [3.17357816e-02, 4.59876768e-02, 2.05337722e-02],\n",
      "         ...,\n",
      "         [2.42556855e-02, 2.57988796e-02, 1.56136611e-02],\n",
      "         [2.12961789e-02, 3.09912506e-02, 9.96704120e-03],\n",
      "         [2.20770892e-02, 2.71424092e-02, 9.82206780e-03]],\n",
      "\n",
      "        [[7.97020737e-03, 5.21725342e-02, 1.77983828e-02],\n",
      "         [2.80318111e-02, 3.41865495e-02, 2.20586620e-02],\n",
      "         [3.80295552e-02, 4.79848087e-02, 2.51212139e-02],\n",
      "         ...,\n",
      "         [2.69607846e-02, 3.31155211e-02, 1.25697013e-02],\n",
      "         [2.29665432e-02, 3.26797925e-02, 3.73975094e-03],\n",
      "         [2.89518256e-02, 3.28733921e-02, 1.32655520e-02]]],\n",
      "\n",
      "\n",
      "       [[[1.17647061e-02, 1.17647061e-02, 1.17647061e-02],\n",
      "         [1.17647061e-02, 1.17647061e-02, 1.17647061e-02],\n",
      "         [1.17647061e-02, 1.17647061e-02, 1.17647061e-02],\n",
      "         ...,\n",
      "         [1.17647061e-02, 1.17647061e-02, 1.17647061e-02],\n",
      "         [1.17647061e-02, 1.17647061e-02, 1.17647061e-02],\n",
      "         [1.17647061e-02, 1.17647061e-02, 1.17647061e-02]],\n",
      "\n",
      "        [[1.17647061e-02, 1.17647061e-02, 1.17647061e-02],\n",
      "         [1.17647061e-02, 1.17647061e-02, 1.17647061e-02],\n",
      "         [1.17647061e-02, 1.17647061e-02, 1.17647061e-02],\n",
      "         ...,\n",
      "         [1.17647061e-02, 1.17647061e-02, 1.17647061e-02],\n",
      "         [1.17647061e-02, 1.17647061e-02, 1.17647061e-02],\n",
      "         [1.17647061e-02, 1.17647061e-02, 1.17647061e-02]],\n",
      "\n",
      "        [[1.17647061e-02, 1.17647061e-02, 1.17647061e-02],\n",
      "         [1.17647061e-02, 1.17647061e-02, 1.17647061e-02],\n",
      "         [1.17647061e-02, 1.17647061e-02, 1.17647061e-02],\n",
      "         ...,\n",
      "         [1.17647061e-02, 1.17647061e-02, 1.17647061e-02],\n",
      "         [1.17647061e-02, 1.17647061e-02, 1.17647061e-02],\n",
      "         [1.17647061e-02, 1.17647061e-02, 1.17647061e-02]],\n",
      "\n",
      "        ...,\n",
      "\n",
      "        [[8.38781614e-03, 8.38781614e-03, 8.38781614e-03],\n",
      "         [7.84313772e-03, 7.84313772e-03, 7.84313772e-03],\n",
      "         [7.84313772e-03, 7.84313772e-03, 7.84313772e-03],\n",
      "         ...,\n",
      "         [1.17647061e-02, 1.17647061e-02, 1.17647061e-02],\n",
      "         [1.17647061e-02, 1.17647061e-02, 1.17647061e-02],\n",
      "         [1.17647061e-02, 1.17647061e-02, 1.17647061e-02]],\n",
      "\n",
      "        [[1.11111104e-02, 1.11111104e-02, 1.11111104e-02],\n",
      "         [7.84313772e-03, 7.84313772e-03, 7.84313772e-03],\n",
      "         [6.20914996e-03, 6.20914996e-03, 6.20914996e-03],\n",
      "         ...,\n",
      "         [1.17647061e-02, 1.17647061e-02, 1.17647061e-02],\n",
      "         [1.17647061e-02, 1.17647061e-02, 1.17647061e-02],\n",
      "         [1.17647061e-02, 1.17647061e-02, 1.17647061e-02]],\n",
      "\n",
      "        [[1.43791242e-02, 1.43791242e-02, 1.43791242e-02],\n",
      "         [7.84313772e-03, 7.84313772e-03, 7.84313772e-03],\n",
      "         [1.30714907e-03, 1.30714907e-03, 1.30714907e-03],\n",
      "         ...,\n",
      "         [1.17647061e-02, 1.17647061e-02, 1.17647061e-02],\n",
      "         [1.17647061e-02, 1.17647061e-02, 1.17647061e-02],\n",
      "         [1.17647061e-02, 1.17647061e-02, 1.17647061e-02]]],\n",
      "\n",
      "\n",
      "       ...,\n",
      "\n",
      "\n",
      "       [[[8.12636167e-02, 1.04793027e-01, 4.98910695e-02],\n",
      "         [7.77777731e-02, 1.02396511e-01, 4.69498932e-02],\n",
      "         [9.22294930e-02, 1.23529419e-01, 6.47422001e-02],\n",
      "         ...,\n",
      "         [5.63909598e-02, 9.95282084e-02, 3.28615494e-02],\n",
      "         [4.98908125e-02, 9.30280760e-02, 2.63614040e-02],\n",
      "         [6.12926595e-02, 1.09222971e-01, 4.01597768e-02]],\n",
      "\n",
      "        [[9.28104594e-02, 1.12418309e-01, 5.75163364e-02],\n",
      "         [8.82352963e-02, 1.08496733e-01, 5.35947680e-02],\n",
      "         [8.76906291e-02, 1.14923753e-01, 5.81699386e-02],\n",
      "         ...,\n",
      "         [6.14381097e-02, 1.04575366e-01, 3.97605151e-02],\n",
      "         [7.09150136e-02, 1.14052266e-01, 4.73855995e-02],\n",
      "         [5.79520427e-02, 1.05882354e-01, 3.68191600e-02]],\n",
      "\n",
      "        [[1.03086419e-01, 1.18772693e-01, 6.38707355e-02],\n",
      "         [1.03594773e-01, 1.19498916e-01, 6.45969510e-02],\n",
      "         [9.31372568e-02, 1.10130720e-01, 5.52287586e-02],\n",
      "         ...,\n",
      "         [6.28540665e-02, 1.05991319e-01, 4.32098992e-02],\n",
      "         [7.94119462e-02, 1.22549199e-01, 5.64271621e-02],\n",
      "         [6.25998527e-02, 1.10530160e-01, 4.14669663e-02]],\n",
      "\n",
      "        ...,\n",
      "\n",
      "        [[4.21532303e-01, 4.48656440e-01, 4.08641994e-01],\n",
      "         [4.31154698e-01, 4.51089293e-01, 4.11764681e-01],\n",
      "         [4.15686250e-01, 4.28068250e-01, 3.83079082e-01],\n",
      "         ...,\n",
      "         [3.55119824e-01, 3.78649235e-01, 3.23747277e-01],\n",
      "         [3.65904182e-01, 3.89433593e-01, 3.34531635e-01],\n",
      "         [3.92846793e-01, 4.16376203e-01, 3.68809015e-01]],\n",
      "\n",
      "        [[4.23093677e-01, 4.44226593e-01, 4.12200451e-01],\n",
      "         [4.27777767e-01, 4.39542472e-01, 4.02941167e-01],\n",
      "         [4.14052278e-01, 4.29520696e-01, 3.75272334e-01],\n",
      "         ...,\n",
      "         [3.47167790e-01, 3.70697200e-01, 3.15795243e-01],\n",
      "         [3.57189655e-01, 3.80719066e-01, 3.25817078e-01],\n",
      "         [3.79738599e-01, 4.03268009e-01, 3.53159100e-01]],\n",
      "\n",
      "        [[4.35185313e-01, 4.56318229e-01, 4.24292058e-01],\n",
      "         [4.19498891e-01, 4.30718899e-01, 3.94117624e-01],\n",
      "         [4.21859175e-01, 4.30973142e-01, 3.79811227e-01],\n",
      "         ...,\n",
      "         [3.62091660e-01, 3.85802686e-01, 3.30537498e-01],\n",
      "         [3.60457569e-01, 3.84531587e-01, 3.28540355e-01],\n",
      "         [3.62636060e-01, 3.86165470e-01, 3.36056590e-01]]],\n",
      "\n",
      "\n",
      "       [[[9.90880549e-01, 9.67351139e-01, 9.04606044e-01],\n",
      "         [9.80413914e-01, 9.56884503e-01, 9.01982546e-01],\n",
      "         [9.79161203e-01, 9.48224425e-01, 8.97026181e-01],\n",
      "         ...,\n",
      "         [4.99337137e-01, 5.21948159e-01, 4.02472645e-01],\n",
      "         [4.88338768e-01, 5.28398693e-01, 3.95065367e-01],\n",
      "         [5.03821731e-01, 5.12234926e-01, 3.98986936e-01]],\n",
      "\n",
      "        [[9.94760334e-01, 9.71230924e-01, 9.08485830e-01],\n",
      "         [9.88431394e-01, 9.64901984e-01, 9.10000026e-01],\n",
      "         [9.79460776e-01, 9.48523939e-01, 8.97325695e-01],\n",
      "         ...,\n",
      "         [4.90473658e-01, 5.18747389e-01, 3.90784293e-01],\n",
      "         [4.79460776e-01, 5.22450984e-01, 3.89117628e-01],\n",
      "         [4.96067584e-01, 5.12314796e-01, 3.96078438e-01]],\n",
      "\n",
      "        [[9.75281417e-01, 9.48910713e-01, 8.86165619e-01],\n",
      "         [9.94662285e-01, 9.71132874e-01, 9.16230917e-01],\n",
      "         [9.89596963e-01, 9.66067553e-01, 9.11165595e-01],\n",
      "         ...,\n",
      "         [4.89669412e-01, 5.17928541e-01, 3.88298839e-01],\n",
      "         [4.79765773e-01, 5.22712409e-01, 3.89379084e-01],\n",
      "         [4.98356968e-01, 5.20315886e-01, 4.03240770e-01]],\n",
      "\n",
      "        ...,\n",
      "\n",
      "        [[2.59885848e-01, 3.76134962e-01, 1.08424015e-01],\n",
      "         [2.68654943e-01, 3.96351099e-01, 1.03077345e-01],\n",
      "         [2.46532619e-01, 3.94217849e-01, 6.52868152e-02],\n",
      "         ...,\n",
      "         [4.64224786e-01, 4.87754196e-01, 3.77950281e-01],\n",
      "         [4.56427068e-01, 4.82815892e-01, 3.72058809e-01],\n",
      "         [4.53930736e-01, 4.90622789e-01, 3.76198322e-01]],\n",
      "\n",
      "        [[2.99607992e-01, 4.13137406e-01, 8.98420140e-02],\n",
      "         [2.99477249e-01, 4.34918433e-01, 8.27613771e-02],\n",
      "         [3.00141871e-01, 4.55566674e-01, 6.81536123e-02],\n",
      "         ...,\n",
      "         [4.74242836e-01, 4.96007502e-01, 3.87521803e-01],\n",
      "         [4.62434500e-01, 4.85669822e-01, 3.77320051e-01],\n",
      "         [4.71459717e-01, 4.95620906e-01, 3.79509777e-01]],\n",
      "\n",
      "        [[3.38231713e-01, 4.63204503e-01, 1.00001857e-01],\n",
      "         [3.31683040e-01, 4.76841062e-01, 8.38889107e-02],\n",
      "         [3.53418708e-01, 4.97739702e-01, 8.24963972e-02],\n",
      "         ...,\n",
      "         [4.71488714e-01, 4.92991984e-01, 3.84313732e-01],\n",
      "         [4.64618713e-01, 4.87810433e-01, 3.78513008e-01],\n",
      "         [4.67904866e-01, 4.95359540e-01, 3.82933944e-01]]],\n",
      "\n",
      "\n",
      "       [[[8.79215658e-01, 8.44575167e-01, 9.28235292e-01],\n",
      "         [8.67581725e-01, 8.36339831e-01, 9.13202643e-01],\n",
      "         [8.96514177e-01, 8.84749472e-01, 9.26143765e-01],\n",
      "         ...,\n",
      "         [5.67102551e-01, 3.93028527e-01, 2.48584390e-01],\n",
      "         [6.15946651e-01, 4.29933667e-01, 2.08627045e-01],\n",
      "         [6.42919302e-01, 4.64052260e-01, 1.98954195e-01]],\n",
      "\n",
      "        [[8.25882375e-01, 7.94509828e-01, 8.81568611e-01],\n",
      "         [8.34117651e-01, 8.06666732e-01, 8.99607837e-01],\n",
      "         [8.67973864e-01, 8.55555534e-01, 9.33986902e-01],\n",
      "         ...,\n",
      "         [5.46404719e-01, 3.96731615e-01, 3.35294038e-01],\n",
      "         [5.77647626e-01, 3.96079242e-01, 2.52942622e-01],\n",
      "         [5.46405196e-01, 3.45490158e-01, 1.47712320e-01]],\n",
      "\n",
      "        [[6.81917191e-01, 6.56644821e-01, 7.12461829e-01],\n",
      "         [8.49019587e-01, 8.24052274e-01, 9.05620933e-01],\n",
      "         [8.02396476e-01, 7.88235307e-01, 8.87363791e-01],\n",
      "         ...,\n",
      "         [4.97386307e-01, 4.08061922e-01, 4.19826925e-01],\n",
      "         [4.37385082e-01, 2.97516167e-01, 2.35163823e-01],\n",
      "         [5.90414226e-01, 4.07102644e-01, 2.83181012e-01]],\n",
      "\n",
      "        ...,\n",
      "\n",
      "        [[8.07057798e-01, 7.27667987e-01, 8.49367201e-01],\n",
      "         [1.06535345e-01, 1.02613948e-01, 1.70195490e-01],\n",
      "         [3.35512199e-02, 6.68846145e-02, 1.02832228e-01],\n",
      "         ...,\n",
      "         [6.21348798e-01, 5.55989087e-01, 6.31806076e-01],\n",
      "         [3.61313105e-01, 3.33600670e-01, 3.97914439e-01],\n",
      "         [8.74947608e-01, 8.70677531e-01, 8.90023947e-01]],\n",
      "\n",
      "        [[3.84052306e-01, 3.63790870e-01, 4.43137258e-01],\n",
      "         [6.27450924e-03, 3.17647047e-02, 6.86274543e-02],\n",
      "         [3.92156839e-02, 6.53594732e-02, 9.21568647e-02],\n",
      "         ...,\n",
      "         [3.09151113e-01, 2.49674007e-01, 3.02615106e-01],\n",
      "         [5.23524582e-01, 5.14504194e-01, 5.63523948e-01],\n",
      "         [8.83137584e-01, 8.89934957e-01, 9.31111395e-01]],\n",
      "\n",
      "        [[5.38553260e-02, 9.77337807e-02, 1.49977624e-01],\n",
      "         [2.28238031e-01, 2.42616966e-01, 2.82094181e-01],\n",
      "         [2.81266570e-01, 2.66451448e-01, 3.14599782e-01],\n",
      "         ...,\n",
      "         [3.38996440e-01, 2.70150632e-01, 3.74290913e-01],\n",
      "         [7.28890598e-01, 7.15687692e-01, 8.08237314e-01],\n",
      "         [8.22265804e-01, 8.60392511e-01, 9.24488544e-01]]]],\n",
      "      dtype=float32)>, <tf.Tensor: shape=(32,), dtype=float32, numpy=\n",
      "array([0., 1., 1., 0., 0., 0., 0., 1., 0., 1., 0., 0., 0., 0., 0., 1., 0.,\n",
      "       0., 1., 1., 1., 0., 1., 0., 0., 0., 1., 0., 1., 0., 0., 0.],\n",
      "      dtype=float32)>)\n",
      "(<tf.Tensor: shape=(32, 180, 180, 3), dtype=float32, numpy=\n",
      "array([[[[1.69172119e-02, 1.42407402e-01, 0.00000000e+00],\n",
      "         [3.60457525e-02, 1.67483658e-01, 1.11111091e-03],\n",
      "         [3.59586030e-02, 1.77135080e-01, 0.00000000e+00],\n",
      "         ...,\n",
      "         [1.34313721e-02, 7.22548962e-02, 0.00000000e+00],\n",
      "         [1.50977997e-02, 7.13071078e-02, 0.00000000e+00],\n",
      "         [2.31916588e-02, 7.43571967e-02, 0.00000000e+00]],\n",
      "\n",
      "        [[2.41721142e-02, 1.49662316e-01, 0.00000000e+00],\n",
      "         [3.84967327e-02, 1.76830068e-01, 0.00000000e+00],\n",
      "         [4.54793051e-02, 1.87614381e-01, 0.00000000e+00],\n",
      "         ...,\n",
      "         [2.46078428e-02, 8.34313706e-02, 0.00000000e+00],\n",
      "         [2.75815185e-02, 8.50979388e-02, 0.00000000e+00],\n",
      "         [3.63725461e-02, 9.12745073e-02, 0.00000000e+00]],\n",
      "\n",
      "        [[2.43464056e-02, 1.63997829e-01, 0.00000000e+00],\n",
      "         [4.01960798e-02, 1.82026133e-01, 0.00000000e+00],\n",
      "         [4.70588244e-02, 1.96296304e-01, 0.00000000e+00],\n",
      "         ...,\n",
      "         [2.79411767e-02, 1.02450982e-01, 0.00000000e+00],\n",
      "         [3.20258960e-02, 1.02614366e-01, 0.00000000e+00],\n",
      "         [4.05772477e-02, 1.03322349e-01, 0.00000000e+00]],\n",
      "\n",
      "        ...,\n",
      "\n",
      "        [[5.93137257e-02, 1.45588234e-01, 3.81263788e-04],\n",
      "         [7.00980425e-02, 1.59803927e-01, 0.00000000e+00],\n",
      "         [6.12200424e-02, 1.57788679e-01, 0.00000000e+00],\n",
      "         ...,\n",
      "         [8.45424891e-01, 4.49128568e-01, 4.15795237e-01],\n",
      "         [8.32352936e-01, 4.41012859e-01, 3.99346381e-01],\n",
      "         [8.27396512e-01, 4.63997513e-01, 4.33060706e-01]],\n",
      "\n",
      "        [[5.83878011e-02, 1.44662306e-01, 0.00000000e+00],\n",
      "         [6.44117594e-02, 1.62450984e-01, 0.00000000e+00],\n",
      "         [6.10021763e-02, 1.59041405e-01, 0.00000000e+00],\n",
      "         ...,\n",
      "         [8.46623182e-01, 4.50544775e-01, 4.19172227e-01],\n",
      "         [8.31372559e-01, 4.39215451e-01, 3.96078438e-01],\n",
      "         [8.27135146e-01, 4.64051962e-01, 4.32679415e-01]],\n",
      "\n",
      "        [[4.84530330e-02, 1.38736337e-01, 0.00000000e+00],\n",
      "         [5.91829568e-02, 1.57222182e-01, 0.00000000e+00],\n",
      "         [5.58278598e-02, 1.59858406e-01, 0.00000000e+00],\n",
      "         ...,\n",
      "         [8.46623182e-01, 4.50544775e-01, 4.19172227e-01],\n",
      "         [8.27058733e-01, 4.42025900e-01, 3.96078438e-01],\n",
      "         [8.27015340e-01, 4.64051962e-01, 4.32679415e-01]]],\n",
      "\n",
      "\n",
      "       [[[6.01494253e-01, 7.36677587e-01, 9.85620916e-01],\n",
      "         [5.79527974e-01, 7.50147104e-01, 9.83140886e-01],\n",
      "         [5.91727138e-01, 7.40328014e-01, 9.91667867e-01],\n",
      "         ...,\n",
      "         [5.64176738e-01, 7.62208283e-01, 9.88778353e-01],\n",
      "         [5.99554896e-01, 7.50856757e-01, 9.69778538e-01],\n",
      "         [5.82345903e-01, 7.48830259e-01, 9.79508638e-01]],\n",
      "\n",
      "        [[5.84059536e-01, 7.62467325e-01, 9.89054143e-01],\n",
      "         [4.99967337e-01, 6.66868210e-01, 8.02679718e-01],\n",
      "         [5.08710980e-01, 6.35916889e-01, 7.50032723e-01],\n",
      "         ...,\n",
      "         [4.92445588e-01, 6.28236413e-01, 7.54180372e-01],\n",
      "         [5.33725977e-01, 6.49842858e-01, 8.11150610e-01],\n",
      "         [5.86597621e-01, 7.56784618e-01, 9.81655777e-01]],\n",
      "\n",
      "        [[6.26821578e-01, 7.42287040e-01, 9.72809255e-01],\n",
      "         [4.31989849e-01, 4.80110735e-01, 5.50399423e-01],\n",
      "         [7.03576684e-01, 6.94849968e-01, 7.17922509e-01],\n",
      "         ...,\n",
      "         [6.49280429e-01, 6.81369603e-01, 6.83941543e-01],\n",
      "         [4.39514369e-01, 4.87735659e-01, 5.47395110e-01],\n",
      "         [6.05361819e-01, 7.47781992e-01, 9.52572107e-01]],\n",
      "\n",
      "        ...,\n",
      "\n",
      "        [[5.81172705e-01, 7.57128894e-01, 9.51119304e-01],\n",
      "         [3.92110884e-01, 4.90358591e-01, 5.48410118e-01],\n",
      "         [5.79255581e-01, 6.24089897e-01, 6.21886373e-01],\n",
      "         ...,\n",
      "         [5.76001108e-01, 6.17282510e-01, 6.44251406e-01],\n",
      "         [3.76795352e-01, 4.75497991e-01, 5.23945689e-01],\n",
      "         [5.87899327e-01, 7.58820236e-01, 9.47996616e-01]],\n",
      "\n",
      "        [[5.86824536e-01, 7.53578365e-01, 9.90355849e-01],\n",
      "         [5.51204085e-01, 6.97048306e-01, 8.50910127e-01],\n",
      "         [5.26603460e-01, 6.62718415e-01, 8.03575575e-01],\n",
      "         ...,\n",
      "         [5.20993888e-01, 6.51258290e-01, 8.13761711e-01],\n",
      "         [5.50060332e-01, 6.93323612e-01, 8.41580987e-01],\n",
      "         [5.84918320e-01, 7.52222061e-01, 9.78258848e-01]],\n",
      "\n",
      "        [[5.85688055e-01, 7.49840200e-01, 9.89195168e-01],\n",
      "         [5.96541584e-01, 7.60472238e-01, 9.89342809e-01],\n",
      "         [5.97513497e-01, 7.62403905e-01, 9.91754413e-01],\n",
      "         ...,\n",
      "         [5.95356762e-01, 7.58918047e-01, 9.90003586e-01],\n",
      "         [5.97915828e-01, 7.61071324e-01, 9.89498913e-01],\n",
      "         [5.87054014e-01, 7.51242995e-01, 9.89453554e-01]]],\n",
      "\n",
      "\n",
      "       [[[1.47854030e-01, 2.73344249e-01, 1.12559915e-01],\n",
      "         [1.46051198e-01, 2.70887792e-01, 1.10103488e-01],\n",
      "         [1.45315915e-01, 2.66884536e-01, 1.02396511e-01],\n",
      "         ...,\n",
      "         [1.37254909e-01, 2.90196091e-01, 1.13943420e-01],\n",
      "         [1.37554467e-01, 2.90495664e-01, 1.17946625e-01],\n",
      "         [1.36603102e-01, 2.94337302e-01, 1.21788308e-01]],\n",
      "\n",
      "        [[1.50757074e-01, 2.76247293e-01, 1.15462966e-01],\n",
      "         [1.48120910e-01, 2.72957534e-01, 1.12173207e-01],\n",
      "         [1.45315915e-01, 2.66884536e-01, 1.02396511e-01],\n",
      "         ...,\n",
      "         [1.37314826e-01, 2.90255994e-01, 1.14003353e-01],\n",
      "         [1.40702635e-01, 2.93643802e-01, 1.21094801e-01],\n",
      "         [1.39858380e-01, 2.97592610e-01, 1.25043586e-01]],\n",
      "\n",
      "        [[1.47222221e-01, 2.72712409e-01, 1.11928105e-01],\n",
      "         [1.43954262e-01, 2.68790841e-01, 1.08006537e-01],\n",
      "         [1.43518537e-01, 2.65087157e-01, 1.00599125e-01],\n",
      "         ...,\n",
      "         [1.37472838e-01, 2.90414006e-01, 1.14161350e-01],\n",
      "         [1.41176477e-01, 2.94117659e-01, 1.21568628e-01],\n",
      "         [1.42701507e-01, 3.00435752e-01, 1.27886727e-01]],\n",
      "\n",
      "        ...,\n",
      "\n",
      "        [[1.07452385e-01, 2.44543612e-01, 1.08705074e-01],\n",
      "         [2.02832028e-01, 4.06290323e-01, 1.31426528e-01],\n",
      "         [1.17402367e-01, 2.91367590e-01, 1.63780421e-01],\n",
      "         ...,\n",
      "         [6.37895465e-02, 2.66839385e-01, 2.60812193e-02],\n",
      "         [8.77728462e-02, 2.70970017e-01, 9.02513564e-02],\n",
      "         [8.89889821e-02, 2.87082911e-01, 1.03849210e-01]],\n",
      "\n",
      "        [[1.19607925e-01, 2.79074043e-01, 1.17761582e-01],\n",
      "         [1.74984112e-01, 3.97010207e-01, 1.29902244e-01],\n",
      "         [8.00165832e-02, 2.33012453e-01, 1.06732525e-01],\n",
      "         ...,\n",
      "         [8.51251706e-02, 3.07918727e-01, 4.95861806e-02],\n",
      "         [8.50812942e-02, 2.79100597e-01, 7.44115934e-02],\n",
      "         [8.38834196e-02, 2.71252751e-01, 9.93082896e-02]],\n",
      "\n",
      "        [[1.15430303e-01, 2.70101786e-01, 8.75837505e-02],\n",
      "         [1.32287815e-01, 3.49940360e-01, 9.41995829e-02],\n",
      "         [7.55373836e-02, 1.92852452e-01, 6.90434352e-02],\n",
      "         ...,\n",
      "         [1.23267919e-01, 3.85807306e-01, 8.78357813e-02],\n",
      "         [1.39117286e-01, 3.70462120e-01, 1.11143678e-01],\n",
      "         [1.03629209e-01, 3.10128629e-01, 1.18148178e-01]]],\n",
      "\n",
      "\n",
      "       ...,\n",
      "\n",
      "\n",
      "       [[[3.61002199e-02, 8.31590369e-02, 1.30217865e-01],\n",
      "         [4.00217883e-02, 8.70806053e-02, 1.34139434e-01],\n",
      "         [3.92604694e-02, 8.78419206e-02, 1.34139434e-01],\n",
      "         ...,\n",
      "         [3.04528847e-02, 4.14114930e-02, 9.34177451e-03],\n",
      "         [3.51052135e-02, 4.60638180e-02, 1.91866141e-02],\n",
      "         [2.51804050e-02, 2.89228354e-02, 1.07274633e-02]],\n",
      "\n",
      "        [[4.01561372e-02, 8.72149616e-02, 1.34273782e-01],\n",
      "         [4.55555543e-02, 9.26143825e-02, 1.39673203e-01],\n",
      "         [4.41358052e-02, 9.86020342e-02, 1.46525070e-01],\n",
      "         ...,\n",
      "         [2.80972309e-02, 3.59403677e-02, 2.11691279e-02],\n",
      "         [3.08279768e-02, 3.86711136e-02, 2.79304236e-02],\n",
      "         [3.39433476e-02, 3.99491489e-02, 3.39397117e-02]],\n",
      "\n",
      "        [[4.08073142e-02, 8.79508629e-02, 1.34967327e-01],\n",
      "         [5.02541736e-02, 9.88017395e-02, 1.46604940e-01],\n",
      "         [5.07685803e-02, 1.05670542e-01, 1.56650931e-01],\n",
      "         ...,\n",
      "         [5.12164831e-02, 5.91685548e-02, 3.97666022e-02],\n",
      "         [5.17791845e-02, 5.97312562e-02, 4.75308225e-02],\n",
      "         [3.19655873e-02, 3.99176590e-02, 2.77172215e-02]],\n",
      "\n",
      "        ...,\n",
      "\n",
      "        [[2.19196528e-02, 3.82595211e-02, 1.48270221e-03],\n",
      "         [2.32571475e-02, 4.82752584e-02, 6.53595082e-04],\n",
      "         [2.36322656e-02, 5.50048165e-02, 4.02442412e-03],\n",
      "         ...,\n",
      "         [4.40210849e-02, 7.88853914e-02, 1.05894573e-01],\n",
      "         [4.58785295e-02, 7.67064244e-02, 9.00143236e-02],\n",
      "         [1.99829638e-02, 5.14644161e-02, 6.02457151e-02]],\n",
      "\n",
      "        [[2.41830070e-02, 3.59477140e-02, 3.05010891e-03],\n",
      "         [2.61437912e-02, 5.04793040e-02, 3.26797343e-03],\n",
      "         [1.81880966e-02, 4.65541296e-02, 0.00000000e+00],\n",
      "         ...,\n",
      "         [3.35729271e-02, 6.88670427e-02, 1.03892379e-01],\n",
      "         [3.36274840e-02, 6.89216033e-02, 9.68736410e-02],\n",
      "         [4.09005135e-02, 7.61946365e-02, 9.88089964e-02]],\n",
      "\n",
      "        [[2.67792456e-02, 3.47361341e-02, 1.83853123e-03],\n",
      "         [2.04320662e-02, 4.39614765e-02, 3.26797343e-03],\n",
      "         [1.57310553e-02, 3.92604694e-02, 0.00000000e+00],\n",
      "         ...,\n",
      "         [3.18471566e-02, 6.71412721e-02, 1.02435395e-01],\n",
      "         [6.01020455e-02, 1.00588702e-01, 1.26750529e-01],\n",
      "         [4.12005410e-02, 8.27256292e-02, 1.07061125e-01]]],\n",
      "\n",
      "\n",
      "       [[[1.10827886e-01, 3.26514184e-01, 4.08867121e-01],\n",
      "         [1.09640516e-01, 3.25326771e-01, 4.07679707e-01],\n",
      "         [1.11318082e-01, 3.23082775e-01, 4.17200416e-01],\n",
      "         ...,\n",
      "         [8.60566497e-01, 8.99782181e-01, 8.68409634e-01],\n",
      "         [8.54901969e-01, 8.90196323e-01, 8.58823776e-01],\n",
      "         [8.40697229e-01, 8.79912913e-01, 8.44618797e-01]],\n",
      "\n",
      "        [[1.09161220e-01, 3.27004373e-01, 4.08278883e-01],\n",
      "         [1.07777782e-01, 3.25620919e-01, 4.06895429e-01],\n",
      "         [1.08725488e-01, 3.22647065e-01, 4.15686280e-01],\n",
      "         ...,\n",
      "         [8.65566492e-01, 9.04782176e-01, 8.72930288e-01],\n",
      "         [8.59901965e-01, 8.95196319e-01, 8.63823771e-01],\n",
      "         [8.47701609e-01, 8.86917293e-01, 8.51623178e-01]],\n",
      "\n",
      "        [[1.02832243e-01, 3.26361686e-01, 4.04793054e-01],\n",
      "         [1.01143785e-01, 3.24673206e-01, 4.03104573e-01],\n",
      "         [1.02450982e-01, 3.22058827e-01, 4.12254900e-01],\n",
      "         ...,\n",
      "         [8.70315909e-01, 9.13562179e-01, 8.76252770e-01],\n",
      "         [8.67156863e-01, 9.02451217e-01, 8.70751858e-01],\n",
      "         [8.61928403e-01, 8.90686274e-01, 8.58932555e-01]],\n",
      "\n",
      "        ...,\n",
      "\n",
      "        [[4.83115464e-02, 1.30664483e-01, 9.63507593e-02],\n",
      "         [5.39215654e-02, 1.36274517e-01, 1.06535949e-01],\n",
      "         [5.39760366e-02, 1.43191710e-01, 1.11328974e-01],\n",
      "         ...,\n",
      "         [0.00000000e+00, 1.84586048e-01, 2.62200445e-01],\n",
      "         [0.00000000e+00, 1.84477150e-01, 2.61928082e-01],\n",
      "         [5.17398631e-03, 1.89161107e-01, 2.67973661e-01]],\n",
      "\n",
      "        [[4.61655296e-02, 1.28518462e-01, 9.32243466e-02],\n",
      "         [5.46731763e-02, 1.37026131e-01, 1.06960759e-01],\n",
      "         [5.25380895e-02, 1.39575109e-01, 1.09782085e-01],\n",
      "         ...,\n",
      "         [0.00000000e+00, 1.80392161e-01, 2.58823544e-01],\n",
      "         [0.00000000e+00, 1.77189723e-01, 2.56568760e-01],\n",
      "         [1.51403085e-03, 1.77984625e-01, 2.60337561e-01]],\n",
      "\n",
      "        [[4.85186130e-02, 1.30871549e-01, 1.00087337e-01],\n",
      "         [5.64380512e-02, 1.38790995e-01, 1.11340009e-01],\n",
      "         [5.72332107e-02, 1.39586151e-01, 1.07625276e-01],\n",
      "         ...,\n",
      "         [6.76484965e-03, 1.76470593e-01, 2.61078477e-01],\n",
      "         [6.76484965e-03, 1.75915077e-01, 2.60522962e-01],\n",
      "         [1.67102292e-02, 1.81416109e-01, 2.67690629e-01]]],\n",
      "\n",
      "\n",
      "       [[[2.57342041e-01, 2.57342041e-01, 2.57342041e-01],\n",
      "         [2.59578824e-01, 2.59578824e-01, 2.59578824e-01],\n",
      "         [2.58300662e-01, 2.58300662e-01, 2.58300662e-01],\n",
      "         ...,\n",
      "         [4.58223403e-01, 4.58223403e-01, 4.58223403e-01],\n",
      "         [3.75338644e-01, 3.75338644e-01, 3.75338644e-01],\n",
      "         [3.25161219e-01, 3.25161219e-01, 3.25161219e-01]],\n",
      "\n",
      "        [[2.36572266e-01, 2.36572266e-01, 2.36572266e-01],\n",
      "         [2.49586046e-01, 2.49586046e-01, 2.49586046e-01],\n",
      "         [2.59520680e-01, 2.59520680e-01, 2.59520680e-01],\n",
      "         ...,\n",
      "         [4.08366263e-01, 4.08366263e-01, 4.08366263e-01],\n",
      "         [3.37778091e-01, 3.37778091e-01, 3.37778091e-01],\n",
      "         [3.13957810e-01, 3.13957810e-01, 3.13957810e-01]],\n",
      "\n",
      "        [[2.27015257e-01, 2.27015257e-01, 2.27015257e-01],\n",
      "         [2.38489479e-01, 2.38489479e-01, 2.38489479e-01],\n",
      "         [2.43815050e-01, 2.43815050e-01, 2.43815050e-01],\n",
      "         ...,\n",
      "         [3.35996598e-01, 3.35996598e-01, 3.35996598e-01],\n",
      "         [3.17647129e-01, 3.17647129e-01, 3.17647129e-01],\n",
      "         [3.22827101e-01, 3.22827101e-01, 3.22827101e-01]],\n",
      "\n",
      "        ...,\n",
      "\n",
      "        [[2.64972091e-01, 2.64972091e-01, 2.64972091e-01],\n",
      "         [2.83514827e-01, 2.83514827e-01, 2.83514827e-01],\n",
      "         [2.86903918e-01, 2.86903918e-01, 2.86903918e-01],\n",
      "         ...,\n",
      "         [2.96344519e-01, 2.96344519e-01, 2.96344519e-01],\n",
      "         [3.10675174e-01, 3.10675174e-01, 3.10675174e-01],\n",
      "         [2.78141350e-01, 2.78141350e-01, 2.78141350e-01]],\n",
      "\n",
      "        [[2.59869277e-01, 2.59869277e-01, 2.59869277e-01],\n",
      "         [2.78431386e-01, 2.78431386e-01, 2.78431386e-01],\n",
      "         [2.73609310e-01, 2.73609310e-01, 2.73609310e-01],\n",
      "         ...,\n",
      "         [2.52142310e-01, 2.52142310e-01, 2.52142310e-01],\n",
      "         [2.96644866e-01, 2.96644866e-01, 2.96644866e-01],\n",
      "         [2.87262410e-01, 2.87262410e-01, 2.87262410e-01]],\n",
      "\n",
      "        [[2.58823544e-01, 2.58823544e-01, 2.58823544e-01],\n",
      "         [2.75613695e-01, 2.75613695e-01, 2.75613695e-01],\n",
      "         [2.75729895e-01, 2.75729895e-01, 2.75729895e-01],\n",
      "         ...,\n",
      "         [2.44357482e-01, 2.44357482e-01, 2.44357482e-01],\n",
      "         [2.69019604e-01, 2.69019604e-01, 2.69019604e-01],\n",
      "         [2.88104594e-01, 2.88104594e-01, 2.88104594e-01]]]],\n",
      "      dtype=float32)>, <tf.Tensor: shape=(32,), dtype=float32, numpy=\n",
      "array([1., 0., 0., 0., 0., 0., 0., 0., 1., 0., 1., 0., 0., 0., 0., 0., 0.,\n",
      "       1., 0., 1., 0., 0., 0., 0., 0., 0., 0., 0., 0., 1., 1., 1.],\n",
      "      dtype=float32)>)\n",
      "(<tf.Tensor: shape=(32, 180, 180, 3), dtype=float32, numpy=\n",
      "array([[[[8.98327291e-01, 8.05156171e-01, 6.38732791e-01],\n",
      "         [7.12868571e-01, 7.14524329e-01, 5.88093638e-01],\n",
      "         [5.34768820e-01, 5.84150314e-01, 5.34593344e-01],\n",
      "         ...,\n",
      "         [1.55135930e-01, 5.30098200e-01, 2.67117232e-01],\n",
      "         [1.54059768e-01, 5.03794432e-01, 2.67578363e-01],\n",
      "         [1.45812094e-01, 4.96513635e-01, 2.58470774e-01]],\n",
      "\n",
      "        [[9.34811234e-01, 8.27632546e-01, 6.41648531e-01],\n",
      "         [7.85054445e-01, 7.24531591e-01, 6.01241827e-01],\n",
      "         [5.69324613e-01, 6.12193227e-01, 5.53645670e-01],\n",
      "         ...,\n",
      "         [1.59106418e-01, 5.41496217e-01, 2.65955925e-01],\n",
      "         [1.41883641e-01, 4.98594612e-01, 2.56023288e-01],\n",
      "         [1.27813920e-01, 5.03464520e-01, 2.61903137e-01]],\n",
      "\n",
      "        [[9.64960098e-01, 8.40159774e-01, 6.47294819e-01],\n",
      "         [7.91103899e-01, 7.32098758e-01, 5.97167790e-01],\n",
      "         [5.98245025e-01, 6.16091728e-01, 5.62067330e-01],\n",
      "         ...,\n",
      "         [1.71455145e-01, 5.58908165e-01, 2.74528235e-01],\n",
      "         [1.59169421e-01, 5.33823907e-01, 2.71623492e-01],\n",
      "         [1.38660282e-01, 5.02760410e-01, 2.61529326e-01]],\n",
      "\n",
      "        ...,\n",
      "\n",
      "        [[3.50998831e-04, 8.63348767e-02, 6.01186417e-02],\n",
      "         [2.10599182e-03, 9.40814316e-02, 5.51199280e-02],\n",
      "         [9.91290994e-03, 9.95583385e-02, 5.57370000e-02],\n",
      "         ...,\n",
      "         [1.64095476e-01, 3.73287648e-01, 3.47622484e-01],\n",
      "         [1.03431568e-01, 3.17865402e-01, 2.84277171e-01],\n",
      "         [4.79247943e-02, 2.59078234e-01, 2.36529306e-01]],\n",
      "\n",
      "        [[1.65212504e-03, 7.76578411e-02, 6.93575814e-02],\n",
      "         [6.20883424e-04, 8.73747393e-02, 3.13832425e-02],\n",
      "         [3.19164665e-03, 7.70298243e-02, 3.81336883e-02],\n",
      "         ...,\n",
      "         [1.57433003e-01, 3.78442675e-01, 3.65610361e-01],\n",
      "         [1.22592919e-01, 3.05337548e-01, 3.07255417e-01],\n",
      "         [7.12853819e-02, 2.53457159e-01, 2.38079563e-01]],\n",
      "\n",
      "        [[3.48583865e-03, 9.07008052e-02, 6.50438368e-02],\n",
      "         [2.04064953e-03, 9.00363475e-02, 4.00616080e-02],\n",
      "         [3.05608124e-03, 7.50302896e-02, 4.04104255e-02],\n",
      "         ...,\n",
      "         [1.53706312e-01, 3.75774920e-01, 3.87762606e-01],\n",
      "         [9.59042758e-02, 3.15399796e-01, 3.14760476e-01],\n",
      "         [4.26854566e-02, 2.52097040e-01, 2.53008157e-01]]],\n",
      "\n",
      "\n",
      "       [[[9.87799525e-01, 7.68191695e-01, 0.00000000e+00],\n",
      "         [9.86928105e-01, 7.79084980e-01, 0.00000000e+00],\n",
      "         [9.85054493e-01, 7.96819150e-01, 0.00000000e+00],\n",
      "         ...,\n",
      "         [9.10217881e-01, 4.84836698e-01, 0.00000000e+00],\n",
      "         [9.05294359e-01, 4.77287740e-01, 1.50331389e-03],\n",
      "         [8.93594801e-01, 4.65642810e-01, 2.50483485e-04]],\n",
      "\n",
      "        [[9.87919390e-01, 7.68311560e-01, 0.00000000e+00],\n",
      "         [9.88235295e-01, 7.85620868e-01, 0.00000000e+00],\n",
      "         [9.86176491e-01, 7.98899770e-01, 0.00000000e+00],\n",
      "         ...,\n",
      "         [9.20904040e-01, 4.95359570e-01, 0.00000000e+00],\n",
      "         [9.23006773e-01, 4.84869272e-01, 1.89548242e-03],\n",
      "         [9.14488077e-01, 4.83115554e-01, 0.00000000e+00]],\n",
      "\n",
      "        [[9.81263638e-01, 7.68627465e-01, 0.00000000e+00],\n",
      "         [9.88235295e-01, 7.85620868e-01, 0.00000000e+00],\n",
      "         [9.84095871e-01, 8.03921580e-01, 0.00000000e+00],\n",
      "         ...,\n",
      "         [9.25980389e-01, 5.06372571e-01, 0.00000000e+00],\n",
      "         [9.23202574e-01, 5.01307249e-01, 1.63388715e-04],\n",
      "         [9.21132982e-01, 4.91993397e-01, 0.00000000e+00]],\n",
      "\n",
      "        ...,\n",
      "\n",
      "        [[8.19281042e-01, 4.20261443e-01, 0.00000000e+00],\n",
      "         [8.10457528e-01, 4.23039228e-01, 3.26797308e-04],\n",
      "         [8.37908447e-01, 4.26525027e-01, 0.00000000e+00],\n",
      "         ...,\n",
      "         [9.34858441e-01, 5.08387864e-01, 0.00000000e+00],\n",
      "         [9.33333337e-01, 5.08659959e-01, 1.14372105e-03],\n",
      "         [9.37636077e-01, 5.17538011e-01, 3.81170539e-04]],\n",
      "\n",
      "        [[8.25533807e-01, 4.16644841e-01, 0.00000000e+00],\n",
      "         [8.09738576e-01, 4.22581702e-01, 0.00000000e+00],\n",
      "         [8.26830029e-01, 4.25871462e-01, 0.00000000e+00],\n",
      "         ...,\n",
      "         [9.31154728e-01, 5.11546910e-01, 0.00000000e+00],\n",
      "         [9.25620735e-01, 5.11699438e-01, 0.00000000e+00],\n",
      "         [9.34727550e-01, 5.15435576e-01, 0.00000000e+00]],\n",
      "\n",
      "        [[8.29891145e-01, 4.13246125e-01, 0.00000000e+00],\n",
      "         [8.15686285e-01, 4.19607848e-01, 0.00000000e+00],\n",
      "         [8.19095790e-01, 4.23453122e-01, 0.00000000e+00],\n",
      "         ...,\n",
      "         [9.20315921e-01, 5.13725519e-01, 0.00000000e+00],\n",
      "         [9.22679543e-01, 5.12418389e-01, 0.00000000e+00],\n",
      "         [9.33768928e-01, 5.14596760e-01, 0.00000000e+00]]],\n",
      "\n",
      "\n",
      "       [[[1.28195345e-01, 7.05228746e-02, 1.95424855e-02],\n",
      "         [1.62973851e-01, 9.95751694e-02, 3.89106758e-02],\n",
      "         [2.04560652e-01, 1.24097683e-01, 4.27777804e-02],\n",
      "         ...,\n",
      "         [3.61741185e-01, 3.42133343e-01, 1.21410623e-01],\n",
      "         [3.72320354e-01, 3.53012055e-01, 1.24662384e-01],\n",
      "         [3.90185207e-01, 3.66655797e-01, 1.31361693e-01]],\n",
      "\n",
      "        [[1.16143793e-01, 6.12418316e-02, 1.02614397e-02],\n",
      "         [1.50130719e-01, 8.67320374e-02, 2.72549037e-02],\n",
      "         [1.84989110e-01, 1.14618741e-01, 3.70588265e-02],\n",
      "         ...,\n",
      "         [3.72298598e-01, 3.53769183e-01, 1.23082921e-01],\n",
      "         [3.87140602e-01, 3.70980501e-01, 1.31388903e-01],\n",
      "         [4.05185193e-01, 3.82314861e-01, 1.43545777e-01]],\n",
      "\n",
      "        [[1.07561722e-01, 5.48565723e-02, 6.37254911e-03],\n",
      "         [1.39351845e-01, 7.92483687e-02, 2.30664499e-02],\n",
      "         [1.75708055e-01, 1.07135080e-01, 3.30700800e-02],\n",
      "         ...,\n",
      "         [3.86220187e-01, 3.70533913e-01, 1.27623558e-01],\n",
      "         [4.03431505e-01, 3.87745231e-01, 1.39597028e-01],\n",
      "         [4.20851499e-01, 4.00417626e-01, 1.47494569e-01]],\n",
      "\n",
      "        ...,\n",
      "\n",
      "        [[3.32407504e-01, 2.07244053e-01, 8.56754258e-02],\n",
      "         [3.38725597e-01, 2.13562131e-01, 9.19935033e-02],\n",
      "         [3.37028056e-01, 2.11864561e-01, 9.02959332e-02],\n",
      "         ...,\n",
      "         [8.23529437e-02, 9.01960805e-02, 7.84313772e-03],\n",
      "         [8.08550641e-02, 8.86982009e-02, 6.34526461e-03],\n",
      "         [8.89977515e-02, 9.68408957e-02, 1.44879511e-02]],\n",
      "\n",
      "        [[3.23066503e-01, 2.07184076e-01, 8.27723518e-02],\n",
      "         [3.27647120e-01, 2.11764708e-01, 8.73529762e-02],\n",
      "         [3.27647120e-01, 2.11764708e-01, 8.73529762e-02],\n",
      "         ...,\n",
      "         [8.51960406e-02, 9.30391774e-02, 1.06862383e-02],\n",
      "         [8.75653177e-02, 9.54084620e-02, 1.30555192e-02],\n",
      "         [9.54357088e-02, 1.03278846e-01, 2.09259037e-02]],\n",
      "\n",
      "        [[3.10882449e-01, 2.07843140e-01, 7.87908807e-02],\n",
      "         [3.15397680e-01, 2.12358385e-01, 8.33061188e-02],\n",
      "         [3.18366081e-01, 2.15326771e-01, 8.62745121e-02],\n",
      "         ...,\n",
      "         [9.33986306e-02, 1.01241767e-01, 1.88888256e-02],\n",
      "         [9.96350572e-02, 9.85729471e-02, 1.91884190e-02],\n",
      "         [1.03638291e-01, 1.00795254e-01, 2.20043715e-02]]],\n",
      "\n",
      "\n",
      "       ...,\n",
      "\n",
      "\n",
      "       [[[4.45751667e-01, 4.53594804e-01, 4.49673235e-01],\n",
      "         [4.40196067e-01, 4.48692799e-01, 4.44771230e-01],\n",
      "         [4.31917220e-01, 4.46514159e-01, 4.42592561e-01],\n",
      "         ...,\n",
      "         [6.03921592e-01, 4.66666698e-01, 3.92156899e-01],\n",
      "         [6.07516348e-01, 4.70261425e-01, 3.95751625e-01],\n",
      "         [6.10566497e-01, 4.73311573e-01, 3.98801774e-01]],\n",
      "\n",
      "        [[4.38888907e-01, 4.52614397e-01, 4.42810476e-01],\n",
      "         [4.34313715e-01, 4.49019611e-01, 4.42156851e-01],\n",
      "         [4.28104579e-01, 4.43790853e-01, 4.39869285e-01],\n",
      "         ...,\n",
      "         [5.98692834e-01, 4.61437941e-01, 3.86928111e-01],\n",
      "         [6.03921592e-01, 4.66666669e-01, 3.92156869e-01],\n",
      "         [6.07516348e-01, 4.70261455e-01, 3.95751655e-01]],\n",
      "\n",
      "        [[4.35294122e-01, 4.54901963e-01, 4.39215690e-01],\n",
      "         [4.33333337e-01, 4.50980395e-01, 4.41176474e-01],\n",
      "         [4.25381273e-01, 4.46514189e-01, 4.39869285e-01],\n",
      "         ...,\n",
      "         [5.90740800e-01, 4.53485876e-01, 3.78976077e-01],\n",
      "         [5.98692834e-01, 4.61437911e-01, 3.86928082e-01],\n",
      "         [6.03921652e-01, 4.66666698e-01, 3.92156899e-01]],\n",
      "\n",
      "        ...,\n",
      "\n",
      "        [[2.86274523e-01, 5.41176498e-01, 6.19389951e-01],\n",
      "         [2.86274523e-01, 5.41176498e-01, 6.15032673e-01],\n",
      "         [2.87363857e-01, 5.41176498e-01, 6.11764729e-01],\n",
      "         ...,\n",
      "         [2.79738605e-01, 5.56209147e-01, 6.42047882e-01],\n",
      "         [2.80065417e-01, 5.56535900e-01, 6.43464088e-01],\n",
      "         [2.89106905e-01, 5.53594708e-01, 6.51960850e-01]],\n",
      "\n",
      "        [[2.94117659e-01, 5.43464065e-01, 6.22222245e-01],\n",
      "         [2.93137252e-01, 5.44117630e-01, 6.14705861e-01],\n",
      "         [2.95424819e-01, 5.43137252e-01, 6.12091541e-01],\n",
      "         ...,\n",
      "         [2.88235307e-01, 5.50980389e-01, 6.35947704e-01],\n",
      "         [2.90196091e-01, 5.52941203e-01, 6.43137276e-01],\n",
      "         [2.95424879e-01, 5.51633954e-01, 6.47058845e-01]],\n",
      "\n",
      "        [[3.08496803e-01, 5.55010974e-01, 6.27233088e-01],\n",
      "         [3.06536019e-01, 5.53594828e-01, 6.24183059e-01],\n",
      "         [3.07298601e-01, 5.48910737e-01, 6.18954360e-01],\n",
      "         ...,\n",
      "         [2.90196091e-01, 5.49019635e-01, 6.35294139e-01],\n",
      "         [2.93790877e-01, 5.50980389e-01, 6.37908459e-01],\n",
      "         [2.97930300e-01, 5.52396536e-01, 6.40522778e-01]]],\n",
      "\n",
      "\n",
      "       [[[5.35947680e-01, 4.77124184e-01, 2.64705896e-01],\n",
      "         [3.28104556e-01, 2.62091517e-01, 7.38562122e-02],\n",
      "         [3.52287591e-01, 3.12418282e-01, 2.67973859e-02],\n",
      "         ...,\n",
      "         [4.61437911e-01, 3.63398671e-01, 2.71241814e-01],\n",
      "         [5.16993463e-01, 4.22875822e-01, 3.14379066e-01],\n",
      "         [4.49673206e-01, 3.52287591e-01, 2.29411766e-01]],\n",
      "\n",
      "        [[2.01960787e-01, 2.45098040e-01, 4.90196086e-02],\n",
      "         [2.37254903e-01, 2.80392170e-01, 2.54901964e-02],\n",
      "         [2.68627465e-01, 2.76470602e-01, 8.62745121e-02],\n",
      "         ...,\n",
      "         [3.90196085e-01, 2.86274523e-01, 1.84313729e-01],\n",
      "         [4.17647064e-01, 3.15686285e-01, 2.01960787e-01],\n",
      "         [4.11764711e-01, 3.09803933e-01, 1.92156866e-01]],\n",
      "\n",
      "        [[2.56862760e-01, 2.28758171e-01, 9.80392173e-02],\n",
      "         [2.31372565e-01, 2.30065361e-01, 5.22875935e-02],\n",
      "         [1.75163373e-01, 1.75163373e-01, 5.09803779e-02],\n",
      "         ...,\n",
      "         [3.64705890e-01, 2.58169949e-01, 1.46405220e-01],\n",
      "         [4.62091506e-01, 3.55555534e-01, 2.43137255e-01],\n",
      "         [3.83660108e-01, 2.77124166e-01, 1.64705873e-01]],\n",
      "\n",
      "        ...,\n",
      "\n",
      "        [[2.79738724e-01, 1.39869481e-01, 3.66014652e-02],\n",
      "         [6.05882645e-01, 4.29411829e-01, 2.62091845e-01],\n",
      "         [5.99346161e-01, 4.65359449e-01, 2.66666561e-01],\n",
      "         ...,\n",
      "         [5.19607782e-01, 3.67973834e-01, 2.00000003e-01],\n",
      "         [5.05881965e-01, 3.53594422e-01, 1.94117352e-01],\n",
      "         [5.45751035e-01, 3.93463492e-01, 2.41829544e-01]],\n",
      "\n",
      "        [[2.82352954e-01, 1.47058830e-01, 8.03921595e-02],\n",
      "         [6.23529434e-01, 4.33333337e-01, 2.54901975e-01],\n",
      "         [4.86274511e-01, 3.80392164e-01, 1.96078435e-01],\n",
      "         ...,\n",
      "         [5.45098066e-01, 4.00000006e-01, 2.35294119e-01],\n",
      "         [4.58823532e-01, 3.09803933e-01, 1.56862751e-01],\n",
      "         [4.37254906e-01, 2.88235307e-01, 1.43137261e-01]],\n",
      "\n",
      "        [[2.62091547e-01, 1.18300617e-01, 6.20910637e-02],\n",
      "         [4.41828221e-01, 3.29410583e-01, 1.82352826e-01],\n",
      "         [4.32026356e-01, 2.69280642e-01, 1.22221939e-01],\n",
      "         ...,\n",
      "         [5.21567881e-01, 3.69933844e-01, 2.01959953e-01],\n",
      "         [4.44444120e-01, 2.92156518e-01, 1.32679299e-01],\n",
      "         [4.23529416e-01, 2.71241784e-01, 1.19607724e-01]]],\n",
      "\n",
      "\n",
      "       [[[9.96078432e-01, 9.96078432e-01, 9.96078432e-01],\n",
      "         [9.96078432e-01, 9.96078432e-01, 9.96078432e-01],\n",
      "         [9.96078432e-01, 9.96078432e-01, 9.96078432e-01],\n",
      "         ...,\n",
      "         [1.00000000e+00, 1.00000000e+00, 1.00000000e+00],\n",
      "         [1.00000000e+00, 1.00000000e+00, 1.00000000e+00],\n",
      "         [1.00000000e+00, 1.00000000e+00, 1.00000000e+00]],\n",
      "\n",
      "        [[9.96078432e-01, 9.96078432e-01, 9.96078432e-01],\n",
      "         [9.96078432e-01, 9.96078432e-01, 9.96078432e-01],\n",
      "         [9.96078432e-01, 9.96078432e-01, 9.96078432e-01],\n",
      "         ...,\n",
      "         [1.00000000e+00, 1.00000000e+00, 1.00000000e+00],\n",
      "         [1.00000000e+00, 1.00000000e+00, 1.00000000e+00],\n",
      "         [1.00000000e+00, 1.00000000e+00, 1.00000000e+00]],\n",
      "\n",
      "        [[9.96078432e-01, 9.96078432e-01, 9.96078432e-01],\n",
      "         [9.96078432e-01, 9.96078432e-01, 9.96078432e-01],\n",
      "         [9.96078432e-01, 9.96078432e-01, 9.96078432e-01],\n",
      "         ...,\n",
      "         [1.00000000e+00, 1.00000000e+00, 1.00000000e+00],\n",
      "         [1.00000000e+00, 1.00000000e+00, 1.00000000e+00],\n",
      "         [1.00000000e+00, 1.00000000e+00, 1.00000000e+00]],\n",
      "\n",
      "        ...,\n",
      "\n",
      "        [[1.00000000e+00, 1.00000000e+00, 1.00000000e+00],\n",
      "         [1.00000000e+00, 1.00000000e+00, 1.00000000e+00],\n",
      "         [1.00000000e+00, 1.00000000e+00, 1.00000000e+00],\n",
      "         ...,\n",
      "         [1.00000000e+00, 1.00000000e+00, 1.00000000e+00],\n",
      "         [1.00000000e+00, 1.00000000e+00, 1.00000000e+00],\n",
      "         [1.00000000e+00, 1.00000000e+00, 1.00000000e+00]],\n",
      "\n",
      "        [[1.00000000e+00, 1.00000000e+00, 1.00000000e+00],\n",
      "         [1.00000000e+00, 1.00000000e+00, 1.00000000e+00],\n",
      "         [1.00000000e+00, 1.00000000e+00, 1.00000000e+00],\n",
      "         ...,\n",
      "         [1.00000000e+00, 1.00000000e+00, 1.00000000e+00],\n",
      "         [1.00000000e+00, 1.00000000e+00, 1.00000000e+00],\n",
      "         [1.00000000e+00, 1.00000000e+00, 1.00000000e+00]],\n",
      "\n",
      "        [[1.00000000e+00, 1.00000000e+00, 1.00000000e+00],\n",
      "         [1.00000000e+00, 1.00000000e+00, 1.00000000e+00],\n",
      "         [1.00000000e+00, 1.00000000e+00, 1.00000000e+00],\n",
      "         ...,\n",
      "         [1.00000000e+00, 1.00000000e+00, 1.00000000e+00],\n",
      "         [1.00000000e+00, 1.00000000e+00, 1.00000000e+00],\n",
      "         [1.00000000e+00, 1.00000000e+00, 1.00000000e+00]]]],\n",
      "      dtype=float32)>, <tf.Tensor: shape=(32,), dtype=float32, numpy=\n",
      "array([1., 1., 1., 0., 0., 1., 0., 1., 0., 1., 1., 0., 1., 1., 0., 0., 0.,\n",
      "       1., 0., 0., 0., 0., 0., 1., 0., 1., 0., 0., 1., 1., 0., 0.],\n",
      "      dtype=float32)>)\n"
     ]
    }
   ],
   "source": [
    "for i in train_ds.take(3):\n",
    "    print (i)"
   ]
  },
  {
   "cell_type": "code",
   "execution_count": 42,
   "id": "c72d3551",
   "metadata": {},
   "outputs": [
    {
     "name": "stdout",
     "output_type": "stream",
     "text": [
      "Epoch 1/10\n"
     ]
    },
    {
     "name": "stderr",
     "output_type": "stream",
     "text": [
      "2025-06-24 13:35:33.701974: I tensorflow/core/grappler/optimizers/custom_graph_optimizer_registry.cc:117] Plugin optimizer for device_type GPU is enabled.\n",
      "2025-06-24 13:35:33.776365: E tensorflow/core/grappler/optimizers/meta_optimizer.cc:961] model_pruner failed: INVALID_ARGUMENT: Graph does not contain terminal node Adam/AssignAddVariableOp.\n",
      "2025-06-24 13:35:33.866207: I metal_plugin/src/kernels/stateless_random_op.cc:282] Note the GPU implementation does not produce the same series as CPU implementation.\n"
     ]
    },
    {
     "name": "stdout",
     "output_type": "stream",
     "text": [
      " 2/92 [..............................] - ETA: 16s - loss: 6.6841 - accuracy: 0.4531 "
     ]
    },
    {
     "name": "stderr",
     "output_type": "stream",
     "text": [
      "2025-06-24 13:35:34.292410: I metal_plugin/src/kernels/stateless_random_op.cc:282] Note the GPU implementation does not produce the same series as CPU implementation.\n",
      "2025-06-24 13:35:34.477355: I metal_plugin/src/kernels/stateless_random_op.cc:282] Note the GPU implementation does not produce the same series as CPU implementation.\n"
     ]
    },
    {
     "name": "stdout",
     "output_type": "stream",
     "text": [
      " 4/92 [>.............................] - ETA: 14s - loss: 17.1858 - accuracy: 0.4141"
     ]
    },
    {
     "name": "stderr",
     "output_type": "stream",
     "text": [
      "2025-06-24 13:35:34.640948: I metal_plugin/src/kernels/stateless_random_op.cc:282] Note the GPU implementation does not produce the same series as CPU implementation.\n",
      "2025-06-24 13:35:34.790523: I metal_plugin/src/kernels/stateless_random_op.cc:282] Note the GPU implementation does not produce the same series as CPU implementation.\n"
     ]
    },
    {
     "name": "stdout",
     "output_type": "stream",
     "text": [
      " 6/92 [>.............................] - ETA: 13s - loss: 12.7014 - accuracy: 0.4010"
     ]
    },
    {
     "name": "stderr",
     "output_type": "stream",
     "text": [
      "2025-06-24 13:35:34.938948: I metal_plugin/src/kernels/stateless_random_op.cc:282] Note the GPU implementation does not produce the same series as CPU implementation.\n",
      "2025-06-24 13:35:35.090596: I metal_plugin/src/kernels/stateless_random_op.cc:282] Note the GPU implementation does not produce the same series as CPU implementation.\n"
     ]
    },
    {
     "name": "stdout",
     "output_type": "stream",
     "text": [
      " 8/92 [=>............................] - ETA: 13s - loss: 9.9945 - accuracy: 0.4336 "
     ]
    },
    {
     "name": "stderr",
     "output_type": "stream",
     "text": [
      "2025-06-24 13:35:35.240603: I metal_plugin/src/kernels/stateless_random_op.cc:282] Note the GPU implementation does not produce the same series as CPU implementation.\n",
      "2025-06-24 13:35:35.388691: I metal_plugin/src/kernels/stateless_random_op.cc:282] Note the GPU implementation does not produce the same series as CPU implementation.\n"
     ]
    },
    {
     "name": "stdout",
     "output_type": "stream",
     "text": [
      "10/92 [==>...........................] - ETA: 12s - loss: 8.3334 - accuracy: 0.4531"
     ]
    },
    {
     "name": "stderr",
     "output_type": "stream",
     "text": [
      "2025-06-24 13:35:35.539871: I metal_plugin/src/kernels/stateless_random_op.cc:282] Note the GPU implementation does not produce the same series as CPU implementation.\n",
      "2025-06-24 13:35:35.695364: I metal_plugin/src/kernels/stateless_random_op.cc:282] Note the GPU implementation does not produce the same series as CPU implementation.\n"
     ]
    },
    {
     "name": "stdout",
     "output_type": "stream",
     "text": [
      "12/92 [==>...........................] - ETA: 12s - loss: 7.1941 - accuracy: 0.4505"
     ]
    },
    {
     "name": "stderr",
     "output_type": "stream",
     "text": [
      "2025-06-24 13:35:35.853710: I metal_plugin/src/kernels/stateless_random_op.cc:282] Note the GPU implementation does not produce the same series as CPU implementation.\n",
      "2025-06-24 13:35:36.010078: I metal_plugin/src/kernels/stateless_random_op.cc:282] Note the GPU implementation does not produce the same series as CPU implementation.\n"
     ]
    },
    {
     "name": "stdout",
     "output_type": "stream",
     "text": [
      "14/92 [===>..........................] - ETA: 12s - loss: 6.3725 - accuracy: 0.4375"
     ]
    },
    {
     "name": "stderr",
     "output_type": "stream",
     "text": [
      "2025-06-24 13:35:36.159097: I metal_plugin/src/kernels/stateless_random_op.cc:282] Note the GPU implementation does not produce the same series as CPU implementation.\n",
      "2025-06-24 13:35:36.317354: I metal_plugin/src/kernels/stateless_random_op.cc:282] Note the GPU implementation does not produce the same series as CPU implementation.\n"
     ]
    },
    {
     "name": "stdout",
     "output_type": "stream",
     "text": [
      "16/92 [====>.........................] - ETA: 11s - loss: 5.7344 - accuracy: 0.4102"
     ]
    },
    {
     "name": "stderr",
     "output_type": "stream",
     "text": [
      "2025-06-24 13:35:36.469163: I metal_plugin/src/kernels/stateless_random_op.cc:282] Note the GPU implementation does not produce the same series as CPU implementation.\n",
      "2025-06-24 13:35:36.625731: I metal_plugin/src/kernels/stateless_random_op.cc:282] Note the GPU implementation does not produce the same series as CPU implementation.\n"
     ]
    },
    {
     "name": "stdout",
     "output_type": "stream",
     "text": [
      "18/92 [====>.........................] - ETA: 11s - loss: 5.2074 - accuracy: 0.4132"
     ]
    },
    {
     "name": "stderr",
     "output_type": "stream",
     "text": [
      "2025-06-24 13:35:36.789602: I metal_plugin/src/kernels/stateless_random_op.cc:282] Note the GPU implementation does not produce the same series as CPU implementation.\n",
      "2025-06-24 13:35:36.940909: I metal_plugin/src/kernels/stateless_random_op.cc:282] Note the GPU implementation does not produce the same series as CPU implementation.\n"
     ]
    },
    {
     "name": "stdout",
     "output_type": "stream",
     "text": [
      "20/92 [=====>........................] - ETA: 11s - loss: 4.7701 - accuracy: 0.4375"
     ]
    },
    {
     "name": "stderr",
     "output_type": "stream",
     "text": [
      "2025-06-24 13:35:37.092828: I metal_plugin/src/kernels/stateless_random_op.cc:282] Note the GPU implementation does not produce the same series as CPU implementation.\n",
      "2025-06-24 13:35:37.240986: I metal_plugin/src/kernels/stateless_random_op.cc:282] Note the GPU implementation does not produce the same series as CPU implementation.\n"
     ]
    },
    {
     "name": "stdout",
     "output_type": "stream",
     "text": [
      "22/92 [======>.......................] - ETA: 10s - loss: 4.4397 - accuracy: 0.4560"
     ]
    },
    {
     "name": "stderr",
     "output_type": "stream",
     "text": [
      "2025-06-24 13:35:37.392544: I metal_plugin/src/kernels/stateless_random_op.cc:282] Note the GPU implementation does not produce the same series as CPU implementation.\n",
      "2025-06-24 13:35:37.552428: I metal_plugin/src/kernels/stateless_random_op.cc:282] Note the GPU implementation does not produce the same series as CPU implementation.\n"
     ]
    },
    {
     "name": "stdout",
     "output_type": "stream",
     "text": [
      "24/92 [======>.......................] - ETA: 10s - loss: 4.1483 - accuracy: 0.4674"
     ]
    },
    {
     "name": "stderr",
     "output_type": "stream",
     "text": [
      "2025-06-24 13:35:37.698531: I metal_plugin/src/kernels/stateless_random_op.cc:282] Note the GPU implementation does not produce the same series as CPU implementation.\n",
      "2025-06-24 13:35:37.844535: I metal_plugin/src/kernels/stateless_random_op.cc:282] Note the GPU implementation does not produce the same series as CPU implementation.\n"
     ]
    },
    {
     "name": "stdout",
     "output_type": "stream",
     "text": [
      "26/92 [=======>......................] - ETA: 10s - loss: 3.9160 - accuracy: 0.4627"
     ]
    },
    {
     "name": "stderr",
     "output_type": "stream",
     "text": [
      "2025-06-24 13:35:37.994418: I metal_plugin/src/kernels/stateless_random_op.cc:282] Note the GPU implementation does not produce the same series as CPU implementation.\n",
      "2025-06-24 13:35:38.141367: I metal_plugin/src/kernels/stateless_random_op.cc:282] Note the GPU implementation does not produce the same series as CPU implementation.\n"
     ]
    },
    {
     "name": "stdout",
     "output_type": "stream",
     "text": [
      "28/92 [========>.....................] - ETA: 9s - loss: 3.7188 - accuracy: 0.4475"
     ]
    },
    {
     "name": "stderr",
     "output_type": "stream",
     "text": [
      "2025-06-24 13:35:38.290857: I metal_plugin/src/kernels/stateless_random_op.cc:282] Note the GPU implementation does not produce the same series as CPU implementation.\n",
      "2025-06-24 13:35:38.448371: I metal_plugin/src/kernels/stateless_random_op.cc:282] Note the GPU implementation does not produce the same series as CPU implementation.\n"
     ]
    },
    {
     "name": "stdout",
     "output_type": "stream",
     "text": [
      "30/92 [========>.....................] - ETA: 9s - loss: 3.5481 - accuracy: 0.4500"
     ]
    },
    {
     "name": "stderr",
     "output_type": "stream",
     "text": [
      "2025-06-24 13:35:38.598624: I metal_plugin/src/kernels/stateless_random_op.cc:282] Note the GPU implementation does not produce the same series as CPU implementation.\n",
      "2025-06-24 13:35:38.747501: I metal_plugin/src/kernels/stateless_random_op.cc:282] Note the GPU implementation does not produce the same series as CPU implementation.\n"
     ]
    },
    {
     "name": "stdout",
     "output_type": "stream",
     "text": [
      "32/92 [=========>....................] - ETA: 9s - loss: 3.3971 - accuracy: 0.4473"
     ]
    },
    {
     "name": "stderr",
     "output_type": "stream",
     "text": [
      "2025-06-24 13:35:38.895283: I metal_plugin/src/kernels/stateless_random_op.cc:282] Note the GPU implementation does not produce the same series as CPU implementation.\n",
      "2025-06-24 13:35:39.052715: I metal_plugin/src/kernels/stateless_random_op.cc:282] Note the GPU implementation does not produce the same series as CPU implementation.\n"
     ]
    },
    {
     "name": "stdout",
     "output_type": "stream",
     "text": [
      "34/92 [==========>...................] - ETA: 8s - loss: 3.2566 - accuracy: 0.4476"
     ]
    },
    {
     "name": "stderr",
     "output_type": "stream",
     "text": [
      "2025-06-24 13:35:39.200407: I metal_plugin/src/kernels/stateless_random_op.cc:282] Note the GPU implementation does not produce the same series as CPU implementation.\n",
      "2025-06-24 13:35:39.351286: I metal_plugin/src/kernels/stateless_random_op.cc:282] Note the GPU implementation does not produce the same series as CPU implementation.\n"
     ]
    },
    {
     "name": "stdout",
     "output_type": "stream",
     "text": [
      "36/92 [==========>...................] - ETA: 8s - loss: 3.1318 - accuracy: 0.4514"
     ]
    },
    {
     "name": "stderr",
     "output_type": "stream",
     "text": [
      "2025-06-24 13:35:39.499304: I metal_plugin/src/kernels/stateless_random_op.cc:282] Note the GPU implementation does not produce the same series as CPU implementation.\n",
      "2025-06-24 13:35:39.647158: I metal_plugin/src/kernels/stateless_random_op.cc:282] Note the GPU implementation does not produce the same series as CPU implementation.\n"
     ]
    },
    {
     "name": "stdout",
     "output_type": "stream",
     "text": [
      "38/92 [===========>..................] - ETA: 8s - loss: 3.0372 - accuracy: 0.4589"
     ]
    },
    {
     "name": "stderr",
     "output_type": "stream",
     "text": [
      "2025-06-24 13:35:39.803660: I metal_plugin/src/kernels/stateless_random_op.cc:282] Note the GPU implementation does not produce the same series as CPU implementation.\n",
      "2025-06-24 13:35:39.954485: I metal_plugin/src/kernels/stateless_random_op.cc:282] Note the GPU implementation does not produce the same series as CPU implementation.\n"
     ]
    },
    {
     "name": "stdout",
     "output_type": "stream",
     "text": [
      "40/92 [============>.................] - ETA: 7s - loss: 2.9795 - accuracy: 0.4688"
     ]
    },
    {
     "name": "stderr",
     "output_type": "stream",
     "text": [
      "2025-06-24 13:35:40.104786: I metal_plugin/src/kernels/stateless_random_op.cc:282] Note the GPU implementation does not produce the same series as CPU implementation.\n",
      "2025-06-24 13:35:40.260688: I metal_plugin/src/kernels/stateless_random_op.cc:282] Note the GPU implementation does not produce the same series as CPU implementation.\n"
     ]
    },
    {
     "name": "stdout",
     "output_type": "stream",
     "text": [
      "42/92 [============>.................] - ETA: 7s - loss: 2.9323 - accuracy: 0.4650"
     ]
    },
    {
     "name": "stderr",
     "output_type": "stream",
     "text": [
      "2025-06-24 13:35:40.416327: I metal_plugin/src/kernels/stateless_random_op.cc:282] Note the GPU implementation does not produce the same series as CPU implementation.\n",
      "2025-06-24 13:35:40.570554: I metal_plugin/src/kernels/stateless_random_op.cc:282] Note the GPU implementation does not produce the same series as CPU implementation.\n"
     ]
    },
    {
     "name": "stdout",
     "output_type": "stream",
     "text": [
      "44/92 [=============>................] - ETA: 7s - loss: 2.8750 - accuracy: 0.4574"
     ]
    },
    {
     "name": "stderr",
     "output_type": "stream",
     "text": [
      "2025-06-24 13:35:40.725606: I metal_plugin/src/kernels/stateless_random_op.cc:282] Note the GPU implementation does not produce the same series as CPU implementation.\n",
      "2025-06-24 13:35:40.886005: I metal_plugin/src/kernels/stateless_random_op.cc:282] Note the GPU implementation does not produce the same series as CPU implementation.\n"
     ]
    },
    {
     "name": "stdout",
     "output_type": "stream",
     "text": [
      "46/92 [==============>...............] - ETA: 7s - loss: 2.8047 - accuracy: 0.4552"
     ]
    },
    {
     "name": "stderr",
     "output_type": "stream",
     "text": [
      "2025-06-24 13:35:41.038307: I metal_plugin/src/kernels/stateless_random_op.cc:282] Note the GPU implementation does not produce the same series as CPU implementation.\n",
      "2025-06-24 13:35:41.191567: I metal_plugin/src/kernels/stateless_random_op.cc:282] Note the GPU implementation does not produce the same series as CPU implementation.\n"
     ]
    },
    {
     "name": "stdout",
     "output_type": "stream",
     "text": [
      "48/92 [==============>...............] - ETA: 6s - loss: 2.7512 - accuracy: 0.4531"
     ]
    },
    {
     "name": "stderr",
     "output_type": "stream",
     "text": [
      "2025-06-24 13:35:41.344771: I metal_plugin/src/kernels/stateless_random_op.cc:282] Note the GPU implementation does not produce the same series as CPU implementation.\n",
      "2025-06-24 13:35:41.504201: I metal_plugin/src/kernels/stateless_random_op.cc:282] Note the GPU implementation does not produce the same series as CPU implementation.\n"
     ]
    },
    {
     "name": "stdout",
     "output_type": "stream",
     "text": [
      "50/92 [===============>..............] - ETA: 6s - loss: 2.6947 - accuracy: 0.4487"
     ]
    },
    {
     "name": "stderr",
     "output_type": "stream",
     "text": [
      "2025-06-24 13:35:41.653739: I metal_plugin/src/kernels/stateless_random_op.cc:282] Note the GPU implementation does not produce the same series as CPU implementation.\n",
      "2025-06-24 13:35:41.815783: I metal_plugin/src/kernels/stateless_random_op.cc:282] Note the GPU implementation does not produce the same series as CPU implementation.\n"
     ]
    },
    {
     "name": "stdout",
     "output_type": "stream",
     "text": [
      "52/92 [===============>..............] - ETA: 6s - loss: 2.6449 - accuracy: 0.4441"
     ]
    },
    {
     "name": "stderr",
     "output_type": "stream",
     "text": [
      "2025-06-24 13:35:41.968079: I metal_plugin/src/kernels/stateless_random_op.cc:282] Note the GPU implementation does not produce the same series as CPU implementation.\n",
      "2025-06-24 13:35:42.117526: I metal_plugin/src/kernels/stateless_random_op.cc:282] Note the GPU implementation does not produce the same series as CPU implementation.\n"
     ]
    },
    {
     "name": "stdout",
     "output_type": "stream",
     "text": [
      "54/92 [================>.............] - ETA: 5s - loss: 2.5909 - accuracy: 0.4491"
     ]
    },
    {
     "name": "stderr",
     "output_type": "stream",
     "text": [
      "2025-06-24 13:35:42.272149: I metal_plugin/src/kernels/stateless_random_op.cc:282] Note the GPU implementation does not produce the same series as CPU implementation.\n",
      "2025-06-24 13:35:42.424157: I metal_plugin/src/kernels/stateless_random_op.cc:282] Note the GPU implementation does not produce the same series as CPU implementation.\n"
     ]
    },
    {
     "name": "stdout",
     "output_type": "stream",
     "text": [
      "56/92 [=================>............] - ETA: 5s - loss: 2.5568 - accuracy: 0.4448"
     ]
    },
    {
     "name": "stderr",
     "output_type": "stream",
     "text": [
      "2025-06-24 13:35:42.574130: I metal_plugin/src/kernels/stateless_random_op.cc:282] Note the GPU implementation does not produce the same series as CPU implementation.\n",
      "2025-06-24 13:35:42.728776: I metal_plugin/src/kernels/stateless_random_op.cc:282] Note the GPU implementation does not produce the same series as CPU implementation.\n"
     ]
    },
    {
     "name": "stdout",
     "output_type": "stream",
     "text": [
      "58/92 [=================>............] - ETA: 5s - loss: 2.5032 - accuracy: 0.4515"
     ]
    },
    {
     "name": "stderr",
     "output_type": "stream",
     "text": [
      "2025-06-24 13:35:42.897246: I metal_plugin/src/kernels/stateless_random_op.cc:282] Note the GPU implementation does not produce the same series as CPU implementation.\n",
      "2025-06-24 13:35:43.067633: I metal_plugin/src/kernels/stateless_random_op.cc:282] Note the GPU implementation does not produce the same series as CPU implementation.\n"
     ]
    },
    {
     "name": "stdout",
     "output_type": "stream",
     "text": [
      "60/92 [==================>...........] - ETA: 4s - loss: 2.4642 - accuracy: 0.4521"
     ]
    },
    {
     "name": "stderr",
     "output_type": "stream",
     "text": [
      "2025-06-24 13:35:43.219539: I metal_plugin/src/kernels/stateless_random_op.cc:282] Note the GPU implementation does not produce the same series as CPU implementation.\n",
      "2025-06-24 13:35:43.368932: I metal_plugin/src/kernels/stateless_random_op.cc:282] Note the GPU implementation does not produce the same series as CPU implementation.\n"
     ]
    },
    {
     "name": "stdout",
     "output_type": "stream",
     "text": [
      "62/92 [===================>..........] - ETA: 4s - loss: 2.4316 - accuracy: 0.4572"
     ]
    },
    {
     "name": "stderr",
     "output_type": "stream",
     "text": [
      "2025-06-24 13:35:43.531847: I metal_plugin/src/kernels/stateless_random_op.cc:282] Note the GPU implementation does not produce the same series as CPU implementation.\n",
      "2025-06-24 13:35:43.683836: I metal_plugin/src/kernels/stateless_random_op.cc:282] Note the GPU implementation does not produce the same series as CPU implementation.\n"
     ]
    },
    {
     "name": "stdout",
     "output_type": "stream",
     "text": [
      "64/92 [===================>..........] - ETA: 4s - loss: 2.4256 - accuracy: 0.4575"
     ]
    },
    {
     "name": "stderr",
     "output_type": "stream",
     "text": [
      "2025-06-24 13:35:43.833789: I metal_plugin/src/kernels/stateless_random_op.cc:282] Note the GPU implementation does not produce the same series as CPU implementation.\n",
      "2025-06-24 13:35:43.985510: I metal_plugin/src/kernels/stateless_random_op.cc:282] Note the GPU implementation does not produce the same series as CPU implementation.\n"
     ]
    },
    {
     "name": "stdout",
     "output_type": "stream",
     "text": [
      "66/92 [====================>.........] - ETA: 3s - loss: 2.4289 - accuracy: 0.4602"
     ]
    },
    {
     "name": "stderr",
     "output_type": "stream",
     "text": [
      "2025-06-24 13:35:44.139788: I metal_plugin/src/kernels/stateless_random_op.cc:282] Note the GPU implementation does not produce the same series as CPU implementation.\n",
      "2025-06-24 13:35:44.291550: I metal_plugin/src/kernels/stateless_random_op.cc:282] Note the GPU implementation does not produce the same series as CPU implementation.\n"
     ]
    },
    {
     "name": "stdout",
     "output_type": "stream",
     "text": [
      "68/92 [=====================>........] - ETA: 3s - loss: 2.4130 - accuracy: 0.4609"
     ]
    },
    {
     "name": "stderr",
     "output_type": "stream",
     "text": [
      "2025-06-24 13:35:44.444157: I metal_plugin/src/kernels/stateless_random_op.cc:282] Note the GPU implementation does not produce the same series as CPU implementation.\n",
      "2025-06-24 13:35:44.593374: I metal_plugin/src/kernels/stateless_random_op.cc:282] Note the GPU implementation does not produce the same series as CPU implementation.\n"
     ]
    },
    {
     "name": "stdout",
     "output_type": "stream",
     "text": [
      "70/92 [=====================>........] - ETA: 3s - loss: 2.3964 - accuracy: 0.4563"
     ]
    },
    {
     "name": "stderr",
     "output_type": "stream",
     "text": [
      "2025-06-24 13:35:44.743683: I metal_plugin/src/kernels/stateless_random_op.cc:282] Note the GPU implementation does not produce the same series as CPU implementation.\n",
      "2025-06-24 13:35:44.895260: I metal_plugin/src/kernels/stateless_random_op.cc:282] Note the GPU implementation does not produce the same series as CPU implementation.\n"
     ]
    },
    {
     "name": "stdout",
     "output_type": "stream",
     "text": [
      "72/92 [======================>.......] - ETA: 3s - loss: 2.3860 - accuracy: 0.4544"
     ]
    },
    {
     "name": "stderr",
     "output_type": "stream",
     "text": [
      "2025-06-24 13:35:45.047126: I metal_plugin/src/kernels/stateless_random_op.cc:282] Note the GPU implementation does not produce the same series as CPU implementation.\n",
      "2025-06-24 13:35:45.204238: I metal_plugin/src/kernels/stateless_random_op.cc:282] Note the GPU implementation does not produce the same series as CPU implementation.\n"
     ]
    },
    {
     "name": "stdout",
     "output_type": "stream",
     "text": [
      "74/92 [=======================>......] - ETA: 2s - loss: 2.3555 - accuracy: 0.4557"
     ]
    },
    {
     "name": "stderr",
     "output_type": "stream",
     "text": [
      "2025-06-24 13:35:45.358800: I metal_plugin/src/kernels/stateless_random_op.cc:282] Note the GPU implementation does not produce the same series as CPU implementation.\n",
      "2025-06-24 13:35:45.559727: I metal_plugin/src/kernels/stateless_random_op.cc:282] Note the GPU implementation does not produce the same series as CPU implementation.\n"
     ]
    },
    {
     "name": "stdout",
     "output_type": "stream",
     "text": [
      "76/92 [=======================>......] - ETA: 2s - loss: 2.3267 - accuracy: 0.4552"
     ]
    },
    {
     "name": "stderr",
     "output_type": "stream",
     "text": [
      "2025-06-24 13:35:45.721460: I metal_plugin/src/kernels/stateless_random_op.cc:282] Note the GPU implementation does not produce the same series as CPU implementation.\n",
      "2025-06-24 13:35:45.872737: I metal_plugin/src/kernels/stateless_random_op.cc:282] Note the GPU implementation does not produce the same series as CPU implementation.\n"
     ]
    },
    {
     "name": "stdout",
     "output_type": "stream",
     "text": [
      "78/92 [========================>.....] - ETA: 2s - loss: 2.3062 - accuracy: 0.4515"
     ]
    },
    {
     "name": "stderr",
     "output_type": "stream",
     "text": [
      "2025-06-24 13:35:46.025528: I metal_plugin/src/kernels/stateless_random_op.cc:282] Note the GPU implementation does not produce the same series as CPU implementation.\n",
      "2025-06-24 13:35:46.180052: I metal_plugin/src/kernels/stateless_random_op.cc:282] Note the GPU implementation does not produce the same series as CPU implementation.\n"
     ]
    },
    {
     "name": "stdout",
     "output_type": "stream",
     "text": [
      "80/92 [=========================>....] - ETA: 1s - loss: 2.2828 - accuracy: 0.4484"
     ]
    },
    {
     "name": "stderr",
     "output_type": "stream",
     "text": [
      "2025-06-24 13:35:46.340405: I metal_plugin/src/kernels/stateless_random_op.cc:282] Note the GPU implementation does not produce the same series as CPU implementation.\n",
      "2025-06-24 13:35:46.494062: I metal_plugin/src/kernels/stateless_random_op.cc:282] Note the GPU implementation does not produce the same series as CPU implementation.\n"
     ]
    },
    {
     "name": "stdout",
     "output_type": "stream",
     "text": [
      "82/92 [=========================>....] - ETA: 1s - loss: 2.2582 - accuracy: 0.4505"
     ]
    },
    {
     "name": "stderr",
     "output_type": "stream",
     "text": [
      "2025-06-24 13:35:46.649209: I metal_plugin/src/kernels/stateless_random_op.cc:282] Note the GPU implementation does not produce the same series as CPU implementation.\n",
      "2025-06-24 13:35:46.844702: I metal_plugin/src/kernels/stateless_random_op.cc:282] Note the GPU implementation does not produce the same series as CPU implementation.\n"
     ]
    },
    {
     "name": "stdout",
     "output_type": "stream",
     "text": [
      "84/92 [==========================>...] - ETA: 1s - loss: 2.2345 - accuracy: 0.4516"
     ]
    },
    {
     "name": "stderr",
     "output_type": "stream",
     "text": [
      "2025-06-24 13:35:47.006118: I metal_plugin/src/kernels/stateless_random_op.cc:282] Note the GPU implementation does not produce the same series as CPU implementation.\n",
      "2025-06-24 13:35:47.158593: I metal_plugin/src/kernels/stateless_random_op.cc:282] Note the GPU implementation does not produce the same series as CPU implementation.\n"
     ]
    },
    {
     "name": "stdout",
     "output_type": "stream",
     "text": [
      "86/92 [===========================>..] - ETA: 0s - loss: 2.2074 - accuracy: 0.4542"
     ]
    },
    {
     "name": "stderr",
     "output_type": "stream",
     "text": [
      "2025-06-24 13:35:47.312918: I metal_plugin/src/kernels/stateless_random_op.cc:282] Note the GPU implementation does not produce the same series as CPU implementation.\n",
      "2025-06-24 13:35:47.465104: I metal_plugin/src/kernels/stateless_random_op.cc:282] Note the GPU implementation does not produce the same series as CPU implementation.\n"
     ]
    },
    {
     "name": "stdout",
     "output_type": "stream",
     "text": [
      "88/92 [===========================>..] - ETA: 0s - loss: 2.1860 - accuracy: 0.4553"
     ]
    },
    {
     "name": "stderr",
     "output_type": "stream",
     "text": [
      "2025-06-24 13:35:47.620091: I metal_plugin/src/kernels/stateless_random_op.cc:282] Note the GPU implementation does not produce the same series as CPU implementation.\n",
      "2025-06-24 13:35:47.771409: I metal_plugin/src/kernels/stateless_random_op.cc:282] Note the GPU implementation does not produce the same series as CPU implementation.\n"
     ]
    },
    {
     "name": "stdout",
     "output_type": "stream",
     "text": [
      "90/92 [============================>.] - ETA: 0s - loss: 2.1684 - accuracy: 0.4507"
     ]
    },
    {
     "name": "stderr",
     "output_type": "stream",
     "text": [
      "2025-06-24 13:35:47.920372: I metal_plugin/src/kernels/stateless_random_op.cc:282] Note the GPU implementation does not produce the same series as CPU implementation.\n",
      "2025-06-24 13:35:48.068920: I metal_plugin/src/kernels/stateless_random_op.cc:282] Note the GPU implementation does not produce the same series as CPU implementation.\n"
     ]
    },
    {
     "name": "stdout",
     "output_type": "stream",
     "text": [
      "91/92 [============================>.] - ETA: 0s - loss: 2.1600 - accuracy: 0.4475"
     ]
    },
    {
     "name": "stderr",
     "output_type": "stream",
     "text": [
      "2025-06-24 13:35:48.219296: I metal_plugin/src/kernels/stateless_random_op.cc:282] Note the GPU implementation does not produce the same series as CPU implementation.\n"
     ]
    },
    {
     "name": "stdout",
     "output_type": "stream",
     "text": [
      "92/92 [==============================] - 17s 164ms/step - loss: 2.1528 - accuracy: 0.4472\n",
      "Epoch 2/10\n",
      " 1/92 [..............................] - ETA: 17s - loss: 1.4598 - accuracy: 0.3438"
     ]
    },
    {
     "name": "stderr",
     "output_type": "stream",
     "text": [
      "2025-06-24 13:35:49.272970: I metal_plugin/src/kernels/stateless_random_op.cc:282] Note the GPU implementation does not produce the same series as CPU implementation.\n",
      "2025-06-24 13:35:49.467569: I metal_plugin/src/kernels/stateless_random_op.cc:282] Note the GPU implementation does not produce the same series as CPU implementation.\n"
     ]
    },
    {
     "name": "stdout",
     "output_type": "stream",
     "text": [
      " 3/92 [..............................] - ETA: 14s - loss: 1.4582 - accuracy: 0.3542"
     ]
    },
    {
     "name": "stderr",
     "output_type": "stream",
     "text": [
      "2025-06-24 13:35:49.624100: I metal_plugin/src/kernels/stateless_random_op.cc:282] Note the GPU implementation does not produce the same series as CPU implementation.\n",
      "2025-06-24 13:35:49.793356: I metal_plugin/src/kernels/stateless_random_op.cc:282] Note the GPU implementation does not produce the same series as CPU implementation.\n"
     ]
    },
    {
     "name": "stdout",
     "output_type": "stream",
     "text": [
      " 5/92 [>.............................] - ETA: 13s - loss: 1.3761 - accuracy: 0.3812"
     ]
    },
    {
     "name": "stderr",
     "output_type": "stream",
     "text": [
      "2025-06-24 13:35:49.944725: I metal_plugin/src/kernels/stateless_random_op.cc:282] Note the GPU implementation does not produce the same series as CPU implementation.\n",
      "2025-06-24 13:35:50.099642: I metal_plugin/src/kernels/stateless_random_op.cc:282] Note the GPU implementation does not produce the same series as CPU implementation.\n"
     ]
    },
    {
     "name": "stdout",
     "output_type": "stream",
     "text": [
      " 7/92 [=>............................] - ETA: 13s - loss: 1.2239 - accuracy: 0.4241"
     ]
    },
    {
     "name": "stderr",
     "output_type": "stream",
     "text": [
      "2025-06-24 13:35:50.261617: I metal_plugin/src/kernels/stateless_random_op.cc:282] Note the GPU implementation does not produce the same series as CPU implementation.\n",
      "2025-06-24 13:35:50.430486: I metal_plugin/src/kernels/stateless_random_op.cc:282] Note the GPU implementation does not produce the same series as CPU implementation.\n"
     ]
    },
    {
     "name": "stdout",
     "output_type": "stream",
     "text": [
      " 9/92 [=>............................] - ETA: 13s - loss: 1.1467 - accuracy: 0.4340"
     ]
    },
    {
     "name": "stderr",
     "output_type": "stream",
     "text": [
      "2025-06-24 13:35:50.592103: I metal_plugin/src/kernels/stateless_random_op.cc:282] Note the GPU implementation does not produce the same series as CPU implementation.\n",
      "2025-06-24 13:35:50.750328: I metal_plugin/src/kernels/stateless_random_op.cc:282] Note the GPU implementation does not produce the same series as CPU implementation.\n"
     ]
    },
    {
     "name": "stdout",
     "output_type": "stream",
     "text": [
      "11/92 [==>...........................] - ETA: 13s - loss: 1.0612 - accuracy: 0.4830"
     ]
    },
    {
     "name": "stderr",
     "output_type": "stream",
     "text": [
      "2025-06-24 13:35:50.909635: I metal_plugin/src/kernels/stateless_random_op.cc:282] Note the GPU implementation does not produce the same series as CPU implementation.\n",
      "2025-06-24 13:35:51.085151: I metal_plugin/src/kernels/stateless_random_op.cc:282] Note the GPU implementation does not produce the same series as CPU implementation.\n"
     ]
    },
    {
     "name": "stdout",
     "output_type": "stream",
     "text": [
      "13/92 [===>..........................] - ETA: 12s - loss: 1.0826 - accuracy: 0.4880"
     ]
    },
    {
     "name": "stderr",
     "output_type": "stream",
     "text": [
      "2025-06-24 13:35:51.246255: I metal_plugin/src/kernels/stateless_random_op.cc:282] Note the GPU implementation does not produce the same series as CPU implementation.\n",
      "2025-06-24 13:35:51.411019: I metal_plugin/src/kernels/stateless_random_op.cc:282] Note the GPU implementation does not produce the same series as CPU implementation.\n"
     ]
    },
    {
     "name": "stdout",
     "output_type": "stream",
     "text": [
      "15/92 [===>..........................] - ETA: 12s - loss: 1.0673 - accuracy: 0.4771"
     ]
    },
    {
     "name": "stderr",
     "output_type": "stream",
     "text": [
      "2025-06-24 13:35:51.588616: I metal_plugin/src/kernels/stateless_random_op.cc:282] Note the GPU implementation does not produce the same series as CPU implementation.\n",
      "2025-06-24 13:35:51.739608: I metal_plugin/src/kernels/stateless_random_op.cc:282] Note the GPU implementation does not produce the same series as CPU implementation.\n"
     ]
    },
    {
     "name": "stdout",
     "output_type": "stream",
     "text": [
      "17/92 [====>.........................] - ETA: 12s - loss: 1.0286 - accuracy: 0.4853"
     ]
    },
    {
     "name": "stderr",
     "output_type": "stream",
     "text": [
      "2025-06-24 13:35:51.902743: I metal_plugin/src/kernels/stateless_random_op.cc:282] Note the GPU implementation does not produce the same series as CPU implementation.\n",
      "2025-06-24 13:35:52.086471: I metal_plugin/src/kernels/stateless_random_op.cc:282] Note the GPU implementation does not produce the same series as CPU implementation.\n"
     ]
    },
    {
     "name": "stdout",
     "output_type": "stream",
     "text": [
      "19/92 [=====>........................] - ETA: 12s - loss: 1.0614 - accuracy: 0.4951"
     ]
    },
    {
     "name": "stderr",
     "output_type": "stream",
     "text": [
      "2025-06-24 13:35:52.321939: I metal_plugin/src/kernels/stateless_random_op.cc:282] Note the GPU implementation does not produce the same series as CPU implementation.\n",
      "2025-06-24 13:35:52.480661: I metal_plugin/src/kernels/stateless_random_op.cc:282] Note the GPU implementation does not produce the same series as CPU implementation.\n"
     ]
    },
    {
     "name": "stdout",
     "output_type": "stream",
     "text": [
      "21/92 [=====>........................] - ETA: 11s - loss: 1.2124 - accuracy: 0.4970"
     ]
    },
    {
     "name": "stderr",
     "output_type": "stream",
     "text": [
      "2025-06-24 13:35:52.634325: I metal_plugin/src/kernels/stateless_random_op.cc:282] Note the GPU implementation does not produce the same series as CPU implementation.\n",
      "2025-06-24 13:35:52.790942: I metal_plugin/src/kernels/stateless_random_op.cc:282] Note the GPU implementation does not produce the same series as CPU implementation.\n"
     ]
    },
    {
     "name": "stdout",
     "output_type": "stream",
     "text": [
      "23/92 [======>.......................] - ETA: 11s - loss: 1.3037 - accuracy: 0.4851"
     ]
    },
    {
     "name": "stderr",
     "output_type": "stream",
     "text": [
      "2025-06-24 13:35:52.947164: I metal_plugin/src/kernels/stateless_random_op.cc:282] Note the GPU implementation does not produce the same series as CPU implementation.\n",
      "2025-06-24 13:35:53.102395: I metal_plugin/src/kernels/stateless_random_op.cc:282] Note the GPU implementation does not produce the same series as CPU implementation.\n"
     ]
    },
    {
     "name": "stdout",
     "output_type": "stream",
     "text": [
      "25/92 [=======>......................] - ETA: 10s - loss: 1.3019 - accuracy: 0.4688"
     ]
    },
    {
     "name": "stderr",
     "output_type": "stream",
     "text": [
      "2025-06-24 13:35:53.250237: I metal_plugin/src/kernels/stateless_random_op.cc:282] Note the GPU implementation does not produce the same series as CPU implementation.\n",
      "2025-06-24 13:35:53.405677: I metal_plugin/src/kernels/stateless_random_op.cc:282] Note the GPU implementation does not produce the same series as CPU implementation.\n"
     ]
    },
    {
     "name": "stdout",
     "output_type": "stream",
     "text": [
      "27/92 [=======>......................] - ETA: 10s - loss: 1.3043 - accuracy: 0.4560"
     ]
    },
    {
     "name": "stderr",
     "output_type": "stream",
     "text": [
      "2025-06-24 13:35:53.557232: I metal_plugin/src/kernels/stateless_random_op.cc:282] Note the GPU implementation does not produce the same series as CPU implementation.\n",
      "2025-06-24 13:35:53.712543: I metal_plugin/src/kernels/stateless_random_op.cc:282] Note the GPU implementation does not produce the same series as CPU implementation.\n"
     ]
    },
    {
     "name": "stdout",
     "output_type": "stream",
     "text": [
      "29/92 [========>.....................] - ETA: 10s - loss: 1.2976 - accuracy: 0.4483"
     ]
    },
    {
     "name": "stderr",
     "output_type": "stream",
     "text": [
      "2025-06-24 13:35:53.890502: I metal_plugin/src/kernels/stateless_random_op.cc:282] Note the GPU implementation does not produce the same series as CPU implementation.\n",
      "2025-06-24 13:35:54.044709: I metal_plugin/src/kernels/stateless_random_op.cc:282] Note the GPU implementation does not produce the same series as CPU implementation.\n"
     ]
    },
    {
     "name": "stdout",
     "output_type": "stream",
     "text": [
      "31/92 [=========>....................] - ETA: 9s - loss: 1.2935 - accuracy: 0.4345 "
     ]
    },
    {
     "name": "stderr",
     "output_type": "stream",
     "text": [
      "2025-06-24 13:35:54.195588: I metal_plugin/src/kernels/stateless_random_op.cc:282] Note the GPU implementation does not produce the same series as CPU implementation.\n",
      "2025-06-24 13:35:54.349873: I metal_plugin/src/kernels/stateless_random_op.cc:282] Note the GPU implementation does not produce the same series as CPU implementation.\n"
     ]
    },
    {
     "name": "stdout",
     "output_type": "stream",
     "text": [
      "33/92 [=========>....................] - ETA: 9s - loss: 1.2880 - accuracy: 0.4252"
     ]
    },
    {
     "name": "stderr",
     "output_type": "stream",
     "text": [
      "2025-06-24 13:35:54.500165: I metal_plugin/src/kernels/stateless_random_op.cc:282] Note the GPU implementation does not produce the same series as CPU implementation.\n",
      "2025-06-24 13:35:54.654390: I metal_plugin/src/kernels/stateless_random_op.cc:282] Note the GPU implementation does not produce the same series as CPU implementation.\n"
     ]
    },
    {
     "name": "stdout",
     "output_type": "stream",
     "text": [
      "35/92 [==========>...................] - ETA: 9s - loss: 1.2863 - accuracy: 0.4241"
     ]
    },
    {
     "name": "stderr",
     "output_type": "stream",
     "text": [
      "2025-06-24 13:35:54.803962: I metal_plugin/src/kernels/stateless_random_op.cc:282] Note the GPU implementation does not produce the same series as CPU implementation.\n",
      "2025-06-24 13:35:54.957377: I metal_plugin/src/kernels/stateless_random_op.cc:282] Note the GPU implementation does not produce the same series as CPU implementation.\n"
     ]
    },
    {
     "name": "stdout",
     "output_type": "stream",
     "text": [
      "37/92 [===========>..................] - ETA: 8s - loss: 1.2864 - accuracy: 0.4240"
     ]
    },
    {
     "name": "stderr",
     "output_type": "stream",
     "text": [
      "2025-06-24 13:35:55.108031: I metal_plugin/src/kernels/stateless_random_op.cc:282] Note the GPU implementation does not produce the same series as CPU implementation.\n",
      "2025-06-24 13:35:55.261936: I metal_plugin/src/kernels/stateless_random_op.cc:282] Note the GPU implementation does not produce the same series as CPU implementation.\n"
     ]
    },
    {
     "name": "stdout",
     "output_type": "stream",
     "text": [
      "39/92 [===========>..................] - ETA: 8s - loss: 1.3118 - accuracy: 0.4199"
     ]
    },
    {
     "name": "stderr",
     "output_type": "stream",
     "text": [
      "2025-06-24 13:35:55.414619: I metal_plugin/src/kernels/stateless_random_op.cc:282] Note the GPU implementation does not produce the same series as CPU implementation.\n",
      "2025-06-24 13:35:55.566063: I metal_plugin/src/kernels/stateless_random_op.cc:282] Note the GPU implementation does not produce the same series as CPU implementation.\n"
     ]
    },
    {
     "name": "stdout",
     "output_type": "stream",
     "text": [
      "41/92 [============>.................] - ETA: 8s - loss: 1.4138 - accuracy: 0.4238"
     ]
    },
    {
     "name": "stderr",
     "output_type": "stream",
     "text": [
      "2025-06-24 13:35:55.718489: I metal_plugin/src/kernels/stateless_random_op.cc:282] Note the GPU implementation does not produce the same series as CPU implementation.\n",
      "2025-06-24 13:35:55.873574: I metal_plugin/src/kernels/stateless_random_op.cc:282] Note the GPU implementation does not produce the same series as CPU implementation.\n"
     ]
    },
    {
     "name": "stdout",
     "output_type": "stream",
     "text": [
      "43/92 [=============>................] - ETA: 7s - loss: 1.4410 - accuracy: 0.4251"
     ]
    },
    {
     "name": "stderr",
     "output_type": "stream",
     "text": [
      "2025-06-24 13:35:56.029861: I metal_plugin/src/kernels/stateless_random_op.cc:282] Note the GPU implementation does not produce the same series as CPU implementation.\n",
      "2025-06-24 13:35:56.183342: I metal_plugin/src/kernels/stateless_random_op.cc:282] Note the GPU implementation does not produce the same series as CPU implementation.\n"
     ]
    },
    {
     "name": "stdout",
     "output_type": "stream",
     "text": [
      "45/92 [=============>................] - ETA: 7s - loss: 1.4305 - accuracy: 0.4264"
     ]
    },
    {
     "name": "stderr",
     "output_type": "stream",
     "text": [
      "2025-06-24 13:35:56.336540: I metal_plugin/src/kernels/stateless_random_op.cc:282] Note the GPU implementation does not produce the same series as CPU implementation.\n",
      "2025-06-24 13:35:56.492461: I metal_plugin/src/kernels/stateless_random_op.cc:282] Note the GPU implementation does not produce the same series as CPU implementation.\n"
     ]
    },
    {
     "name": "stdout",
     "output_type": "stream",
     "text": [
      "47/92 [==============>...............] - ETA: 7s - loss: 1.4215 - accuracy: 0.4262"
     ]
    },
    {
     "name": "stderr",
     "output_type": "stream",
     "text": [
      "2025-06-24 13:35:56.642403: I metal_plugin/src/kernels/stateless_random_op.cc:282] Note the GPU implementation does not produce the same series as CPU implementation.\n",
      "2025-06-24 13:35:56.796487: I metal_plugin/src/kernels/stateless_random_op.cc:282] Note the GPU implementation does not produce the same series as CPU implementation.\n"
     ]
    },
    {
     "name": "stdout",
     "output_type": "stream",
     "text": [
      "49/92 [==============>...............] - ETA: 6s - loss: 1.4078 - accuracy: 0.4305"
     ]
    },
    {
     "name": "stderr",
     "output_type": "stream",
     "text": [
      "2025-06-24 13:35:56.948392: I metal_plugin/src/kernels/stateless_random_op.cc:282] Note the GPU implementation does not produce the same series as CPU implementation.\n",
      "2025-06-24 13:35:57.102268: I metal_plugin/src/kernels/stateless_random_op.cc:282] Note the GPU implementation does not produce the same series as CPU implementation.\n"
     ]
    },
    {
     "name": "stdout",
     "output_type": "stream",
     "text": [
      "51/92 [===============>..............] - ETA: 6s - loss: 1.4022 - accuracy: 0.4332"
     ]
    },
    {
     "name": "stderr",
     "output_type": "stream",
     "text": [
      "2025-06-24 13:35:57.257253: I metal_plugin/src/kernels/stateless_random_op.cc:282] Note the GPU implementation does not produce the same series as CPU implementation.\n",
      "2025-06-24 13:35:57.409380: I metal_plugin/src/kernels/stateless_random_op.cc:282] Note the GPU implementation does not produce the same series as CPU implementation.\n"
     ]
    },
    {
     "name": "stdout",
     "output_type": "stream",
     "text": [
      "53/92 [================>.............] - ETA: 6s - loss: 1.4031 - accuracy: 0.4381"
     ]
    },
    {
     "name": "stderr",
     "output_type": "stream",
     "text": [
      "2025-06-24 13:35:57.560780: I metal_plugin/src/kernels/stateless_random_op.cc:282] Note the GPU implementation does not produce the same series as CPU implementation.\n",
      "2025-06-24 13:35:57.714164: I metal_plugin/src/kernels/stateless_random_op.cc:282] Note the GPU implementation does not produce the same series as CPU implementation.\n"
     ]
    },
    {
     "name": "stdout",
     "output_type": "stream",
     "text": [
      "55/92 [================>.............] - ETA: 5s - loss: 1.3855 - accuracy: 0.4466"
     ]
    },
    {
     "name": "stderr",
     "output_type": "stream",
     "text": [
      "2025-06-24 13:35:57.864232: I metal_plugin/src/kernels/stateless_random_op.cc:282] Note the GPU implementation does not produce the same series as CPU implementation.\n",
      "2025-06-24 13:35:58.015853: I metal_plugin/src/kernels/stateless_random_op.cc:282] Note the GPU implementation does not produce the same series as CPU implementation.\n"
     ]
    },
    {
     "name": "stdout",
     "output_type": "stream",
     "text": [
      "57/92 [=================>............] - ETA: 5s - loss: 1.3708 - accuracy: 0.4512"
     ]
    },
    {
     "name": "stderr",
     "output_type": "stream",
     "text": [
      "2025-06-24 13:35:58.167409: I metal_plugin/src/kernels/stateless_random_op.cc:282] Note the GPU implementation does not produce the same series as CPU implementation.\n",
      "2025-06-24 13:35:58.321308: I metal_plugin/src/kernels/stateless_random_op.cc:282] Note the GPU implementation does not produce the same series as CPU implementation.\n"
     ]
    },
    {
     "name": "stdout",
     "output_type": "stream",
     "text": [
      "59/92 [==================>...........] - ETA: 5s - loss: 1.3547 - accuracy: 0.4587"
     ]
    },
    {
     "name": "stderr",
     "output_type": "stream",
     "text": [
      "2025-06-24 13:35:58.471035: I metal_plugin/src/kernels/stateless_random_op.cc:282] Note the GPU implementation does not produce the same series as CPU implementation.\n",
      "2025-06-24 13:35:58.623780: I metal_plugin/src/kernels/stateless_random_op.cc:282] Note the GPU implementation does not produce the same series as CPU implementation.\n"
     ]
    },
    {
     "name": "stdout",
     "output_type": "stream",
     "text": [
      "61/92 [==================>...........] - ETA: 4s - loss: 1.3471 - accuracy: 0.4590"
     ]
    },
    {
     "name": "stderr",
     "output_type": "stream",
     "text": [
      "2025-06-24 13:35:58.780340: I metal_plugin/src/kernels/stateless_random_op.cc:282] Note the GPU implementation does not produce the same series as CPU implementation.\n",
      "2025-06-24 13:35:58.932527: I metal_plugin/src/kernels/stateless_random_op.cc:282] Note the GPU implementation does not produce the same series as CPU implementation.\n"
     ]
    },
    {
     "name": "stdout",
     "output_type": "stream",
     "text": [
      "63/92 [===================>..........] - ETA: 4s - loss: 1.3542 - accuracy: 0.4603"
     ]
    },
    {
     "name": "stderr",
     "output_type": "stream",
     "text": [
      "2025-06-24 13:35:59.086535: I metal_plugin/src/kernels/stateless_random_op.cc:282] Note the GPU implementation does not produce the same series as CPU implementation.\n",
      "2025-06-24 13:35:59.239354: I metal_plugin/src/kernels/stateless_random_op.cc:282] Note the GPU implementation does not produce the same series as CPU implementation.\n"
     ]
    },
    {
     "name": "stdout",
     "output_type": "stream",
     "text": [
      "65/92 [====================>.........] - ETA: 4s - loss: 1.3631 - accuracy: 0.4582"
     ]
    },
    {
     "name": "stderr",
     "output_type": "stream",
     "text": [
      "2025-06-24 13:35:59.387573: I metal_plugin/src/kernels/stateless_random_op.cc:282] Note the GPU implementation does not produce the same series as CPU implementation.\n",
      "2025-06-24 13:35:59.540631: I metal_plugin/src/kernels/stateless_random_op.cc:282] Note the GPU implementation does not produce the same series as CPU implementation.\n"
     ]
    },
    {
     "name": "stdout",
     "output_type": "stream",
     "text": [
      "67/92 [====================>.........] - ETA: 3s - loss: 1.3635 - accuracy: 0.4543"
     ]
    },
    {
     "name": "stderr",
     "output_type": "stream",
     "text": [
      "2025-06-24 13:35:59.694232: I metal_plugin/src/kernels/stateless_random_op.cc:282] Note the GPU implementation does not produce the same series as CPU implementation.\n",
      "2025-06-24 13:35:59.855290: I metal_plugin/src/kernels/stateless_random_op.cc:282] Note the GPU implementation does not produce the same series as CPU implementation.\n"
     ]
    },
    {
     "name": "stdout",
     "output_type": "stream",
     "text": [
      "69/92 [=====================>........] - ETA: 3s - loss: 1.3739 - accuracy: 0.4529"
     ]
    },
    {
     "name": "stderr",
     "output_type": "stream",
     "text": [
      "2025-06-24 13:36:00.075197: I metal_plugin/src/kernels/stateless_random_op.cc:282] Note the GPU implementation does not produce the same series as CPU implementation.\n",
      "2025-06-24 13:36:00.239120: I metal_plugin/src/kernels/stateless_random_op.cc:282] Note the GPU implementation does not produce the same series as CPU implementation.\n"
     ]
    },
    {
     "name": "stdout",
     "output_type": "stream",
     "text": [
      "71/92 [======================>.......] - ETA: 3s - loss: 1.3843 - accuracy: 0.4538"
     ]
    },
    {
     "name": "stderr",
     "output_type": "stream",
     "text": [
      "2025-06-24 13:36:00.401947: I metal_plugin/src/kernels/stateless_random_op.cc:282] Note the GPU implementation does not produce the same series as CPU implementation.\n",
      "2025-06-24 13:36:00.570454: I metal_plugin/src/kernels/stateless_random_op.cc:282] Note the GPU implementation does not produce the same series as CPU implementation.\n"
     ]
    },
    {
     "name": "stdout",
     "output_type": "stream",
     "text": [
      "73/92 [======================>.......] - ETA: 3s - loss: 1.3815 - accuracy: 0.4559"
     ]
    },
    {
     "name": "stderr",
     "output_type": "stream",
     "text": [
      "2025-06-24 13:36:00.724946: I metal_plugin/src/kernels/stateless_random_op.cc:282] Note the GPU implementation does not produce the same series as CPU implementation.\n",
      "2025-06-24 13:36:00.889929: I metal_plugin/src/kernels/stateless_random_op.cc:282] Note the GPU implementation does not produce the same series as CPU implementation.\n"
     ]
    },
    {
     "name": "stdout",
     "output_type": "stream",
     "text": [
      "75/92 [=======================>......] - ETA: 2s - loss: 1.3878 - accuracy: 0.4583"
     ]
    },
    {
     "name": "stderr",
     "output_type": "stream",
     "text": [
      "2025-06-24 13:36:01.047510: I metal_plugin/src/kernels/stateless_random_op.cc:282] Note the GPU implementation does not produce the same series as CPU implementation.\n",
      "2025-06-24 13:36:01.201909: I metal_plugin/src/kernels/stateless_random_op.cc:282] Note the GPU implementation does not produce the same series as CPU implementation.\n"
     ]
    },
    {
     "name": "stdout",
     "output_type": "stream",
     "text": [
      "77/92 [========================>.....] - ETA: 2s - loss: 1.3958 - accuracy: 0.4594"
     ]
    },
    {
     "name": "stderr",
     "output_type": "stream",
     "text": [
      "2025-06-24 13:36:01.358958: I metal_plugin/src/kernels/stateless_random_op.cc:282] Note the GPU implementation does not produce the same series as CPU implementation.\n",
      "2025-06-24 13:36:01.512804: I metal_plugin/src/kernels/stateless_random_op.cc:282] Note the GPU implementation does not produce the same series as CPU implementation.\n"
     ]
    },
    {
     "name": "stdout",
     "output_type": "stream",
     "text": [
      "79/92 [========================>.....] - ETA: 2s - loss: 1.3975 - accuracy: 0.4573"
     ]
    },
    {
     "name": "stderr",
     "output_type": "stream",
     "text": [
      "2025-06-24 13:36:01.667354: I metal_plugin/src/kernels/stateless_random_op.cc:282] Note the GPU implementation does not produce the same series as CPU implementation.\n",
      "2025-06-24 13:36:01.820659: I metal_plugin/src/kernels/stateless_random_op.cc:282] Note the GPU implementation does not produce the same series as CPU implementation.\n"
     ]
    },
    {
     "name": "stdout",
     "output_type": "stream",
     "text": [
      "81/92 [=========================>....] - ETA: 1s - loss: 1.4056 - accuracy: 0.4525"
     ]
    },
    {
     "name": "stderr",
     "output_type": "stream",
     "text": [
      "2025-06-24 13:36:01.976498: I metal_plugin/src/kernels/stateless_random_op.cc:282] Note the GPU implementation does not produce the same series as CPU implementation.\n",
      "2025-06-24 13:36:02.136261: I metal_plugin/src/kernels/stateless_random_op.cc:282] Note the GPU implementation does not produce the same series as CPU implementation.\n"
     ]
    },
    {
     "name": "stdout",
     "output_type": "stream",
     "text": [
      "83/92 [==========================>...] - ETA: 1s - loss: 1.4062 - accuracy: 0.4514"
     ]
    },
    {
     "name": "stderr",
     "output_type": "stream",
     "text": [
      "2025-06-24 13:36:02.287844: I metal_plugin/src/kernels/stateless_random_op.cc:282] Note the GPU implementation does not produce the same series as CPU implementation.\n",
      "2025-06-24 13:36:02.441440: I metal_plugin/src/kernels/stateless_random_op.cc:282] Note the GPU implementation does not produce the same series as CPU implementation.\n"
     ]
    },
    {
     "name": "stdout",
     "output_type": "stream",
     "text": [
      "85/92 [==========================>...] - ETA: 1s - loss: 1.4083 - accuracy: 0.4548"
     ]
    },
    {
     "name": "stderr",
     "output_type": "stream",
     "text": [
      "2025-06-24 13:36:02.591872: I metal_plugin/src/kernels/stateless_random_op.cc:282] Note the GPU implementation does not produce the same series as CPU implementation.\n",
      "2025-06-24 13:36:02.747222: I metal_plugin/src/kernels/stateless_random_op.cc:282] Note the GPU implementation does not produce the same series as CPU implementation.\n"
     ]
    },
    {
     "name": "stdout",
     "output_type": "stream",
     "text": [
      "87/92 [===========================>..] - ETA: 0s - loss: 1.4240 - accuracy: 0.4573"
     ]
    },
    {
     "name": "stderr",
     "output_type": "stream",
     "text": [
      "2025-06-24 13:36:02.900426: I metal_plugin/src/kernels/stateless_random_op.cc:282] Note the GPU implementation does not produce the same series as CPU implementation.\n",
      "2025-06-24 13:36:03.054486: I metal_plugin/src/kernels/stateless_random_op.cc:282] Note the GPU implementation does not produce the same series as CPU implementation.\n"
     ]
    },
    {
     "name": "stdout",
     "output_type": "stream",
     "text": [
      "89/92 [============================>.] - ETA: 0s - loss: 1.4240 - accuracy: 0.4589"
     ]
    },
    {
     "name": "stderr",
     "output_type": "stream",
     "text": [
      "2025-06-24 13:36:03.205454: I metal_plugin/src/kernels/stateless_random_op.cc:282] Note the GPU implementation does not produce the same series as CPU implementation.\n",
      "2025-06-24 13:36:03.357146: I metal_plugin/src/kernels/stateless_random_op.cc:282] Note the GPU implementation does not produce the same series as CPU implementation.\n"
     ]
    },
    {
     "name": "stdout",
     "output_type": "stream",
     "text": [
      "91/92 [============================>.] - ETA: 0s - loss: 1.4208 - accuracy: 0.4554"
     ]
    },
    {
     "name": "stderr",
     "output_type": "stream",
     "text": [
      "2025-06-24 13:36:03.509179: I metal_plugin/src/kernels/stateless_random_op.cc:282] Note the GPU implementation does not produce the same series as CPU implementation.\n",
      "2025-06-24 13:36:03.657982: I metal_plugin/src/kernels/stateless_random_op.cc:282] Note the GPU implementation does not produce the same series as CPU implementation.\n"
     ]
    },
    {
     "name": "stdout",
     "output_type": "stream",
     "text": [
      "92/92 [==============================] - 15s 158ms/step - loss: 1.4214 - accuracy: 0.4537\n",
      "Epoch 3/10\n",
      " 1/92 [..............................] - ETA: 15s - loss: 2.1110 - accuracy: 0.0000e+00"
     ]
    },
    {
     "name": "stderr",
     "output_type": "stream",
     "text": [
      "2025-06-24 13:36:03.875179: I metal_plugin/src/kernels/stateless_random_op.cc:282] Note the GPU implementation does not produce the same series as CPU implementation.\n",
      "2025-06-24 13:36:04.046829: I metal_plugin/src/kernels/stateless_random_op.cc:282] Note the GPU implementation does not produce the same series as CPU implementation.\n"
     ]
    },
    {
     "name": "stdout",
     "output_type": "stream",
     "text": [
      " 3/92 [..............................] - ETA: 13s - loss: 2.0034 - accuracy: 0.0000e+00"
     ]
    },
    {
     "name": "stderr",
     "output_type": "stream",
     "text": [
      "2025-06-24 13:36:04.208160: I metal_plugin/src/kernels/stateless_random_op.cc:282] Note the GPU implementation does not produce the same series as CPU implementation.\n",
      "2025-06-24 13:36:04.361625: I metal_plugin/src/kernels/stateless_random_op.cc:282] Note the GPU implementation does not produce the same series as CPU implementation.\n"
     ]
    },
    {
     "name": "stdout",
     "output_type": "stream",
     "text": [
      " 5/92 [>.............................] - ETA: 13s - loss: 2.0664 - accuracy: 0.0250    "
     ]
    },
    {
     "name": "stderr",
     "output_type": "stream",
     "text": [
      "2025-06-24 13:36:04.512010: I metal_plugin/src/kernels/stateless_random_op.cc:282] Note the GPU implementation does not produce the same series as CPU implementation.\n",
      "2025-06-24 13:36:04.667763: I metal_plugin/src/kernels/stateless_random_op.cc:282] Note the GPU implementation does not produce the same series as CPU implementation.\n"
     ]
    },
    {
     "name": "stdout",
     "output_type": "stream",
     "text": [
      " 7/92 [=>............................] - ETA: 13s - loss: 2.0584 - accuracy: 0.0446"
     ]
    },
    {
     "name": "stderr",
     "output_type": "stream",
     "text": [
      "2025-06-24 13:36:04.818268: I metal_plugin/src/kernels/stateless_random_op.cc:282] Note the GPU implementation does not produce the same series as CPU implementation.\n",
      "2025-06-24 13:36:04.972095: I metal_plugin/src/kernels/stateless_random_op.cc:282] Note the GPU implementation does not produce the same series as CPU implementation.\n"
     ]
    },
    {
     "name": "stdout",
     "output_type": "stream",
     "text": [
      " 9/92 [=>............................] - ETA: 12s - loss: 1.8937 - accuracy: 0.1215"
     ]
    },
    {
     "name": "stderr",
     "output_type": "stream",
     "text": [
      "2025-06-24 13:36:05.122987: I metal_plugin/src/kernels/stateless_random_op.cc:282] Note the GPU implementation does not produce the same series as CPU implementation.\n",
      "2025-06-24 13:36:05.276957: I metal_plugin/src/kernels/stateless_random_op.cc:282] Note the GPU implementation does not produce the same series as CPU implementation.\n"
     ]
    },
    {
     "name": "stdout",
     "output_type": "stream",
     "text": [
      "11/92 [==>...........................] - ETA: 12s - loss: 1.8210 - accuracy: 0.1875"
     ]
    },
    {
     "name": "stderr",
     "output_type": "stream",
     "text": [
      "2025-06-24 13:36:05.425896: I metal_plugin/src/kernels/stateless_random_op.cc:282] Note the GPU implementation does not produce the same series as CPU implementation.\n",
      "2025-06-24 13:36:05.580106: I metal_plugin/src/kernels/stateless_random_op.cc:282] Note the GPU implementation does not produce the same series as CPU implementation.\n"
     ]
    },
    {
     "name": "stdout",
     "output_type": "stream",
     "text": [
      "13/92 [===>..........................] - ETA: 12s - loss: 1.7528 - accuracy: 0.2404"
     ]
    },
    {
     "name": "stderr",
     "output_type": "stream",
     "text": [
      "2025-06-24 13:36:05.732275: I metal_plugin/src/kernels/stateless_random_op.cc:282] Note the GPU implementation does not produce the same series as CPU implementation.\n",
      "2025-06-24 13:36:05.885111: I metal_plugin/src/kernels/stateless_random_op.cc:282] Note the GPU implementation does not produce the same series as CPU implementation.\n"
     ]
    },
    {
     "name": "stdout",
     "output_type": "stream",
     "text": [
      "15/92 [===>..........................] - ETA: 11s - loss: 1.7509 - accuracy: 0.2812"
     ]
    },
    {
     "name": "stderr",
     "output_type": "stream",
     "text": [
      "2025-06-24 13:36:06.043624: I metal_plugin/src/kernels/stateless_random_op.cc:282] Note the GPU implementation does not produce the same series as CPU implementation.\n",
      "2025-06-24 13:36:06.196733: I metal_plugin/src/kernels/stateless_random_op.cc:282] Note the GPU implementation does not produce the same series as CPU implementation.\n"
     ]
    },
    {
     "name": "stdout",
     "output_type": "stream",
     "text": [
      "17/92 [====>.........................] - ETA: 11s - loss: 1.7370 - accuracy: 0.2868"
     ]
    },
    {
     "name": "stderr",
     "output_type": "stream",
     "text": [
      "2025-06-24 13:36:06.347997: I metal_plugin/src/kernels/stateless_random_op.cc:282] Note the GPU implementation does not produce the same series as CPU implementation.\n",
      "2025-06-24 13:36:06.501145: I metal_plugin/src/kernels/stateless_random_op.cc:282] Note the GPU implementation does not produce the same series as CPU implementation.\n"
     ]
    },
    {
     "name": "stdout",
     "output_type": "stream",
     "text": [
      "19/92 [=====>........................] - ETA: 11s - loss: 1.7688 - accuracy: 0.2977"
     ]
    },
    {
     "name": "stderr",
     "output_type": "stream",
     "text": [
      "2025-06-24 13:36:06.653273: I metal_plugin/src/kernels/stateless_random_op.cc:282] Note the GPU implementation does not produce the same series as CPU implementation.\n",
      "2025-06-24 13:36:06.807896: I metal_plugin/src/kernels/stateless_random_op.cc:282] Note the GPU implementation does not produce the same series as CPU implementation.\n"
     ]
    },
    {
     "name": "stdout",
     "output_type": "stream",
     "text": [
      "21/92 [=====>........................] - ETA: 10s - loss: 1.9467 - accuracy: 0.3274"
     ]
    },
    {
     "name": "stderr",
     "output_type": "stream",
     "text": [
      "2025-06-24 13:36:06.957131: I metal_plugin/src/kernels/stateless_random_op.cc:282] Note the GPU implementation does not produce the same series as CPU implementation.\n",
      "2025-06-24 13:36:07.111649: I metal_plugin/src/kernels/stateless_random_op.cc:282] Note the GPU implementation does not produce the same series as CPU implementation.\n"
     ]
    },
    {
     "name": "stdout",
     "output_type": "stream",
     "text": [
      "23/92 [======>.......................] - ETA: 10s - loss: 2.0170 - accuracy: 0.3601"
     ]
    },
    {
     "name": "stderr",
     "output_type": "stream",
     "text": [
      "2025-06-24 13:36:07.265019: I metal_plugin/src/kernels/stateless_random_op.cc:282] Note the GPU implementation does not produce the same series as CPU implementation.\n",
      "2025-06-24 13:36:07.420741: I metal_plugin/src/kernels/stateless_random_op.cc:282] Note the GPU implementation does not produce the same series as CPU implementation.\n"
     ]
    },
    {
     "name": "stdout",
     "output_type": "stream",
     "text": [
      "25/92 [=======>......................] - ETA: 10s - loss: 2.2814 - accuracy: 0.3688"
     ]
    },
    {
     "name": "stderr",
     "output_type": "stream",
     "text": [
      "2025-06-24 13:36:07.572088: I metal_plugin/src/kernels/stateless_random_op.cc:282] Note the GPU implementation does not produce the same series as CPU implementation.\n",
      "2025-06-24 13:36:07.742450: I metal_plugin/src/kernels/stateless_random_op.cc:282] Note the GPU implementation does not produce the same series as CPU implementation.\n"
     ]
    },
    {
     "name": "stdout",
     "output_type": "stream",
     "text": [
      "27/92 [=======>......................] - ETA: 10s - loss: 2.3345 - accuracy: 0.3773"
     ]
    },
    {
     "name": "stderr",
     "output_type": "stream",
     "text": [
      "2025-06-24 13:36:07.901647: I metal_plugin/src/kernels/stateless_random_op.cc:282] Note the GPU implementation does not produce the same series as CPU implementation.\n",
      "2025-06-24 13:36:08.074812: I metal_plugin/src/kernels/stateless_random_op.cc:282] Note the GPU implementation does not produce the same series as CPU implementation.\n"
     ]
    },
    {
     "name": "stdout",
     "output_type": "stream",
     "text": [
      "29/92 [========>.....................] - ETA: 9s - loss: 2.2537 - accuracy: 0.3836"
     ]
    },
    {
     "name": "stderr",
     "output_type": "stream",
     "text": [
      "2025-06-24 13:36:08.239740: I metal_plugin/src/kernels/stateless_random_op.cc:282] Note the GPU implementation does not produce the same series as CPU implementation.\n",
      "2025-06-24 13:36:08.410338: I metal_plugin/src/kernels/stateless_random_op.cc:282] Note the GPU implementation does not produce the same series as CPU implementation.\n"
     ]
    },
    {
     "name": "stdout",
     "output_type": "stream",
     "text": [
      "31/92 [=========>....................] - ETA: 9s - loss: 2.1807 - accuracy: 0.3881"
     ]
    },
    {
     "name": "stderr",
     "output_type": "stream",
     "text": [
      "2025-06-24 13:36:08.573113: I metal_plugin/src/kernels/stateless_random_op.cc:282] Note the GPU implementation does not produce the same series as CPU implementation.\n",
      "2025-06-24 13:36:08.724652: I metal_plugin/src/kernels/stateless_random_op.cc:282] Note the GPU implementation does not produce the same series as CPU implementation.\n"
     ]
    },
    {
     "name": "stdout",
     "output_type": "stream",
     "text": [
      "33/92 [=========>....................] - ETA: 9s - loss: 2.1127 - accuracy: 0.3949"
     ]
    },
    {
     "name": "stderr",
     "output_type": "stream",
     "text": [
      "2025-06-24 13:36:08.873110: I metal_plugin/src/kernels/stateless_random_op.cc:282] Note the GPU implementation does not produce the same series as CPU implementation.\n",
      "2025-06-24 13:36:09.028463: I metal_plugin/src/kernels/stateless_random_op.cc:282] Note the GPU implementation does not produce the same series as CPU implementation.\n"
     ]
    },
    {
     "name": "stdout",
     "output_type": "stream",
     "text": [
      "35/92 [==========>...................] - ETA: 8s - loss: 2.0542 - accuracy: 0.3991"
     ]
    },
    {
     "name": "stderr",
     "output_type": "stream",
     "text": [
      "2025-06-24 13:36:09.181173: I metal_plugin/src/kernels/stateless_random_op.cc:282] Note the GPU implementation does not produce the same series as CPU implementation.\n",
      "2025-06-24 13:36:09.332907: I metal_plugin/src/kernels/stateless_random_op.cc:282] Note the GPU implementation does not produce the same series as CPU implementation.\n"
     ]
    },
    {
     "name": "stdout",
     "output_type": "stream",
     "text": [
      "37/92 [===========>..................] - ETA: 8s - loss: 1.9979 - accuracy: 0.4003"
     ]
    },
    {
     "name": "stderr",
     "output_type": "stream",
     "text": [
      "2025-06-24 13:36:09.488024: I metal_plugin/src/kernels/stateless_random_op.cc:282] Note the GPU implementation does not produce the same series as CPU implementation.\n",
      "2025-06-24 13:36:09.653844: I metal_plugin/src/kernels/stateless_random_op.cc:282] Note the GPU implementation does not produce the same series as CPU implementation.\n"
     ]
    },
    {
     "name": "stdout",
     "output_type": "stream",
     "text": [
      "39/92 [===========>..................] - ETA: 8s - loss: 1.9480 - accuracy: 0.4095"
     ]
    },
    {
     "name": "stderr",
     "output_type": "stream",
     "text": [
      "2025-06-24 13:36:09.813030: I metal_plugin/src/kernels/stateless_random_op.cc:282] Note the GPU implementation does not produce the same series as CPU implementation.\n",
      "2025-06-24 13:36:09.969413: I metal_plugin/src/kernels/stateless_random_op.cc:282] Note the GPU implementation does not produce the same series as CPU implementation.\n"
     ]
    },
    {
     "name": "stdout",
     "output_type": "stream",
     "text": [
      "41/92 [============>.................] - ETA: 7s - loss: 1.9070 - accuracy: 0.4131"
     ]
    },
    {
     "name": "stderr",
     "output_type": "stream",
     "text": [
      "2025-06-24 13:36:10.122014: I metal_plugin/src/kernels/stateless_random_op.cc:282] Note the GPU implementation does not produce the same series as CPU implementation.\n",
      "2025-06-24 13:36:10.281109: I metal_plugin/src/kernels/stateless_random_op.cc:282] Note the GPU implementation does not produce the same series as CPU implementation.\n"
     ]
    },
    {
     "name": "stdout",
     "output_type": "stream",
     "text": [
      "43/92 [=============>................] - ETA: 7s - loss: 1.8802 - accuracy: 0.4128"
     ]
    },
    {
     "name": "stderr",
     "output_type": "stream",
     "text": [
      "2025-06-24 13:36:10.443571: I metal_plugin/src/kernels/stateless_random_op.cc:282] Note the GPU implementation does not produce the same series as CPU implementation.\n",
      "2025-06-24 13:36:10.598455: I metal_plugin/src/kernels/stateless_random_op.cc:282] Note the GPU implementation does not produce the same series as CPU implementation.\n"
     ]
    },
    {
     "name": "stdout",
     "output_type": "stream",
     "text": [
      "45/92 [=============>................] - ETA: 7s - loss: 1.8533 - accuracy: 0.4139"
     ]
    },
    {
     "name": "stderr",
     "output_type": "stream",
     "text": [
      "2025-06-24 13:36:10.749932: I metal_plugin/src/kernels/stateless_random_op.cc:282] Note the GPU implementation does not produce the same series as CPU implementation.\n",
      "2025-06-24 13:36:10.949525: I metal_plugin/src/kernels/stateless_random_op.cc:282] Note the GPU implementation does not produce the same series as CPU implementation.\n"
     ]
    },
    {
     "name": "stdout",
     "output_type": "stream",
     "text": [
      "47/92 [==============>...............] - ETA: 7s - loss: 1.8324 - accuracy: 0.4122"
     ]
    },
    {
     "name": "stderr",
     "output_type": "stream",
     "text": [
      "2025-06-24 13:36:11.102414: I metal_plugin/src/kernels/stateless_random_op.cc:282] Note the GPU implementation does not produce the same series as CPU implementation.\n",
      "2025-06-24 13:36:11.270534: I metal_plugin/src/kernels/stateless_random_op.cc:282] Note the GPU implementation does not produce the same series as CPU implementation.\n"
     ]
    },
    {
     "name": "stdout",
     "output_type": "stream",
     "text": [
      "49/92 [==============>...............] - ETA: 6s - loss: 1.8182 - accuracy: 0.4069"
     ]
    },
    {
     "name": "stderr",
     "output_type": "stream",
     "text": [
      "2025-06-24 13:36:11.420879: I metal_plugin/src/kernels/stateless_random_op.cc:282] Note the GPU implementation does not produce the same series as CPU implementation.\n",
      "2025-06-24 13:36:11.578374: I metal_plugin/src/kernels/stateless_random_op.cc:282] Note the GPU implementation does not produce the same series as CPU implementation.\n"
     ]
    },
    {
     "name": "stdout",
     "output_type": "stream",
     "text": [
      "51/92 [===============>..............] - ETA: 6s - loss: 1.8015 - accuracy: 0.4026"
     ]
    },
    {
     "name": "stderr",
     "output_type": "stream",
     "text": [
      "2025-06-24 13:36:11.728978: I metal_plugin/src/kernels/stateless_random_op.cc:282] Note the GPU implementation does not produce the same series as CPU implementation.\n",
      "2025-06-24 13:36:11.886547: I metal_plugin/src/kernels/stateless_random_op.cc:282] Note the GPU implementation does not produce the same series as CPU implementation.\n"
     ]
    },
    {
     "name": "stdout",
     "output_type": "stream",
     "text": [
      "53/92 [================>.............] - ETA: 6s - loss: 1.7843 - accuracy: 0.4009"
     ]
    },
    {
     "name": "stderr",
     "output_type": "stream",
     "text": [
      "2025-06-24 13:36:12.038160: I metal_plugin/src/kernels/stateless_random_op.cc:282] Note the GPU implementation does not produce the same series as CPU implementation.\n",
      "2025-06-24 13:36:12.206876: I metal_plugin/src/kernels/stateless_random_op.cc:282] Note the GPU implementation does not produce the same series as CPU implementation.\n"
     ]
    },
    {
     "name": "stdout",
     "output_type": "stream",
     "text": [
      "55/92 [================>.............] - ETA: 5s - loss: 1.7684 - accuracy: 0.3972"
     ]
    },
    {
     "name": "stderr",
     "output_type": "stream",
     "text": [
      "2025-06-24 13:36:12.358134: I metal_plugin/src/kernels/stateless_random_op.cc:282] Note the GPU implementation does not produce the same series as CPU implementation.\n",
      "2025-06-24 13:36:12.518937: I metal_plugin/src/kernels/stateless_random_op.cc:282] Note the GPU implementation does not produce the same series as CPU implementation.\n"
     ]
    },
    {
     "name": "stdout",
     "output_type": "stream",
     "text": [
      "57/92 [=================>............] - ETA: 5s - loss: 1.7507 - accuracy: 0.3997"
     ]
    },
    {
     "name": "stderr",
     "output_type": "stream",
     "text": [
      "2025-06-24 13:36:12.674129: I metal_plugin/src/kernels/stateless_random_op.cc:282] Note the GPU implementation does not produce the same series as CPU implementation.\n",
      "2025-06-24 13:36:12.830539: I metal_plugin/src/kernels/stateless_random_op.cc:282] Note the GPU implementation does not produce the same series as CPU implementation.\n"
     ]
    },
    {
     "name": "stdout",
     "output_type": "stream",
     "text": [
      "59/92 [==================>...........] - ETA: 5s - loss: 1.7285 - accuracy: 0.4073"
     ]
    },
    {
     "name": "stderr",
     "output_type": "stream",
     "text": [
      "2025-06-24 13:36:12.992468: I metal_plugin/src/kernels/stateless_random_op.cc:282] Note the GPU implementation does not produce the same series as CPU implementation.\n",
      "2025-06-24 13:36:13.144161: I metal_plugin/src/kernels/stateless_random_op.cc:282] Note the GPU implementation does not produce the same series as CPU implementation.\n"
     ]
    },
    {
     "name": "stdout",
     "output_type": "stream",
     "text": [
      "61/92 [==================>...........] - ETA: 4s - loss: 1.7260 - accuracy: 0.4119"
     ]
    },
    {
     "name": "stderr",
     "output_type": "stream",
     "text": [
      "2025-06-24 13:36:13.296566: I metal_plugin/src/kernels/stateless_random_op.cc:282] Note the GPU implementation does not produce the same series as CPU implementation.\n",
      "2025-06-24 13:36:13.452466: I metal_plugin/src/kernels/stateless_random_op.cc:282] Note the GPU implementation does not produce the same series as CPU implementation.\n"
     ]
    },
    {
     "name": "stdout",
     "output_type": "stream",
     "text": [
      "63/92 [===================>..........] - ETA: 4s - loss: 1.7299 - accuracy: 0.4177"
     ]
    },
    {
     "name": "stderr",
     "output_type": "stream",
     "text": [
      "2025-06-24 13:36:13.603173: I metal_plugin/src/kernels/stateless_random_op.cc:282] Note the GPU implementation does not produce the same series as CPU implementation.\n",
      "2025-06-24 13:36:13.758301: I metal_plugin/src/kernels/stateless_random_op.cc:282] Note the GPU implementation does not produce the same series as CPU implementation.\n"
     ]
    },
    {
     "name": "stdout",
     "output_type": "stream",
     "text": [
      "65/92 [====================>.........] - ETA: 4s - loss: 1.7304 - accuracy: 0.4221"
     ]
    },
    {
     "name": "stderr",
     "output_type": "stream",
     "text": [
      "2025-06-24 13:36:13.914918: I metal_plugin/src/kernels/stateless_random_op.cc:282] Note the GPU implementation does not produce the same series as CPU implementation.\n",
      "2025-06-24 13:36:14.070793: I metal_plugin/src/kernels/stateless_random_op.cc:282] Note the GPU implementation does not produce the same series as CPU implementation.\n"
     ]
    },
    {
     "name": "stdout",
     "output_type": "stream",
     "text": [
      "67/92 [====================>.........] - ETA: 3s - loss: 1.7374 - accuracy: 0.4249"
     ]
    },
    {
     "name": "stderr",
     "output_type": "stream",
     "text": [
      "2025-06-24 13:36:14.225216: I metal_plugin/src/kernels/stateless_random_op.cc:282] Note the GPU implementation does not produce the same series as CPU implementation.\n",
      "2025-06-24 13:36:14.379740: I metal_plugin/src/kernels/stateless_random_op.cc:282] Note the GPU implementation does not produce the same series as CPU implementation.\n"
     ]
    },
    {
     "name": "stdout",
     "output_type": "stream",
     "text": [
      "69/92 [=====================>........] - ETA: 3s - loss: 1.7552 - accuracy: 0.4266"
     ]
    },
    {
     "name": "stderr",
     "output_type": "stream",
     "text": [
      "2025-06-24 13:36:14.534196: I metal_plugin/src/kernels/stateless_random_op.cc:282] Note the GPU implementation does not produce the same series as CPU implementation.\n",
      "2025-06-24 13:36:14.687010: I metal_plugin/src/kernels/stateless_random_op.cc:282] Note the GPU implementation does not produce the same series as CPU implementation.\n"
     ]
    },
    {
     "name": "stdout",
     "output_type": "stream",
     "text": [
      "71/92 [======================>.......] - ETA: 3s - loss: 1.7572 - accuracy: 0.4269"
     ]
    },
    {
     "name": "stderr",
     "output_type": "stream",
     "text": [
      "2025-06-24 13:36:14.843671: I metal_plugin/src/kernels/stateless_random_op.cc:282] Note the GPU implementation does not produce the same series as CPU implementation.\n",
      "2025-06-24 13:36:14.998542: I metal_plugin/src/kernels/stateless_random_op.cc:282] Note the GPU implementation does not produce the same series as CPU implementation.\n"
     ]
    },
    {
     "name": "stdout",
     "output_type": "stream",
     "text": [
      "73/92 [======================>.......] - ETA: 2s - loss: 1.7586 - accuracy: 0.4217"
     ]
    },
    {
     "name": "stderr",
     "output_type": "stream",
     "text": [
      "2025-06-24 13:36:15.159849: I metal_plugin/src/kernels/stateless_random_op.cc:282] Note the GPU implementation does not produce the same series as CPU implementation.\n",
      "2025-06-24 13:36:15.313341: I metal_plugin/src/kernels/stateless_random_op.cc:282] Note the GPU implementation does not produce the same series as CPU implementation.\n"
     ]
    },
    {
     "name": "stdout",
     "output_type": "stream",
     "text": [
      "75/92 [=======================>......] - ETA: 2s - loss: 1.7579 - accuracy: 0.4183"
     ]
    },
    {
     "name": "stderr",
     "output_type": "stream",
     "text": [
      "2025-06-24 13:36:15.462503: I metal_plugin/src/kernels/stateless_random_op.cc:282] Note the GPU implementation does not produce the same series as CPU implementation.\n",
      "2025-06-24 13:36:15.619936: I metal_plugin/src/kernels/stateless_random_op.cc:282] Note the GPU implementation does not produce the same series as CPU implementation.\n"
     ]
    },
    {
     "name": "stdout",
     "output_type": "stream",
     "text": [
      "77/92 [========================>.....] - ETA: 2s - loss: 1.7572 - accuracy: 0.4127"
     ]
    },
    {
     "name": "stderr",
     "output_type": "stream",
     "text": [
      "2025-06-24 13:36:15.782001: I metal_plugin/src/kernels/stateless_random_op.cc:282] Note the GPU implementation does not produce the same series as CPU implementation.\n",
      "2025-06-24 13:36:15.937374: I metal_plugin/src/kernels/stateless_random_op.cc:282] Note the GPU implementation does not produce the same series as CPU implementation.\n"
     ]
    },
    {
     "name": "stdout",
     "output_type": "stream",
     "text": [
      "79/92 [========================>.....] - ETA: 2s - loss: 1.7469 - accuracy: 0.4122"
     ]
    },
    {
     "name": "stderr",
     "output_type": "stream",
     "text": [
      "2025-06-24 13:36:16.095631: I metal_plugin/src/kernels/stateless_random_op.cc:282] Note the GPU implementation does not produce the same series as CPU implementation.\n",
      "2025-06-24 13:36:16.251572: I metal_plugin/src/kernels/stateless_random_op.cc:282] Note the GPU implementation does not produce the same series as CPU implementation.\n"
     ]
    },
    {
     "name": "stdout",
     "output_type": "stream",
     "text": [
      "81/92 [=========================>....] - ETA: 1s - loss: 1.7360 - accuracy: 0.4136"
     ]
    },
    {
     "name": "stderr",
     "output_type": "stream",
     "text": [
      "2025-06-24 13:36:16.403363: I metal_plugin/src/kernels/stateless_random_op.cc:282] Note the GPU implementation does not produce the same series as CPU implementation.\n",
      "2025-06-24 13:36:16.584895: I metal_plugin/src/kernels/stateless_random_op.cc:282] Note the GPU implementation does not produce the same series as CPU implementation.\n"
     ]
    },
    {
     "name": "stdout",
     "output_type": "stream",
     "text": [
      "83/92 [==========================>...] - ETA: 1s - loss: 1.7263 - accuracy: 0.4138"
     ]
    },
    {
     "name": "stderr",
     "output_type": "stream",
     "text": [
      "2025-06-24 13:36:16.737608: I metal_plugin/src/kernels/stateless_random_op.cc:282] Note the GPU implementation does not produce the same series as CPU implementation.\n",
      "2025-06-24 13:36:16.895362: I metal_plugin/src/kernels/stateless_random_op.cc:282] Note the GPU implementation does not produce the same series as CPU implementation.\n"
     ]
    },
    {
     "name": "stdout",
     "output_type": "stream",
     "text": [
      "85/92 [==========================>...] - ETA: 1s - loss: 1.7154 - accuracy: 0.4162"
     ]
    },
    {
     "name": "stderr",
     "output_type": "stream",
     "text": [
      "2025-06-24 13:36:17.062919: I metal_plugin/src/kernels/stateless_random_op.cc:282] Note the GPU implementation does not produce the same series as CPU implementation.\n",
      "2025-06-24 13:36:17.222093: I metal_plugin/src/kernels/stateless_random_op.cc:282] Note the GPU implementation does not produce the same series as CPU implementation.\n"
     ]
    },
    {
     "name": "stdout",
     "output_type": "stream",
     "text": [
      "87/92 [===========================>..] - ETA: 0s - loss: 1.7002 - accuracy: 0.4217"
     ]
    },
    {
     "name": "stderr",
     "output_type": "stream",
     "text": [
      "2025-06-24 13:36:17.380790: I metal_plugin/src/kernels/stateless_random_op.cc:282] Note the GPU implementation does not produce the same series as CPU implementation.\n",
      "2025-06-24 13:36:17.542470: I metal_plugin/src/kernels/stateless_random_op.cc:282] Note the GPU implementation does not produce the same series as CPU implementation.\n"
     ]
    },
    {
     "name": "stdout",
     "output_type": "stream",
     "text": [
      "89/92 [============================>.] - ETA: 0s - loss: 1.6886 - accuracy: 0.4242"
     ]
    },
    {
     "name": "stderr",
     "output_type": "stream",
     "text": [
      "2025-06-24 13:36:17.701552: I metal_plugin/src/kernels/stateless_random_op.cc:282] Note the GPU implementation does not produce the same series as CPU implementation.\n",
      "2025-06-24 13:36:17.857123: I metal_plugin/src/kernels/stateless_random_op.cc:282] Note the GPU implementation does not produce the same series as CPU implementation.\n"
     ]
    },
    {
     "name": "stdout",
     "output_type": "stream",
     "text": [
      "91/92 [============================>.] - ETA: 0s - loss: 1.6743 - accuracy: 0.4299"
     ]
    },
    {
     "name": "stderr",
     "output_type": "stream",
     "text": [
      "2025-06-24 13:36:18.015567: I metal_plugin/src/kernels/stateless_random_op.cc:282] Note the GPU implementation does not produce the same series as CPU implementation.\n"
     ]
    },
    {
     "name": "stdout",
     "output_type": "stream",
     "text": [
      "92/92 [==============================] - 15s 158ms/step - loss: 1.6692 - accuracy: 0.4315\n",
      "Epoch 4/10\n"
     ]
    },
    {
     "name": "stderr",
     "output_type": "stream",
     "text": [
      "2025-06-24 13:36:18.216062: I metal_plugin/src/kernels/stateless_random_op.cc:282] Note the GPU implementation does not produce the same series as CPU implementation.\n",
      "2025-06-24 13:36:18.408031: I metal_plugin/src/kernels/stateless_random_op.cc:282] Note the GPU implementation does not produce the same series as CPU implementation.\n"
     ]
    },
    {
     "name": "stdout",
     "output_type": "stream",
     "text": [
      " 2/92 [..............................] - ETA: 14s - loss: 2.1705 - accuracy: 0.0000e+00"
     ]
    },
    {
     "name": "stderr",
     "output_type": "stream",
     "text": [
      "2025-06-24 13:36:18.605621: I metal_plugin/src/kernels/stateless_random_op.cc:282] Note the GPU implementation does not produce the same series as CPU implementation.\n",
      "2025-06-24 13:36:18.769109: I metal_plugin/src/kernels/stateless_random_op.cc:282] Note the GPU implementation does not produce the same series as CPU implementation.\n"
     ]
    },
    {
     "name": "stdout",
     "output_type": "stream",
     "text": [
      " 4/92 [>.............................] - ETA: 14s - loss: 2.4650 - accuracy: 0.0000e+00"
     ]
    },
    {
     "name": "stderr",
     "output_type": "stream",
     "text": [
      "2025-06-24 13:36:18.930081: I metal_plugin/src/kernels/stateless_random_op.cc:282] Note the GPU implementation does not produce the same series as CPU implementation.\n",
      "2025-06-24 13:36:19.088063: I metal_plugin/src/kernels/stateless_random_op.cc:282] Note the GPU implementation does not produce the same series as CPU implementation.\n"
     ]
    },
    {
     "name": "stdout",
     "output_type": "stream",
     "text": [
      " 6/92 [>.............................] - ETA: 13s - loss: 3.0306 - accuracy: 0.0000e+00"
     ]
    },
    {
     "name": "stderr",
     "output_type": "stream",
     "text": [
      "2025-06-24 13:36:19.239917: I metal_plugin/src/kernels/stateless_random_op.cc:282] Note the GPU implementation does not produce the same series as CPU implementation.\n",
      "2025-06-24 13:36:19.398747: I metal_plugin/src/kernels/stateless_random_op.cc:282] Note the GPU implementation does not produce the same series as CPU implementation.\n"
     ]
    },
    {
     "name": "stdout",
     "output_type": "stream",
     "text": [
      " 8/92 [=>............................] - ETA: 13s - loss: 3.2039 - accuracy: 0.0156   "
     ]
    },
    {
     "name": "stderr",
     "output_type": "stream",
     "text": [
      "2025-06-24 13:36:19.551690: I metal_plugin/src/kernels/stateless_random_op.cc:282] Note the GPU implementation does not produce the same series as CPU implementation.\n",
      "2025-06-24 13:36:19.704951: I metal_plugin/src/kernels/stateless_random_op.cc:282] Note the GPU implementation does not produce the same series as CPU implementation.\n"
     ]
    },
    {
     "name": "stdout",
     "output_type": "stream",
     "text": [
      "10/92 [==>...........................] - ETA: 12s - loss: 2.8619 - accuracy: 0.1031"
     ]
    },
    {
     "name": "stderr",
     "output_type": "stream",
     "text": [
      "2025-06-24 13:36:19.862735: I metal_plugin/src/kernels/stateless_random_op.cc:282] Note the GPU implementation does not produce the same series as CPU implementation.\n",
      "2025-06-24 13:36:20.015132: I metal_plugin/src/kernels/stateless_random_op.cc:282] Note the GPU implementation does not produce the same series as CPU implementation.\n"
     ]
    },
    {
     "name": "stdout",
     "output_type": "stream",
     "text": [
      "12/92 [==>...........................] - ETA: 12s - loss: 2.6152 - accuracy: 0.1771"
     ]
    },
    {
     "name": "stderr",
     "output_type": "stream",
     "text": [
      "2025-06-24 13:36:20.169820: I metal_plugin/src/kernels/stateless_random_op.cc:282] Note the GPU implementation does not produce the same series as CPU implementation.\n",
      "2025-06-24 13:36:20.324159: I metal_plugin/src/kernels/stateless_random_op.cc:282] Note the GPU implementation does not produce the same series as CPU implementation.\n"
     ]
    },
    {
     "name": "stdout",
     "output_type": "stream",
     "text": [
      "14/92 [===>..........................] - ETA: 12s - loss: 2.3450 - accuracy: 0.2388"
     ]
    },
    {
     "name": "stderr",
     "output_type": "stream",
     "text": [
      "2025-06-24 13:36:20.481199: I metal_plugin/src/kernels/stateless_random_op.cc:282] Note the GPU implementation does not produce the same series as CPU implementation.\n",
      "2025-06-24 13:36:20.639792: I metal_plugin/src/kernels/stateless_random_op.cc:282] Note the GPU implementation does not produce the same series as CPU implementation.\n"
     ]
    },
    {
     "name": "stdout",
     "output_type": "stream",
     "text": [
      "16/92 [====>.........................] - ETA: 11s - loss: 2.1358 - accuracy: 0.2949"
     ]
    },
    {
     "name": "stderr",
     "output_type": "stream",
     "text": [
      "2025-06-24 13:36:20.794763: I metal_plugin/src/kernels/stateless_random_op.cc:282] Note the GPU implementation does not produce the same series as CPU implementation.\n",
      "2025-06-24 13:36:20.950552: I metal_plugin/src/kernels/stateless_random_op.cc:282] Note the GPU implementation does not produce the same series as CPU implementation.\n"
     ]
    },
    {
     "name": "stdout",
     "output_type": "stream",
     "text": [
      "17/92 [====>.........................] - ETA: 11s - loss: 2.0564 - accuracy: 0.3162"
     ]
    },
    {
     "name": "stderr",
     "output_type": "stream",
     "text": [
      "2025-06-24 13:36:21.106285: I metal_plugin/src/kernels/stateless_random_op.cc:282] Note the GPU implementation does not produce the same series as CPU implementation.\n"
     ]
    },
    {
     "name": "stdout",
     "output_type": "stream",
     "text": [
      "19/92 [=====>........................] - ETA: 11s - loss: 2.0023 - accuracy: 0.3405"
     ]
    },
    {
     "name": "stderr",
     "output_type": "stream",
     "text": [
      "2025-06-24 13:36:21.318797: I metal_plugin/src/kernels/stateless_random_op.cc:282] Note the GPU implementation does not produce the same series as CPU implementation.\n",
      "2025-06-24 13:36:21.493774: I metal_plugin/src/kernels/stateless_random_op.cc:282] Note the GPU implementation does not produce the same series as CPU implementation.\n"
     ]
    },
    {
     "name": "stdout",
     "output_type": "stream",
     "text": [
      "21/92 [=====>........................] - ETA: 11s - loss: 1.9735 - accuracy: 0.3705"
     ]
    },
    {
     "name": "stderr",
     "output_type": "stream",
     "text": [
      "2025-06-24 13:36:21.662080: I metal_plugin/src/kernels/stateless_random_op.cc:282] Note the GPU implementation does not produce the same series as CPU implementation.\n",
      "2025-06-24 13:36:21.815484: I metal_plugin/src/kernels/stateless_random_op.cc:282] Note the GPU implementation does not produce the same series as CPU implementation.\n"
     ]
    },
    {
     "name": "stdout",
     "output_type": "stream",
     "text": [
      "23/92 [======>.......................] - ETA: 11s - loss: 1.9386 - accuracy: 0.3981"
     ]
    },
    {
     "name": "stderr",
     "output_type": "stream",
     "text": [
      "2025-06-24 13:36:21.968498: I metal_plugin/src/kernels/stateless_random_op.cc:282] Note the GPU implementation does not produce the same series as CPU implementation.\n",
      "2025-06-24 13:36:22.128695: I metal_plugin/src/kernels/stateless_random_op.cc:282] Note the GPU implementation does not produce the same series as CPU implementation.\n"
     ]
    },
    {
     "name": "stdout",
     "output_type": "stream",
     "text": [
      "25/92 [=======>......................] - ETA: 10s - loss: 2.0635 - accuracy: 0.4112"
     ]
    },
    {
     "name": "stderr",
     "output_type": "stream",
     "text": [
      "2025-06-24 13:36:22.294219: I metal_plugin/src/kernels/stateless_random_op.cc:282] Note the GPU implementation does not produce the same series as CPU implementation.\n",
      "2025-06-24 13:36:22.465453: I metal_plugin/src/kernels/stateless_random_op.cc:282] Note the GPU implementation does not produce the same series as CPU implementation.\n"
     ]
    },
    {
     "name": "stdout",
     "output_type": "stream",
     "text": [
      "27/92 [=======>......................] - ETA: 10s - loss: 2.0464 - accuracy: 0.4132"
     ]
    },
    {
     "name": "stderr",
     "output_type": "stream",
     "text": [
      "2025-06-24 13:36:22.627380: I metal_plugin/src/kernels/stateless_random_op.cc:282] Note the GPU implementation does not produce the same series as CPU implementation.\n",
      "2025-06-24 13:36:22.782572: I metal_plugin/src/kernels/stateless_random_op.cc:282] Note the GPU implementation does not produce the same series as CPU implementation.\n"
     ]
    },
    {
     "name": "stdout",
     "output_type": "stream",
     "text": [
      "29/92 [========>.....................] - ETA: 10s - loss: 2.1092 - accuracy: 0.4138"
     ]
    },
    {
     "name": "stderr",
     "output_type": "stream",
     "text": [
      "2025-06-24 13:36:22.939264: I metal_plugin/src/kernels/stateless_random_op.cc:282] Note the GPU implementation does not produce the same series as CPU implementation.\n",
      "2025-06-24 13:36:23.092193: I metal_plugin/src/kernels/stateless_random_op.cc:282] Note the GPU implementation does not produce the same series as CPU implementation.\n"
     ]
    },
    {
     "name": "stdout",
     "output_type": "stream",
     "text": [
      "31/92 [=========>....................] - ETA: 9s - loss: 2.1653 - accuracy: 0.4153"
     ]
    },
    {
     "name": "stderr",
     "output_type": "stream",
     "text": [
      "2025-06-24 13:36:23.247795: I metal_plugin/src/kernels/stateless_random_op.cc:282] Note the GPU implementation does not produce the same series as CPU implementation.\n",
      "2025-06-24 13:36:23.404398: I metal_plugin/src/kernels/stateless_random_op.cc:282] Note the GPU implementation does not produce the same series as CPU implementation.\n"
     ]
    },
    {
     "name": "stdout",
     "output_type": "stream",
     "text": [
      "33/92 [=========>....................] - ETA: 9s - loss: 2.1771 - accuracy: 0.4129"
     ]
    },
    {
     "name": "stderr",
     "output_type": "stream",
     "text": [
      "2025-06-24 13:36:23.561405: I metal_plugin/src/kernels/stateless_random_op.cc:282] Note the GPU implementation does not produce the same series as CPU implementation.\n",
      "2025-06-24 13:36:23.714651: I metal_plugin/src/kernels/stateless_random_op.cc:282] Note the GPU implementation does not produce the same series as CPU implementation.\n"
     ]
    },
    {
     "name": "stdout",
     "output_type": "stream",
     "text": [
      "35/92 [==========>...................] - ETA: 9s - loss: 2.1873 - accuracy: 0.4080"
     ]
    },
    {
     "name": "stderr",
     "output_type": "stream",
     "text": [
      "2025-06-24 13:36:23.868052: I metal_plugin/src/kernels/stateless_random_op.cc:282] Note the GPU implementation does not produce the same series as CPU implementation.\n",
      "2025-06-24 13:36:24.024605: I metal_plugin/src/kernels/stateless_random_op.cc:282] Note the GPU implementation does not produce the same series as CPU implementation.\n"
     ]
    },
    {
     "name": "stdout",
     "output_type": "stream",
     "text": [
      "36/92 [==========>...................] - ETA: 8s - loss: 2.1936 - accuracy: 0.4054"
     ]
    },
    {
     "name": "stderr",
     "output_type": "stream",
     "text": [
      "2025-06-24 13:36:24.179875: I metal_plugin/src/kernels/stateless_random_op.cc:282] Note the GPU implementation does not produce the same series as CPU implementation.\n"
     ]
    },
    {
     "name": "stdout",
     "output_type": "stream",
     "text": [
      "38/92 [===========>..................] - ETA: 8s - loss: 2.2046 - accuracy: 0.4046"
     ]
    },
    {
     "name": "stderr",
     "output_type": "stream",
     "text": [
      "2025-06-24 13:36:24.400826: I metal_plugin/src/kernels/stateless_random_op.cc:282] Note the GPU implementation does not produce the same series as CPU implementation.\n",
      "2025-06-24 13:36:24.563051: I metal_plugin/src/kernels/stateless_random_op.cc:282] Note the GPU implementation does not produce the same series as CPU implementation.\n"
     ]
    },
    {
     "name": "stdout",
     "output_type": "stream",
     "text": [
      "40/92 [============>.................] - ETA: 8s - loss: 2.2828 - accuracy: 0.3953"
     ]
    },
    {
     "name": "stderr",
     "output_type": "stream",
     "text": [
      "2025-06-24 13:36:24.713323: I metal_plugin/src/kernels/stateless_random_op.cc:282] Note the GPU implementation does not produce the same series as CPU implementation.\n",
      "2025-06-24 13:36:24.870298: I metal_plugin/src/kernels/stateless_random_op.cc:282] Note the GPU implementation does not produce the same series as CPU implementation.\n"
     ]
    },
    {
     "name": "stdout",
     "output_type": "stream",
     "text": [
      "42/92 [============>.................] - ETA: 8s - loss: 2.3392 - accuracy: 0.3847"
     ]
    },
    {
     "name": "stderr",
     "output_type": "stream",
     "text": [
      "2025-06-24 13:36:25.033403: I metal_plugin/src/kernels/stateless_random_op.cc:282] Note the GPU implementation does not produce the same series as CPU implementation.\n",
      "2025-06-24 13:36:25.196164: I metal_plugin/src/kernels/stateless_random_op.cc:282] Note the GPU implementation does not produce the same series as CPU implementation.\n"
     ]
    },
    {
     "name": "stdout",
     "output_type": "stream",
     "text": [
      "44/92 [=============>................] - ETA: 7s - loss: 2.5099 - accuracy: 0.3764"
     ]
    },
    {
     "name": "stderr",
     "output_type": "stream",
     "text": [
      "2025-06-24 13:36:25.368271: I metal_plugin/src/kernels/stateless_random_op.cc:282] Note the GPU implementation does not produce the same series as CPU implementation.\n",
      "2025-06-24 13:36:25.522482: I metal_plugin/src/kernels/stateless_random_op.cc:282] Note the GPU implementation does not produce the same series as CPU implementation.\n"
     ]
    },
    {
     "name": "stdout",
     "output_type": "stream",
     "text": [
      "46/92 [==============>...............] - ETA: 7s - loss: 2.5776 - accuracy: 0.3764"
     ]
    },
    {
     "name": "stderr",
     "output_type": "stream",
     "text": [
      "2025-06-24 13:36:25.676930: I metal_plugin/src/kernels/stateless_random_op.cc:282] Note the GPU implementation does not produce the same series as CPU implementation.\n",
      "2025-06-24 13:36:25.830215: I metal_plugin/src/kernels/stateless_random_op.cc:282] Note the GPU implementation does not produce the same series as CPU implementation.\n"
     ]
    },
    {
     "name": "stdout",
     "output_type": "stream",
     "text": [
      "48/92 [==============>...............] - ETA: 7s - loss: 2.7252 - accuracy: 0.3724"
     ]
    },
    {
     "name": "stderr",
     "output_type": "stream",
     "text": [
      "2025-06-24 13:36:25.984081: I metal_plugin/src/kernels/stateless_random_op.cc:282] Note the GPU implementation does not produce the same series as CPU implementation.\n",
      "2025-06-24 13:36:26.140371: I metal_plugin/src/kernels/stateless_random_op.cc:282] Note the GPU implementation does not produce the same series as CPU implementation.\n"
     ]
    },
    {
     "name": "stdout",
     "output_type": "stream",
     "text": [
      "50/92 [===============>..............] - ETA: 6s - loss: 2.6760 - accuracy: 0.3688"
     ]
    },
    {
     "name": "stderr",
     "output_type": "stream",
     "text": [
      "2025-06-24 13:36:26.301298: I metal_plugin/src/kernels/stateless_random_op.cc:282] Note the GPU implementation does not produce the same series as CPU implementation.\n",
      "2025-06-24 13:36:26.451559: I metal_plugin/src/kernels/stateless_random_op.cc:282] Note the GPU implementation does not produce the same series as CPU implementation.\n"
     ]
    },
    {
     "name": "stdout",
     "output_type": "stream",
     "text": [
      "52/92 [===============>..............] - ETA: 6s - loss: 2.6324 - accuracy: 0.3666"
     ]
    },
    {
     "name": "stderr",
     "output_type": "stream",
     "text": [
      "2025-06-24 13:36:26.603120: I metal_plugin/src/kernels/stateless_random_op.cc:282] Note the GPU implementation does not produce the same series as CPU implementation.\n",
      "2025-06-24 13:36:26.754560: I metal_plugin/src/kernels/stateless_random_op.cc:282] Note the GPU implementation does not produce the same series as CPU implementation.\n"
     ]
    },
    {
     "name": "stdout",
     "output_type": "stream",
     "text": [
      "54/92 [================>.............] - ETA: 6s - loss: 2.6010 - accuracy: 0.3617"
     ]
    },
    {
     "name": "stderr",
     "output_type": "stream",
     "text": [
      "2025-06-24 13:36:26.916386: I metal_plugin/src/kernels/stateless_random_op.cc:282] Note the GPU implementation does not produce the same series as CPU implementation.\n",
      "2025-06-24 13:36:27.070449: I metal_plugin/src/kernels/stateless_random_op.cc:282] Note the GPU implementation does not produce the same series as CPU implementation.\n"
     ]
    },
    {
     "name": "stdout",
     "output_type": "stream",
     "text": [
      "56/92 [=================>............] - ETA: 5s - loss: 2.5720 - accuracy: 0.3577"
     ]
    },
    {
     "name": "stderr",
     "output_type": "stream",
     "text": [
      "2025-06-24 13:36:27.247605: I metal_plugin/src/kernels/stateless_random_op.cc:282] Note the GPU implementation does not produce the same series as CPU implementation.\n",
      "2025-06-24 13:36:27.418442: I metal_plugin/src/kernels/stateless_random_op.cc:282] Note the GPU implementation does not produce the same series as CPU implementation.\n"
     ]
    },
    {
     "name": "stdout",
     "output_type": "stream",
     "text": [
      "57/92 [=================>............] - ETA: 5s - loss: 2.5582 - accuracy: 0.3558"
     ]
    },
    {
     "name": "stderr",
     "output_type": "stream",
     "text": [
      "2025-06-24 13:36:27.581730: I metal_plugin/src/kernels/stateless_random_op.cc:282] Note the GPU implementation does not produce the same series as CPU implementation.\n"
     ]
    },
    {
     "name": "stdout",
     "output_type": "stream",
     "text": [
      "59/92 [==================>...........] - ETA: 5s - loss: 2.5265 - accuracy: 0.3554"
     ]
    },
    {
     "name": "stderr",
     "output_type": "stream",
     "text": [
      "2025-06-24 13:36:27.805951: I metal_plugin/src/kernels/stateless_random_op.cc:282] Note the GPU implementation does not produce the same series as CPU implementation.\n",
      "2025-06-24 13:36:27.961505: I metal_plugin/src/kernels/stateless_random_op.cc:282] Note the GPU implementation does not produce the same series as CPU implementation.\n"
     ]
    },
    {
     "name": "stdout",
     "output_type": "stream",
     "text": [
      "61/92 [==================>...........] - ETA: 5s - loss: 2.5091 - accuracy: 0.3540"
     ]
    },
    {
     "name": "stderr",
     "output_type": "stream",
     "text": [
      "2025-06-24 13:36:28.123403: I metal_plugin/src/kernels/stateless_random_op.cc:282] Note the GPU implementation does not produce the same series as CPU implementation.\n",
      "2025-06-24 13:36:28.286948: I metal_plugin/src/kernels/stateless_random_op.cc:282] Note the GPU implementation does not produce the same series as CPU implementation.\n"
     ]
    },
    {
     "name": "stdout",
     "output_type": "stream",
     "text": [
      "63/92 [===================>..........] - ETA: 4s - loss: 2.4894 - accuracy: 0.3542"
     ]
    },
    {
     "name": "stderr",
     "output_type": "stream",
     "text": [
      "2025-06-24 13:36:28.448305: I metal_plugin/src/kernels/stateless_random_op.cc:282] Note the GPU implementation does not produce the same series as CPU implementation.\n",
      "2025-06-24 13:36:28.611478: I metal_plugin/src/kernels/stateless_random_op.cc:282] Note the GPU implementation does not produce the same series as CPU implementation.\n"
     ]
    },
    {
     "name": "stdout",
     "output_type": "stream",
     "text": [
      "65/92 [====================>.........] - ETA: 4s - loss: 2.4795 - accuracy: 0.3486"
     ]
    },
    {
     "name": "stderr",
     "output_type": "stream",
     "text": [
      "2025-06-24 13:36:28.770050: I metal_plugin/src/kernels/stateless_random_op.cc:282] Note the GPU implementation does not produce the same series as CPU implementation.\n",
      "2025-06-24 13:36:28.931171: I metal_plugin/src/kernels/stateless_random_op.cc:282] Note the GPU implementation does not produce the same series as CPU implementation.\n"
     ]
    },
    {
     "name": "stdout",
     "output_type": "stream",
     "text": [
      "67/92 [====================>.........] - ETA: 4s - loss: 2.4708 - accuracy: 0.3456"
     ]
    },
    {
     "name": "stderr",
     "output_type": "stream",
     "text": [
      "2025-06-24 13:36:29.097055: I metal_plugin/src/kernels/stateless_random_op.cc:282] Note the GPU implementation does not produce the same series as CPU implementation.\n",
      "2025-06-24 13:36:29.262121: I metal_plugin/src/kernels/stateless_random_op.cc:282] Note the GPU implementation does not produce the same series as CPU implementation.\n"
     ]
    },
    {
     "name": "stdout",
     "output_type": "stream",
     "text": [
      "69/92 [=====================>........] - ETA: 3s - loss: 2.4594 - accuracy: 0.3419"
     ]
    },
    {
     "name": "stderr",
     "output_type": "stream",
     "text": [
      "2025-06-24 13:36:29.425530: I metal_plugin/src/kernels/stateless_random_op.cc:282] Note the GPU implementation does not produce the same series as CPU implementation.\n",
      "2025-06-24 13:36:29.588094: I metal_plugin/src/kernels/stateless_random_op.cc:282] Note the GPU implementation does not produce the same series as CPU implementation.\n"
     ]
    },
    {
     "name": "stdout",
     "output_type": "stream",
     "text": [
      "71/92 [======================>.......] - ETA: 3s - loss: 2.4568 - accuracy: 0.3358"
     ]
    },
    {
     "name": "stderr",
     "output_type": "stream",
     "text": [
      "2025-06-24 13:36:29.748172: I metal_plugin/src/kernels/stateless_random_op.cc:282] Note the GPU implementation does not produce the same series as CPU implementation.\n",
      "2025-06-24 13:36:29.905893: I metal_plugin/src/kernels/stateless_random_op.cc:282] Note the GPU implementation does not produce the same series as CPU implementation.\n"
     ]
    },
    {
     "name": "stdout",
     "output_type": "stream",
     "text": [
      "73/92 [======================>.......] - ETA: 3s - loss: 2.4521 - accuracy: 0.3365"
     ]
    },
    {
     "name": "stderr",
     "output_type": "stream",
     "text": [
      "2025-06-24 13:36:30.063172: I metal_plugin/src/kernels/stateless_random_op.cc:282] Note the GPU implementation does not produce the same series as CPU implementation.\n",
      "2025-06-24 13:36:30.231794: I metal_plugin/src/kernels/stateless_random_op.cc:282] Note the GPU implementation does not produce the same series as CPU implementation.\n"
     ]
    },
    {
     "name": "stdout",
     "output_type": "stream",
     "text": [
      "75/92 [=======================>......] - ETA: 2s - loss: 2.4389 - accuracy: 0.3388"
     ]
    },
    {
     "name": "stderr",
     "output_type": "stream",
     "text": [
      "2025-06-24 13:36:30.397799: I metal_plugin/src/kernels/stateless_random_op.cc:282] Note the GPU implementation does not produce the same series as CPU implementation.\n",
      "2025-06-24 13:36:30.594142: I metal_plugin/src/kernels/stateless_random_op.cc:282] Note the GPU implementation does not produce the same series as CPU implementation.\n"
     ]
    },
    {
     "name": "stdout",
     "output_type": "stream",
     "text": [
      "77/92 [========================>.....] - ETA: 2s - loss: 2.4327 - accuracy: 0.3381"
     ]
    },
    {
     "name": "stderr",
     "output_type": "stream",
     "text": [
      "2025-06-24 13:36:30.767331: I metal_plugin/src/kernels/stateless_random_op.cc:282] Note the GPU implementation does not produce the same series as CPU implementation.\n",
      "2025-06-24 13:36:30.927036: I metal_plugin/src/kernels/stateless_random_op.cc:282] Note the GPU implementation does not produce the same series as CPU implementation.\n"
     ]
    },
    {
     "name": "stdout",
     "output_type": "stream",
     "text": [
      "79/92 [========================>.....] - ETA: 2s - loss: 2.4307 - accuracy: 0.3366"
     ]
    },
    {
     "name": "stderr",
     "output_type": "stream",
     "text": [
      "2025-06-24 13:36:31.089442: I metal_plugin/src/kernels/stateless_random_op.cc:282] Note the GPU implementation does not produce the same series as CPU implementation.\n",
      "2025-06-24 13:36:31.256015: I metal_plugin/src/kernels/stateless_random_op.cc:282] Note the GPU implementation does not produce the same series as CPU implementation.\n"
     ]
    },
    {
     "name": "stdout",
     "output_type": "stream",
     "text": [
      "81/92 [=========================>....] - ETA: 1s - loss: 2.4291 - accuracy: 0.3341"
     ]
    },
    {
     "name": "stderr",
     "output_type": "stream",
     "text": [
      "2025-06-24 13:36:31.420243: I metal_plugin/src/kernels/stateless_random_op.cc:282] Note the GPU implementation does not produce the same series as CPU implementation.\n",
      "2025-06-24 13:36:31.591157: I metal_plugin/src/kernels/stateless_random_op.cc:282] Note the GPU implementation does not produce the same series as CPU implementation.\n"
     ]
    },
    {
     "name": "stdout",
     "output_type": "stream",
     "text": [
      "83/92 [==========================>...] - ETA: 1s - loss: 2.4252 - accuracy: 0.3370"
     ]
    },
    {
     "name": "stderr",
     "output_type": "stream",
     "text": [
      "2025-06-24 13:36:31.746752: I metal_plugin/src/kernels/stateless_random_op.cc:282] Note the GPU implementation does not produce the same series as CPU implementation.\n",
      "2025-06-24 13:36:31.902051: I metal_plugin/src/kernels/stateless_random_op.cc:282] Note the GPU implementation does not produce the same series as CPU implementation.\n"
     ]
    },
    {
     "name": "stdout",
     "output_type": "stream",
     "text": [
      "85/92 [==========================>...] - ETA: 1s - loss: 2.4107 - accuracy: 0.3430"
     ]
    },
    {
     "name": "stderr",
     "output_type": "stream",
     "text": [
      "2025-06-24 13:36:32.058168: I metal_plugin/src/kernels/stateless_random_op.cc:282] Note the GPU implementation does not produce the same series as CPU implementation.\n",
      "2025-06-24 13:36:32.219992: I metal_plugin/src/kernels/stateless_random_op.cc:282] Note the GPU implementation does not produce the same series as CPU implementation.\n"
     ]
    },
    {
     "name": "stdout",
     "output_type": "stream",
     "text": [
      "87/92 [===========================>..] - ETA: 0s - loss: 2.3910 - accuracy: 0.3409"
     ]
    },
    {
     "name": "stderr",
     "output_type": "stream",
     "text": [
      "2025-06-24 13:36:32.418125: I metal_plugin/src/kernels/stateless_random_op.cc:282] Note the GPU implementation does not produce the same series as CPU implementation.\n",
      "2025-06-24 13:36:32.581630: I metal_plugin/src/kernels/stateless_random_op.cc:282] Note the GPU implementation does not produce the same series as CPU implementation.\n"
     ]
    },
    {
     "name": "stdout",
     "output_type": "stream",
     "text": [
      "89/92 [============================>.] - ETA: 0s - loss: 2.3736 - accuracy: 0.3402"
     ]
    },
    {
     "name": "stderr",
     "output_type": "stream",
     "text": [
      "2025-06-24 13:36:32.743874: I metal_plugin/src/kernels/stateless_random_op.cc:282] Note the GPU implementation does not produce the same series as CPU implementation.\n",
      "2025-06-24 13:36:32.903659: I metal_plugin/src/kernels/stateless_random_op.cc:282] Note the GPU implementation does not produce the same series as CPU implementation.\n"
     ]
    },
    {
     "name": "stdout",
     "output_type": "stream",
     "text": [
      "91/92 [============================>.] - ETA: 0s - loss: 2.3480 - accuracy: 0.3448"
     ]
    },
    {
     "name": "stderr",
     "output_type": "stream",
     "text": [
      "2025-06-24 13:36:33.060886: I metal_plugin/src/kernels/stateless_random_op.cc:282] Note the GPU implementation does not produce the same series as CPU implementation.\n",
      "2025-06-24 13:36:33.211531: I metal_plugin/src/kernels/stateless_random_op.cc:282] Note the GPU implementation does not produce the same series as CPU implementation.\n"
     ]
    },
    {
     "name": "stdout",
     "output_type": "stream",
     "text": [
      "92/92 [==============================] - 15s 162ms/step - loss: 2.3381 - accuracy: 0.3474\n",
      "Epoch 5/10\n",
      " 1/92 [..............................] - ETA: 17s - loss: 2.9544 - accuracy: 0.0000e+00"
     ]
    },
    {
     "name": "stderr",
     "output_type": "stream",
     "text": [
      "2025-06-24 13:36:33.405330: I metal_plugin/src/kernels/stateless_random_op.cc:282] Note the GPU implementation does not produce the same series as CPU implementation.\n",
      "2025-06-24 13:36:33.595732: I metal_plugin/src/kernels/stateless_random_op.cc:282] Note the GPU implementation does not produce the same series as CPU implementation.\n"
     ]
    },
    {
     "name": "stdout",
     "output_type": "stream",
     "text": [
      " 3/92 [..............................] - ETA: 15s - loss: 2.7162 - accuracy: 0.0000e+00"
     ]
    },
    {
     "name": "stderr",
     "output_type": "stream",
     "text": [
      "2025-06-24 13:36:33.782113: I metal_plugin/src/kernels/stateless_random_op.cc:282] Note the GPU implementation does not produce the same series as CPU implementation.\n",
      "2025-06-24 13:36:33.946790: I metal_plugin/src/kernels/stateless_random_op.cc:282] Note the GPU implementation does not produce the same series as CPU implementation.\n"
     ]
    },
    {
     "name": "stdout",
     "output_type": "stream",
     "text": [
      " 5/92 [>.............................] - ETA: 15s - loss: 2.4298 - accuracy: 0.0000e+00"
     ]
    },
    {
     "name": "stderr",
     "output_type": "stream",
     "text": [
      "2025-06-24 13:36:34.135208: I metal_plugin/src/kernels/stateless_random_op.cc:282] Note the GPU implementation does not produce the same series as CPU implementation.\n",
      "2025-06-24 13:36:34.292270: I metal_plugin/src/kernels/stateless_random_op.cc:282] Note the GPU implementation does not produce the same series as CPU implementation.\n"
     ]
    },
    {
     "name": "stdout",
     "output_type": "stream",
     "text": [
      " 7/92 [=>............................] - ETA: 14s - loss: 2.2149 - accuracy: 0.0000e+00"
     ]
    },
    {
     "name": "stderr",
     "output_type": "stream",
     "text": [
      "2025-06-24 13:36:34.447723: I metal_plugin/src/kernels/stateless_random_op.cc:282] Note the GPU implementation does not produce the same series as CPU implementation.\n",
      "2025-06-24 13:36:34.602307: I metal_plugin/src/kernels/stateless_random_op.cc:282] Note the GPU implementation does not produce the same series as CPU implementation.\n"
     ]
    },
    {
     "name": "stdout",
     "output_type": "stream",
     "text": [
      " 9/92 [=>............................] - ETA: 13s - loss: 2.0492 - accuracy: 0.0451    "
     ]
    },
    {
     "name": "stderr",
     "output_type": "stream",
     "text": [
      "2025-06-24 13:36:34.769005: I metal_plugin/src/kernels/stateless_random_op.cc:282] Note the GPU implementation does not produce the same series as CPU implementation.\n",
      "2025-06-24 13:36:34.925311: I metal_plugin/src/kernels/stateless_random_op.cc:282] Note the GPU implementation does not produce the same series as CPU implementation.\n"
     ]
    },
    {
     "name": "stdout",
     "output_type": "stream",
     "text": [
      "11/92 [==>...........................] - ETA: 13s - loss: 1.9041 - accuracy: 0.1278"
     ]
    },
    {
     "name": "stderr",
     "output_type": "stream",
     "text": [
      "2025-06-24 13:36:35.090796: I metal_plugin/src/kernels/stateless_random_op.cc:282] Note the GPU implementation does not produce the same series as CPU implementation.\n",
      "2025-06-24 13:36:35.249776: I metal_plugin/src/kernels/stateless_random_op.cc:282] Note the GPU implementation does not produce the same series as CPU implementation.\n"
     ]
    },
    {
     "name": "stdout",
     "output_type": "stream",
     "text": [
      "13/92 [===>..........................] - ETA: 13s - loss: 1.7849 - accuracy: 0.1707"
     ]
    },
    {
     "name": "stderr",
     "output_type": "stream",
     "text": [
      "2025-06-24 13:36:35.414219: I metal_plugin/src/kernels/stateless_random_op.cc:282] Note the GPU implementation does not produce the same series as CPU implementation.\n",
      "2025-06-24 13:36:35.574389: I metal_plugin/src/kernels/stateless_random_op.cc:282] Note the GPU implementation does not produce the same series as CPU implementation.\n"
     ]
    },
    {
     "name": "stdout",
     "output_type": "stream",
     "text": [
      "15/92 [===>..........................] - ETA: 12s - loss: 1.6829 - accuracy: 0.2104"
     ]
    },
    {
     "name": "stderr",
     "output_type": "stream",
     "text": [
      "2025-06-24 13:36:35.728924: I metal_plugin/src/kernels/stateless_random_op.cc:282] Note the GPU implementation does not produce the same series as CPU implementation.\n",
      "2025-06-24 13:36:35.885306: I metal_plugin/src/kernels/stateless_random_op.cc:282] Note the GPU implementation does not produce the same series as CPU implementation.\n"
     ]
    },
    {
     "name": "stdout",
     "output_type": "stream",
     "text": [
      "17/92 [====>.........................] - ETA: 12s - loss: 1.6023 - accuracy: 0.2279"
     ]
    },
    {
     "name": "stderr",
     "output_type": "stream",
     "text": [
      "2025-06-24 13:36:36.039323: I metal_plugin/src/kernels/stateless_random_op.cc:282] Note the GPU implementation does not produce the same series as CPU implementation.\n",
      "2025-06-24 13:36:36.194902: I metal_plugin/src/kernels/stateless_random_op.cc:282] Note the GPU implementation does not produce the same series as CPU implementation.\n"
     ]
    },
    {
     "name": "stdout",
     "output_type": "stream",
     "text": [
      "19/92 [=====>........................] - ETA: 11s - loss: 1.5479 - accuracy: 0.2418"
     ]
    },
    {
     "name": "stderr",
     "output_type": "stream",
     "text": [
      "2025-06-24 13:36:36.351211: I metal_plugin/src/kernels/stateless_random_op.cc:282] Note the GPU implementation does not produce the same series as CPU implementation.\n",
      "2025-06-24 13:36:36.528462: I metal_plugin/src/kernels/stateless_random_op.cc:282] Note the GPU implementation does not produce the same series as CPU implementation.\n"
     ]
    },
    {
     "name": "stdout",
     "output_type": "stream",
     "text": [
      "21/92 [=====>........................] - ETA: 11s - loss: 1.5228 - accuracy: 0.2396"
     ]
    },
    {
     "name": "stderr",
     "output_type": "stream",
     "text": [
      "2025-06-24 13:36:36.683478: I metal_plugin/src/kernels/stateless_random_op.cc:282] Note the GPU implementation does not produce the same series as CPU implementation.\n",
      "2025-06-24 13:36:36.841009: I metal_plugin/src/kernels/stateless_random_op.cc:282] Note the GPU implementation does not produce the same series as CPU implementation.\n"
     ]
    },
    {
     "name": "stdout",
     "output_type": "stream",
     "text": [
      "23/92 [======>.......................] - ETA: 11s - loss: 1.4927 - accuracy: 0.2486"
     ]
    },
    {
     "name": "stderr",
     "output_type": "stream",
     "text": [
      "2025-06-24 13:36:36.997346: I metal_plugin/src/kernels/stateless_random_op.cc:282] Note the GPU implementation does not produce the same series as CPU implementation.\n",
      "2025-06-24 13:36:37.150364: I metal_plugin/src/kernels/stateless_random_op.cc:282] Note the GPU implementation does not produce the same series as CPU implementation.\n"
     ]
    },
    {
     "name": "stdout",
     "output_type": "stream",
     "text": [
      "25/92 [=======>......................] - ETA: 10s - loss: 1.4828 - accuracy: 0.2488"
     ]
    },
    {
     "name": "stderr",
     "output_type": "stream",
     "text": [
      "2025-06-24 13:36:37.306734: I metal_plugin/src/kernels/stateless_random_op.cc:282] Note the GPU implementation does not produce the same series as CPU implementation.\n",
      "2025-06-24 13:36:37.472454: I metal_plugin/src/kernels/stateless_random_op.cc:282] Note the GPU implementation does not produce the same series as CPU implementation.\n"
     ]
    },
    {
     "name": "stdout",
     "output_type": "stream",
     "text": [
      "27/92 [=======>......................] - ETA: 10s - loss: 1.4851 - accuracy: 0.2650"
     ]
    },
    {
     "name": "stderr",
     "output_type": "stream",
     "text": [
      "2025-06-24 13:36:37.637455: I metal_plugin/src/kernels/stateless_random_op.cc:282] Note the GPU implementation does not produce the same series as CPU implementation.\n",
      "2025-06-24 13:36:37.815641: I metal_plugin/src/kernels/stateless_random_op.cc:282] Note the GPU implementation does not produce the same series as CPU implementation.\n"
     ]
    },
    {
     "name": "stdout",
     "output_type": "stream",
     "text": [
      "29/92 [========>.....................] - ETA: 10s - loss: 1.4862 - accuracy: 0.2726"
     ]
    },
    {
     "name": "stderr",
     "output_type": "stream",
     "text": [
      "2025-06-24 13:36:37.989209: I metal_plugin/src/kernels/stateless_random_op.cc:282] Note the GPU implementation does not produce the same series as CPU implementation.\n",
      "2025-06-24 13:36:38.157101: I metal_plugin/src/kernels/stateless_random_op.cc:282] Note the GPU implementation does not produce the same series as CPU implementation.\n"
     ]
    },
    {
     "name": "stdout",
     "output_type": "stream",
     "text": [
      "31/92 [=========>....................] - ETA: 9s - loss: 1.4932 - accuracy: 0.2762 "
     ]
    },
    {
     "name": "stderr",
     "output_type": "stream",
     "text": [
      "2025-06-24 13:36:38.321475: I metal_plugin/src/kernels/stateless_random_op.cc:282] Note the GPU implementation does not produce the same series as CPU implementation.\n",
      "2025-06-24 13:36:38.477449: I metal_plugin/src/kernels/stateless_random_op.cc:282] Note the GPU implementation does not produce the same series as CPU implementation.\n"
     ]
    },
    {
     "name": "stdout",
     "output_type": "stream",
     "text": [
      "33/92 [=========>....................] - ETA: 9s - loss: 1.5051 - accuracy: 0.2775"
     ]
    },
    {
     "name": "stderr",
     "output_type": "stream",
     "text": [
      "2025-06-24 13:36:38.640111: I metal_plugin/src/kernels/stateless_random_op.cc:282] Note the GPU implementation does not produce the same series as CPU implementation.\n",
      "2025-06-24 13:36:38.799674: I metal_plugin/src/kernels/stateless_random_op.cc:282] Note the GPU implementation does not produce the same series as CPU implementation.\n"
     ]
    },
    {
     "name": "stdout",
     "output_type": "stream",
     "text": [
      "35/92 [==========>...................] - ETA: 9s - loss: 1.5184 - accuracy: 0.2848"
     ]
    },
    {
     "name": "stderr",
     "output_type": "stream",
     "text": [
      "2025-06-24 13:36:38.955864: I metal_plugin/src/kernels/stateless_random_op.cc:282] Note the GPU implementation does not produce the same series as CPU implementation.\n",
      "2025-06-24 13:36:39.112915: I metal_plugin/src/kernels/stateless_random_op.cc:282] Note the GPU implementation does not produce the same series as CPU implementation.\n"
     ]
    },
    {
     "name": "stdout",
     "output_type": "stream",
     "text": [
      "37/92 [===========>..................] - ETA: 8s - loss: 1.5222 - accuracy: 0.2922"
     ]
    },
    {
     "name": "stderr",
     "output_type": "stream",
     "text": [
      "2025-06-24 13:36:39.274786: I metal_plugin/src/kernels/stateless_random_op.cc:282] Note the GPU implementation does not produce the same series as CPU implementation.\n",
      "2025-06-24 13:36:39.444559: I metal_plugin/src/kernels/stateless_random_op.cc:282] Note the GPU implementation does not produce the same series as CPU implementation.\n"
     ]
    },
    {
     "name": "stdout",
     "output_type": "stream",
     "text": [
      "39/92 [===========>..................] - ETA: 8s - loss: 1.5339 - accuracy: 0.2925"
     ]
    },
    {
     "name": "stderr",
     "output_type": "stream",
     "text": [
      "2025-06-24 13:36:39.602557: I metal_plugin/src/kernels/stateless_random_op.cc:282] Note the GPU implementation does not produce the same series as CPU implementation.\n",
      "2025-06-24 13:36:39.759539: I metal_plugin/src/kernels/stateless_random_op.cc:282] Note the GPU implementation does not produce the same series as CPU implementation.\n"
     ]
    },
    {
     "name": "stdout",
     "output_type": "stream",
     "text": [
      "41/92 [============>.................] - ETA: 8s - loss: 1.5457 - accuracy: 0.2919"
     ]
    },
    {
     "name": "stderr",
     "output_type": "stream",
     "text": [
      "2025-06-24 13:36:39.914428: I metal_plugin/src/kernels/stateless_random_op.cc:282] Note the GPU implementation does not produce the same series as CPU implementation.\n",
      "2025-06-24 13:36:40.081633: I metal_plugin/src/kernels/stateless_random_op.cc:282] Note the GPU implementation does not produce the same series as CPU implementation.\n"
     ]
    },
    {
     "name": "stdout",
     "output_type": "stream",
     "text": [
      "43/92 [=============>................] - ETA: 7s - loss: 1.5466 - accuracy: 0.2951"
     ]
    },
    {
     "name": "stderr",
     "output_type": "stream",
     "text": [
      "2025-06-24 13:36:40.247896: I metal_plugin/src/kernels/stateless_random_op.cc:282] Note the GPU implementation does not produce the same series as CPU implementation.\n",
      "2025-06-24 13:36:40.408806: I metal_plugin/src/kernels/stateless_random_op.cc:282] Note the GPU implementation does not produce the same series as CPU implementation.\n"
     ]
    },
    {
     "name": "stdout",
     "output_type": "stream",
     "text": [
      "45/92 [=============>................] - ETA: 7s - loss: 1.5557 - accuracy: 0.2924"
     ]
    },
    {
     "name": "stderr",
     "output_type": "stream",
     "text": [
      "2025-06-24 13:36:40.565923: I metal_plugin/src/kernels/stateless_random_op.cc:282] Note the GPU implementation does not produce the same series as CPU implementation.\n",
      "2025-06-24 13:36:40.738942: I metal_plugin/src/kernels/stateless_random_op.cc:282] Note the GPU implementation does not produce the same series as CPU implementation.\n"
     ]
    },
    {
     "name": "stdout",
     "output_type": "stream",
     "text": [
      "47/92 [==============>...............] - ETA: 7s - loss: 1.5640 - accuracy: 0.2892"
     ]
    },
    {
     "name": "stderr",
     "output_type": "stream",
     "text": [
      "2025-06-24 13:36:40.895026: I metal_plugin/src/kernels/stateless_random_op.cc:282] Note the GPU implementation does not produce the same series as CPU implementation.\n",
      "2025-06-24 13:36:41.067838: I metal_plugin/src/kernels/stateless_random_op.cc:282] Note the GPU implementation does not produce the same series as CPU implementation.\n"
     ]
    },
    {
     "name": "stdout",
     "output_type": "stream",
     "text": [
      "49/92 [==============>...............] - ETA: 6s - loss: 1.5737 - accuracy: 0.2889"
     ]
    },
    {
     "name": "stderr",
     "output_type": "stream",
     "text": [
      "2025-06-24 13:36:41.219481: I metal_plugin/src/kernels/stateless_random_op.cc:282] Note the GPU implementation does not produce the same series as CPU implementation.\n",
      "2025-06-24 13:36:41.378164: I metal_plugin/src/kernels/stateless_random_op.cc:282] Note the GPU implementation does not produce the same series as CPU implementation.\n"
     ]
    },
    {
     "name": "stdout",
     "output_type": "stream",
     "text": [
      "51/92 [===============>..............] - ETA: 6s - loss: 1.5881 - accuracy: 0.2880"
     ]
    },
    {
     "name": "stderr",
     "output_type": "stream",
     "text": [
      "2025-06-24 13:36:41.533313: I metal_plugin/src/kernels/stateless_random_op.cc:282] Note the GPU implementation does not produce the same series as CPU implementation.\n",
      "2025-06-24 13:36:41.688914: I metal_plugin/src/kernels/stateless_random_op.cc:282] Note the GPU implementation does not produce the same series as CPU implementation.\n"
     ]
    },
    {
     "name": "stdout",
     "output_type": "stream",
     "text": [
      "53/92 [================>.............] - ETA: 6s - loss: 1.6000 - accuracy: 0.2889"
     ]
    },
    {
     "name": "stderr",
     "output_type": "stream",
     "text": [
      "2025-06-24 13:36:41.850782: I metal_plugin/src/kernels/stateless_random_op.cc:282] Note the GPU implementation does not produce the same series as CPU implementation.\n",
      "2025-06-24 13:36:42.024279: I metal_plugin/src/kernels/stateless_random_op.cc:282] Note the GPU implementation does not produce the same series as CPU implementation.\n"
     ]
    },
    {
     "name": "stdout",
     "output_type": "stream",
     "text": [
      "55/92 [================>.............] - ETA: 5s - loss: 1.6107 - accuracy: 0.2881"
     ]
    },
    {
     "name": "stderr",
     "output_type": "stream",
     "text": [
      "2025-06-24 13:36:42.180215: I metal_plugin/src/kernels/stateless_random_op.cc:282] Note the GPU implementation does not produce the same series as CPU implementation.\n",
      "2025-06-24 13:36:42.350217: I metal_plugin/src/kernels/stateless_random_op.cc:282] Note the GPU implementation does not produce the same series as CPU implementation.\n"
     ]
    },
    {
     "name": "stdout",
     "output_type": "stream",
     "text": [
      "57/92 [=================>............] - ETA: 5s - loss: 1.6176 - accuracy: 0.2878"
     ]
    },
    {
     "name": "stderr",
     "output_type": "stream",
     "text": [
      "2025-06-24 13:36:42.502643: I metal_plugin/src/kernels/stateless_random_op.cc:282] Note the GPU implementation does not produce the same series as CPU implementation.\n",
      "2025-06-24 13:36:42.659165: I metal_plugin/src/kernels/stateless_random_op.cc:282] Note the GPU implementation does not produce the same series as CPU implementation.\n"
     ]
    },
    {
     "name": "stdout",
     "output_type": "stream",
     "text": [
      "59/92 [==================>...........] - ETA: 5s - loss: 1.6258 - accuracy: 0.2860"
     ]
    },
    {
     "name": "stderr",
     "output_type": "stream",
     "text": [
      "2025-06-24 13:36:42.811010: I metal_plugin/src/kernels/stateless_random_op.cc:282] Note the GPU implementation does not produce the same series as CPU implementation.\n",
      "2025-06-24 13:36:42.966355: I metal_plugin/src/kernels/stateless_random_op.cc:282] Note the GPU implementation does not produce the same series as CPU implementation.\n"
     ]
    },
    {
     "name": "stdout",
     "output_type": "stream",
     "text": [
      "61/92 [==================>...........] - ETA: 5s - loss: 1.6352 - accuracy: 0.2843"
     ]
    },
    {
     "name": "stderr",
     "output_type": "stream",
     "text": [
      "2025-06-24 13:36:43.123669: I metal_plugin/src/kernels/stateless_random_op.cc:282] Note the GPU implementation does not produce the same series as CPU implementation.\n",
      "2025-06-24 13:36:43.276539: I metal_plugin/src/kernels/stateless_random_op.cc:282] Note the GPU implementation does not produce the same series as CPU implementation.\n"
     ]
    },
    {
     "name": "stdout",
     "output_type": "stream",
     "text": [
      "63/92 [===================>..........] - ETA: 4s - loss: 1.6408 - accuracy: 0.2817"
     ]
    },
    {
     "name": "stderr",
     "output_type": "stream",
     "text": [
      "2025-06-24 13:36:43.428911: I metal_plugin/src/kernels/stateless_random_op.cc:282] Note the GPU implementation does not produce the same series as CPU implementation.\n",
      "2025-06-24 13:36:43.584336: I metal_plugin/src/kernels/stateless_random_op.cc:282] Note the GPU implementation does not produce the same series as CPU implementation.\n"
     ]
    },
    {
     "name": "stdout",
     "output_type": "stream",
     "text": [
      "65/92 [====================>.........] - ETA: 4s - loss: 1.6470 - accuracy: 0.2808"
     ]
    },
    {
     "name": "stderr",
     "output_type": "stream",
     "text": [
      "2025-06-24 13:36:43.746009: I metal_plugin/src/kernels/stateless_random_op.cc:282] Note the GPU implementation does not produce the same series as CPU implementation.\n",
      "2025-06-24 13:36:43.905462: I metal_plugin/src/kernels/stateless_random_op.cc:282] Note the GPU implementation does not produce the same series as CPU implementation.\n"
     ]
    },
    {
     "name": "stdout",
     "output_type": "stream",
     "text": [
      "67/92 [====================>.........] - ETA: 4s - loss: 1.6574 - accuracy: 0.2803"
     ]
    },
    {
     "name": "stderr",
     "output_type": "stream",
     "text": [
      "2025-06-24 13:36:44.060438: I metal_plugin/src/kernels/stateless_random_op.cc:282] Note the GPU implementation does not produce the same series as CPU implementation.\n",
      "2025-06-24 13:36:44.225933: I metal_plugin/src/kernels/stateless_random_op.cc:282] Note the GPU implementation does not produce the same series as CPU implementation.\n"
     ]
    },
    {
     "name": "stdout",
     "output_type": "stream",
     "text": [
      "69/92 [=====================>........] - ETA: 3s - loss: 1.6675 - accuracy: 0.2790"
     ]
    },
    {
     "name": "stderr",
     "output_type": "stream",
     "text": [
      "2025-06-24 13:36:44.390294: I metal_plugin/src/kernels/stateless_random_op.cc:282] Note the GPU implementation does not produce the same series as CPU implementation.\n",
      "2025-06-24 13:36:44.565599: I metal_plugin/src/kernels/stateless_random_op.cc:282] Note the GPU implementation does not produce the same series as CPU implementation.\n"
     ]
    },
    {
     "name": "stdout",
     "output_type": "stream",
     "text": [
      "71/92 [======================>.......] - ETA: 3s - loss: 1.6756 - accuracy: 0.2742"
     ]
    },
    {
     "name": "stderr",
     "output_type": "stream",
     "text": [
      "2025-06-24 13:36:44.730802: I metal_plugin/src/kernels/stateless_random_op.cc:282] Note the GPU implementation does not produce the same series as CPU implementation.\n",
      "2025-06-24 13:36:44.888082: I metal_plugin/src/kernels/stateless_random_op.cc:282] Note the GPU implementation does not produce the same series as CPU implementation.\n"
     ]
    },
    {
     "name": "stdout",
     "output_type": "stream",
     "text": [
      "73/92 [======================>.......] - ETA: 3s - loss: 1.6874 - accuracy: 0.2761"
     ]
    },
    {
     "name": "stderr",
     "output_type": "stream",
     "text": [
      "2025-06-24 13:36:45.043219: I metal_plugin/src/kernels/stateless_random_op.cc:282] Note the GPU implementation does not produce the same series as CPU implementation.\n",
      "2025-06-24 13:36:45.225147: I metal_plugin/src/kernels/stateless_random_op.cc:282] Note the GPU implementation does not produce the same series as CPU implementation.\n"
     ]
    },
    {
     "name": "stdout",
     "output_type": "stream",
     "text": [
      "75/92 [=======================>......] - ETA: 2s - loss: 1.7005 - accuracy: 0.2746"
     ]
    },
    {
     "name": "stderr",
     "output_type": "stream",
     "text": [
      "2025-06-24 13:36:45.387438: I metal_plugin/src/kernels/stateless_random_op.cc:282] Note the GPU implementation does not produce the same series as CPU implementation.\n",
      "2025-06-24 13:36:45.543648: I metal_plugin/src/kernels/stateless_random_op.cc:282] Note the GPU implementation does not produce the same series as CPU implementation.\n"
     ]
    },
    {
     "name": "stdout",
     "output_type": "stream",
     "text": [
      "77/92 [========================>.....] - ETA: 2s - loss: 1.7074 - accuracy: 0.2764"
     ]
    },
    {
     "name": "stderr",
     "output_type": "stream",
     "text": [
      "2025-06-24 13:36:45.703680: I metal_plugin/src/kernels/stateless_random_op.cc:282] Note the GPU implementation does not produce the same series as CPU implementation.\n",
      "2025-06-24 13:36:45.860133: I metal_plugin/src/kernels/stateless_random_op.cc:282] Note the GPU implementation does not produce the same series as CPU implementation.\n"
     ]
    },
    {
     "name": "stdout",
     "output_type": "stream",
     "text": [
      "79/92 [========================>.....] - ETA: 2s - loss: 1.7145 - accuracy: 0.2765"
     ]
    },
    {
     "name": "stderr",
     "output_type": "stream",
     "text": [
      "2025-06-24 13:36:46.015263: I metal_plugin/src/kernels/stateless_random_op.cc:282] Note the GPU implementation does not produce the same series as CPU implementation.\n",
      "2025-06-24 13:36:46.179289: I metal_plugin/src/kernels/stateless_random_op.cc:282] Note the GPU implementation does not produce the same series as CPU implementation.\n"
     ]
    },
    {
     "name": "stdout",
     "output_type": "stream",
     "text": [
      "81/92 [=========================>....] - ETA: 1s - loss: 1.7183 - accuracy: 0.2758"
     ]
    },
    {
     "name": "stderr",
     "output_type": "stream",
     "text": [
      "2025-06-24 13:36:46.337366: I metal_plugin/src/kernels/stateless_random_op.cc:282] Note the GPU implementation does not produce the same series as CPU implementation.\n",
      "2025-06-24 13:36:46.501365: I metal_plugin/src/kernels/stateless_random_op.cc:282] Note the GPU implementation does not produce the same series as CPU implementation.\n"
     ]
    },
    {
     "name": "stdout",
     "output_type": "stream",
     "text": [
      "83/92 [==========================>...] - ETA: 1s - loss: 1.7206 - accuracy: 0.2741"
     ]
    },
    {
     "name": "stderr",
     "output_type": "stream",
     "text": [
      "2025-06-24 13:36:46.663604: I metal_plugin/src/kernels/stateless_random_op.cc:282] Note the GPU implementation does not produce the same series as CPU implementation.\n",
      "2025-06-24 13:36:46.826182: I metal_plugin/src/kernels/stateless_random_op.cc:282] Note the GPU implementation does not produce the same series as CPU implementation.\n"
     ]
    },
    {
     "name": "stdout",
     "output_type": "stream",
     "text": [
      "85/92 [==========================>...] - ETA: 1s - loss: 1.7158 - accuracy: 0.2754"
     ]
    },
    {
     "name": "stderr",
     "output_type": "stream",
     "text": [
      "2025-06-24 13:36:46.978186: I metal_plugin/src/kernels/stateless_random_op.cc:282] Note the GPU implementation does not produce the same series as CPU implementation.\n",
      "2025-06-24 13:36:47.132302: I metal_plugin/src/kernels/stateless_random_op.cc:282] Note the GPU implementation does not produce the same series as CPU implementation.\n"
     ]
    },
    {
     "name": "stdout",
     "output_type": "stream",
     "text": [
      "87/92 [===========================>..] - ETA: 0s - loss: 1.7105 - accuracy: 0.2744"
     ]
    },
    {
     "name": "stderr",
     "output_type": "stream",
     "text": [
      "2025-06-24 13:36:47.288115: I metal_plugin/src/kernels/stateless_random_op.cc:282] Note the GPU implementation does not produce the same series as CPU implementation.\n",
      "2025-06-24 13:36:47.444766: I metal_plugin/src/kernels/stateless_random_op.cc:282] Note the GPU implementation does not produce the same series as CPU implementation.\n"
     ]
    },
    {
     "name": "stdout",
     "output_type": "stream",
     "text": [
      "89/92 [============================>.] - ETA: 0s - loss: 1.7016 - accuracy: 0.2760"
     ]
    },
    {
     "name": "stderr",
     "output_type": "stream",
     "text": [
      "2025-06-24 13:36:47.600802: I metal_plugin/src/kernels/stateless_random_op.cc:282] Note the GPU implementation does not produce the same series as CPU implementation.\n",
      "2025-06-24 13:36:47.753140: I metal_plugin/src/kernels/stateless_random_op.cc:282] Note the GPU implementation does not produce the same series as CPU implementation.\n"
     ]
    },
    {
     "name": "stdout",
     "output_type": "stream",
     "text": [
      "91/92 [============================>.] - ETA: 0s - loss: 1.6919 - accuracy: 0.2819"
     ]
    },
    {
     "name": "stderr",
     "output_type": "stream",
     "text": [
      "2025-06-24 13:36:47.904973: I metal_plugin/src/kernels/stateless_random_op.cc:282] Note the GPU implementation does not produce the same series as CPU implementation.\n",
      "2025-06-24 13:36:48.055875: I metal_plugin/src/kernels/stateless_random_op.cc:282] Note the GPU implementation does not produce the same series as CPU implementation.\n"
     ]
    },
    {
     "name": "stdout",
     "output_type": "stream",
     "text": [
      "92/92 [==============================] - 15s 161ms/step - loss: 1.6882 - accuracy: 0.2844\n",
      "Epoch 6/10\n",
      " 1/92 [..............................] - ETA: 16s - loss: 2.7252 - accuracy: 0.0000e+00"
     ]
    },
    {
     "name": "stderr",
     "output_type": "stream",
     "text": [
      "2025-06-24 13:36:48.254605: I metal_plugin/src/kernels/stateless_random_op.cc:282] Note the GPU implementation does not produce the same series as CPU implementation.\n",
      "2025-06-24 13:36:48.438409: I metal_plugin/src/kernels/stateless_random_op.cc:282] Note the GPU implementation does not produce the same series as CPU implementation.\n"
     ]
    },
    {
     "name": "stdout",
     "output_type": "stream",
     "text": [
      " 3/92 [..............................] - ETA: 13s - loss: 2.7182 - accuracy: 0.0000e+00"
     ]
    },
    {
     "name": "stderr",
     "output_type": "stream",
     "text": [
      "2025-06-24 13:36:48.592860: I metal_plugin/src/kernels/stateless_random_op.cc:282] Note the GPU implementation does not produce the same series as CPU implementation.\n",
      "2025-06-24 13:36:48.749847: I metal_plugin/src/kernels/stateless_random_op.cc:282] Note the GPU implementation does not produce the same series as CPU implementation.\n"
     ]
    },
    {
     "name": "stdout",
     "output_type": "stream",
     "text": [
      " 5/92 [>.............................] - ETA: 13s - loss: 2.6543 - accuracy: 0.0000e+00"
     ]
    },
    {
     "name": "stderr",
     "output_type": "stream",
     "text": [
      "2025-06-24 13:36:48.907192: I metal_plugin/src/kernels/stateless_random_op.cc:282] Note the GPU implementation does not produce the same series as CPU implementation.\n",
      "2025-06-24 13:36:49.061584: I metal_plugin/src/kernels/stateless_random_op.cc:282] Note the GPU implementation does not produce the same series as CPU implementation.\n"
     ]
    },
    {
     "name": "stdout",
     "output_type": "stream",
     "text": [
      " 7/92 [=>............................] - ETA: 13s - loss: 2.6036 - accuracy: 0.0000e+00"
     ]
    },
    {
     "name": "stderr",
     "output_type": "stream",
     "text": [
      "2025-06-24 13:36:49.215752: I metal_plugin/src/kernels/stateless_random_op.cc:282] Note the GPU implementation does not produce the same series as CPU implementation.\n",
      "2025-06-24 13:36:49.368643: I metal_plugin/src/kernels/stateless_random_op.cc:282] Note the GPU implementation does not produce the same series as CPU implementation.\n"
     ]
    },
    {
     "name": "stdout",
     "output_type": "stream",
     "text": [
      " 9/92 [=>............................] - ETA: 12s - loss: 2.5206 - accuracy: 0.0000e+00"
     ]
    },
    {
     "name": "stderr",
     "output_type": "stream",
     "text": [
      "2025-06-24 13:36:49.521893: I metal_plugin/src/kernels/stateless_random_op.cc:282] Note the GPU implementation does not produce the same series as CPU implementation.\n",
      "2025-06-24 13:36:49.675407: I metal_plugin/src/kernels/stateless_random_op.cc:282] Note the GPU implementation does not produce the same series as CPU implementation.\n"
     ]
    },
    {
     "name": "stdout",
     "output_type": "stream",
     "text": [
      "11/92 [==>...........................] - ETA: 12s - loss: 2.4321 - accuracy: 0.0000e+00"
     ]
    },
    {
     "name": "stderr",
     "output_type": "stream",
     "text": [
      "2025-06-24 13:36:49.831072: I metal_plugin/src/kernels/stateless_random_op.cc:282] Note the GPU implementation does not produce the same series as CPU implementation.\n",
      "2025-06-24 13:36:49.984943: I metal_plugin/src/kernels/stateless_random_op.cc:282] Note the GPU implementation does not produce the same series as CPU implementation.\n"
     ]
    },
    {
     "name": "stdout",
     "output_type": "stream",
     "text": [
      "13/92 [===>..........................] - ETA: 12s - loss: 2.3377 - accuracy: 0.0000e+00"
     ]
    },
    {
     "name": "stderr",
     "output_type": "stream",
     "text": [
      "2025-06-24 13:36:50.139956: I metal_plugin/src/kernels/stateless_random_op.cc:282] Note the GPU implementation does not produce the same series as CPU implementation.\n",
      "2025-06-24 13:36:50.303146: I metal_plugin/src/kernels/stateless_random_op.cc:282] Note the GPU implementation does not produce the same series as CPU implementation.\n"
     ]
    },
    {
     "name": "stdout",
     "output_type": "stream",
     "text": [
      "15/92 [===>..........................] - ETA: 12s - loss: 2.2496 - accuracy: 0.0000e+00"
     ]
    },
    {
     "name": "stderr",
     "output_type": "stream",
     "text": [
      "2025-06-24 13:36:50.459156: I metal_plugin/src/kernels/stateless_random_op.cc:282] Note the GPU implementation does not produce the same series as CPU implementation.\n",
      "2025-06-24 13:36:50.649944: I metal_plugin/src/kernels/stateless_random_op.cc:282] Note the GPU implementation does not produce the same series as CPU implementation.\n"
     ]
    },
    {
     "name": "stdout",
     "output_type": "stream",
     "text": [
      "17/92 [====>.........................] - ETA: 11s - loss: 2.1681 - accuracy: 0.0202    "
     ]
    },
    {
     "name": "stderr",
     "output_type": "stream",
     "text": [
      "2025-06-24 13:36:50.802208: I metal_plugin/src/kernels/stateless_random_op.cc:282] Note the GPU implementation does not produce the same series as CPU implementation.\n",
      "2025-06-24 13:36:50.978914: I metal_plugin/src/kernels/stateless_random_op.cc:282] Note the GPU implementation does not produce the same series as CPU implementation.\n"
     ]
    },
    {
     "name": "stdout",
     "output_type": "stream",
     "text": [
      "19/92 [=====>........................] - ETA: 11s - loss: 2.0838 - accuracy: 0.0461"
     ]
    },
    {
     "name": "stderr",
     "output_type": "stream",
     "text": [
      "2025-06-24 13:36:51.139346: I metal_plugin/src/kernels/stateless_random_op.cc:282] Note the GPU implementation does not produce the same series as CPU implementation.\n",
      "2025-06-24 13:36:51.299105: I metal_plugin/src/kernels/stateless_random_op.cc:282] Note the GPU implementation does not produce the same series as CPU implementation.\n"
     ]
    },
    {
     "name": "stdout",
     "output_type": "stream",
     "text": [
      "21/92 [=====>........................] - ETA: 11s - loss: 2.0065 - accuracy: 0.0744"
     ]
    },
    {
     "name": "stderr",
     "output_type": "stream",
     "text": [
      "2025-06-24 13:36:51.458853: I metal_plugin/src/kernels/stateless_random_op.cc:282] Note the GPU implementation does not produce the same series as CPU implementation.\n",
      "2025-06-24 13:36:51.613059: I metal_plugin/src/kernels/stateless_random_op.cc:282] Note the GPU implementation does not produce the same series as CPU implementation.\n"
     ]
    },
    {
     "name": "stdout",
     "output_type": "stream",
     "text": [
      "23/92 [======>.......................] - ETA: 10s - loss: 1.9463 - accuracy: 0.1033"
     ]
    },
    {
     "name": "stderr",
     "output_type": "stream",
     "text": [
      "2025-06-24 13:36:51.769454: I metal_plugin/src/kernels/stateless_random_op.cc:282] Note the GPU implementation does not produce the same series as CPU implementation.\n",
      "2025-06-24 13:36:51.929896: I metal_plugin/src/kernels/stateless_random_op.cc:282] Note the GPU implementation does not produce the same series as CPU implementation.\n"
     ]
    },
    {
     "name": "stdout",
     "output_type": "stream",
     "text": [
      "25/92 [=======>......................] - ETA: 10s - loss: 1.8996 - accuracy: 0.1225"
     ]
    },
    {
     "name": "stderr",
     "output_type": "stream",
     "text": [
      "2025-06-24 13:36:52.098369: I metal_plugin/src/kernels/stateless_random_op.cc:282] Note the GPU implementation does not produce the same series as CPU implementation.\n",
      "2025-06-24 13:36:52.291573: I metal_plugin/src/kernels/stateless_random_op.cc:282] Note the GPU implementation does not produce the same series as CPU implementation.\n"
     ]
    },
    {
     "name": "stdout",
     "output_type": "stream",
     "text": [
      "27/92 [=======>......................] - ETA: 10s - loss: 1.8495 - accuracy: 0.1377"
     ]
    },
    {
     "name": "stderr",
     "output_type": "stream",
     "text": [
      "2025-06-24 13:36:52.450227: I metal_plugin/src/kernels/stateless_random_op.cc:282] Note the GPU implementation does not produce the same series as CPU implementation.\n",
      "2025-06-24 13:36:52.611852: I metal_plugin/src/kernels/stateless_random_op.cc:282] Note the GPU implementation does not produce the same series as CPU implementation.\n"
     ]
    },
    {
     "name": "stdout",
     "output_type": "stream",
     "text": [
      "29/92 [========>.....................] - ETA: 10s - loss: 1.8251 - accuracy: 0.1541"
     ]
    },
    {
     "name": "stderr",
     "output_type": "stream",
     "text": [
      "2025-06-24 13:36:52.772806: I metal_plugin/src/kernels/stateless_random_op.cc:282] Note the GPU implementation does not produce the same series as CPU implementation.\n",
      "2025-06-24 13:36:52.925711: I metal_plugin/src/kernels/stateless_random_op.cc:282] Note the GPU implementation does not produce the same series as CPU implementation.\n"
     ]
    },
    {
     "name": "stdout",
     "output_type": "stream",
     "text": [
      "31/92 [=========>....................] - ETA: 9s - loss: 1.7991 - accuracy: 0.1704"
     ]
    },
    {
     "name": "stderr",
     "output_type": "stream",
     "text": [
      "2025-06-24 13:36:53.076950: I metal_plugin/src/kernels/stateless_random_op.cc:282] Note the GPU implementation does not produce the same series as CPU implementation.\n",
      "2025-06-24 13:36:53.235111: I metal_plugin/src/kernels/stateless_random_op.cc:282] Note the GPU implementation does not produce the same series as CPU implementation.\n"
     ]
    },
    {
     "name": "stdout",
     "output_type": "stream",
     "text": [
      "33/92 [=========>....................] - ETA: 9s - loss: 1.7811 - accuracy: 0.1809"
     ]
    },
    {
     "name": "stderr",
     "output_type": "stream",
     "text": [
      "2025-06-24 13:36:53.404818: I metal_plugin/src/kernels/stateless_random_op.cc:282] Note the GPU implementation does not produce the same series as CPU implementation.\n",
      "2025-06-24 13:36:53.562540: I metal_plugin/src/kernels/stateless_random_op.cc:282] Note the GPU implementation does not produce the same series as CPU implementation.\n"
     ]
    },
    {
     "name": "stdout",
     "output_type": "stream",
     "text": [
      "35/92 [==========>...................] - ETA: 9s - loss: 1.7617 - accuracy: 0.1884"
     ]
    },
    {
     "name": "stderr",
     "output_type": "stream",
     "text": [
      "2025-06-24 13:36:53.732823: I metal_plugin/src/kernels/stateless_random_op.cc:282] Note the GPU implementation does not produce the same series as CPU implementation.\n",
      "2025-06-24 13:36:53.885362: I metal_plugin/src/kernels/stateless_random_op.cc:282] Note the GPU implementation does not produce the same series as CPU implementation.\n"
     ]
    },
    {
     "name": "stdout",
     "output_type": "stream",
     "text": [
      "37/92 [===========>..................] - ETA: 8s - loss: 1.7326 - accuracy: 0.2019"
     ]
    },
    {
     "name": "stderr",
     "output_type": "stream",
     "text": [
      "2025-06-24 13:36:54.051662: I metal_plugin/src/kernels/stateless_random_op.cc:282] Note the GPU implementation does not produce the same series as CPU implementation.\n",
      "2025-06-24 13:36:54.206461: I metal_plugin/src/kernels/stateless_random_op.cc:282] Note the GPU implementation does not produce the same series as CPU implementation.\n"
     ]
    },
    {
     "name": "stdout",
     "output_type": "stream",
     "text": [
      "39/92 [===========>..................] - ETA: 8s - loss: 1.7306 - accuracy: 0.2075"
     ]
    },
    {
     "name": "stderr",
     "output_type": "stream",
     "text": [
      "2025-06-24 13:36:54.355568: I metal_plugin/src/kernels/stateless_random_op.cc:282] Note the GPU implementation does not produce the same series as CPU implementation.\n",
      "2025-06-24 13:36:54.508924: I metal_plugin/src/kernels/stateless_random_op.cc:282] Note the GPU implementation does not produce the same series as CPU implementation.\n"
     ]
    },
    {
     "name": "stdout",
     "output_type": "stream",
     "text": [
      "41/92 [============>.................] - ETA: 8s - loss: 1.7214 - accuracy: 0.2119"
     ]
    },
    {
     "name": "stderr",
     "output_type": "stream",
     "text": [
      "2025-06-24 13:36:54.665942: I metal_plugin/src/kernels/stateless_random_op.cc:282] Note the GPU implementation does not produce the same series as CPU implementation.\n",
      "2025-06-24 13:36:54.830117: I metal_plugin/src/kernels/stateless_random_op.cc:282] Note the GPU implementation does not produce the same series as CPU implementation.\n"
     ]
    },
    {
     "name": "stdout",
     "output_type": "stream",
     "text": [
      "43/92 [=============>................] - ETA: 7s - loss: 1.7123 - accuracy: 0.2224"
     ]
    },
    {
     "name": "stderr",
     "output_type": "stream",
     "text": [
      "2025-06-24 13:36:54.986862: I metal_plugin/src/kernels/stateless_random_op.cc:282] Note the GPU implementation does not produce the same series as CPU implementation.\n",
      "2025-06-24 13:36:55.145064: I metal_plugin/src/kernels/stateless_random_op.cc:282] Note the GPU implementation does not produce the same series as CPU implementation.\n"
     ]
    },
    {
     "name": "stdout",
     "output_type": "stream",
     "text": [
      "45/92 [=============>................] - ETA: 7s - loss: 1.7230 - accuracy: 0.2271"
     ]
    },
    {
     "name": "stderr",
     "output_type": "stream",
     "text": [
      "2025-06-24 13:36:55.302883: I metal_plugin/src/kernels/stateless_random_op.cc:282] Note the GPU implementation does not produce the same series as CPU implementation.\n",
      "2025-06-24 13:36:55.465525: I metal_plugin/src/kernels/stateless_random_op.cc:282] Note the GPU implementation does not produce the same series as CPU implementation.\n"
     ]
    },
    {
     "name": "stdout",
     "output_type": "stream",
     "text": [
      "47/92 [==============>...............] - ETA: 7s - loss: 1.7372 - accuracy: 0.2347"
     ]
    },
    {
     "name": "stderr",
     "output_type": "stream",
     "text": [
      "2025-06-24 13:36:55.631070: I metal_plugin/src/kernels/stateless_random_op.cc:282] Note the GPU implementation does not produce the same series as CPU implementation.\n",
      "2025-06-24 13:36:55.803861: I metal_plugin/src/kernels/stateless_random_op.cc:282] Note the GPU implementation does not produce the same series as CPU implementation.\n"
     ]
    },
    {
     "name": "stdout",
     "output_type": "stream",
     "text": [
      "49/92 [==============>...............] - ETA: 6s - loss: 1.7446 - accuracy: 0.2398"
     ]
    },
    {
     "name": "stderr",
     "output_type": "stream",
     "text": [
      "2025-06-24 13:36:55.963807: I metal_plugin/src/kernels/stateless_random_op.cc:282] Note the GPU implementation does not produce the same series as CPU implementation.\n",
      "2025-06-24 13:36:56.126427: I metal_plugin/src/kernels/stateless_random_op.cc:282] Note the GPU implementation does not produce the same series as CPU implementation.\n"
     ]
    },
    {
     "name": "stdout",
     "output_type": "stream",
     "text": [
      "51/92 [===============>..............] - ETA: 6s - loss: 1.7430 - accuracy: 0.2469"
     ]
    },
    {
     "name": "stderr",
     "output_type": "stream",
     "text": [
      "2025-06-24 13:36:56.305138: I metal_plugin/src/kernels/stateless_random_op.cc:282] Note the GPU implementation does not produce the same series as CPU implementation.\n",
      "2025-06-24 13:36:56.462744: I metal_plugin/src/kernels/stateless_random_op.cc:282] Note the GPU implementation does not produce the same series as CPU implementation.\n"
     ]
    },
    {
     "name": "stdout",
     "output_type": "stream",
     "text": [
      "53/92 [================>.............] - ETA: 6s - loss: 1.7468 - accuracy: 0.2494"
     ]
    },
    {
     "name": "stderr",
     "output_type": "stream",
     "text": [
      "2025-06-24 13:36:56.616399: I metal_plugin/src/kernels/stateless_random_op.cc:282] Note the GPU implementation does not produce the same series as CPU implementation.\n",
      "2025-06-24 13:36:56.778442: I metal_plugin/src/kernels/stateless_random_op.cc:282] Note the GPU implementation does not produce the same series as CPU implementation.\n"
     ]
    },
    {
     "name": "stdout",
     "output_type": "stream",
     "text": [
      "55/92 [================>.............] - ETA: 5s - loss: 1.7443 - accuracy: 0.2517"
     ]
    },
    {
     "name": "stderr",
     "output_type": "stream",
     "text": [
      "2025-06-24 13:36:56.963908: I metal_plugin/src/kernels/stateless_random_op.cc:282] Note the GPU implementation does not produce the same series as CPU implementation.\n",
      "2025-06-24 13:36:57.132606: I metal_plugin/src/kernels/stateless_random_op.cc:282] Note the GPU implementation does not produce the same series as CPU implementation.\n"
     ]
    },
    {
     "name": "stdout",
     "output_type": "stream",
     "text": [
      "57/92 [=================>............] - ETA: 5s - loss: 1.7425 - accuracy: 0.2495"
     ]
    },
    {
     "name": "stderr",
     "output_type": "stream",
     "text": [
      "2025-06-24 13:36:57.298131: I metal_plugin/src/kernels/stateless_random_op.cc:282] Note the GPU implementation does not produce the same series as CPU implementation.\n",
      "2025-06-24 13:36:57.457560: I metal_plugin/src/kernels/stateless_random_op.cc:282] Note the GPU implementation does not produce the same series as CPU implementation.\n"
     ]
    },
    {
     "name": "stdout",
     "output_type": "stream",
     "text": [
      "59/92 [==================>...........] - ETA: 5s - loss: 1.7361 - accuracy: 0.2489"
     ]
    },
    {
     "name": "stderr",
     "output_type": "stream",
     "text": [
      "2025-06-24 13:36:57.612065: I metal_plugin/src/kernels/stateless_random_op.cc:282] Note the GPU implementation does not produce the same series as CPU implementation.\n",
      "2025-06-24 13:36:57.773190: I metal_plugin/src/kernels/stateless_random_op.cc:282] Note the GPU implementation does not produce the same series as CPU implementation.\n"
     ]
    },
    {
     "name": "stdout",
     "output_type": "stream",
     "text": [
      "61/92 [==================>...........] - ETA: 4s - loss: 1.7347 - accuracy: 0.2510"
     ]
    },
    {
     "name": "stderr",
     "output_type": "stream",
     "text": [
      "2025-06-24 13:36:57.927388: I metal_plugin/src/kernels/stateless_random_op.cc:282] Note the GPU implementation does not produce the same series as CPU implementation.\n",
      "2025-06-24 13:36:58.087284: I metal_plugin/src/kernels/stateless_random_op.cc:282] Note the GPU implementation does not produce the same series as CPU implementation.\n"
     ]
    },
    {
     "name": "stdout",
     "output_type": "stream",
     "text": [
      "63/92 [===================>..........] - ETA: 4s - loss: 1.7312 - accuracy: 0.2589"
     ]
    },
    {
     "name": "stderr",
     "output_type": "stream",
     "text": [
      "2025-06-24 13:36:58.241647: I metal_plugin/src/kernels/stateless_random_op.cc:282] Note the GPU implementation does not produce the same series as CPU implementation.\n",
      "2025-06-24 13:36:58.396017: I metal_plugin/src/kernels/stateless_random_op.cc:282] Note the GPU implementation does not produce the same series as CPU implementation.\n"
     ]
    },
    {
     "name": "stdout",
     "output_type": "stream",
     "text": [
      "65/92 [====================>.........] - ETA: 4s - loss: 1.7382 - accuracy: 0.2639"
     ]
    },
    {
     "name": "stderr",
     "output_type": "stream",
     "text": [
      "2025-06-24 13:36:58.552857: I metal_plugin/src/kernels/stateless_random_op.cc:282] Note the GPU implementation does not produce the same series as CPU implementation.\n",
      "2025-06-24 13:36:58.704013: I metal_plugin/src/kernels/stateless_random_op.cc:282] Note the GPU implementation does not produce the same series as CPU implementation.\n"
     ]
    },
    {
     "name": "stdout",
     "output_type": "stream",
     "text": [
      "67/92 [====================>.........] - ETA: 4s - loss: 1.7412 - accuracy: 0.2691"
     ]
    },
    {
     "name": "stderr",
     "output_type": "stream",
     "text": [
      "2025-06-24 13:36:58.855312: I metal_plugin/src/kernels/stateless_random_op.cc:282] Note the GPU implementation does not produce the same series as CPU implementation.\n",
      "2025-06-24 13:36:59.011338: I metal_plugin/src/kernels/stateless_random_op.cc:282] Note the GPU implementation does not produce the same series as CPU implementation.\n"
     ]
    },
    {
     "name": "stdout",
     "output_type": "stream",
     "text": [
      "69/92 [=====================>........] - ETA: 3s - loss: 1.7600 - accuracy: 0.2731"
     ]
    },
    {
     "name": "stderr",
     "output_type": "stream",
     "text": [
      "2025-06-24 13:36:59.162766: I metal_plugin/src/kernels/stateless_random_op.cc:282] Note the GPU implementation does not produce the same series as CPU implementation.\n",
      "2025-06-24 13:36:59.316650: I metal_plugin/src/kernels/stateless_random_op.cc:282] Note the GPU implementation does not produce the same series as CPU implementation.\n"
     ]
    },
    {
     "name": "stdout",
     "output_type": "stream",
     "text": [
      "71/92 [======================>.......] - ETA: 3s - loss: 1.8061 - accuracy: 0.2760"
     ]
    },
    {
     "name": "stderr",
     "output_type": "stream",
     "text": [
      "2025-06-24 13:36:59.468531: I metal_plugin/src/kernels/stateless_random_op.cc:282] Note the GPU implementation does not produce the same series as CPU implementation.\n",
      "2025-06-24 13:36:59.626923: I metal_plugin/src/kernels/stateless_random_op.cc:282] Note the GPU implementation does not produce the same series as CPU implementation.\n"
     ]
    },
    {
     "name": "stdout",
     "output_type": "stream",
     "text": [
      "73/92 [======================>.......] - ETA: 3s - loss: 1.8390 - accuracy: 0.2787"
     ]
    },
    {
     "name": "stderr",
     "output_type": "stream",
     "text": [
      "2025-06-24 13:36:59.782171: I metal_plugin/src/kernels/stateless_random_op.cc:282] Note the GPU implementation does not produce the same series as CPU implementation.\n",
      "2025-06-24 13:36:59.937953: I metal_plugin/src/kernels/stateless_random_op.cc:282] Note the GPU implementation does not produce the same series as CPU implementation.\n"
     ]
    },
    {
     "name": "stdout",
     "output_type": "stream",
     "text": [
      "75/92 [=======================>......] - ETA: 2s - loss: 1.9180 - accuracy: 0.2829"
     ]
    },
    {
     "name": "stderr",
     "output_type": "stream",
     "text": [
      "2025-06-24 13:37:00.089385: I metal_plugin/src/kernels/stateless_random_op.cc:282] Note the GPU implementation does not produce the same series as CPU implementation.\n",
      "2025-06-24 13:37:00.242515: I metal_plugin/src/kernels/stateless_random_op.cc:282] Note the GPU implementation does not produce the same series as CPU implementation.\n"
     ]
    },
    {
     "name": "stdout",
     "output_type": "stream",
     "text": [
      "77/92 [========================>.....] - ETA: 2s - loss: 1.9036 - accuracy: 0.2881"
     ]
    },
    {
     "name": "stderr",
     "output_type": "stream",
     "text": [
      "2025-06-24 13:37:00.397477: I metal_plugin/src/kernels/stateless_random_op.cc:282] Note the GPU implementation does not produce the same series as CPU implementation.\n",
      "2025-06-24 13:37:00.551624: I metal_plugin/src/kernels/stateless_random_op.cc:282] Note the GPU implementation does not produce the same series as CPU implementation.\n"
     ]
    },
    {
     "name": "stdout",
     "output_type": "stream",
     "text": [
      "79/92 [========================>.....] - ETA: 2s - loss: 1.9007 - accuracy: 0.2884"
     ]
    },
    {
     "name": "stderr",
     "output_type": "stream",
     "text": [
      "2025-06-24 13:37:00.705336: I metal_plugin/src/kernels/stateless_random_op.cc:282] Note the GPU implementation does not produce the same series as CPU implementation.\n",
      "2025-06-24 13:37:00.866734: I metal_plugin/src/kernels/stateless_random_op.cc:282] Note the GPU implementation does not produce the same series as CPU implementation.\n"
     ]
    },
    {
     "name": "stdout",
     "output_type": "stream",
     "text": [
      "81/92 [=========================>....] - ETA: 1s - loss: 1.9003 - accuracy: 0.2874"
     ]
    },
    {
     "name": "stderr",
     "output_type": "stream",
     "text": [
      "2025-06-24 13:37:01.021209: I metal_plugin/src/kernels/stateless_random_op.cc:282] Note the GPU implementation does not produce the same series as CPU implementation.\n",
      "2025-06-24 13:37:01.173764: I metal_plugin/src/kernels/stateless_random_op.cc:282] Note the GPU implementation does not produce the same series as CPU implementation.\n"
     ]
    },
    {
     "name": "stdout",
     "output_type": "stream",
     "text": [
      "83/92 [==========================>...] - ETA: 1s - loss: 1.8963 - accuracy: 0.2861"
     ]
    },
    {
     "name": "stderr",
     "output_type": "stream",
     "text": [
      "2025-06-24 13:37:01.325472: I metal_plugin/src/kernels/stateless_random_op.cc:282] Note the GPU implementation does not produce the same series as CPU implementation.\n",
      "2025-06-24 13:37:01.480207: I metal_plugin/src/kernels/stateless_random_op.cc:282] Note the GPU implementation does not produce the same series as CPU implementation.\n"
     ]
    },
    {
     "name": "stdout",
     "output_type": "stream",
     "text": [
      "85/92 [==========================>...] - ETA: 1s - loss: 1.8915 - accuracy: 0.2864"
     ]
    },
    {
     "name": "stderr",
     "output_type": "stream",
     "text": [
      "2025-06-24 13:37:01.630741: I metal_plugin/src/kernels/stateless_random_op.cc:282] Note the GPU implementation does not produce the same series as CPU implementation.\n",
      "2025-06-24 13:37:01.780554: I metal_plugin/src/kernels/stateless_random_op.cc:282] Note the GPU implementation does not produce the same series as CPU implementation.\n"
     ]
    },
    {
     "name": "stdout",
     "output_type": "stream",
     "text": [
      "87/92 [===========================>..] - ETA: 0s - loss: 1.8793 - accuracy: 0.2895"
     ]
    },
    {
     "name": "stderr",
     "output_type": "stream",
     "text": [
      "2025-06-24 13:37:01.981395: I metal_plugin/src/kernels/stateless_random_op.cc:282] Note the GPU implementation does not produce the same series as CPU implementation.\n",
      "2025-06-24 13:37:02.136047: I metal_plugin/src/kernels/stateless_random_op.cc:282] Note the GPU implementation does not produce the same series as CPU implementation.\n"
     ]
    },
    {
     "name": "stdout",
     "output_type": "stream",
     "text": [
      "89/92 [============================>.] - ETA: 0s - loss: 1.8659 - accuracy: 0.2928"
     ]
    },
    {
     "name": "stderr",
     "output_type": "stream",
     "text": [
      "2025-06-24 13:37:02.284035: I metal_plugin/src/kernels/stateless_random_op.cc:282] Note the GPU implementation does not produce the same series as CPU implementation.\n",
      "2025-06-24 13:37:02.434341: I metal_plugin/src/kernels/stateless_random_op.cc:282] Note the GPU implementation does not produce the same series as CPU implementation.\n"
     ]
    },
    {
     "name": "stdout",
     "output_type": "stream",
     "text": [
      "91/92 [============================>.] - ETA: 0s - loss: 1.8510 - accuracy: 0.2984"
     ]
    },
    {
     "name": "stderr",
     "output_type": "stream",
     "text": [
      "2025-06-24 13:37:02.587616: I metal_plugin/src/kernels/stateless_random_op.cc:282] Note the GPU implementation does not produce the same series as CPU implementation.\n",
      "2025-06-24 13:37:02.736121: I metal_plugin/src/kernels/stateless_random_op.cc:282] Note the GPU implementation does not produce the same series as CPU implementation.\n"
     ]
    },
    {
     "name": "stdout",
     "output_type": "stream",
     "text": [
      "92/92 [==============================] - 15s 159ms/step - loss: 1.8470 - accuracy: 0.2997\n",
      "Epoch 7/10\n",
      " 1/92 [..............................] - ETA: 15s - loss: 2.1482 - accuracy: 0.0000e+00"
     ]
    },
    {
     "name": "stderr",
     "output_type": "stream",
     "text": [
      "2025-06-24 13:37:02.926784: I metal_plugin/src/kernels/stateless_random_op.cc:282] Note the GPU implementation does not produce the same series as CPU implementation.\n",
      "2025-06-24 13:37:03.104609: I metal_plugin/src/kernels/stateless_random_op.cc:282] Note the GPU implementation does not produce the same series as CPU implementation.\n"
     ]
    },
    {
     "name": "stdout",
     "output_type": "stream",
     "text": [
      " 3/92 [..............................] - ETA: 14s - loss: 2.2964 - accuracy: 0.0000e+00"
     ]
    },
    {
     "name": "stderr",
     "output_type": "stream",
     "text": [
      "2025-06-24 13:37:03.273139: I metal_plugin/src/kernels/stateless_random_op.cc:282] Note the GPU implementation does not produce the same series as CPU implementation.\n",
      "2025-06-24 13:37:03.431629: I metal_plugin/src/kernels/stateless_random_op.cc:282] Note the GPU implementation does not produce the same series as CPU implementation.\n"
     ]
    },
    {
     "name": "stdout",
     "output_type": "stream",
     "text": [
      " 5/92 [>.............................] - ETA: 14s - loss: 2.3075 - accuracy: 0.0000e+00"
     ]
    },
    {
     "name": "stderr",
     "output_type": "stream",
     "text": [
      "2025-06-24 13:37:03.594692: I metal_plugin/src/kernels/stateless_random_op.cc:282] Note the GPU implementation does not produce the same series as CPU implementation.\n",
      "2025-06-24 13:37:03.754894: I metal_plugin/src/kernels/stateless_random_op.cc:282] Note the GPU implementation does not produce the same series as CPU implementation.\n"
     ]
    },
    {
     "name": "stdout",
     "output_type": "stream",
     "text": [
      " 7/92 [=>............................] - ETA: 13s - loss: 2.3715 - accuracy: 0.0045   "
     ]
    },
    {
     "name": "stderr",
     "output_type": "stream",
     "text": [
      "2025-06-24 13:37:03.904806: I metal_plugin/src/kernels/stateless_random_op.cc:282] Note the GPU implementation does not produce the same series as CPU implementation.\n",
      "2025-06-24 13:37:04.073076: I metal_plugin/src/kernels/stateless_random_op.cc:282] Note the GPU implementation does not produce the same series as CPU implementation.\n"
     ]
    },
    {
     "name": "stdout",
     "output_type": "stream",
     "text": [
      " 9/92 [=>............................] - ETA: 13s - loss: 2.8247 - accuracy: 0.1285"
     ]
    },
    {
     "name": "stderr",
     "output_type": "stream",
     "text": [
      "2025-06-24 13:37:04.227983: I metal_plugin/src/kernels/stateless_random_op.cc:282] Note the GPU implementation does not produce the same series as CPU implementation.\n",
      "2025-06-24 13:37:04.390673: I metal_plugin/src/kernels/stateless_random_op.cc:282] Note the GPU implementation does not produce the same series as CPU implementation.\n"
     ]
    },
    {
     "name": "stdout",
     "output_type": "stream",
     "text": [
      "11/92 [==>...........................] - ETA: 12s - loss: 2.6383 - accuracy: 0.2131"
     ]
    },
    {
     "name": "stderr",
     "output_type": "stream",
     "text": [
      "2025-06-24 13:37:04.540066: I metal_plugin/src/kernels/stateless_random_op.cc:282] Note the GPU implementation does not produce the same series as CPU implementation.\n",
      "2025-06-24 13:37:04.693416: I metal_plugin/src/kernels/stateless_random_op.cc:282] Note the GPU implementation does not produce the same series as CPU implementation.\n"
     ]
    },
    {
     "name": "stdout",
     "output_type": "stream",
     "text": [
      "13/92 [===>..........................] - ETA: 12s - loss: 2.5497 - accuracy: 0.2644"
     ]
    },
    {
     "name": "stderr",
     "output_type": "stream",
     "text": [
      "2025-06-24 13:37:04.855535: I metal_plugin/src/kernels/stateless_random_op.cc:282] Note the GPU implementation does not produce the same series as CPU implementation.\n",
      "2025-06-24 13:37:05.007103: I metal_plugin/src/kernels/stateless_random_op.cc:282] Note the GPU implementation does not produce the same series as CPU implementation.\n"
     ]
    },
    {
     "name": "stdout",
     "output_type": "stream",
     "text": [
      "15/92 [===>..........................] - ETA: 12s - loss: 2.3115 - accuracy: 0.3187"
     ]
    },
    {
     "name": "stderr",
     "output_type": "stream",
     "text": [
      "2025-06-24 13:37:05.155247: I metal_plugin/src/kernels/stateless_random_op.cc:282] Note the GPU implementation does not produce the same series as CPU implementation.\n",
      "2025-06-24 13:37:05.304917: I metal_plugin/src/kernels/stateless_random_op.cc:282] Note the GPU implementation does not produce the same series as CPU implementation.\n"
     ]
    },
    {
     "name": "stdout",
     "output_type": "stream",
     "text": [
      "16/92 [====>.........................] - ETA: 11s - loss: 2.2015 - accuracy: 0.3535"
     ]
    },
    {
     "name": "stderr",
     "output_type": "stream",
     "text": [
      "2025-06-24 13:37:05.454420: I metal_plugin/src/kernels/stateless_random_op.cc:282] Note the GPU implementation does not produce the same series as CPU implementation.\n"
     ]
    },
    {
     "name": "stdout",
     "output_type": "stream",
     "text": [
      "18/92 [====>.........................] - ETA: 11s - loss: 2.0321 - accuracy: 0.3993"
     ]
    },
    {
     "name": "stderr",
     "output_type": "stream",
     "text": [
      "2025-06-24 13:37:05.675964: I metal_plugin/src/kernels/stateless_random_op.cc:282] Note the GPU implementation does not produce the same series as CPU implementation.\n",
      "2025-06-24 13:37:05.827469: I metal_plugin/src/kernels/stateless_random_op.cc:282] Note the GPU implementation does not produce the same series as CPU implementation.\n"
     ]
    },
    {
     "name": "stdout",
     "output_type": "stream",
     "text": [
      "20/92 [=====>........................] - ETA: 11s - loss: 1.9884 - accuracy: 0.4266"
     ]
    },
    {
     "name": "stderr",
     "output_type": "stream",
     "text": [
      "2025-06-24 13:37:05.979737: I metal_plugin/src/kernels/stateless_random_op.cc:282] Note the GPU implementation does not produce the same series as CPU implementation.\n",
      "2025-06-24 13:37:06.132701: I metal_plugin/src/kernels/stateless_random_op.cc:282] Note the GPU implementation does not produce the same series as CPU implementation.\n"
     ]
    },
    {
     "name": "stdout",
     "output_type": "stream",
     "text": [
      "22/92 [======>.......................] - ETA: 11s - loss: 1.9183 - accuracy: 0.4489"
     ]
    },
    {
     "name": "stderr",
     "output_type": "stream",
     "text": [
      "2025-06-24 13:37:06.286497: I metal_plugin/src/kernels/stateless_random_op.cc:282] Note the GPU implementation does not produce the same series as CPU implementation.\n",
      "2025-06-24 13:37:06.433589: I metal_plugin/src/kernels/stateless_random_op.cc:282] Note the GPU implementation does not produce the same series as CPU implementation.\n"
     ]
    },
    {
     "name": "stdout",
     "output_type": "stream",
     "text": [
      "24/92 [======>.......................] - ETA: 10s - loss: 1.8926 - accuracy: 0.4635"
     ]
    },
    {
     "name": "stderr",
     "output_type": "stream",
     "text": [
      "2025-06-24 13:37:06.585438: I metal_plugin/src/kernels/stateless_random_op.cc:282] Note the GPU implementation does not produce the same series as CPU implementation.\n",
      "2025-06-24 13:37:06.733236: I metal_plugin/src/kernels/stateless_random_op.cc:282] Note the GPU implementation does not produce the same series as CPU implementation.\n"
     ]
    },
    {
     "name": "stdout",
     "output_type": "stream",
     "text": [
      "26/92 [=======>......................] - ETA: 10s - loss: 1.8473 - accuracy: 0.4724"
     ]
    },
    {
     "name": "stderr",
     "output_type": "stream",
     "text": [
      "2025-06-24 13:37:06.889272: I metal_plugin/src/kernels/stateless_random_op.cc:282] Note the GPU implementation does not produce the same series as CPU implementation.\n",
      "2025-06-24 13:37:07.040760: I metal_plugin/src/kernels/stateless_random_op.cc:282] Note the GPU implementation does not produce the same series as CPU implementation.\n"
     ]
    },
    {
     "name": "stdout",
     "output_type": "stream",
     "text": [
      "28/92 [========>.....................] - ETA: 10s - loss: 1.7926 - accuracy: 0.4732"
     ]
    },
    {
     "name": "stderr",
     "output_type": "stream",
     "text": [
      "2025-06-24 13:37:07.189896: I metal_plugin/src/kernels/stateless_random_op.cc:282] Note the GPU implementation does not produce the same series as CPU implementation.\n",
      "2025-06-24 13:37:07.338616: I metal_plugin/src/kernels/stateless_random_op.cc:282] Note the GPU implementation does not produce the same series as CPU implementation.\n"
     ]
    },
    {
     "name": "stdout",
     "output_type": "stream",
     "text": [
      "30/92 [========>.....................] - ETA: 9s - loss: 1.7383 - accuracy: 0.4802"
     ]
    },
    {
     "name": "stderr",
     "output_type": "stream",
     "text": [
      "2025-06-24 13:37:07.492051: I metal_plugin/src/kernels/stateless_random_op.cc:282] Note the GPU implementation does not produce the same series as CPU implementation.\n",
      "2025-06-24 13:37:07.647319: I metal_plugin/src/kernels/stateless_random_op.cc:282] Note the GPU implementation does not produce the same series as CPU implementation.\n"
     ]
    },
    {
     "name": "stdout",
     "output_type": "stream",
     "text": [
      "32/92 [=========>....................] - ETA: 9s - loss: 1.7472 - accuracy: 0.4912"
     ]
    },
    {
     "name": "stderr",
     "output_type": "stream",
     "text": [
      "2025-06-24 13:37:07.795693: I metal_plugin/src/kernels/stateless_random_op.cc:282] Note the GPU implementation does not produce the same series as CPU implementation.\n",
      "2025-06-24 13:37:07.945552: I metal_plugin/src/kernels/stateless_random_op.cc:282] Note the GPU implementation does not produce the same series as CPU implementation.\n"
     ]
    },
    {
     "name": "stdout",
     "output_type": "stream",
     "text": [
      "34/92 [==========>...................] - ETA: 9s - loss: 1.7418 - accuracy: 0.5000"
     ]
    },
    {
     "name": "stderr",
     "output_type": "stream",
     "text": [
      "2025-06-24 13:37:08.111880: I metal_plugin/src/kernels/stateless_random_op.cc:282] Note the GPU implementation does not produce the same series as CPU implementation.\n",
      "2025-06-24 13:37:08.262338: I metal_plugin/src/kernels/stateless_random_op.cc:282] Note the GPU implementation does not produce the same series as CPU implementation.\n"
     ]
    },
    {
     "name": "stdout",
     "output_type": "stream",
     "text": [
      "36/92 [==========>...................] - ETA: 8s - loss: 1.6867 - accuracy: 0.5113"
     ]
    },
    {
     "name": "stderr",
     "output_type": "stream",
     "text": [
      "2025-06-24 13:37:08.410621: I metal_plugin/src/kernels/stateless_random_op.cc:282] Note the GPU implementation does not produce the same series as CPU implementation.\n",
      "2025-06-24 13:37:08.574088: I metal_plugin/src/kernels/stateless_random_op.cc:282] Note the GPU implementation does not produce the same series as CPU implementation.\n"
     ]
    },
    {
     "name": "stdout",
     "output_type": "stream",
     "text": [
      "38/92 [===========>..................] - ETA: 8s - loss: 1.6524 - accuracy: 0.5107"
     ]
    },
    {
     "name": "stderr",
     "output_type": "stream",
     "text": [
      "2025-06-24 13:37:08.727765: I metal_plugin/src/kernels/stateless_random_op.cc:282] Note the GPU implementation does not produce the same series as CPU implementation.\n",
      "2025-06-24 13:37:08.881151: I metal_plugin/src/kernels/stateless_random_op.cc:282] Note the GPU implementation does not produce the same series as CPU implementation.\n"
     ]
    },
    {
     "name": "stdout",
     "output_type": "stream",
     "text": [
      "40/92 [============>.................] - ETA: 8s - loss: 1.6234 - accuracy: 0.5086"
     ]
    },
    {
     "name": "stderr",
     "output_type": "stream",
     "text": [
      "2025-06-24 13:37:09.035482: I metal_plugin/src/kernels/stateless_random_op.cc:282] Note the GPU implementation does not produce the same series as CPU implementation.\n",
      "2025-06-24 13:37:09.185824: I metal_plugin/src/kernels/stateless_random_op.cc:282] Note the GPU implementation does not produce the same series as CPU implementation.\n"
     ]
    },
    {
     "name": "stdout",
     "output_type": "stream",
     "text": [
      "42/92 [============>.................] - ETA: 7s - loss: 1.5947 - accuracy: 0.5149"
     ]
    },
    {
     "name": "stderr",
     "output_type": "stream",
     "text": [
      "2025-06-24 13:37:09.338758: I metal_plugin/src/kernels/stateless_random_op.cc:282] Note the GPU implementation does not produce the same series as CPU implementation.\n",
      "2025-06-24 13:37:09.491018: I metal_plugin/src/kernels/stateless_random_op.cc:282] Note the GPU implementation does not produce the same series as CPU implementation.\n"
     ]
    },
    {
     "name": "stdout",
     "output_type": "stream",
     "text": [
      "44/92 [=============>................] - ETA: 7s - loss: 1.5883 - accuracy: 0.5135"
     ]
    },
    {
     "name": "stderr",
     "output_type": "stream",
     "text": [
      "2025-06-24 13:37:09.639858: I metal_plugin/src/kernels/stateless_random_op.cc:282] Note the GPU implementation does not produce the same series as CPU implementation.\n",
      "2025-06-24 13:37:09.789740: I metal_plugin/src/kernels/stateless_random_op.cc:282] Note the GPU implementation does not produce the same series as CPU implementation.\n"
     ]
    },
    {
     "name": "stdout",
     "output_type": "stream",
     "text": [
      "46/92 [==============>...............] - ETA: 7s - loss: 1.5956 - accuracy: 0.5122"
     ]
    },
    {
     "name": "stderr",
     "output_type": "stream",
     "text": [
      "2025-06-24 13:37:09.939844: I metal_plugin/src/kernels/stateless_random_op.cc:282] Note the GPU implementation does not produce the same series as CPU implementation.\n",
      "2025-06-24 13:37:10.093214: I metal_plugin/src/kernels/stateless_random_op.cc:282] Note the GPU implementation does not produce the same series as CPU implementation.\n"
     ]
    },
    {
     "name": "stdout",
     "output_type": "stream",
     "text": [
      "48/92 [==============>...............] - ETA: 6s - loss: 1.5951 - accuracy: 0.5104"
     ]
    },
    {
     "name": "stderr",
     "output_type": "stream",
     "text": [
      "2025-06-24 13:37:10.242268: I metal_plugin/src/kernels/stateless_random_op.cc:282] Note the GPU implementation does not produce the same series as CPU implementation.\n",
      "2025-06-24 13:37:10.392152: I metal_plugin/src/kernels/stateless_random_op.cc:282] Note the GPU implementation does not produce the same series as CPU implementation.\n"
     ]
    },
    {
     "name": "stdout",
     "output_type": "stream",
     "text": [
      "50/92 [===============>..............] - ETA: 6s - loss: 1.5946 - accuracy: 0.5075"
     ]
    },
    {
     "name": "stderr",
     "output_type": "stream",
     "text": [
      "2025-06-24 13:37:10.540875: I metal_plugin/src/kernels/stateless_random_op.cc:282] Note the GPU implementation does not produce the same series as CPU implementation.\n",
      "2025-06-24 13:37:10.697763: I metal_plugin/src/kernels/stateless_random_op.cc:282] Note the GPU implementation does not produce the same series as CPU implementation.\n"
     ]
    },
    {
     "name": "stdout",
     "output_type": "stream",
     "text": [
      "52/92 [===============>..............] - ETA: 6s - loss: 1.5925 - accuracy: 0.5018"
     ]
    },
    {
     "name": "stderr",
     "output_type": "stream",
     "text": [
      "2025-06-24 13:37:10.849684: I metal_plugin/src/kernels/stateless_random_op.cc:282] Note the GPU implementation does not produce the same series as CPU implementation.\n",
      "2025-06-24 13:37:10.999622: I metal_plugin/src/kernels/stateless_random_op.cc:282] Note the GPU implementation does not produce the same series as CPU implementation.\n"
     ]
    },
    {
     "name": "stdout",
     "output_type": "stream",
     "text": [
      "54/92 [================>.............] - ETA: 5s - loss: 1.5976 - accuracy: 0.5006"
     ]
    },
    {
     "name": "stderr",
     "output_type": "stream",
     "text": [
      "2025-06-24 13:37:11.148319: I metal_plugin/src/kernels/stateless_random_op.cc:282] Note the GPU implementation does not produce the same series as CPU implementation.\n",
      "2025-06-24 13:37:11.295916: I metal_plugin/src/kernels/stateless_random_op.cc:282] Note the GPU implementation does not produce the same series as CPU implementation.\n"
     ]
    },
    {
     "name": "stdout",
     "output_type": "stream",
     "text": [
      "56/92 [=================>............] - ETA: 5s - loss: 1.5934 - accuracy: 0.4961"
     ]
    },
    {
     "name": "stderr",
     "output_type": "stream",
     "text": [
      "2025-06-24 13:37:11.467511: I metal_plugin/src/kernels/stateless_random_op.cc:282] Note the GPU implementation does not produce the same series as CPU implementation.\n",
      "2025-06-24 13:37:11.633196: I metal_plugin/src/kernels/stateless_random_op.cc:282] Note the GPU implementation does not produce the same series as CPU implementation.\n"
     ]
    },
    {
     "name": "stdout",
     "output_type": "stream",
     "text": [
      "58/92 [=================>............] - ETA: 5s - loss: 1.5988 - accuracy: 0.4865"
     ]
    },
    {
     "name": "stderr",
     "output_type": "stream",
     "text": [
      "2025-06-24 13:37:11.804257: I metal_plugin/src/kernels/stateless_random_op.cc:282] Note the GPU implementation does not produce the same series as CPU implementation.\n",
      "2025-06-24 13:37:11.962190: I metal_plugin/src/kernels/stateless_random_op.cc:282] Note the GPU implementation does not produce the same series as CPU implementation.\n"
     ]
    },
    {
     "name": "stdout",
     "output_type": "stream",
     "text": [
      "60/92 [==================>...........] - ETA: 4s - loss: 1.6635 - accuracy: 0.4786"
     ]
    },
    {
     "name": "stderr",
     "output_type": "stream",
     "text": [
      "2025-06-24 13:37:12.112334: I metal_plugin/src/kernels/stateless_random_op.cc:282] Note the GPU implementation does not produce the same series as CPU implementation.\n",
      "2025-06-24 13:37:12.268317: I metal_plugin/src/kernels/stateless_random_op.cc:282] Note the GPU implementation does not produce the same series as CPU implementation.\n"
     ]
    },
    {
     "name": "stdout",
     "output_type": "stream",
     "text": [
      "62/92 [===================>..........] - ETA: 4s - loss: 1.7095 - accuracy: 0.4808"
     ]
    },
    {
     "name": "stderr",
     "output_type": "stream",
     "text": [
      "2025-06-24 13:37:12.428285: I metal_plugin/src/kernels/stateless_random_op.cc:282] Note the GPU implementation does not produce the same series as CPU implementation.\n",
      "2025-06-24 13:37:12.589689: I metal_plugin/src/kernels/stateless_random_op.cc:282] Note the GPU implementation does not produce the same series as CPU implementation.\n"
     ]
    },
    {
     "name": "stdout",
     "output_type": "stream",
     "text": [
      "64/92 [===================>..........] - ETA: 4s - loss: 1.8193 - accuracy: 0.4810"
     ]
    },
    {
     "name": "stderr",
     "output_type": "stream",
     "text": [
      "2025-06-24 13:37:12.750710: I metal_plugin/src/kernels/stateless_random_op.cc:282] Note the GPU implementation does not produce the same series as CPU implementation.\n",
      "2025-06-24 13:37:12.909191: I metal_plugin/src/kernels/stateless_random_op.cc:282] Note the GPU implementation does not produce the same series as CPU implementation.\n"
     ]
    },
    {
     "name": "stdout",
     "output_type": "stream",
     "text": [
      "66/92 [====================>.........] - ETA: 4s - loss: 1.8833 - accuracy: 0.4815"
     ]
    },
    {
     "name": "stderr",
     "output_type": "stream",
     "text": [
      "2025-06-24 13:37:13.062695: I metal_plugin/src/kernels/stateless_random_op.cc:282] Note the GPU implementation does not produce the same series as CPU implementation.\n",
      "2025-06-24 13:37:13.214416: I metal_plugin/src/kernels/stateless_random_op.cc:282] Note the GPU implementation does not produce the same series as CPU implementation.\n"
     ]
    },
    {
     "name": "stdout",
     "output_type": "stream",
     "text": [
      "68/92 [=====================>........] - ETA: 3s - loss: 1.9634 - accuracy: 0.4793"
     ]
    },
    {
     "name": "stderr",
     "output_type": "stream",
     "text": [
      "2025-06-24 13:37:13.379819: I metal_plugin/src/kernels/stateless_random_op.cc:282] Note the GPU implementation does not produce the same series as CPU implementation.\n",
      "2025-06-24 13:37:13.542900: I metal_plugin/src/kernels/stateless_random_op.cc:282] Note the GPU implementation does not produce the same series as CPU implementation.\n"
     ]
    },
    {
     "name": "stdout",
     "output_type": "stream",
     "text": [
      "70/92 [=====================>........] - ETA: 3s - loss: 2.0367 - accuracy: 0.4786"
     ]
    },
    {
     "name": "stderr",
     "output_type": "stream",
     "text": [
      "2025-06-24 13:37:13.692329: I metal_plugin/src/kernels/stateless_random_op.cc:282] Note the GPU implementation does not produce the same series as CPU implementation.\n",
      "2025-06-24 13:37:13.852862: I metal_plugin/src/kernels/stateless_random_op.cc:282] Note the GPU implementation does not produce the same series as CPU implementation.\n"
     ]
    },
    {
     "name": "stdout",
     "output_type": "stream",
     "text": [
      "72/92 [======================>.......] - ETA: 3s - loss: 2.0317 - accuracy: 0.4766"
     ]
    },
    {
     "name": "stderr",
     "output_type": "stream",
     "text": [
      "2025-06-24 13:37:14.012325: I metal_plugin/src/kernels/stateless_random_op.cc:282] Note the GPU implementation does not produce the same series as CPU implementation.\n",
      "2025-06-24 13:37:14.185605: I metal_plugin/src/kernels/stateless_random_op.cc:282] Note the GPU implementation does not produce the same series as CPU implementation.\n"
     ]
    },
    {
     "name": "stdout",
     "output_type": "stream",
     "text": [
      "74/92 [=======================>......] - ETA: 2s - loss: 2.0249 - accuracy: 0.4755"
     ]
    },
    {
     "name": "stderr",
     "output_type": "stream",
     "text": [
      "2025-06-24 13:37:14.337975: I metal_plugin/src/kernels/stateless_random_op.cc:282] Note the GPU implementation does not produce the same series as CPU implementation.\n",
      "2025-06-24 13:37:14.497470: I metal_plugin/src/kernels/stateless_random_op.cc:282] Note the GPU implementation does not produce the same series as CPU implementation.\n"
     ]
    },
    {
     "name": "stdout",
     "output_type": "stream",
     "text": [
      "76/92 [=======================>......] - ETA: 2s - loss: 2.0322 - accuracy: 0.4745"
     ]
    },
    {
     "name": "stderr",
     "output_type": "stream",
     "text": [
      "2025-06-24 13:37:14.650626: I metal_plugin/src/kernels/stateless_random_op.cc:282] Note the GPU implementation does not produce the same series as CPU implementation.\n",
      "2025-06-24 13:37:14.800027: I metal_plugin/src/kernels/stateless_random_op.cc:282] Note the GPU implementation does not produce the same series as CPU implementation.\n"
     ]
    },
    {
     "name": "stdout",
     "output_type": "stream",
     "text": [
      "78/92 [========================>.....] - ETA: 2s - loss: 2.0192 - accuracy: 0.4772"
     ]
    },
    {
     "name": "stderr",
     "output_type": "stream",
     "text": [
      "2025-06-24 13:37:14.948749: I metal_plugin/src/kernels/stateless_random_op.cc:282] Note the GPU implementation does not produce the same series as CPU implementation.\n",
      "2025-06-24 13:37:15.096600: I metal_plugin/src/kernels/stateless_random_op.cc:282] Note the GPU implementation does not produce the same series as CPU implementation.\n"
     ]
    },
    {
     "name": "stdout",
     "output_type": "stream",
     "text": [
      "80/92 [=========================>....] - ETA: 1s - loss: 1.9997 - accuracy: 0.4746"
     ]
    },
    {
     "name": "stderr",
     "output_type": "stream",
     "text": [
      "2025-06-24 13:37:15.247253: I metal_plugin/src/kernels/stateless_random_op.cc:282] Note the GPU implementation does not produce the same series as CPU implementation.\n",
      "2025-06-24 13:37:15.399289: I metal_plugin/src/kernels/stateless_random_op.cc:282] Note the GPU implementation does not produce the same series as CPU implementation.\n"
     ]
    },
    {
     "name": "stdout",
     "output_type": "stream",
     "text": [
      "82/92 [=========================>....] - ETA: 1s - loss: 1.9818 - accuracy: 0.4729"
     ]
    },
    {
     "name": "stderr",
     "output_type": "stream",
     "text": [
      "2025-06-24 13:37:15.562377: I metal_plugin/src/kernels/stateless_random_op.cc:282] Note the GPU implementation does not produce the same series as CPU implementation.\n",
      "2025-06-24 13:37:15.732044: I metal_plugin/src/kernels/stateless_random_op.cc:282] Note the GPU implementation does not produce the same series as CPU implementation.\n"
     ]
    },
    {
     "name": "stdout",
     "output_type": "stream",
     "text": [
      "84/92 [==========================>...] - ETA: 1s - loss: 1.9734 - accuracy: 0.4758"
     ]
    },
    {
     "name": "stderr",
     "output_type": "stream",
     "text": [
      "2025-06-24 13:37:15.911193: I metal_plugin/src/kernels/stateless_random_op.cc:282] Note the GPU implementation does not produce the same series as CPU implementation.\n",
      "2025-06-24 13:37:16.074870: I metal_plugin/src/kernels/stateless_random_op.cc:282] Note the GPU implementation does not produce the same series as CPU implementation.\n"
     ]
    },
    {
     "name": "stdout",
     "output_type": "stream",
     "text": [
      "86/92 [===========================>..] - ETA: 0s - loss: 1.9578 - accuracy: 0.4789"
     ]
    },
    {
     "name": "stderr",
     "output_type": "stream",
     "text": [
      "2025-06-24 13:37:16.233718: I metal_plugin/src/kernels/stateless_random_op.cc:282] Note the GPU implementation does not produce the same series as CPU implementation.\n",
      "2025-06-24 13:37:16.399808: I metal_plugin/src/kernels/stateless_random_op.cc:282] Note the GPU implementation does not produce the same series as CPU implementation.\n"
     ]
    },
    {
     "name": "stdout",
     "output_type": "stream",
     "text": [
      "88/92 [===========================>..] - ETA: 0s - loss: 1.9482 - accuracy: 0.4780"
     ]
    },
    {
     "name": "stderr",
     "output_type": "stream",
     "text": [
      "2025-06-24 13:37:16.558255: I metal_plugin/src/kernels/stateless_random_op.cc:282] Note the GPU implementation does not produce the same series as CPU implementation.\n",
      "2025-06-24 13:37:16.724809: I metal_plugin/src/kernels/stateless_random_op.cc:282] Note the GPU implementation does not produce the same series as CPU implementation.\n"
     ]
    },
    {
     "name": "stdout",
     "output_type": "stream",
     "text": [
      "90/92 [============================>.] - ETA: 0s - loss: 1.9543 - accuracy: 0.4819"
     ]
    },
    {
     "name": "stderr",
     "output_type": "stream",
     "text": [
      "2025-06-24 13:37:16.876873: I metal_plugin/src/kernels/stateless_random_op.cc:282] Note the GPU implementation does not produce the same series as CPU implementation.\n",
      "2025-06-24 13:37:17.025670: I metal_plugin/src/kernels/stateless_random_op.cc:282] Note the GPU implementation does not produce the same series as CPU implementation.\n"
     ]
    },
    {
     "name": "stdout",
     "output_type": "stream",
     "text": [
      "92/92 [==============================] - 14s 157ms/step - loss: 1.9543 - accuracy: 0.4840\n",
      "Epoch 8/10\n"
     ]
    },
    {
     "name": "stderr",
     "output_type": "stream",
     "text": [
      "2025-06-24 13:37:17.176215: I metal_plugin/src/kernels/stateless_random_op.cc:282] Note the GPU implementation does not produce the same series as CPU implementation.\n",
      "2025-06-24 13:37:17.373114: I metal_plugin/src/kernels/stateless_random_op.cc:282] Note the GPU implementation does not produce the same series as CPU implementation.\n"
     ]
    },
    {
     "name": "stdout",
     "output_type": "stream",
     "text": [
      " 2/92 [..............................] - ETA: 13s - loss: 3.1931 - accuracy: 0.0000e+00"
     ]
    },
    {
     "name": "stderr",
     "output_type": "stream",
     "text": [
      "2025-06-24 13:37:17.550886: I metal_plugin/src/kernels/stateless_random_op.cc:282] Note the GPU implementation does not produce the same series as CPU implementation.\n",
      "2025-06-24 13:37:17.706780: I metal_plugin/src/kernels/stateless_random_op.cc:282] Note the GPU implementation does not produce the same series as CPU implementation.\n"
     ]
    },
    {
     "name": "stdout",
     "output_type": "stream",
     "text": [
      " 4/92 [>.............................] - ETA: 13s - loss: 2.9522 - accuracy: 0.0000e+00"
     ]
    },
    {
     "name": "stderr",
     "output_type": "stream",
     "text": [
      "2025-06-24 13:37:17.856681: I metal_plugin/src/kernels/stateless_random_op.cc:282] Note the GPU implementation does not produce the same series as CPU implementation.\n",
      "2025-06-24 13:37:18.015219: I metal_plugin/src/kernels/stateless_random_op.cc:282] Note the GPU implementation does not produce the same series as CPU implementation.\n"
     ]
    },
    {
     "name": "stdout",
     "output_type": "stream",
     "text": [
      " 6/92 [>.............................] - ETA: 13s - loss: 3.6878 - accuracy: 0.0000e+00"
     ]
    },
    {
     "name": "stderr",
     "output_type": "stream",
     "text": [
      "2025-06-24 13:37:18.168050: I metal_plugin/src/kernels/stateless_random_op.cc:282] Note the GPU implementation does not produce the same series as CPU implementation.\n",
      "2025-06-24 13:37:18.317905: I metal_plugin/src/kernels/stateless_random_op.cc:282] Note the GPU implementation does not produce the same series as CPU implementation.\n"
     ]
    },
    {
     "name": "stdout",
     "output_type": "stream",
     "text": [
      " 8/92 [=>............................] - ETA: 12s - loss: 3.2806 - accuracy: 0.0000e+00"
     ]
    },
    {
     "name": "stderr",
     "output_type": "stream",
     "text": [
      "2025-06-24 13:37:18.469346: I metal_plugin/src/kernels/stateless_random_op.cc:282] Note the GPU implementation does not produce the same series as CPU implementation.\n",
      "2025-06-24 13:37:18.619080: I metal_plugin/src/kernels/stateless_random_op.cc:282] Note the GPU implementation does not produce the same series as CPU implementation.\n"
     ]
    },
    {
     "name": "stdout",
     "output_type": "stream",
     "text": [
      "10/92 [==>...........................] - ETA: 12s - loss: 3.0331 - accuracy: 0.0000e+00"
     ]
    },
    {
     "name": "stderr",
     "output_type": "stream",
     "text": [
      "2025-06-24 13:37:18.771723: I metal_plugin/src/kernels/stateless_random_op.cc:282] Note the GPU implementation does not produce the same series as CPU implementation.\n",
      "2025-06-24 13:37:18.920388: I metal_plugin/src/kernels/stateless_random_op.cc:282] Note the GPU implementation does not produce the same series as CPU implementation.\n"
     ]
    },
    {
     "name": "stdout",
     "output_type": "stream",
     "text": [
      "12/92 [==>...........................] - ETA: 12s - loss: 2.7433 - accuracy: 0.0521    "
     ]
    },
    {
     "name": "stderr",
     "output_type": "stream",
     "text": [
      "2025-06-24 13:37:19.072078: I metal_plugin/src/kernels/stateless_random_op.cc:282] Note the GPU implementation does not produce the same series as CPU implementation.\n",
      "2025-06-24 13:37:19.220075: I metal_plugin/src/kernels/stateless_random_op.cc:282] Note the GPU implementation does not produce the same series as CPU implementation.\n"
     ]
    },
    {
     "name": "stdout",
     "output_type": "stream",
     "text": [
      "14/92 [===>..........................] - ETA: 11s - loss: 2.5126 - accuracy: 0.1272"
     ]
    },
    {
     "name": "stderr",
     "output_type": "stream",
     "text": [
      "2025-06-24 13:37:19.372222: I metal_plugin/src/kernels/stateless_random_op.cc:282] Note the GPU implementation does not produce the same series as CPU implementation.\n",
      "2025-06-24 13:37:19.531002: I metal_plugin/src/kernels/stateless_random_op.cc:282] Note the GPU implementation does not produce the same series as CPU implementation.\n"
     ]
    },
    {
     "name": "stdout",
     "output_type": "stream",
     "text": [
      "16/92 [====>.........................] - ETA: 11s - loss: 2.3203 - accuracy: 0.2051"
     ]
    },
    {
     "name": "stderr",
     "output_type": "stream",
     "text": [
      "2025-06-24 13:37:19.676173: I metal_plugin/src/kernels/stateless_random_op.cc:282] Note the GPU implementation does not produce the same series as CPU implementation.\n",
      "2025-06-24 13:37:19.837180: I metal_plugin/src/kernels/stateless_random_op.cc:282] Note the GPU implementation does not produce the same series as CPU implementation.\n"
     ]
    },
    {
     "name": "stdout",
     "output_type": "stream",
     "text": [
      "18/92 [====>.........................] - ETA: 11s - loss: 2.1785 - accuracy: 0.2552"
     ]
    },
    {
     "name": "stderr",
     "output_type": "stream",
     "text": [
      "2025-06-24 13:37:19.986155: I metal_plugin/src/kernels/stateless_random_op.cc:282] Note the GPU implementation does not produce the same series as CPU implementation.\n",
      "2025-06-24 13:37:20.138276: I metal_plugin/src/kernels/stateless_random_op.cc:282] Note the GPU implementation does not produce the same series as CPU implementation.\n"
     ]
    },
    {
     "name": "stdout",
     "output_type": "stream",
     "text": [
      "20/92 [=====>........................] - ETA: 10s - loss: 2.0586 - accuracy: 0.3000"
     ]
    },
    {
     "name": "stderr",
     "output_type": "stream",
     "text": [
      "2025-06-24 13:37:20.285439: I metal_plugin/src/kernels/stateless_random_op.cc:282] Note the GPU implementation does not produce the same series as CPU implementation.\n",
      "2025-06-24 13:37:20.434494: I metal_plugin/src/kernels/stateless_random_op.cc:282] Note the GPU implementation does not produce the same series as CPU implementation.\n"
     ]
    },
    {
     "name": "stdout",
     "output_type": "stream",
     "text": [
      "22/92 [======>.......................] - ETA: 10s - loss: 1.9966 - accuracy: 0.3338"
     ]
    },
    {
     "name": "stderr",
     "output_type": "stream",
     "text": [
      "2025-06-24 13:37:20.592254: I metal_plugin/src/kernels/stateless_random_op.cc:282] Note the GPU implementation does not produce the same series as CPU implementation.\n",
      "2025-06-24 13:37:20.742917: I metal_plugin/src/kernels/stateless_random_op.cc:282] Note the GPU implementation does not produce the same series as CPU implementation.\n"
     ]
    },
    {
     "name": "stdout",
     "output_type": "stream",
     "text": [
      "24/92 [======>.......................] - ETA: 10s - loss: 2.1177 - accuracy: 0.3464"
     ]
    },
    {
     "name": "stderr",
     "output_type": "stream",
     "text": [
      "2025-06-24 13:37:20.942512: I metal_plugin/src/kernels/stateless_random_op.cc:282] Note the GPU implementation does not produce the same series as CPU implementation.\n",
      "2025-06-24 13:37:21.092898: I metal_plugin/src/kernels/stateless_random_op.cc:282] Note the GPU implementation does not produce the same series as CPU implementation.\n"
     ]
    },
    {
     "name": "stdout",
     "output_type": "stream",
     "text": [
      "26/92 [=======>......................] - ETA: 10s - loss: 2.2543 - accuracy: 0.3618"
     ]
    },
    {
     "name": "stderr",
     "output_type": "stream",
     "text": [
      "2025-06-24 13:37:21.242431: I metal_plugin/src/kernels/stateless_random_op.cc:282] Note the GPU implementation does not produce the same series as CPU implementation.\n",
      "2025-06-24 13:37:21.391275: I metal_plugin/src/kernels/stateless_random_op.cc:282] Note the GPU implementation does not produce the same series as CPU implementation.\n"
     ]
    },
    {
     "name": "stdout",
     "output_type": "stream",
     "text": [
      "28/92 [========>.....................] - ETA: 9s - loss: 2.4540 - accuracy: 0.3560"
     ]
    },
    {
     "name": "stderr",
     "output_type": "stream",
     "text": [
      "2025-06-24 13:37:21.543727: I metal_plugin/src/kernels/stateless_random_op.cc:282] Note the GPU implementation does not produce the same series as CPU implementation.\n",
      "2025-06-24 13:37:21.691731: I metal_plugin/src/kernels/stateless_random_op.cc:282] Note the GPU implementation does not produce the same series as CPU implementation.\n"
     ]
    },
    {
     "name": "stdout",
     "output_type": "stream",
     "text": [
      "30/92 [========>.....................] - ETA: 9s - loss: 2.4506 - accuracy: 0.3573"
     ]
    },
    {
     "name": "stderr",
     "output_type": "stream",
     "text": [
      "2025-06-24 13:37:21.840493: I metal_plugin/src/kernels/stateless_random_op.cc:282] Note the GPU implementation does not produce the same series as CPU implementation.\n",
      "2025-06-24 13:37:21.993472: I metal_plugin/src/kernels/stateless_random_op.cc:282] Note the GPU implementation does not produce the same series as CPU implementation.\n"
     ]
    },
    {
     "name": "stdout",
     "output_type": "stream",
     "text": [
      "32/92 [=========>....................] - ETA: 9s - loss: 2.3978 - accuracy: 0.3613"
     ]
    },
    {
     "name": "stderr",
     "output_type": "stream",
     "text": [
      "2025-06-24 13:37:22.142001: I metal_plugin/src/kernels/stateless_random_op.cc:282] Note the GPU implementation does not produce the same series as CPU implementation.\n",
      "2025-06-24 13:37:22.291963: I metal_plugin/src/kernels/stateless_random_op.cc:282] Note the GPU implementation does not produce the same series as CPU implementation.\n"
     ]
    },
    {
     "name": "stdout",
     "output_type": "stream",
     "text": [
      "34/92 [==========>...................] - ETA: 8s - loss: 2.3263 - accuracy: 0.3695"
     ]
    },
    {
     "name": "stderr",
     "output_type": "stream",
     "text": [
      "2025-06-24 13:37:22.440103: I metal_plugin/src/kernels/stateless_random_op.cc:282] Note the GPU implementation does not produce the same series as CPU implementation.\n",
      "2025-06-24 13:37:22.589581: I metal_plugin/src/kernels/stateless_random_op.cc:282] Note the GPU implementation does not produce the same series as CPU implementation.\n"
     ]
    },
    {
     "name": "stdout",
     "output_type": "stream",
     "text": [
      "36/92 [==========>...................] - ETA: 8s - loss: 2.2618 - accuracy: 0.3776"
     ]
    },
    {
     "name": "stderr",
     "output_type": "stream",
     "text": [
      "2025-06-24 13:37:22.740552: I metal_plugin/src/kernels/stateless_random_op.cc:282] Note the GPU implementation does not produce the same series as CPU implementation.\n",
      "2025-06-24 13:37:22.891889: I metal_plugin/src/kernels/stateless_random_op.cc:282] Note the GPU implementation does not produce the same series as CPU implementation.\n"
     ]
    },
    {
     "name": "stdout",
     "output_type": "stream",
     "text": [
      "38/92 [===========>..................] - ETA: 8s - loss: 2.2192 - accuracy: 0.3840"
     ]
    },
    {
     "name": "stderr",
     "output_type": "stream",
     "text": [
      "2025-06-24 13:37:23.046450: I metal_plugin/src/kernels/stateless_random_op.cc:282] Note the GPU implementation does not produce the same series as CPU implementation.\n",
      "2025-06-24 13:37:23.194225: I metal_plugin/src/kernels/stateless_random_op.cc:282] Note the GPU implementation does not produce the same series as CPU implementation.\n"
     ]
    },
    {
     "name": "stdout",
     "output_type": "stream",
     "text": [
      "40/92 [============>.................] - ETA: 7s - loss: 2.2493 - accuracy: 0.3859"
     ]
    },
    {
     "name": "stderr",
     "output_type": "stream",
     "text": [
      "2025-06-24 13:37:23.344879: I metal_plugin/src/kernels/stateless_random_op.cc:282] Note the GPU implementation does not produce the same series as CPU implementation.\n",
      "2025-06-24 13:37:23.495409: I metal_plugin/src/kernels/stateless_random_op.cc:282] Note the GPU implementation does not produce the same series as CPU implementation.\n"
     ]
    },
    {
     "name": "stdout",
     "output_type": "stream",
     "text": [
      "42/92 [============>.................] - ETA: 7s - loss: 2.3251 - accuracy: 0.3862"
     ]
    },
    {
     "name": "stderr",
     "output_type": "stream",
     "text": [
      "2025-06-24 13:37:23.643513: I metal_plugin/src/kernels/stateless_random_op.cc:282] Note the GPU implementation does not produce the same series as CPU implementation.\n",
      "2025-06-24 13:37:23.792528: I metal_plugin/src/kernels/stateless_random_op.cc:282] Note the GPU implementation does not produce the same series as CPU implementation.\n"
     ]
    },
    {
     "name": "stdout",
     "output_type": "stream",
     "text": [
      "44/92 [=============>................] - ETA: 7s - loss: 2.4508 - accuracy: 0.3842"
     ]
    },
    {
     "name": "stderr",
     "output_type": "stream",
     "text": [
      "2025-06-24 13:37:23.943442: I metal_plugin/src/kernels/stateless_random_op.cc:282] Note the GPU implementation does not produce the same series as CPU implementation.\n",
      "2025-06-24 13:37:24.091411: I metal_plugin/src/kernels/stateless_random_op.cc:282] Note the GPU implementation does not produce the same series as CPU implementation.\n"
     ]
    },
    {
     "name": "stdout",
     "output_type": "stream",
     "text": [
      "46/92 [==============>...............] - ETA: 6s - loss: 2.4590 - accuracy: 0.3872"
     ]
    },
    {
     "name": "stderr",
     "output_type": "stream",
     "text": [
      "2025-06-24 13:37:24.240765: I metal_plugin/src/kernels/stateless_random_op.cc:282] Note the GPU implementation does not produce the same series as CPU implementation.\n",
      "2025-06-24 13:37:24.390450: I metal_plugin/src/kernels/stateless_random_op.cc:282] Note the GPU implementation does not produce the same series as CPU implementation.\n"
     ]
    },
    {
     "name": "stdout",
     "output_type": "stream",
     "text": [
      "48/92 [==============>...............] - ETA: 6s - loss: 2.4342 - accuracy: 0.3854"
     ]
    },
    {
     "name": "stderr",
     "output_type": "stream",
     "text": [
      "2025-06-24 13:37:24.543353: I metal_plugin/src/kernels/stateless_random_op.cc:282] Note the GPU implementation does not produce the same series as CPU implementation.\n",
      "2025-06-24 13:37:24.692169: I metal_plugin/src/kernels/stateless_random_op.cc:282] Note the GPU implementation does not produce the same series as CPU implementation.\n"
     ]
    },
    {
     "name": "stdout",
     "output_type": "stream",
     "text": [
      "50/92 [===============>..............] - ETA: 6s - loss: 2.4624 - accuracy: 0.3850"
     ]
    },
    {
     "name": "stderr",
     "output_type": "stream",
     "text": [
      "2025-06-24 13:37:24.884299: I metal_plugin/src/kernels/stateless_random_op.cc:282] Note the GPU implementation does not produce the same series as CPU implementation.\n",
      "2025-06-24 13:37:25.035007: I metal_plugin/src/kernels/stateless_random_op.cc:282] Note the GPU implementation does not produce the same series as CPU implementation.\n"
     ]
    },
    {
     "name": "stdout",
     "output_type": "stream",
     "text": [
      "52/92 [===============>..............] - ETA: 6s - loss: 2.4351 - accuracy: 0.3858"
     ]
    },
    {
     "name": "stderr",
     "output_type": "stream",
     "text": [
      "2025-06-24 13:37:25.185501: I metal_plugin/src/kernels/stateless_random_op.cc:282] Note the GPU implementation does not produce the same series as CPU implementation.\n",
      "2025-06-24 13:37:25.335058: I metal_plugin/src/kernels/stateless_random_op.cc:282] Note the GPU implementation does not produce the same series as CPU implementation.\n"
     ]
    },
    {
     "name": "stdout",
     "output_type": "stream",
     "text": [
      "54/92 [================>.............] - ETA: 5s - loss: 2.3942 - accuracy: 0.3877"
     ]
    },
    {
     "name": "stderr",
     "output_type": "stream",
     "text": [
      "2025-06-24 13:37:25.485931: I metal_plugin/src/kernels/stateless_random_op.cc:282] Note the GPU implementation does not produce the same series as CPU implementation.\n",
      "2025-06-24 13:37:25.637323: I metal_plugin/src/kernels/stateless_random_op.cc:282] Note the GPU implementation does not produce the same series as CPU implementation.\n"
     ]
    },
    {
     "name": "stdout",
     "output_type": "stream",
     "text": [
      "56/92 [=================>............] - ETA: 5s - loss: 2.3871 - accuracy: 0.3845"
     ]
    },
    {
     "name": "stderr",
     "output_type": "stream",
     "text": [
      "2025-06-24 13:37:25.787235: I metal_plugin/src/kernels/stateless_random_op.cc:282] Note the GPU implementation does not produce the same series as CPU implementation.\n",
      "2025-06-24 13:37:25.938078: I metal_plugin/src/kernels/stateless_random_op.cc:282] Note the GPU implementation does not produce the same series as CPU implementation.\n"
     ]
    },
    {
     "name": "stdout",
     "output_type": "stream",
     "text": [
      "58/92 [=================>............] - ETA: 5s - loss: 2.3694 - accuracy: 0.3836"
     ]
    },
    {
     "name": "stderr",
     "output_type": "stream",
     "text": [
      "2025-06-24 13:37:26.089666: I metal_plugin/src/kernels/stateless_random_op.cc:282] Note the GPU implementation does not produce the same series as CPU implementation.\n",
      "2025-06-24 13:37:26.238517: I metal_plugin/src/kernels/stateless_random_op.cc:282] Note the GPU implementation does not produce the same series as CPU implementation.\n"
     ]
    },
    {
     "name": "stdout",
     "output_type": "stream",
     "text": [
      "60/92 [==================>...........] - ETA: 4s - loss: 2.3253 - accuracy: 0.3917"
     ]
    },
    {
     "name": "stderr",
     "output_type": "stream",
     "text": [
      "2025-06-24 13:37:26.390145: I metal_plugin/src/kernels/stateless_random_op.cc:282] Note the GPU implementation does not produce the same series as CPU implementation.\n",
      "2025-06-24 13:37:26.541559: I metal_plugin/src/kernels/stateless_random_op.cc:282] Note the GPU implementation does not produce the same series as CPU implementation.\n"
     ]
    },
    {
     "name": "stdout",
     "output_type": "stream",
     "text": [
      "62/92 [===================>..........] - ETA: 4s - loss: 2.3864 - accuracy: 0.3962"
     ]
    },
    {
     "name": "stderr",
     "output_type": "stream",
     "text": [
      "2025-06-24 13:37:26.691183: I metal_plugin/src/kernels/stateless_random_op.cc:282] Note the GPU implementation does not produce the same series as CPU implementation.\n",
      "2025-06-24 13:37:26.842893: I metal_plugin/src/kernels/stateless_random_op.cc:282] Note the GPU implementation does not produce the same series as CPU implementation.\n"
     ]
    },
    {
     "name": "stdout",
     "output_type": "stream",
     "text": [
      "64/92 [===================>..........] - ETA: 4s - loss: 2.4174 - accuracy: 0.4004"
     ]
    },
    {
     "name": "stderr",
     "output_type": "stream",
     "text": [
      "2025-06-24 13:37:26.991726: I metal_plugin/src/kernels/stateless_random_op.cc:282] Note the GPU implementation does not produce the same series as CPU implementation.\n",
      "2025-06-24 13:37:27.141309: I metal_plugin/src/kernels/stateless_random_op.cc:282] Note the GPU implementation does not produce the same series as CPU implementation.\n"
     ]
    },
    {
     "name": "stdout",
     "output_type": "stream",
     "text": [
      "66/92 [====================>.........] - ETA: 3s - loss: 2.4149 - accuracy: 0.4015"
     ]
    },
    {
     "name": "stderr",
     "output_type": "stream",
     "text": [
      "2025-06-24 13:37:27.289605: I metal_plugin/src/kernels/stateless_random_op.cc:282] Note the GPU implementation does not produce the same series as CPU implementation.\n",
      "2025-06-24 13:37:27.438476: I metal_plugin/src/kernels/stateless_random_op.cc:282] Note the GPU implementation does not produce the same series as CPU implementation.\n"
     ]
    },
    {
     "name": "stdout",
     "output_type": "stream",
     "text": [
      "68/92 [=====================>........] - ETA: 3s - loss: 2.4152 - accuracy: 0.3943"
     ]
    },
    {
     "name": "stderr",
     "output_type": "stream",
     "text": [
      "2025-06-24 13:37:27.590348: I metal_plugin/src/kernels/stateless_random_op.cc:282] Note the GPU implementation does not produce the same series as CPU implementation.\n",
      "2025-06-24 13:37:27.736598: I metal_plugin/src/kernels/stateless_random_op.cc:282] Note the GPU implementation does not produce the same series as CPU implementation.\n"
     ]
    },
    {
     "name": "stdout",
     "output_type": "stream",
     "text": [
      "70/92 [=====================>........] - ETA: 3s - loss: 2.4373 - accuracy: 0.3888"
     ]
    },
    {
     "name": "stderr",
     "output_type": "stream",
     "text": [
      "2025-06-24 13:37:27.887886: I metal_plugin/src/kernels/stateless_random_op.cc:282] Note the GPU implementation does not produce the same series as CPU implementation.\n",
      "2025-06-24 13:37:28.034936: I metal_plugin/src/kernels/stateless_random_op.cc:282] Note the GPU implementation does not produce the same series as CPU implementation.\n"
     ]
    },
    {
     "name": "stdout",
     "output_type": "stream",
     "text": [
      "72/92 [======================>.......] - ETA: 3s - loss: 2.4200 - accuracy: 0.3841"
     ]
    },
    {
     "name": "stderr",
     "output_type": "stream",
     "text": [
      "2025-06-24 13:37:28.193998: I metal_plugin/src/kernels/stateless_random_op.cc:282] Note the GPU implementation does not produce the same series as CPU implementation.\n",
      "2025-06-24 13:37:28.341527: I metal_plugin/src/kernels/stateless_random_op.cc:282] Note the GPU implementation does not produce the same series as CPU implementation.\n"
     ]
    },
    {
     "name": "stdout",
     "output_type": "stream",
     "text": [
      "74/92 [=======================>......] - ETA: 2s - loss: 2.4061 - accuracy: 0.3775"
     ]
    },
    {
     "name": "stderr",
     "output_type": "stream",
     "text": [
      "2025-06-24 13:37:28.491544: I metal_plugin/src/kernels/stateless_random_op.cc:282] Note the GPU implementation does not produce the same series as CPU implementation.\n",
      "2025-06-24 13:37:28.640763: I metal_plugin/src/kernels/stateless_random_op.cc:282] Note the GPU implementation does not produce the same series as CPU implementation.\n"
     ]
    },
    {
     "name": "stdout",
     "output_type": "stream",
     "text": [
      "76/92 [=======================>......] - ETA: 2s - loss: 2.3912 - accuracy: 0.3779"
     ]
    },
    {
     "name": "stderr",
     "output_type": "stream",
     "text": [
      "2025-06-24 13:37:28.835384: I metal_plugin/src/kernels/stateless_random_op.cc:282] Note the GPU implementation does not produce the same series as CPU implementation.\n",
      "2025-06-24 13:37:28.986445: I metal_plugin/src/kernels/stateless_random_op.cc:282] Note the GPU implementation does not produce the same series as CPU implementation.\n"
     ]
    },
    {
     "name": "stdout",
     "output_type": "stream",
     "text": [
      "78/92 [========================>.....] - ETA: 2s - loss: 2.3760 - accuracy: 0.3762"
     ]
    },
    {
     "name": "stderr",
     "output_type": "stream",
     "text": [
      "2025-06-24 13:37:29.135625: I metal_plugin/src/kernels/stateless_random_op.cc:282] Note the GPU implementation does not produce the same series as CPU implementation.\n",
      "2025-06-24 13:37:29.293223: I metal_plugin/src/kernels/stateless_random_op.cc:282] Note the GPU implementation does not produce the same series as CPU implementation.\n"
     ]
    },
    {
     "name": "stdout",
     "output_type": "stream",
     "text": [
      "80/92 [=========================>....] - ETA: 1s - loss: 2.3433 - accuracy: 0.3816"
     ]
    },
    {
     "name": "stderr",
     "output_type": "stream",
     "text": [
      "2025-06-24 13:37:29.443337: I metal_plugin/src/kernels/stateless_random_op.cc:282] Note the GPU implementation does not produce the same series as CPU implementation.\n",
      "2025-06-24 13:37:29.591166: I metal_plugin/src/kernels/stateless_random_op.cc:282] Note the GPU implementation does not produce the same series as CPU implementation.\n"
     ]
    },
    {
     "name": "stdout",
     "output_type": "stream",
     "text": [
      "82/92 [=========================>....] - ETA: 1s - loss: 2.3461 - accuracy: 0.3834"
     ]
    },
    {
     "name": "stderr",
     "output_type": "stream",
     "text": [
      "2025-06-24 13:37:29.741962: I metal_plugin/src/kernels/stateless_random_op.cc:282] Note the GPU implementation does not produce the same series as CPU implementation.\n",
      "2025-06-24 13:37:29.900350: I metal_plugin/src/kernels/stateless_random_op.cc:282] Note the GPU implementation does not produce the same series as CPU implementation.\n"
     ]
    },
    {
     "name": "stdout",
     "output_type": "stream",
     "text": [
      "84/92 [==========================>...] - ETA: 1s - loss: 2.3330 - accuracy: 0.3876"
     ]
    },
    {
     "name": "stderr",
     "output_type": "stream",
     "text": [
      "2025-06-24 13:37:30.050746: I metal_plugin/src/kernels/stateless_random_op.cc:282] Note the GPU implementation does not produce the same series as CPU implementation.\n",
      "2025-06-24 13:37:30.202509: I metal_plugin/src/kernels/stateless_random_op.cc:282] Note the GPU implementation does not produce the same series as CPU implementation.\n"
     ]
    },
    {
     "name": "stdout",
     "output_type": "stream",
     "text": [
      "86/92 [===========================>..] - ETA: 0s - loss: 2.3292 - accuracy: 0.3903"
     ]
    },
    {
     "name": "stderr",
     "output_type": "stream",
     "text": [
      "2025-06-24 13:37:30.352578: I metal_plugin/src/kernels/stateless_random_op.cc:282] Note the GPU implementation does not produce the same series as CPU implementation.\n",
      "2025-06-24 13:37:30.513453: I metal_plugin/src/kernels/stateless_random_op.cc:282] Note the GPU implementation does not produce the same series as CPU implementation.\n"
     ]
    },
    {
     "name": "stdout",
     "output_type": "stream",
     "text": [
      "88/92 [===========================>..] - ETA: 0s - loss: 2.2992 - accuracy: 0.3952"
     ]
    },
    {
     "name": "stderr",
     "output_type": "stream",
     "text": [
      "2025-06-24 13:37:30.658089: I metal_plugin/src/kernels/stateless_random_op.cc:282] Note the GPU implementation does not produce the same series as CPU implementation.\n",
      "2025-06-24 13:37:30.806892: I metal_plugin/src/kernels/stateless_random_op.cc:282] Note the GPU implementation does not produce the same series as CPU implementation.\n"
     ]
    },
    {
     "name": "stdout",
     "output_type": "stream",
     "text": [
      "90/92 [============================>.] - ETA: 0s - loss: 2.2724 - accuracy: 0.3990"
     ]
    },
    {
     "name": "stderr",
     "output_type": "stream",
     "text": [
      "2025-06-24 13:37:30.953683: I metal_plugin/src/kernels/stateless_random_op.cc:282] Note the GPU implementation does not produce the same series as CPU implementation.\n",
      "2025-06-24 13:37:31.101155: I metal_plugin/src/kernels/stateless_random_op.cc:282] Note the GPU implementation does not produce the same series as CPU implementation.\n"
     ]
    },
    {
     "name": "stdout",
     "output_type": "stream",
     "text": [
      "92/92 [==============================] - 14s 152ms/step - loss: 2.2504 - accuracy: 0.4009\n",
      "Epoch 9/10\n"
     ]
    },
    {
     "name": "stderr",
     "output_type": "stream",
     "text": [
      "2025-06-24 13:37:31.247605: I metal_plugin/src/kernels/stateless_random_op.cc:282] Note the GPU implementation does not produce the same series as CPU implementation.\n",
      "2025-06-24 13:37:31.409500: I metal_plugin/src/kernels/stateless_random_op.cc:282] Note the GPU implementation does not produce the same series as CPU implementation.\n"
     ]
    },
    {
     "name": "stdout",
     "output_type": "stream",
     "text": [
      " 2/92 [..............................] - ETA: 13s - loss: 2.5145 - accuracy: 0.0156"
     ]
    },
    {
     "name": "stderr",
     "output_type": "stream",
     "text": [
      "2025-06-24 13:37:31.585922: I metal_plugin/src/kernels/stateless_random_op.cc:282] Note the GPU implementation does not produce the same series as CPU implementation.\n",
      "2025-06-24 13:37:31.735238: I metal_plugin/src/kernels/stateless_random_op.cc:282] Note the GPU implementation does not produce the same series as CPU implementation.\n"
     ]
    },
    {
     "name": "stdout",
     "output_type": "stream",
     "text": [
      " 4/92 [>.............................] - ETA: 13s - loss: 2.3757 - accuracy: 0.0312"
     ]
    },
    {
     "name": "stderr",
     "output_type": "stream",
     "text": [
      "2025-06-24 13:37:31.885903: I metal_plugin/src/kernels/stateless_random_op.cc:282] Note the GPU implementation does not produce the same series as CPU implementation.\n",
      "2025-06-24 13:37:32.037307: I metal_plugin/src/kernels/stateless_random_op.cc:282] Note the GPU implementation does not produce the same series as CPU implementation.\n"
     ]
    },
    {
     "name": "stdout",
     "output_type": "stream",
     "text": [
      " 6/92 [>.............................] - ETA: 12s - loss: 2.1644 - accuracy: 0.0833"
     ]
    },
    {
     "name": "stderr",
     "output_type": "stream",
     "text": [
      "2025-06-24 13:37:32.186784: I metal_plugin/src/kernels/stateless_random_op.cc:282] Note the GPU implementation does not produce the same series as CPU implementation.\n",
      "2025-06-24 13:37:32.335934: I metal_plugin/src/kernels/stateless_random_op.cc:282] Note the GPU implementation does not produce the same series as CPU implementation.\n"
     ]
    },
    {
     "name": "stdout",
     "output_type": "stream",
     "text": [
      " 8/92 [=>............................] - ETA: 13s - loss: 1.9439 - accuracy: 0.1641"
     ]
    },
    {
     "name": "stderr",
     "output_type": "stream",
     "text": [
      "2025-06-24 13:37:32.484866: I metal_plugin/src/kernels/stateless_random_op.cc:282] Note the GPU implementation does not produce the same series as CPU implementation.\n",
      "2025-06-24 13:37:32.679123: I metal_plugin/src/kernels/stateless_random_op.cc:282] Note the GPU implementation does not produce the same series as CPU implementation.\n"
     ]
    },
    {
     "name": "stdout",
     "output_type": "stream",
     "text": [
      "10/92 [==>...........................] - ETA: 12s - loss: 1.7438 - accuracy: 0.2375"
     ]
    },
    {
     "name": "stderr",
     "output_type": "stream",
     "text": [
      "2025-06-24 13:37:32.828154: I metal_plugin/src/kernels/stateless_random_op.cc:282] Note the GPU implementation does not produce the same series as CPU implementation.\n",
      "2025-06-24 13:37:32.976046: I metal_plugin/src/kernels/stateless_random_op.cc:282] Note the GPU implementation does not produce the same series as CPU implementation.\n"
     ]
    },
    {
     "name": "stdout",
     "output_type": "stream",
     "text": [
      "12/92 [==>...........................] - ETA: 12s - loss: 1.6033 - accuracy: 0.2812"
     ]
    },
    {
     "name": "stderr",
     "output_type": "stream",
     "text": [
      "2025-06-24 13:37:33.124036: I metal_plugin/src/kernels/stateless_random_op.cc:282] Note the GPU implementation does not produce the same series as CPU implementation.\n",
      "2025-06-24 13:37:33.273722: I metal_plugin/src/kernels/stateless_random_op.cc:282] Note the GPU implementation does not produce the same series as CPU implementation.\n"
     ]
    },
    {
     "name": "stdout",
     "output_type": "stream",
     "text": [
      "14/92 [===>..........................] - ETA: 11s - loss: 1.4886 - accuracy: 0.3080"
     ]
    },
    {
     "name": "stderr",
     "output_type": "stream",
     "text": [
      "2025-06-24 13:37:33.425162: I metal_plugin/src/kernels/stateless_random_op.cc:282] Note the GPU implementation does not produce the same series as CPU implementation.\n",
      "2025-06-24 13:37:33.572433: I metal_plugin/src/kernels/stateless_random_op.cc:282] Note the GPU implementation does not produce the same series as CPU implementation.\n"
     ]
    },
    {
     "name": "stdout",
     "output_type": "stream",
     "text": [
      "16/92 [====>.........................] - ETA: 11s - loss: 1.3866 - accuracy: 0.3535"
     ]
    },
    {
     "name": "stderr",
     "output_type": "stream",
     "text": [
      "2025-06-24 13:37:33.721501: I metal_plugin/src/kernels/stateless_random_op.cc:282] Note the GPU implementation does not produce the same series as CPU implementation.\n",
      "2025-06-24 13:37:33.869886: I metal_plugin/src/kernels/stateless_random_op.cc:282] Note the GPU implementation does not produce the same series as CPU implementation.\n"
     ]
    },
    {
     "name": "stdout",
     "output_type": "stream",
     "text": [
      "18/92 [====>.........................] - ETA: 11s - loss: 1.3153 - accuracy: 0.3819"
     ]
    },
    {
     "name": "stderr",
     "output_type": "stream",
     "text": [
      "2025-06-24 13:37:34.029151: I metal_plugin/src/kernels/stateless_random_op.cc:282] Note the GPU implementation does not produce the same series as CPU implementation.\n",
      "2025-06-24 13:37:34.215570: I metal_plugin/src/kernels/stateless_random_op.cc:282] Note the GPU implementation does not produce the same series as CPU implementation.\n"
     ]
    },
    {
     "name": "stdout",
     "output_type": "stream",
     "text": [
      "20/92 [=====>........................] - ETA: 11s - loss: 1.3074 - accuracy: 0.4078"
     ]
    },
    {
     "name": "stderr",
     "output_type": "stream",
     "text": [
      "2025-06-24 13:37:34.376083: I metal_plugin/src/kernels/stateless_random_op.cc:282] Note the GPU implementation does not produce the same series as CPU implementation.\n",
      "2025-06-24 13:37:34.531495: I metal_plugin/src/kernels/stateless_random_op.cc:282] Note the GPU implementation does not produce the same series as CPU implementation.\n"
     ]
    },
    {
     "name": "stdout",
     "output_type": "stream",
     "text": [
      "22/92 [======>.......................] - ETA: 10s - loss: 1.3084 - accuracy: 0.4190"
     ]
    },
    {
     "name": "stderr",
     "output_type": "stream",
     "text": [
      "2025-06-24 13:37:34.680616: I metal_plugin/src/kernels/stateless_random_op.cc:282] Note the GPU implementation does not produce the same series as CPU implementation.\n",
      "2025-06-24 13:37:34.832782: I metal_plugin/src/kernels/stateless_random_op.cc:282] Note the GPU implementation does not produce the same series as CPU implementation.\n"
     ]
    },
    {
     "name": "stdout",
     "output_type": "stream",
     "text": [
      "24/92 [======>.......................] - ETA: 10s - loss: 1.3624 - accuracy: 0.4271"
     ]
    },
    {
     "name": "stderr",
     "output_type": "stream",
     "text": [
      "2025-06-24 13:37:34.987562: I metal_plugin/src/kernels/stateless_random_op.cc:282] Note the GPU implementation does not produce the same series as CPU implementation.\n",
      "2025-06-24 13:37:35.139926: I metal_plugin/src/kernels/stateless_random_op.cc:282] Note the GPU implementation does not produce the same series as CPU implementation.\n"
     ]
    },
    {
     "name": "stdout",
     "output_type": "stream",
     "text": [
      "26/92 [=======>......................] - ETA: 10s - loss: 1.3740 - accuracy: 0.4267"
     ]
    },
    {
     "name": "stderr",
     "output_type": "stream",
     "text": [
      "2025-06-24 13:37:35.306256: I metal_plugin/src/kernels/stateless_random_op.cc:282] Note the GPU implementation does not produce the same series as CPU implementation.\n",
      "2025-06-24 13:37:35.469305: I metal_plugin/src/kernels/stateless_random_op.cc:282] Note the GPU implementation does not produce the same series as CPU implementation.\n"
     ]
    },
    {
     "name": "stdout",
     "output_type": "stream",
     "text": [
      "28/92 [========>.....................] - ETA: 9s - loss: 1.3973 - accuracy: 0.4118 "
     ]
    },
    {
     "name": "stderr",
     "output_type": "stream",
     "text": [
      "2025-06-24 13:37:35.619318: I metal_plugin/src/kernels/stateless_random_op.cc:282] Note the GPU implementation does not produce the same series as CPU implementation.\n",
      "2025-06-24 13:37:35.780550: I metal_plugin/src/kernels/stateless_random_op.cc:282] Note the GPU implementation does not produce the same series as CPU implementation.\n"
     ]
    },
    {
     "name": "stdout",
     "output_type": "stream",
     "text": [
      "30/92 [========>.....................] - ETA: 9s - loss: 1.3941 - accuracy: 0.4135"
     ]
    },
    {
     "name": "stderr",
     "output_type": "stream",
     "text": [
      "2025-06-24 13:37:35.930668: I metal_plugin/src/kernels/stateless_random_op.cc:282] Note the GPU implementation does not produce the same series as CPU implementation.\n",
      "2025-06-24 13:37:36.084941: I metal_plugin/src/kernels/stateless_random_op.cc:282] Note the GPU implementation does not produce the same series as CPU implementation.\n"
     ]
    },
    {
     "name": "stdout",
     "output_type": "stream",
     "text": [
      "32/92 [=========>....................] - ETA: 9s - loss: 1.3738 - accuracy: 0.4219"
     ]
    },
    {
     "name": "stderr",
     "output_type": "stream",
     "text": [
      "2025-06-24 13:37:36.232718: I metal_plugin/src/kernels/stateless_random_op.cc:282] Note the GPU implementation does not produce the same series as CPU implementation.\n",
      "2025-06-24 13:37:36.427195: I metal_plugin/src/kernels/stateless_random_op.cc:282] Note the GPU implementation does not produce the same series as CPU implementation.\n"
     ]
    },
    {
     "name": "stdout",
     "output_type": "stream",
     "text": [
      "34/92 [==========>...................] - ETA: 9s - loss: 1.3554 - accuracy: 0.4246"
     ]
    },
    {
     "name": "stderr",
     "output_type": "stream",
     "text": [
      "2025-06-24 13:37:36.578789: I metal_plugin/src/kernels/stateless_random_op.cc:282] Note the GPU implementation does not produce the same series as CPU implementation.\n",
      "2025-06-24 13:37:36.734465: I metal_plugin/src/kernels/stateless_random_op.cc:282] Note the GPU implementation does not produce the same series as CPU implementation.\n"
     ]
    },
    {
     "name": "stdout",
     "output_type": "stream",
     "text": [
      "36/92 [==========>...................] - ETA: 8s - loss: 1.3342 - accuracy: 0.4332"
     ]
    },
    {
     "name": "stderr",
     "output_type": "stream",
     "text": [
      "2025-06-24 13:37:36.881852: I metal_plugin/src/kernels/stateless_random_op.cc:282] Note the GPU implementation does not produce the same series as CPU implementation.\n",
      "2025-06-24 13:37:37.033386: I metal_plugin/src/kernels/stateless_random_op.cc:282] Note the GPU implementation does not produce the same series as CPU implementation.\n"
     ]
    },
    {
     "name": "stdout",
     "output_type": "stream",
     "text": [
      "38/92 [===========>..................] - ETA: 8s - loss: 1.3249 - accuracy: 0.4350"
     ]
    },
    {
     "name": "stderr",
     "output_type": "stream",
     "text": [
      "2025-06-24 13:37:37.180980: I metal_plugin/src/kernels/stateless_random_op.cc:282] Note the GPU implementation does not produce the same series as CPU implementation.\n",
      "2025-06-24 13:37:37.334428: I metal_plugin/src/kernels/stateless_random_op.cc:282] Note the GPU implementation does not produce the same series as CPU implementation.\n"
     ]
    },
    {
     "name": "stdout",
     "output_type": "stream",
     "text": [
      "40/92 [============>.................] - ETA: 8s - loss: 1.3155 - accuracy: 0.4406"
     ]
    },
    {
     "name": "stderr",
     "output_type": "stream",
     "text": [
      "2025-06-24 13:37:37.485822: I metal_plugin/src/kernels/stateless_random_op.cc:282] Note the GPU implementation does not produce the same series as CPU implementation.\n",
      "2025-06-24 13:37:37.639524: I metal_plugin/src/kernels/stateless_random_op.cc:282] Note the GPU implementation does not produce the same series as CPU implementation.\n"
     ]
    },
    {
     "name": "stdout",
     "output_type": "stream",
     "text": [
      "42/92 [============>.................] - ETA: 7s - loss: 1.3160 - accuracy: 0.4457"
     ]
    },
    {
     "name": "stderr",
     "output_type": "stream",
     "text": [
      "2025-06-24 13:37:37.789824: I metal_plugin/src/kernels/stateless_random_op.cc:282] Note the GPU implementation does not produce the same series as CPU implementation.\n",
      "2025-06-24 13:37:37.940679: I metal_plugin/src/kernels/stateless_random_op.cc:282] Note the GPU implementation does not produce the same series as CPU implementation.\n"
     ]
    },
    {
     "name": "stdout",
     "output_type": "stream",
     "text": [
      "44/92 [=============>................] - ETA: 7s - loss: 1.3357 - accuracy: 0.4425"
     ]
    },
    {
     "name": "stderr",
     "output_type": "stream",
     "text": [
      "2025-06-24 13:37:38.093314: I metal_plugin/src/kernels/stateless_random_op.cc:282] Note the GPU implementation does not produce the same series as CPU implementation.\n",
      "2025-06-24 13:37:38.244034: I metal_plugin/src/kernels/stateless_random_op.cc:282] Note the GPU implementation does not produce the same series as CPU implementation.\n"
     ]
    },
    {
     "name": "stdout",
     "output_type": "stream",
     "text": [
      "46/92 [==============>...............] - ETA: 7s - loss: 1.3868 - accuracy: 0.4334"
     ]
    },
    {
     "name": "stderr",
     "output_type": "stream",
     "text": [
      "2025-06-24 13:37:38.392142: I metal_plugin/src/kernels/stateless_random_op.cc:282] Note the GPU implementation does not produce the same series as CPU implementation.\n",
      "2025-06-24 13:37:38.543823: I metal_plugin/src/kernels/stateless_random_op.cc:282] Note the GPU implementation does not produce the same series as CPU implementation.\n"
     ]
    },
    {
     "name": "stdout",
     "output_type": "stream",
     "text": [
      "48/92 [==============>...............] - ETA: 6s - loss: 1.4124 - accuracy: 0.4297"
     ]
    },
    {
     "name": "stderr",
     "output_type": "stream",
     "text": [
      "2025-06-24 13:37:38.692747: I metal_plugin/src/kernels/stateless_random_op.cc:282] Note the GPU implementation does not produce the same series as CPU implementation.\n",
      "2025-06-24 13:37:38.840373: I metal_plugin/src/kernels/stateless_random_op.cc:282] Note the GPU implementation does not produce the same series as CPU implementation.\n"
     ]
    },
    {
     "name": "stdout",
     "output_type": "stream",
     "text": [
      "50/92 [===============>..............] - ETA: 6s - loss: 1.4439 - accuracy: 0.4231"
     ]
    },
    {
     "name": "stderr",
     "output_type": "stream",
     "text": [
      "2025-06-24 13:37:38.990348: I metal_plugin/src/kernels/stateless_random_op.cc:282] Note the GPU implementation does not produce the same series as CPU implementation.\n",
      "2025-06-24 13:37:39.142749: I metal_plugin/src/kernels/stateless_random_op.cc:282] Note the GPU implementation does not produce the same series as CPU implementation.\n"
     ]
    },
    {
     "name": "stdout",
     "output_type": "stream",
     "text": [
      "52/92 [===============>..............] - ETA: 6s - loss: 1.4736 - accuracy: 0.4159"
     ]
    },
    {
     "name": "stderr",
     "output_type": "stream",
     "text": [
      "2025-06-24 13:37:39.295532: I metal_plugin/src/kernels/stateless_random_op.cc:282] Note the GPU implementation does not produce the same series as CPU implementation.\n",
      "2025-06-24 13:37:39.448004: I metal_plugin/src/kernels/stateless_random_op.cc:282] Note the GPU implementation does not produce the same series as CPU implementation.\n"
     ]
    },
    {
     "name": "stdout",
     "output_type": "stream",
     "text": [
      "54/92 [================>.............] - ETA: 5s - loss: 1.4885 - accuracy: 0.4103"
     ]
    },
    {
     "name": "stderr",
     "output_type": "stream",
     "text": [
      "2025-06-24 13:37:39.597820: I metal_plugin/src/kernels/stateless_random_op.cc:282] Note the GPU implementation does not produce the same series as CPU implementation.\n",
      "2025-06-24 13:37:39.746858: I metal_plugin/src/kernels/stateless_random_op.cc:282] Note the GPU implementation does not produce the same series as CPU implementation.\n"
     ]
    },
    {
     "name": "stdout",
     "output_type": "stream",
     "text": [
      "56/92 [=================>............] - ETA: 5s - loss: 1.5003 - accuracy: 0.4057"
     ]
    },
    {
     "name": "stderr",
     "output_type": "stream",
     "text": [
      "2025-06-24 13:37:39.896138: I metal_plugin/src/kernels/stateless_random_op.cc:282] Note the GPU implementation does not produce the same series as CPU implementation.\n",
      "2025-06-24 13:37:40.059803: I metal_plugin/src/kernels/stateless_random_op.cc:282] Note the GPU implementation does not produce the same series as CPU implementation.\n"
     ]
    },
    {
     "name": "stdout",
     "output_type": "stream",
     "text": [
      "58/92 [=================>............] - ETA: 5s - loss: 1.5001 - accuracy: 0.4068"
     ]
    },
    {
     "name": "stderr",
     "output_type": "stream",
     "text": [
      "2025-06-24 13:37:40.211596: I metal_plugin/src/kernels/stateless_random_op.cc:282] Note the GPU implementation does not produce the same series as CPU implementation.\n",
      "2025-06-24 13:37:40.364956: I metal_plugin/src/kernels/stateless_random_op.cc:282] Note the GPU implementation does not produce the same series as CPU implementation.\n"
     ]
    },
    {
     "name": "stdout",
     "output_type": "stream",
     "text": [
      "60/92 [==================>...........] - ETA: 4s - loss: 1.5010 - accuracy: 0.4047"
     ]
    },
    {
     "name": "stderr",
     "output_type": "stream",
     "text": [
      "2025-06-24 13:37:40.519123: I metal_plugin/src/kernels/stateless_random_op.cc:282] Note the GPU implementation does not produce the same series as CPU implementation.\n",
      "2025-06-24 13:37:40.674281: I metal_plugin/src/kernels/stateless_random_op.cc:282] Note the GPU implementation does not produce the same series as CPU implementation.\n"
     ]
    },
    {
     "name": "stdout",
     "output_type": "stream",
     "text": [
      "62/92 [===================>..........] - ETA: 4s - loss: 1.5083 - accuracy: 0.3977"
     ]
    },
    {
     "name": "stderr",
     "output_type": "stream",
     "text": [
      "2025-06-24 13:37:40.822522: I metal_plugin/src/kernels/stateless_random_op.cc:282] Note the GPU implementation does not produce the same series as CPU implementation.\n",
      "2025-06-24 13:37:40.973410: I metal_plugin/src/kernels/stateless_random_op.cc:282] Note the GPU implementation does not produce the same series as CPU implementation.\n"
     ]
    },
    {
     "name": "stdout",
     "output_type": "stream",
     "text": [
      "64/92 [===================>..........] - ETA: 4s - loss: 1.5184 - accuracy: 0.3975"
     ]
    },
    {
     "name": "stderr",
     "output_type": "stream",
     "text": [
      "2025-06-24 13:37:41.123003: I metal_plugin/src/kernels/stateless_random_op.cc:282] Note the GPU implementation does not produce the same series as CPU implementation.\n",
      "2025-06-24 13:37:41.277114: I metal_plugin/src/kernels/stateless_random_op.cc:282] Note the GPU implementation does not produce the same series as CPU implementation.\n"
     ]
    },
    {
     "name": "stdout",
     "output_type": "stream",
     "text": [
      "66/92 [====================>.........] - ETA: 3s - loss: 1.5216 - accuracy: 0.4001"
     ]
    },
    {
     "name": "stderr",
     "output_type": "stream",
     "text": [
      "2025-06-24 13:37:41.425766: I metal_plugin/src/kernels/stateless_random_op.cc:282] Note the GPU implementation does not produce the same series as CPU implementation.\n",
      "2025-06-24 13:37:41.575229: I metal_plugin/src/kernels/stateless_random_op.cc:282] Note the GPU implementation does not produce the same series as CPU implementation.\n"
     ]
    },
    {
     "name": "stdout",
     "output_type": "stream",
     "text": [
      "68/92 [=====================>........] - ETA: 3s - loss: 1.5218 - accuracy: 0.4012"
     ]
    },
    {
     "name": "stderr",
     "output_type": "stream",
     "text": [
      "2025-06-24 13:37:41.725070: I metal_plugin/src/kernels/stateless_random_op.cc:282] Note the GPU implementation does not produce the same series as CPU implementation.\n",
      "2025-06-24 13:37:41.878176: I metal_plugin/src/kernels/stateless_random_op.cc:282] Note the GPU implementation does not produce the same series as CPU implementation.\n"
     ]
    },
    {
     "name": "stdout",
     "output_type": "stream",
     "text": [
      "70/92 [=====================>........] - ETA: 3s - loss: 1.5408 - accuracy: 0.4000"
     ]
    },
    {
     "name": "stderr",
     "output_type": "stream",
     "text": [
      "2025-06-24 13:37:42.026770: I metal_plugin/src/kernels/stateless_random_op.cc:282] Note the GPU implementation does not produce the same series as CPU implementation.\n",
      "2025-06-24 13:37:42.178139: I metal_plugin/src/kernels/stateless_random_op.cc:282] Note the GPU implementation does not produce the same series as CPU implementation.\n"
     ]
    },
    {
     "name": "stdout",
     "output_type": "stream",
     "text": [
      "72/92 [======================>.......] - ETA: 3s - loss: 1.5494 - accuracy: 0.4002"
     ]
    },
    {
     "name": "stderr",
     "output_type": "stream",
     "text": [
      "2025-06-24 13:37:42.328388: I metal_plugin/src/kernels/stateless_random_op.cc:282] Note the GPU implementation does not produce the same series as CPU implementation.\n",
      "2025-06-24 13:37:42.478256: I metal_plugin/src/kernels/stateless_random_op.cc:282] Note the GPU implementation does not produce the same series as CPU implementation.\n"
     ]
    },
    {
     "name": "stdout",
     "output_type": "stream",
     "text": [
      "74/92 [=======================>......] - ETA: 2s - loss: 1.5580 - accuracy: 0.3986"
     ]
    },
    {
     "name": "stderr",
     "output_type": "stream",
     "text": [
      "2025-06-24 13:37:42.631195: I metal_plugin/src/kernels/stateless_random_op.cc:282] Note the GPU implementation does not produce the same series as CPU implementation.\n",
      "2025-06-24 13:37:42.781393: I metal_plugin/src/kernels/stateless_random_op.cc:282] Note the GPU implementation does not produce the same series as CPU implementation.\n"
     ]
    },
    {
     "name": "stdout",
     "output_type": "stream",
     "text": [
      "76/92 [=======================>......] - ETA: 2s - loss: 1.5744 - accuracy: 0.3956"
     ]
    },
    {
     "name": "stderr",
     "output_type": "stream",
     "text": [
      "2025-06-24 13:37:42.930776: I metal_plugin/src/kernels/stateless_random_op.cc:282] Note the GPU implementation does not produce the same series as CPU implementation.\n",
      "2025-06-24 13:37:43.080346: I metal_plugin/src/kernels/stateless_random_op.cc:282] Note the GPU implementation does not produce the same series as CPU implementation.\n"
     ]
    },
    {
     "name": "stdout",
     "output_type": "stream",
     "text": [
      "78/92 [========================>.....] - ETA: 2s - loss: 1.5831 - accuracy: 0.3930"
     ]
    },
    {
     "name": "stderr",
     "output_type": "stream",
     "text": [
      "2025-06-24 13:37:43.233971: I metal_plugin/src/kernels/stateless_random_op.cc:282] Note the GPU implementation does not produce the same series as CPU implementation.\n",
      "2025-06-24 13:37:43.382140: I metal_plugin/src/kernels/stateless_random_op.cc:282] Note the GPU implementation does not produce the same series as CPU implementation.\n"
     ]
    },
    {
     "name": "stdout",
     "output_type": "stream",
     "text": [
      "80/92 [=========================>....] - ETA: 1s - loss: 1.5845 - accuracy: 0.3918"
     ]
    },
    {
     "name": "stderr",
     "output_type": "stream",
     "text": [
      "2025-06-24 13:37:43.531676: I metal_plugin/src/kernels/stateless_random_op.cc:282] Note the GPU implementation does not produce the same series as CPU implementation.\n",
      "2025-06-24 13:37:43.730518: I metal_plugin/src/kernels/stateless_random_op.cc:282] Note the GPU implementation does not produce the same series as CPU implementation.\n"
     ]
    },
    {
     "name": "stdout",
     "output_type": "stream",
     "text": [
      "82/92 [=========================>....] - ETA: 1s - loss: 1.5853 - accuracy: 0.3899"
     ]
    },
    {
     "name": "stderr",
     "output_type": "stream",
     "text": [
      "2025-06-24 13:37:43.882684: I metal_plugin/src/kernels/stateless_random_op.cc:282] Note the GPU implementation does not produce the same series as CPU implementation.\n",
      "2025-06-24 13:37:44.035248: I metal_plugin/src/kernels/stateless_random_op.cc:282] Note the GPU implementation does not produce the same series as CPU implementation.\n"
     ]
    },
    {
     "name": "stdout",
     "output_type": "stream",
     "text": [
      "84/92 [==========================>...] - ETA: 1s - loss: 1.5777 - accuracy: 0.3906"
     ]
    },
    {
     "name": "stderr",
     "output_type": "stream",
     "text": [
      "2025-06-24 13:37:44.182905: I metal_plugin/src/kernels/stateless_random_op.cc:282] Note the GPU implementation does not produce the same series as CPU implementation.\n",
      "2025-06-24 13:37:44.336098: I metal_plugin/src/kernels/stateless_random_op.cc:282] Note the GPU implementation does not produce the same series as CPU implementation.\n"
     ]
    },
    {
     "name": "stdout",
     "output_type": "stream",
     "text": [
      "86/92 [===========================>..] - ETA: 0s - loss: 1.5683 - accuracy: 0.3914"
     ]
    },
    {
     "name": "stderr",
     "output_type": "stream",
     "text": [
      "2025-06-24 13:37:44.483765: I metal_plugin/src/kernels/stateless_random_op.cc:282] Note the GPU implementation does not produce the same series as CPU implementation.\n",
      "2025-06-24 13:37:44.636318: I metal_plugin/src/kernels/stateless_random_op.cc:282] Note the GPU implementation does not produce the same series as CPU implementation.\n"
     ]
    },
    {
     "name": "stdout",
     "output_type": "stream",
     "text": [
      "88/92 [===========================>..] - ETA: 0s - loss: 1.5567 - accuracy: 0.3956"
     ]
    },
    {
     "name": "stderr",
     "output_type": "stream",
     "text": [
      "2025-06-24 13:37:44.785426: I metal_plugin/src/kernels/stateless_random_op.cc:282] Note the GPU implementation does not produce the same series as CPU implementation.\n",
      "2025-06-24 13:37:44.938518: I metal_plugin/src/kernels/stateless_random_op.cc:282] Note the GPU implementation does not produce the same series as CPU implementation.\n"
     ]
    },
    {
     "name": "stdout",
     "output_type": "stream",
     "text": [
      "90/92 [============================>.] - ETA: 0s - loss: 1.5547 - accuracy: 0.3993"
     ]
    },
    {
     "name": "stderr",
     "output_type": "stream",
     "text": [
      "2025-06-24 13:37:45.084552: I metal_plugin/src/kernels/stateless_random_op.cc:282] Note the GPU implementation does not produce the same series as CPU implementation.\n",
      "2025-06-24 13:37:45.234399: I metal_plugin/src/kernels/stateless_random_op.cc:282] Note the GPU implementation does not produce the same series as CPU implementation.\n"
     ]
    },
    {
     "name": "stdout",
     "output_type": "stream",
     "text": [
      "92/92 [==============================] - 14s 153ms/step - loss: 1.5523 - accuracy: 0.4029\n",
      "Epoch 10/10\n"
     ]
    },
    {
     "name": "stderr",
     "output_type": "stream",
     "text": [
      "2025-06-24 13:37:45.378731: I metal_plugin/src/kernels/stateless_random_op.cc:282] Note the GPU implementation does not produce the same series as CPU implementation.\n",
      "2025-06-24 13:37:45.555213: I metal_plugin/src/kernels/stateless_random_op.cc:282] Note the GPU implementation does not produce the same series as CPU implementation.\n"
     ]
    },
    {
     "name": "stdout",
     "output_type": "stream",
     "text": [
      " 2/92 [..............................] - ETA: 13s - loss: 2.3265 - accuracy: 0.0000e+00"
     ]
    },
    {
     "name": "stderr",
     "output_type": "stream",
     "text": [
      "2025-06-24 13:37:45.721984: I metal_plugin/src/kernels/stateless_random_op.cc:282] Note the GPU implementation does not produce the same series as CPU implementation.\n",
      "2025-06-24 13:37:45.873645: I metal_plugin/src/kernels/stateless_random_op.cc:282] Note the GPU implementation does not produce the same series as CPU implementation.\n"
     ]
    },
    {
     "name": "stdout",
     "output_type": "stream",
     "text": [
      " 4/92 [>.............................] - ETA: 13s - loss: 2.2232 - accuracy: 0.0000e+00"
     ]
    },
    {
     "name": "stderr",
     "output_type": "stream",
     "text": [
      "2025-06-24 13:37:46.023402: I metal_plugin/src/kernels/stateless_random_op.cc:282] Note the GPU implementation does not produce the same series as CPU implementation.\n",
      "2025-06-24 13:37:46.173392: I metal_plugin/src/kernels/stateless_random_op.cc:282] Note the GPU implementation does not produce the same series as CPU implementation.\n"
     ]
    },
    {
     "name": "stdout",
     "output_type": "stream",
     "text": [
      " 6/92 [>.............................] - ETA: 13s - loss: 2.1126 - accuracy: 0.0000e+00"
     ]
    },
    {
     "name": "stderr",
     "output_type": "stream",
     "text": [
      "2025-06-24 13:37:46.326952: I metal_plugin/src/kernels/stateless_random_op.cc:282] Note the GPU implementation does not produce the same series as CPU implementation.\n",
      "2025-06-24 13:37:46.482112: I metal_plugin/src/kernels/stateless_random_op.cc:282] Note the GPU implementation does not produce the same series as CPU implementation.\n"
     ]
    },
    {
     "name": "stdout",
     "output_type": "stream",
     "text": [
      " 8/92 [=>............................] - ETA: 12s - loss: 2.0317 - accuracy: 0.0000e+00"
     ]
    },
    {
     "name": "stderr",
     "output_type": "stream",
     "text": [
      "2025-06-24 13:37:46.629730: I metal_plugin/src/kernels/stateless_random_op.cc:282] Note the GPU implementation does not produce the same series as CPU implementation.\n",
      "2025-06-24 13:37:46.781796: I metal_plugin/src/kernels/stateless_random_op.cc:282] Note the GPU implementation does not produce the same series as CPU implementation.\n"
     ]
    },
    {
     "name": "stdout",
     "output_type": "stream",
     "text": [
      "10/92 [==>...........................] - ETA: 12s - loss: 1.9483 - accuracy: 0.0000e+00"
     ]
    },
    {
     "name": "stderr",
     "output_type": "stream",
     "text": [
      "2025-06-24 13:37:46.931391: I metal_plugin/src/kernels/stateless_random_op.cc:282] Note the GPU implementation does not produce the same series as CPU implementation.\n",
      "2025-06-24 13:37:47.081024: I metal_plugin/src/kernels/stateless_random_op.cc:282] Note the GPU implementation does not produce the same series as CPU implementation.\n"
     ]
    },
    {
     "name": "stdout",
     "output_type": "stream",
     "text": [
      "12/92 [==>...........................] - ETA: 12s - loss: 1.8587 - accuracy: 0.0417    "
     ]
    },
    {
     "name": "stderr",
     "output_type": "stream",
     "text": [
      "2025-06-24 13:37:47.235534: I metal_plugin/src/kernels/stateless_random_op.cc:282] Note the GPU implementation does not produce the same series as CPU implementation.\n",
      "2025-06-24 13:37:47.387564: I metal_plugin/src/kernels/stateless_random_op.cc:282] Note the GPU implementation does not produce the same series as CPU implementation.\n"
     ]
    },
    {
     "name": "stdout",
     "output_type": "stream",
     "text": [
      "14/92 [===>..........................] - ETA: 11s - loss: 1.8068 - accuracy: 0.1071"
     ]
    },
    {
     "name": "stderr",
     "output_type": "stream",
     "text": [
      "2025-06-24 13:37:47.540508: I metal_plugin/src/kernels/stateless_random_op.cc:282] Note the GPU implementation does not produce the same series as CPU implementation.\n",
      "2025-06-24 13:37:47.690071: I metal_plugin/src/kernels/stateless_random_op.cc:282] Note the GPU implementation does not produce the same series as CPU implementation.\n"
     ]
    },
    {
     "name": "stdout",
     "output_type": "stream",
     "text": [
      "16/92 [====>.........................] - ETA: 11s - loss: 1.7286 - accuracy: 0.1738"
     ]
    },
    {
     "name": "stderr",
     "output_type": "stream",
     "text": [
      "2025-06-24 13:37:47.841515: I metal_plugin/src/kernels/stateless_random_op.cc:282] Note the GPU implementation does not produce the same series as CPU implementation.\n",
      "2025-06-24 13:37:47.989152: I metal_plugin/src/kernels/stateless_random_op.cc:282] Note the GPU implementation does not produce the same series as CPU implementation.\n"
     ]
    },
    {
     "name": "stdout",
     "output_type": "stream",
     "text": [
      "18/92 [====>.........................] - ETA: 11s - loss: 1.6610 - accuracy: 0.2205"
     ]
    },
    {
     "name": "stderr",
     "output_type": "stream",
     "text": [
      "2025-06-24 13:37:48.138788: I metal_plugin/src/kernels/stateless_random_op.cc:282] Note the GPU implementation does not produce the same series as CPU implementation.\n",
      "2025-06-24 13:37:48.287568: I metal_plugin/src/kernels/stateless_random_op.cc:282] Note the GPU implementation does not produce the same series as CPU implementation.\n"
     ]
    },
    {
     "name": "stdout",
     "output_type": "stream",
     "text": [
      "20/92 [=====>........................] - ETA: 10s - loss: 1.6188 - accuracy: 0.2453"
     ]
    },
    {
     "name": "stderr",
     "output_type": "stream",
     "text": [
      "2025-06-24 13:37:48.436163: I metal_plugin/src/kernels/stateless_random_op.cc:282] Note the GPU implementation does not produce the same series as CPU implementation.\n",
      "2025-06-24 13:37:48.589014: I metal_plugin/src/kernels/stateless_random_op.cc:282] Note the GPU implementation does not produce the same series as CPU implementation.\n"
     ]
    },
    {
     "name": "stdout",
     "output_type": "stream",
     "text": [
      "22/92 [======>.......................] - ETA: 10s - loss: 1.5896 - accuracy: 0.2713"
     ]
    },
    {
     "name": "stderr",
     "output_type": "stream",
     "text": [
      "2025-06-24 13:37:48.739189: I metal_plugin/src/kernels/stateless_random_op.cc:282] Note the GPU implementation does not produce the same series as CPU implementation.\n",
      "2025-06-24 13:37:48.891308: I metal_plugin/src/kernels/stateless_random_op.cc:282] Note the GPU implementation does not produce the same series as CPU implementation.\n"
     ]
    },
    {
     "name": "stdout",
     "output_type": "stream",
     "text": [
      "24/92 [======>.......................] - ETA: 10s - loss: 1.5696 - accuracy: 0.2891"
     ]
    },
    {
     "name": "stderr",
     "output_type": "stream",
     "text": [
      "2025-06-24 13:37:49.039174: I metal_plugin/src/kernels/stateless_random_op.cc:282] Note the GPU implementation does not produce the same series as CPU implementation.\n",
      "2025-06-24 13:37:49.188413: I metal_plugin/src/kernels/stateless_random_op.cc:282] Note the GPU implementation does not produce the same series as CPU implementation.\n"
     ]
    },
    {
     "name": "stdout",
     "output_type": "stream",
     "text": [
      "26/92 [=======>......................] - ETA: 9s - loss: 1.5467 - accuracy: 0.3053 "
     ]
    },
    {
     "name": "stderr",
     "output_type": "stream",
     "text": [
      "2025-06-24 13:37:49.338857: I metal_plugin/src/kernels/stateless_random_op.cc:282] Note the GPU implementation does not produce the same series as CPU implementation.\n",
      "2025-06-24 13:37:49.490157: I metal_plugin/src/kernels/stateless_random_op.cc:282] Note the GPU implementation does not produce the same series as CPU implementation.\n"
     ]
    },
    {
     "name": "stdout",
     "output_type": "stream",
     "text": [
      "28/92 [========>.....................] - ETA: 9s - loss: 1.5222 - accuracy: 0.3181"
     ]
    },
    {
     "name": "stderr",
     "output_type": "stream",
     "text": [
      "2025-06-24 13:37:49.637658: I metal_plugin/src/kernels/stateless_random_op.cc:282] Note the GPU implementation does not produce the same series as CPU implementation.\n",
      "2025-06-24 13:37:49.787896: I metal_plugin/src/kernels/stateless_random_op.cc:282] Note the GPU implementation does not produce the same series as CPU implementation.\n"
     ]
    },
    {
     "name": "stdout",
     "output_type": "stream",
     "text": [
      "30/92 [========>.....................] - ETA: 9s - loss: 1.5104 - accuracy: 0.3302"
     ]
    },
    {
     "name": "stderr",
     "output_type": "stream",
     "text": [
      "2025-06-24 13:37:49.938631: I metal_plugin/src/kernels/stateless_random_op.cc:282] Note the GPU implementation does not produce the same series as CPU implementation.\n",
      "2025-06-24 13:37:50.089379: I metal_plugin/src/kernels/stateless_random_op.cc:282] Note the GPU implementation does not produce the same series as CPU implementation.\n"
     ]
    },
    {
     "name": "stdout",
     "output_type": "stream",
     "text": [
      "32/92 [=========>....................] - ETA: 9s - loss: 1.5103 - accuracy: 0.3369"
     ]
    },
    {
     "name": "stderr",
     "output_type": "stream",
     "text": [
      "2025-06-24 13:37:50.239762: I metal_plugin/src/kernels/stateless_random_op.cc:282] Note the GPU implementation does not produce the same series as CPU implementation.\n",
      "2025-06-24 13:37:50.393070: I metal_plugin/src/kernels/stateless_random_op.cc:282] Note the GPU implementation does not produce the same series as CPU implementation.\n"
     ]
    },
    {
     "name": "stdout",
     "output_type": "stream",
     "text": [
      "34/92 [==========>...................] - ETA: 8s - loss: 1.5048 - accuracy: 0.3438"
     ]
    },
    {
     "name": "stderr",
     "output_type": "stream",
     "text": [
      "2025-06-24 13:37:50.549950: I metal_plugin/src/kernels/stateless_random_op.cc:282] Note the GPU implementation does not produce the same series as CPU implementation.\n",
      "2025-06-24 13:37:50.707161: I metal_plugin/src/kernels/stateless_random_op.cc:282] Note the GPU implementation does not produce the same series as CPU implementation.\n"
     ]
    },
    {
     "name": "stdout",
     "output_type": "stream",
     "text": [
      "36/92 [==========>...................] - ETA: 8s - loss: 1.4932 - accuracy: 0.3533"
     ]
    },
    {
     "name": "stderr",
     "output_type": "stream",
     "text": [
      "2025-06-24 13:37:50.863243: I metal_plugin/src/kernels/stateless_random_op.cc:282] Note the GPU implementation does not produce the same series as CPU implementation.\n",
      "2025-06-24 13:37:51.016476: I metal_plugin/src/kernels/stateless_random_op.cc:282] Note the GPU implementation does not produce the same series as CPU implementation.\n"
     ]
    },
    {
     "name": "stdout",
     "output_type": "stream",
     "text": [
      "38/92 [===========>..................] - ETA: 8s - loss: 1.4828 - accuracy: 0.3610"
     ]
    },
    {
     "name": "stderr",
     "output_type": "stream",
     "text": [
      "2025-06-24 13:37:51.165597: I metal_plugin/src/kernels/stateless_random_op.cc:282] Note the GPU implementation does not produce the same series as CPU implementation.\n",
      "2025-06-24 13:37:51.319700: I metal_plugin/src/kernels/stateless_random_op.cc:282] Note the GPU implementation does not produce the same series as CPU implementation.\n"
     ]
    },
    {
     "name": "stdout",
     "output_type": "stream",
     "text": [
      "40/92 [============>.................] - ETA: 7s - loss: 1.4739 - accuracy: 0.3672"
     ]
    },
    {
     "name": "stderr",
     "output_type": "stream",
     "text": [
      "2025-06-24 13:37:51.467186: I metal_plugin/src/kernels/stateless_random_op.cc:282] Note the GPU implementation does not produce the same series as CPU implementation.\n",
      "2025-06-24 13:37:51.620332: I metal_plugin/src/kernels/stateless_random_op.cc:282] Note the GPU implementation does not produce the same series as CPU implementation.\n"
     ]
    },
    {
     "name": "stdout",
     "output_type": "stream",
     "text": [
      "42/92 [============>.................] - ETA: 7s - loss: 1.4656 - accuracy: 0.3743"
     ]
    },
    {
     "name": "stderr",
     "output_type": "stream",
     "text": [
      "2025-06-24 13:37:51.769012: I metal_plugin/src/kernels/stateless_random_op.cc:282] Note the GPU implementation does not produce the same series as CPU implementation.\n",
      "2025-06-24 13:37:51.922352: I metal_plugin/src/kernels/stateless_random_op.cc:282] Note the GPU implementation does not produce the same series as CPU implementation.\n"
     ]
    },
    {
     "name": "stdout",
     "output_type": "stream",
     "text": [
      "44/92 [=============>................] - ETA: 7s - loss: 1.4689 - accuracy: 0.3729"
     ]
    },
    {
     "name": "stderr",
     "output_type": "stream",
     "text": [
      "2025-06-24 13:37:52.070978: I metal_plugin/src/kernels/stateless_random_op.cc:282] Note the GPU implementation does not produce the same series as CPU implementation.\n",
      "2025-06-24 13:37:52.224516: I metal_plugin/src/kernels/stateless_random_op.cc:282] Note the GPU implementation does not produce the same series as CPU implementation.\n"
     ]
    },
    {
     "name": "stdout",
     "output_type": "stream",
     "text": [
      "46/92 [==============>...............] - ETA: 6s - loss: 1.4660 - accuracy: 0.3770"
     ]
    },
    {
     "name": "stderr",
     "output_type": "stream",
     "text": [
      "2025-06-24 13:37:52.383906: I metal_plugin/src/kernels/stateless_random_op.cc:282] Note the GPU implementation does not produce the same series as CPU implementation.\n",
      "2025-06-24 13:37:52.536029: I metal_plugin/src/kernels/stateless_random_op.cc:282] Note the GPU implementation does not produce the same series as CPU implementation.\n"
     ]
    },
    {
     "name": "stdout",
     "output_type": "stream",
     "text": [
      "48/92 [==============>...............] - ETA: 6s - loss: 1.4749 - accuracy: 0.3776"
     ]
    },
    {
     "name": "stderr",
     "output_type": "stream",
     "text": [
      "2025-06-24 13:37:52.685422: I metal_plugin/src/kernels/stateless_random_op.cc:282] Note the GPU implementation does not produce the same series as CPU implementation.\n",
      "2025-06-24 13:37:52.846860: I metal_plugin/src/kernels/stateless_random_op.cc:282] Note the GPU implementation does not produce the same series as CPU implementation.\n"
     ]
    },
    {
     "name": "stdout",
     "output_type": "stream",
     "text": [
      "50/92 [===============>..............] - ETA: 6s - loss: 1.4777 - accuracy: 0.3806"
     ]
    },
    {
     "name": "stderr",
     "output_type": "stream",
     "text": [
      "2025-06-24 13:37:52.995462: I metal_plugin/src/kernels/stateless_random_op.cc:282] Note the GPU implementation does not produce the same series as CPU implementation.\n",
      "2025-06-24 13:37:53.147363: I metal_plugin/src/kernels/stateless_random_op.cc:282] Note the GPU implementation does not produce the same series as CPU implementation.\n"
     ]
    },
    {
     "name": "stdout",
     "output_type": "stream",
     "text": [
      "52/92 [===============>..............] - ETA: 6s - loss: 1.4902 - accuracy: 0.3786"
     ]
    },
    {
     "name": "stderr",
     "output_type": "stream",
     "text": [
      "2025-06-24 13:37:53.297147: I metal_plugin/src/kernels/stateless_random_op.cc:282] Note the GPU implementation does not produce the same series as CPU implementation.\n",
      "2025-06-24 13:37:53.456233: I metal_plugin/src/kernels/stateless_random_op.cc:282] Note the GPU implementation does not produce the same series as CPU implementation.\n"
     ]
    },
    {
     "name": "stdout",
     "output_type": "stream",
     "text": [
      "54/92 [================>.............] - ETA: 5s - loss: 1.5058 - accuracy: 0.3796"
     ]
    },
    {
     "name": "stderr",
     "output_type": "stream",
     "text": [
      "2025-06-24 13:37:53.606022: I metal_plugin/src/kernels/stateless_random_op.cc:282] Note the GPU implementation does not produce the same series as CPU implementation.\n",
      "2025-06-24 13:37:53.758472: I metal_plugin/src/kernels/stateless_random_op.cc:282] Note the GPU implementation does not produce the same series as CPU implementation.\n"
     ]
    },
    {
     "name": "stdout",
     "output_type": "stream",
     "text": [
      "56/92 [=================>............] - ETA: 5s - loss: 1.5200 - accuracy: 0.3756"
     ]
    },
    {
     "name": "stderr",
     "output_type": "stream",
     "text": [
      "2025-06-24 13:37:53.907944: I metal_plugin/src/kernels/stateless_random_op.cc:282] Note the GPU implementation does not produce the same series as CPU implementation.\n",
      "2025-06-24 13:37:54.106166: I metal_plugin/src/kernels/stateless_random_op.cc:282] Note the GPU implementation does not produce the same series as CPU implementation.\n"
     ]
    },
    {
     "name": "stdout",
     "output_type": "stream",
     "text": [
      "58/92 [=================>............] - ETA: 5s - loss: 1.5306 - accuracy: 0.3723"
     ]
    },
    {
     "name": "stderr",
     "output_type": "stream",
     "text": [
      "2025-06-24 13:37:54.255285: I metal_plugin/src/kernels/stateless_random_op.cc:282] Note the GPU implementation does not produce the same series as CPU implementation.\n",
      "2025-06-24 13:37:54.409299: I metal_plugin/src/kernels/stateless_random_op.cc:282] Note the GPU implementation does not produce the same series as CPU implementation.\n"
     ]
    },
    {
     "name": "stdout",
     "output_type": "stream",
     "text": [
      "60/92 [==================>...........] - ETA: 4s - loss: 1.5430 - accuracy: 0.3656"
     ]
    },
    {
     "name": "stderr",
     "output_type": "stream",
     "text": [
      "2025-06-24 13:37:54.559309: I metal_plugin/src/kernels/stateless_random_op.cc:282] Note the GPU implementation does not produce the same series as CPU implementation.\n",
      "2025-06-24 13:37:54.710134: I metal_plugin/src/kernels/stateless_random_op.cc:282] Note the GPU implementation does not produce the same series as CPU implementation.\n"
     ]
    },
    {
     "name": "stdout",
     "output_type": "stream",
     "text": [
      "62/92 [===================>..........] - ETA: 4s - loss: 1.5706 - accuracy: 0.3609"
     ]
    },
    {
     "name": "stderr",
     "output_type": "stream",
     "text": [
      "2025-06-24 13:37:54.862222: I metal_plugin/src/kernels/stateless_random_op.cc:282] Note the GPU implementation does not produce the same series as CPU implementation.\n",
      "2025-06-24 13:37:55.022889: I metal_plugin/src/kernels/stateless_random_op.cc:282] Note the GPU implementation does not produce the same series as CPU implementation.\n"
     ]
    },
    {
     "name": "stdout",
     "output_type": "stream",
     "text": [
      "64/92 [===================>..........] - ETA: 4s - loss: 1.5811 - accuracy: 0.3555"
     ]
    },
    {
     "name": "stderr",
     "output_type": "stream",
     "text": [
      "2025-06-24 13:37:55.187404: I metal_plugin/src/kernels/stateless_random_op.cc:282] Note the GPU implementation does not produce the same series as CPU implementation.\n",
      "2025-06-24 13:37:55.345773: I metal_plugin/src/kernels/stateless_random_op.cc:282] Note the GPU implementation does not produce the same series as CPU implementation.\n"
     ]
    },
    {
     "name": "stdout",
     "output_type": "stream",
     "text": [
      "66/92 [====================>.........] - ETA: 3s - loss: 1.6145 - accuracy: 0.3527"
     ]
    },
    {
     "name": "stderr",
     "output_type": "stream",
     "text": [
      "2025-06-24 13:37:55.494632: I metal_plugin/src/kernels/stateless_random_op.cc:282] Note the GPU implementation does not produce the same series as CPU implementation.\n",
      "2025-06-24 13:37:55.647256: I metal_plugin/src/kernels/stateless_random_op.cc:282] Note the GPU implementation does not produce the same series as CPU implementation.\n"
     ]
    },
    {
     "name": "stdout",
     "output_type": "stream",
     "text": [
      "68/92 [=====================>........] - ETA: 3s - loss: 1.6445 - accuracy: 0.3516"
     ]
    },
    {
     "name": "stderr",
     "output_type": "stream",
     "text": [
      "2025-06-24 13:37:55.804132: I metal_plugin/src/kernels/stateless_random_op.cc:282] Note the GPU implementation does not produce the same series as CPU implementation.\n",
      "2025-06-24 13:37:55.953988: I metal_plugin/src/kernels/stateless_random_op.cc:282] Note the GPU implementation does not produce the same series as CPU implementation.\n"
     ]
    },
    {
     "name": "stdout",
     "output_type": "stream",
     "text": [
      "70/92 [=====================>........] - ETA: 3s - loss: 1.7183 - accuracy: 0.3518"
     ]
    },
    {
     "name": "stderr",
     "output_type": "stream",
     "text": [
      "2025-06-24 13:37:56.104507: I metal_plugin/src/kernels/stateless_random_op.cc:282] Note the GPU implementation does not produce the same series as CPU implementation.\n",
      "2025-06-24 13:37:56.263498: I metal_plugin/src/kernels/stateless_random_op.cc:282] Note the GPU implementation does not produce the same series as CPU implementation.\n"
     ]
    },
    {
     "name": "stdout",
     "output_type": "stream",
     "text": [
      "72/92 [======================>.......] - ETA: 3s - loss: 1.7177 - accuracy: 0.3533"
     ]
    },
    {
     "name": "stderr",
     "output_type": "stream",
     "text": [
      "2025-06-24 13:37:56.415666: I metal_plugin/src/kernels/stateless_random_op.cc:282] Note the GPU implementation does not produce the same series as CPU implementation.\n",
      "2025-06-24 13:37:56.564718: I metal_plugin/src/kernels/stateless_random_op.cc:282] Note the GPU implementation does not produce the same series as CPU implementation.\n"
     ]
    },
    {
     "name": "stdout",
     "output_type": "stream",
     "text": [
      "74/92 [=======================>......] - ETA: 2s - loss: 1.7865 - accuracy: 0.3514"
     ]
    },
    {
     "name": "stderr",
     "output_type": "stream",
     "text": [
      "2025-06-24 13:37:56.722663: I metal_plugin/src/kernels/stateless_random_op.cc:282] Note the GPU implementation does not produce the same series as CPU implementation.\n",
      "2025-06-24 13:37:56.878117: I metal_plugin/src/kernels/stateless_random_op.cc:282] Note the GPU implementation does not produce the same series as CPU implementation.\n"
     ]
    },
    {
     "name": "stdout",
     "output_type": "stream",
     "text": [
      "76/92 [=======================>......] - ETA: 2s - loss: 1.7945 - accuracy: 0.3549"
     ]
    },
    {
     "name": "stderr",
     "output_type": "stream",
     "text": [
      "2025-06-24 13:37:57.041831: I metal_plugin/src/kernels/stateless_random_op.cc:282] Note the GPU implementation does not produce the same series as CPU implementation.\n",
      "2025-06-24 13:37:57.212885: I metal_plugin/src/kernels/stateless_random_op.cc:282] Note the GPU implementation does not produce the same series as CPU implementation.\n"
     ]
    },
    {
     "name": "stdout",
     "output_type": "stream",
     "text": [
      "77/92 [========================>.....] - ETA: 2s - loss: 1.8098 - accuracy: 0.3575"
     ]
    },
    {
     "name": "stderr",
     "output_type": "stream",
     "text": [
      "2025-06-24 13:37:57.373547: I metal_plugin/src/kernels/stateless_random_op.cc:282] Note the GPU implementation does not produce the same series as CPU implementation.\n"
     ]
    },
    {
     "name": "stdout",
     "output_type": "stream",
     "text": [
      "79/92 [========================>.....] - ETA: 2s - loss: 1.8140 - accuracy: 0.3588"
     ]
    },
    {
     "name": "stderr",
     "output_type": "stream",
     "text": [
      "2025-06-24 13:37:57.581858: I metal_plugin/src/kernels/stateless_random_op.cc:282] Note the GPU implementation does not produce the same series as CPU implementation.\n",
      "2025-06-24 13:37:57.747183: I metal_plugin/src/kernels/stateless_random_op.cc:282] Note the GPU implementation does not produce the same series as CPU implementation.\n"
     ]
    },
    {
     "name": "stdout",
     "output_type": "stream",
     "text": [
      "81/92 [=========================>....] - ETA: 1s - loss: 1.8189 - accuracy: 0.3561"
     ]
    },
    {
     "name": "stderr",
     "output_type": "stream",
     "text": [
      "2025-06-24 13:37:57.914237: I metal_plugin/src/kernels/stateless_random_op.cc:282] Note the GPU implementation does not produce the same series as CPU implementation.\n",
      "2025-06-24 13:37:58.084924: I metal_plugin/src/kernels/stateless_random_op.cc:282] Note the GPU implementation does not produce the same series as CPU implementation.\n"
     ]
    },
    {
     "name": "stdout",
     "output_type": "stream",
     "text": [
      "83/92 [==========================>...] - ETA: 1s - loss: 1.8244 - accuracy: 0.3528"
     ]
    },
    {
     "name": "stderr",
     "output_type": "stream",
     "text": [
      "2025-06-24 13:37:58.252415: I metal_plugin/src/kernels/stateless_random_op.cc:282] Note the GPU implementation does not produce the same series as CPU implementation.\n",
      "2025-06-24 13:37:58.411910: I metal_plugin/src/kernels/stateless_random_op.cc:282] Note the GPU implementation does not produce the same series as CPU implementation.\n"
     ]
    },
    {
     "name": "stdout",
     "output_type": "stream",
     "text": [
      "85/92 [==========================>...] - ETA: 1s - loss: 1.8186 - accuracy: 0.3544"
     ]
    },
    {
     "name": "stderr",
     "output_type": "stream",
     "text": [
      "2025-06-24 13:37:58.584464: I metal_plugin/src/kernels/stateless_random_op.cc:282] Note the GPU implementation does not produce the same series as CPU implementation.\n",
      "2025-06-24 13:37:58.739453: I metal_plugin/src/kernels/stateless_random_op.cc:282] Note the GPU implementation does not produce the same series as CPU implementation.\n"
     ]
    },
    {
     "name": "stdout",
     "output_type": "stream",
     "text": [
      "87/92 [===========================>..] - ETA: 0s - loss: 1.8147 - accuracy: 0.3599"
     ]
    },
    {
     "name": "stderr",
     "output_type": "stream",
     "text": [
      "2025-06-24 13:37:58.898582: I metal_plugin/src/kernels/stateless_random_op.cc:282] Note the GPU implementation does not produce the same series as CPU implementation.\n",
      "2025-06-24 13:37:59.058792: I metal_plugin/src/kernels/stateless_random_op.cc:282] Note the GPU implementation does not produce the same series as CPU implementation.\n"
     ]
    },
    {
     "name": "stdout",
     "output_type": "stream",
     "text": [
      "89/92 [============================>.] - ETA: 0s - loss: 1.8135 - accuracy: 0.3676"
     ]
    },
    {
     "name": "stderr",
     "output_type": "stream",
     "text": [
      "2025-06-24 13:37:59.213959: I metal_plugin/src/kernels/stateless_random_op.cc:282] Note the GPU implementation does not produce the same series as CPU implementation.\n",
      "2025-06-24 13:37:59.373214: I metal_plugin/src/kernels/stateless_random_op.cc:282] Note the GPU implementation does not produce the same series as CPU implementation.\n"
     ]
    },
    {
     "name": "stdout",
     "output_type": "stream",
     "text": [
      "91/92 [============================>.] - ETA: 0s - loss: 1.8117 - accuracy: 0.3719"
     ]
    },
    {
     "name": "stderr",
     "output_type": "stream",
     "text": [
      "2025-06-24 13:37:59.532961: I metal_plugin/src/kernels/stateless_random_op.cc:282] Note the GPU implementation does not produce the same series as CPU implementation.\n",
      "2025-06-24 13:37:59.701207: I metal_plugin/src/kernels/stateless_random_op.cc:282] Note the GPU implementation does not produce the same series as CPU implementation.\n"
     ]
    },
    {
     "name": "stdout",
     "output_type": "stream",
     "text": [
      "92/92 [==============================] - 14s 156ms/step - loss: 1.8167 - accuracy: 0.3743\n"
     ]
    },
    {
     "data": {
      "text/plain": [
       "<keras.src.callbacks.History at 0x31573cad0>"
      ]
     },
     "execution_count": 42,
     "metadata": {},
     "output_type": "execute_result"
    }
   ],
   "source": [
    "# with tf.device('/CPU:0'):\n",
    "model.fit(train_ds, epochs=10)"
   ]
  },
  {
   "cell_type": "code",
   "execution_count": 43,
   "id": "d0b5d9bd",
   "metadata": {},
   "outputs": [
    {
     "name": "stdout",
     "output_type": "stream",
     "text": [
      "92/92 [==============================] - 2s 24ms/step - loss: 5.8125 - accuracy: 0.1567\n"
     ]
    },
    {
     "data": {
      "text/plain": [
       "[5.81246280670166, 0.15667575597763062]"
      ]
     },
     "execution_count": 43,
     "metadata": {},
     "output_type": "execute_result"
    }
   ],
   "source": [
    "model.evaluate(train_ds)"
   ]
  },
  {
   "cell_type": "code",
   "execution_count": null,
   "id": "cf2bc4f9",
   "metadata": {},
   "outputs": [],
   "source": []
  }
 ],
 "metadata": {
  "kernelspec": {
   "display_name": "mlenv",
   "language": "python",
   "name": "python3"
  },
  "language_info": {
   "codemirror_mode": {
    "name": "ipython",
    "version": 3
   },
   "file_extension": ".py",
   "mimetype": "text/x-python",
   "name": "python",
   "nbconvert_exporter": "python",
   "pygments_lexer": "ipython3",
   "version": "3.11.8"
  }
 },
 "nbformat": 4,
 "nbformat_minor": 5
}
