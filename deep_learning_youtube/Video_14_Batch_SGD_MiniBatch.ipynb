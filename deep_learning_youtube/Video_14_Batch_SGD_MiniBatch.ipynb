{
 "cells": [
  {
   "cell_type": "code",
   "execution_count": 1,
   "id": "3065c56c",
   "metadata": {},
   "outputs": [],
   "source": [
    "import pandas as pd \n",
    "import numpy as np \n",
    "import matplotlib.pyplot as plt\n",
    "import matplotlib as mpl \n",
    "import os "
   ]
  },
  {
   "cell_type": "code",
   "execution_count": 2,
   "id": "db17b977",
   "metadata": {},
   "outputs": [],
   "source": [
    "data_location = \"data/video14\"\n",
    "output_location=\"output/video14\""
   ]
  },
  {
   "cell_type": "code",
   "execution_count": 27,
   "id": "c56a6c46",
   "metadata": {},
   "outputs": [
    {
     "data": {
      "text/html": [
       "<div>\n",
       "<style scoped>\n",
       "    .dataframe tbody tr th:only-of-type {\n",
       "        vertical-align: middle;\n",
       "    }\n",
       "\n",
       "    .dataframe tbody tr th {\n",
       "        vertical-align: top;\n",
       "    }\n",
       "\n",
       "    .dataframe thead th {\n",
       "        text-align: right;\n",
       "    }\n",
       "</style>\n",
       "<table border=\"1\" class=\"dataframe\">\n",
       "  <thead>\n",
       "    <tr style=\"text-align: right;\">\n",
       "      <th></th>\n",
       "      <th>area</th>\n",
       "      <th>bedrooms</th>\n",
       "      <th>price</th>\n",
       "    </tr>\n",
       "  </thead>\n",
       "  <tbody>\n",
       "    <tr>\n",
       "      <th>8</th>\n",
       "      <td>1310</td>\n",
       "      <td>3</td>\n",
       "      <td>50.0</td>\n",
       "    </tr>\n",
       "    <tr>\n",
       "      <th>7</th>\n",
       "      <td>3300</td>\n",
       "      <td>4</td>\n",
       "      <td>155.0</td>\n",
       "    </tr>\n",
       "    <tr>\n",
       "      <th>18</th>\n",
       "      <td>2770</td>\n",
       "      <td>3</td>\n",
       "      <td>102.0</td>\n",
       "    </tr>\n",
       "    <tr>\n",
       "      <th>2</th>\n",
       "      <td>1440</td>\n",
       "      <td>3</td>\n",
       "      <td>62.0</td>\n",
       "    </tr>\n",
       "    <tr>\n",
       "      <th>6</th>\n",
       "      <td>2732</td>\n",
       "      <td>4</td>\n",
       "      <td>135.0</td>\n",
       "    </tr>\n",
       "  </tbody>\n",
       "</table>\n",
       "</div>"
      ],
      "text/plain": [
       "    area  bedrooms  price\n",
       "8   1310         3   50.0\n",
       "7   3300         4  155.0\n",
       "18  2770         3  102.0\n",
       "2   1440         3   62.0\n",
       "6   2732         4  135.0"
      ]
     },
     "execution_count": 27,
     "metadata": {},
     "output_type": "execute_result"
    }
   ],
   "source": [
    "df = pd.read_csv(os.path.join(data_location, \"homeprices_banglore.csv\"))\n",
    "df.sample(5)"
   ]
  },
  {
   "cell_type": "code",
   "execution_count": 28,
   "id": "88813477",
   "metadata": {},
   "outputs": [],
   "source": [
    "# perform data scaling using minmax scaler \n",
    "from sklearn.preprocessing import MinMaxScaler\n",
    "\n",
    "# create one scale for area and bedrooms \n",
    "scale_x = MinMaxScaler() \n",
    "\n",
    "# create one scale for price \n",
    "scale_y =  MinMaxScaler()\n",
    "\n",
    "# drop y column and perform scaling on X features \n",
    "X_scaled = scale_x.fit_transform(df.drop(\"price\", axis=1))\n",
    "\n",
    "# perform scaling of y \n",
    "y_scaled = scale_y.fit_transform(df[\"price\"].values.reshape(-1, 1))"
   ]
  },
  {
   "cell_type": "code",
   "execution_count": 29,
   "id": "7d42d389",
   "metadata": {},
   "outputs": [
    {
     "data": {
      "text/plain": [
       "array([[0.08827586, 0.25      ],\n",
       "       [0.62068966, 0.75      ],\n",
       "       [0.22068966, 0.5       ],\n",
       "       [0.24862069, 0.5       ],\n",
       "       [0.13793103, 0.25      ],\n",
       "       [0.12758621, 0.25      ],\n",
       "       [0.6662069 , 0.75      ],\n",
       "       [0.86206897, 0.75      ],\n",
       "       [0.17586207, 0.5       ],\n",
       "       [1.        , 1.        ],\n",
       "       [0.34482759, 0.5       ],\n",
       "       [0.68448276, 0.75      ],\n",
       "       [0.06896552, 0.25      ],\n",
       "       [0.10344828, 0.25      ],\n",
       "       [0.5       , 0.5       ],\n",
       "       [0.12931034, 0.25      ],\n",
       "       [0.13103448, 0.5       ],\n",
       "       [0.25517241, 0.5       ],\n",
       "       [0.67931034, 0.5       ],\n",
       "       [0.        , 0.        ]])"
      ]
     },
     "execution_count": 29,
     "metadata": {},
     "output_type": "execute_result"
    }
   ],
   "source": [
    "X_scaled"
   ]
  },
  {
   "cell_type": "code",
   "execution_count": 30,
   "id": "b0c8a425",
   "metadata": {},
   "outputs": [
    {
     "data": {
      "text/plain": [
       "array([[0.05237037],\n",
       "       [0.65185185],\n",
       "       [0.22222222],\n",
       "       [0.31851852],\n",
       "       [0.14074074],\n",
       "       [0.04444444],\n",
       "       [0.76296296],\n",
       "       [0.91111111],\n",
       "       [0.13333333],\n",
       "       [1.        ],\n",
       "       [0.37037037],\n",
       "       [0.8       ],\n",
       "       [0.04444444],\n",
       "       [0.05925926],\n",
       "       [0.51111111],\n",
       "       [0.07407407],\n",
       "       [0.11851852],\n",
       "       [0.20740741],\n",
       "       [0.51851852],\n",
       "       [0.        ]])"
      ]
     },
     "execution_count": 30,
     "metadata": {},
     "output_type": "execute_result"
    }
   ],
   "source": [
    "y_scaled"
   ]
  },
  {
   "cell_type": "code",
   "execution_count": 32,
   "id": "93bc5b0a",
   "metadata": {},
   "outputs": [
    {
     "data": {
      "text/plain": [
       "array([0.05237037, 0.65185185, 0.22222222, 0.31851852, 0.14074074,\n",
       "       0.04444444, 0.76296296, 0.91111111, 0.13333333, 1.        ,\n",
       "       0.37037037, 0.8       , 0.04444444, 0.05925926, 0.51111111,\n",
       "       0.07407407, 0.11851852, 0.20740741, 0.51851852, 0.        ])"
      ]
     },
     "execution_count": 32,
     "metadata": {},
     "output_type": "execute_result"
    }
   ],
   "source": [
    "y_scaled.reshape(y_scaled.shape[0])"
   ]
  },
  {
   "cell_type": "markdown",
   "id": "83687d97",
   "metadata": {},
   "source": [
    "``` \n",
    "Lets find the weights for w1 * area + w2 * bedrooms + bias = price\n"
   ]
  },
  {
   "cell_type": "code",
   "execution_count": 33,
   "id": "ad994b75",
   "metadata": {},
   "outputs": [
    {
     "data": {
      "text/plain": [
       "2"
      ]
     },
     "execution_count": 33,
     "metadata": {},
     "output_type": "execute_result"
    }
   ],
   "source": [
    "X_scaled.shape[1]"
   ]
  },
  {
   "cell_type": "code",
   "execution_count": 36,
   "id": "b578cc29",
   "metadata": {},
   "outputs": [],
   "source": [
    "# Implement batch gradient descent using python code only \n",
    "\n",
    "def batch_gradient_descent(X, y_values, epochs, learning_rate=0.01):\n",
    "\n",
    "    # get total number of features using shape function of the dataframe (in our example it will take 2)\n",
    "    number_of_features = X.shape[1]\n",
    "\n",
    "    # create weight matrix with values 1 \n",
    "    w = np.ones(shape=(number_of_features))\n",
    "\n",
    "    # create bias\n",
    "    b=0\n",
    "    \n",
    "    # print(f\"w: {w}\")\n",
    "\n",
    "    # create total samples from the shape of the vectors \n",
    "    total_samples = X.shape[0]\n",
    "\n",
    "    # record the values \n",
    "    cost_list = [] \n",
    "    epoch_list = []\n",
    "\n",
    "    for i in range(epochs):\n",
    "\n",
    "        # calculate weighted sum using weights and bias \n",
    "        y_pred = np.dot(w, X.T) + b\n",
    "\n",
    "        # calculate gradients \n",
    "        w_grad = -(number_of_features/total_samples) * (X.T.dot(y_values - y_pred))\n",
    "        b_grad = -(number_of_features/total_samples) * np.sum(y_values - y_pred)\n",
    "\n",
    "        # print (f\"w_grad: {w_grad}, b_grad: {b_grad}\")\n",
    "\n",
    "        # adjust the weights \n",
    "        w = w - learning_rate * w_grad \n",
    "        b = b - learning_rate * b_grad\n",
    "\n",
    "        # calculate cost \n",
    "        cost = np.mean(np.square(y_values - y_pred))\n",
    "\n",
    "        cost_list.append(cost)\n",
    "        epoch_list.append(i)\n",
    "\n",
    "\n",
    "    return w, b, cost, cost_list, epoch_list\n",
    "\n",
    "w,b,cost,cost_list,epoch_list = batch_gradient_descent(X_scaled, y_scaled.reshape(y_scaled.shape[0]), 1000)"
   ]
  },
  {
   "cell_type": "markdown",
   "id": "c4265fb8",
   "metadata": {},
   "source": [
    "``` \n",
    "Plot this "
   ]
  },
  {
   "cell_type": "code",
   "execution_count": 38,
   "id": "9ed61030",
   "metadata": {},
   "outputs": [
    {
     "data": {
      "text/plain": [
       "Text(0, 0.5, 'Cost')"
      ]
     },
     "execution_count": 38,
     "metadata": {},
     "output_type": "execute_result"
    },
    {
     "data": {
      "image/png": "[encoded data removed]",
      "text/plain": [
       "<Figure size 640x480 with 1 Axes>"
      ]
     },
     "metadata": {},
     "output_type": "display_data"
    }
   ],
   "source": [
    "plt.plot(epoch_list, cost_list)\n",
    "plt.xlabel(\"Epoch\")\n",
    "plt.ylabel(\"Cost\")"
   ]
  },
  {
   "cell_type": "markdown",
   "id": "a8731d7f",
   "metadata": {},
   "source": [
    "``` \n",
    "Notice batch Gradient descent has a smooth curve when trying to converge "
   ]
  },
  {
   "cell_type": "markdown",
   "id": "da4fc9d2",
   "metadata": {},
   "source": [
    "``` \n",
    "Creating prediction function \n",
    "We want to get the data in the actual format not in Scaled format... \n",
    "```"
   ]
  },
  {
   "cell_type": "code",
   "execution_count": 42,
   "id": "6c31f172",
   "metadata": {},
   "outputs": [
    {
     "name": "stderr",
     "output_type": "stream",
     "text": [
      "/Users/rohitabhishek/miniconda3/envs/mlenv/lib/python3.11/site-packages/sklearn/utils/validation.py:2739: UserWarning: X does not have valid feature names, but MinMaxScaler was fitted with feature names\n",
      "  warnings.warn(\n"
     ]
    },
    {
     "data": {
      "text/plain": [
       "np.float64(124.97561189905038)"
      ]
     },
     "execution_count": 42,
     "metadata": {},
     "output_type": "execute_result"
    }
   ],
   "source": [
    "def predict(area, bedrooms, w, b, scale_x, scale_y, values_scaled=False): \n",
    "\n",
    "    X_scaled = [area, bedrooms]\n",
    "\n",
    "    if not values_scaled: \n",
    "        X_scaled = scale_x.transform([X_scaled])[0]\n",
    "\n",
    "    price_scaled = w[0] * X_scaled[0] + w[1] * X_scaled[1] + b\n",
    "\n",
    "    # now inverse the trasformation of y scaled value \n",
    "    price_value = scale_y.inverse_transform([[price_scaled]])\n",
    "\n",
    "    return price_value[0][0]\n",
    "\n",
    "predict(2600, 4, w, b, scale_x, scale_y, False)"
   ]
  },
  {
   "cell_type": "code",
   "execution_count": 45,
   "id": "2339eef4",
   "metadata": {},
   "outputs": [
    {
     "name": "stderr",
     "output_type": "stream",
     "text": [
      "/Users/rohitabhishek/miniconda3/envs/mlenv/lib/python3.11/site-packages/sklearn/utils/validation.py:2739: UserWarning: X does not have valid feature names, but MinMaxScaler was fitted with feature names\n",
      "  warnings.warn(\n"
     ]
    },
    {
     "data": {
      "text/plain": [
       "np.float64(34.60197457980031)"
      ]
     },
     "execution_count": 45,
     "metadata": {},
     "output_type": "execute_result"
    }
   ],
   "source": [
    "predict(1000, 2, w, b, scale_x, scale_y, False)"
   ]
  },
  {
   "cell_type": "code",
   "execution_count": 46,
   "id": "fd84e659",
   "metadata": {},
   "outputs": [
    {
     "name": "stderr",
     "output_type": "stream",
     "text": [
      "/Users/rohitabhishek/miniconda3/envs/mlenv/lib/python3.11/site-packages/sklearn/utils/validation.py:2739: UserWarning: X does not have valid feature names, but MinMaxScaler was fitted with feature names\n",
      "  warnings.warn(\n"
     ]
    },
    {
     "data": {
      "text/plain": [
       "np.float64(70.50604143757819)"
      ]
     },
     "execution_count": 46,
     "metadata": {},
     "output_type": "execute_result"
    }
   ],
   "source": [
    "predict(1500, 3, w, b, scale_x, scale_y, False)"
   ]
  },
  {
   "cell_type": "markdown",
   "id": "044343f0",
   "metadata": {},
   "source": [
    "```\n",
    "Stochastic Gradient Descent"
   ]
  },
  {
   "cell_type": "code",
   "execution_count": 66,
   "id": "ab601948",
   "metadata": {},
   "outputs": [],
   "source": [
    "# Implement batch gradient descent using python code only \n",
    "import random\n",
    "\n",
    "def stochastic_gradient_descent(X, y_values, epochs, learning_rate=0.01):\n",
    "\n",
    "    # get total number of features using shape function of the dataframe (in our example it will take 2)\n",
    "    number_of_features = X.shape[1]\n",
    "\n",
    "    # create weight matrix with values 1 \n",
    "    w = np.ones(shape=(number_of_features))\n",
    "\n",
    "    # create bias\n",
    "    b=0\n",
    "    \n",
    "    # print(f\"w: {w}\")\n",
    "\n",
    "    # create total samples from the shape of the vectors \n",
    "    total_samples = X.shape[0]\n",
    "\n",
    "    # record the values \n",
    "    cost_list = [] \n",
    "    epoch_list = []\n",
    "\n",
    "    for i in range(epochs):\n",
    "\n",
    "        # get a random index in the data sample \n",
    "        random_index = random.randint(0, total_samples-1)\n",
    "\n",
    "        # get random X and y from the data \n",
    "        X_sample = X[random_index]\n",
    "        y_sample = y_values[random_index]\n",
    "\n",
    "        # same code as batch gradient below \n",
    "        y_pred = np.dot(w, X_sample.T) + b\n",
    "\n",
    "        # calculate gradients \n",
    "        w_grad = -(number_of_features/total_samples) * (X_sample.T.dot(y_sample - y_pred))\n",
    "        b_grad = -(number_of_features/total_samples) * np.sum(y_sample - y_pred)\n",
    "\n",
    "        # print (f\"w_grad: {w_grad}, b_grad: {b_grad}\")\n",
    "\n",
    "        # adjust the weights \n",
    "        w = w - learning_rate * w_grad \n",
    "        b = b - learning_rate * b_grad\n",
    "\n",
    "        # calculate cost \n",
    "        cost = np.mean(np.square(y_sample - y_pred))\n",
    "\n",
    "        cost_list.append(cost)\n",
    "        epoch_list.append(i)\n",
    "\n",
    "    return w, b, cost, cost_list, epoch_list\n",
    "\n",
    "w_sgd,b_sgd,cost_sgd,cost_list_sgd,epoch_list_sgd = stochastic_gradient_descent(X_scaled, y_scaled.reshape(y_scaled.shape[0]), 10000)"
   ]
  },
  {
   "cell_type": "code",
   "execution_count": 67,
   "id": "371f5aa5",
   "metadata": {},
   "outputs": [
    {
     "data": {
      "text/plain": [
       "(array([0.66469087, 0.60541671]),\n",
       " np.float64(-0.17792104056392882),\n",
       " np.float64(0.0048654808183488454))"
      ]
     },
     "execution_count": 67,
     "metadata": {},
     "output_type": "execute_result"
    }
   ],
   "source": [
    "w,b,cost"
   ]
  },
  {
   "cell_type": "code",
   "execution_count": 68,
   "id": "2772d842",
   "metadata": {},
   "outputs": [
    {
     "data": {
      "text/plain": [
       "(array([0.70979218, 0.67392406]),\n",
       " np.float64(-0.2273808388979935),\n",
       " np.float64(0.002181252804722281))"
      ]
     },
     "execution_count": 68,
     "metadata": {},
     "output_type": "execute_result"
    }
   ],
   "source": [
    "w_sgd,b_sgd,cost_sgd"
   ]
  },
  {
   "cell_type": "markdown",
   "id": "d3a622e7",
   "metadata": {},
   "source": [
    "```\n",
    "the values are the sample - plot this "
   ]
  },
  {
   "cell_type": "code",
   "execution_count": 70,
   "id": "41171f40",
   "metadata": {},
   "outputs": [
    {
     "data": {
      "text/plain": [
       "Text(0, 0.5, 'Cost')"
      ]
     },
     "execution_count": 70,
     "metadata": {},
     "output_type": "execute_result"
    },
    {
     "data": {
      "image/png": "[encoded data removed]",
      "text/plain": [
       "<Figure size 640x480 with 1 Axes>"
      ]
     },
     "metadata": {},
     "output_type": "display_data"
    }
   ],
   "source": [
    "plt.plot(epoch_list_sgd, cost_list_sgd, \"k-\")\n",
    "plt.xlabel(\"Epochs\")\n",
    "plt.ylabel(\"Cost\")"
   ]
  },
  {
   "cell_type": "code",
   "execution_count": 65,
   "id": "39951d3b",
   "metadata": {},
   "outputs": [
    {
     "name": "stderr",
     "output_type": "stream",
     "text": [
      "/Users/rohitabhishek/miniconda3/envs/mlenv/lib/python3.11/site-packages/sklearn/utils/validation.py:2739: UserWarning: X does not have valid feature names, but MinMaxScaler was fitted with feature names\n",
      "  warnings.warn(\n"
     ]
    },
    {
     "data": {
      "text/plain": [
       "np.float64(156.35771955944494)"
      ]
     },
     "execution_count": 65,
     "metadata": {},
     "output_type": "execute_result"
    }
   ],
   "source": [
    "predict(2600, 4, w_sgd, b_sgd, scale_x, scale_y)"
   ]
  },
  {
   "cell_type": "markdown",
   "id": "c8d1572d",
   "metadata": {},
   "source": [
    "```\n",
    "Implement Batch Gradient Descent - take random batches instead of complete training data (Batch GD) or one sample (SGD)"
   ]
  },
  {
   "cell_type": "code",
   "execution_count": 73,
   "id": "cb6c82ea",
   "metadata": {},
   "outputs": [],
   "source": [
    "# Implement batch gradient descent using python code only \n",
    "import random\n",
    "\n",
    "def mini_batch_gradient_descent(X, y_values, epochs, learning_rate=0.01):\n",
    "\n",
    "    # get total number of features using shape function of the dataframe (in our example it will take 2)\n",
    "    number_of_features = X.shape[1]\n",
    "\n",
    "    # create weight matrix with values 1 \n",
    "    w = np.ones(shape=(number_of_features))\n",
    "\n",
    "    # create bias\n",
    "    b=0\n",
    "    \n",
    "    # print(f\"w: {w}\")\n",
    "\n",
    "    # create total samples from the shape of the vectors \n",
    "    total_samples = X.shape[0]\n",
    "\n",
    "    # record the values \n",
    "    cost_list = [] \n",
    "    epoch_list = []\n",
    "\n",
    "\n",
    "    for i in range(epochs):\n",
    "        \n",
    "        X_list = [] \n",
    "        y_list = [] \n",
    "\n",
    "        for i in range(10):\n",
    "            random_index = random.randint(0, total_samples-1)\n",
    "            X_sample = X[random_index]\n",
    "            y_sample = y_values[random_index]\n",
    "\n",
    "            X_list.append(X_sample)\n",
    "            y_list.append(y_sample)\n",
    "\n",
    "\n",
    "        # same code as batch gradient below \n",
    "        y_pred = np.dot(w, X_list.T) + b\n",
    "\n",
    "        # calculate gradients \n",
    "        w_grad = -(number_of_features/total_samples) * (X_list.T.dot(y_list - y_pred))\n",
    "        b_grad = -(number_of_features/total_samples) * np.sum(y_list - y_pred)\n",
    "\n",
    "        # print (f\"w_grad: {w_grad}, b_grad: {b_grad}\")\n",
    "\n",
    "        # adjust the weights \n",
    "        w = w - learning_rate * w_grad \n",
    "        b = b - learning_rate * b_grad\n",
    "\n",
    "        # calculate cost \n",
    "        cost = np.mean(np.square(y_list - y_pred))\n",
    "\n",
    "        cost_list.append(cost)\n",
    "        epoch_list.append(i)\n",
    "\n",
    "    return w, b, cost, cost_list, epoch_list\n",
    "\n",
    "w_mb,b_mb,cost_mb,cost_list_mb,epoch_list_mb = stochastic_gradient_descent(X_scaled, y_scaled.reshape(y_scaled.shape[0]), 10000)"
   ]
  },
  {
   "cell_type": "code",
   "execution_count": 74,
   "id": "d7afca18",
   "metadata": {},
   "outputs": [
    {
     "data": {
      "text/plain": [
       "(array([0.70367573, 0.67091341]),\n",
       " np.float64(-0.2283851372047094),\n",
       " np.float64(0.0019171754585134485))"
      ]
     },
     "execution_count": 74,
     "metadata": {},
     "output_type": "execute_result"
    }
   ],
   "source": [
    "w_mb, b_mb, cost_mb"
   ]
  },
  {
   "cell_type": "code",
   "execution_count": 75,
   "id": "23fc46e4",
   "metadata": {},
   "outputs": [
    {
     "name": "stderr",
     "output_type": "stream",
     "text": [
      "/Users/rohitabhishek/miniconda3/envs/mlenv/lib/python3.11/site-packages/sklearn/utils/validation.py:2739: UserWarning: X does not have valid feature names, but MinMaxScaler was fitted with feature names\n",
      "  warnings.warn(\n"
     ]
    },
    {
     "data": {
      "text/plain": [
       "np.float64(128.0611623204881)"
      ]
     },
     "execution_count": 75,
     "metadata": {},
     "output_type": "execute_result"
    }
   ],
   "source": [
    "predict(2600,4,w_mb, b_mb, scale_x, scale_y)"
   ]
  },
  {
   "cell_type": "code",
   "execution_count": 76,
   "id": "84307994",
   "metadata": {},
   "outputs": [
    {
     "data": {
      "text/plain": [
       "Text(0, 0.5, 'Cost')"
      ]
     },
     "execution_count": 76,
     "metadata": {},
     "output_type": "execute_result"
    },
    {
     "data": {
      "image/png": "[encoded data removed]",
      "text/plain": [
       "<Figure size 640x480 with 1 Axes>"
      ]
     },
     "metadata": {},
     "output_type": "display_data"
    }
   ],
   "source": [
    "plt.plot(epoch_list_mb, cost_list_mb)\n",
    "plt.xlabel(\"Epochs\")\n",
    "plt.ylabel(\"Cost\")"
   ]
  },
  {
   "cell_type": "code",
   "execution_count": null,
   "id": "48b92b7f",
   "metadata": {},
   "outputs": [],
   "source": []
  }
 ],
 "metadata": {
  "kernelspec": {
   "display_name": "mlenv",
   "language": "python",
   "name": "python3"
  },
  "language_info": {
   "codemirror_mode": {
    "name": "ipython",
    "version": 3
   },
   "file_extension": ".py",
   "mimetype": "text/x-python",
   "name": "python",
   "nbconvert_exporter": "python",
   "pygments_lexer": "ipython3",
   "version": "3.11.8"
  }
 },
 "nbformat": 4,
 "nbformat_minor": 5
}
