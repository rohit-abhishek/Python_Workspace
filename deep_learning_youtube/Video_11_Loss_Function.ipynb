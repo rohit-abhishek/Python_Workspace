{
 "cells": [
  {
   "cell_type": "code",
   "execution_count": 1,
   "id": "839c2a78",
   "metadata": {},
   "outputs": [],
   "source": [
    "import numpy as np "
   ]
  },
  {
   "cell_type": "code",
   "execution_count": 2,
   "id": "6ad318b3",
   "metadata": {},
   "outputs": [],
   "source": [
    "y = [0.3, 0.7, 1, 0, 0, 0.5]\n",
    "y_pred = [1, 1, 0, 0, 0, 1]"
   ]
  },
  {
   "cell_type": "markdown",
   "id": "9c2c5d42",
   "metadata": {},
   "source": [
    "Implementing means absolute error<br>\n",
    "MAE = ${1/n} \\sum_{i=0}^{n} | y_i - \\^y_i |$"
   ]
  },
  {
   "cell_type": "code",
   "execution_count": 7,
   "id": "c6550459",
   "metadata": {},
   "outputs": [
    {
     "data": {
      "text/plain": [
       "0.4166666666666667"
      ]
     },
     "execution_count": 7,
     "metadata": {},
     "output_type": "execute_result"
    }
   ],
   "source": [
    "# without using numpy \n",
    "def mean_absolute_error(y_target, y_predicted):\n",
    "    error = 0 \n",
    "    for i, j in zip(y_target, y_predicted):\n",
    "        error += abs(i - j)\n",
    "    \n",
    "    return error/len(y_target)\n",
    "\n",
    "mean_absolute_error(y, y_pred)"
   ]
  },
  {
   "cell_type": "code",
   "execution_count": null,
   "id": "e54ce56c",
   "metadata": {},
   "outputs": [
    {
     "data": {
      "text/plain": [
       "np.float64(0.4166666666666667)"
      ]
     },
     "execution_count": 8,
     "metadata": {},
     "output_type": "execute_result"
    }
   ],
   "source": [
    "# using numpy \n",
    "np.mean(np.abs(np.array(y) - np.array(y_pred)))"
   ]
  },
  {
   "cell_type": "markdown",
   "id": "a8f99400",
   "metadata": {},
   "source": [
    "Implementing means squared error<br>\n",
    "MAE = ${1/n} \\sum_{i=0}^{n}  (y_i - \\^y_i)^2$"
   ]
  },
  {
   "cell_type": "code",
   "execution_count": 11,
   "id": "45b8f5bc",
   "metadata": {},
   "outputs": [
    {
     "data": {
      "text/plain": [
       "0.305"
      ]
     },
     "execution_count": 11,
     "metadata": {},
     "output_type": "execute_result"
    }
   ],
   "source": [
    "# without using numpy \n",
    "def mean_square_error(y_target, y_predicted):\n",
    "    error = 0 \n",
    "    for i, j in zip(y_target, y_predicted):\n",
    "        error = error + (i - j)**2\n",
    "    \n",
    "    return error/len(y_target)\n",
    "\n",
    "mean_square_error(y, y_pred)"
   ]
  },
  {
   "cell_type": "code",
   "execution_count": 12,
   "id": "b6579cb1",
   "metadata": {},
   "outputs": [
    {
     "data": {
      "text/plain": [
       "np.float64(0.305)"
      ]
     },
     "execution_count": 12,
     "metadata": {},
     "output_type": "execute_result"
    }
   ],
   "source": [
    "# using numpy \n",
    "np.mean(np.square(np.array(y) - np.array(y_pred)))"
   ]
  },
  {
   "cell_type": "markdown",
   "id": "67042b68",
   "metadata": {},
   "source": [
    "Implementing Log Loss/Binary Crossentropy<br>\n",
    "LL = $-1/n\\sum_{i=0}^{n} y_i \\ln (\\^y_i) + (1 - y_i) \\ln (1-\\^y_i)$"
   ]
  },
  {
   "cell_type": "code",
   "execution_count": 21,
   "id": "618670b5",
   "metadata": {},
   "outputs": [
    {
     "name": "stdout",
     "output_type": "stream",
     "text": [
      "yes\n"
     ]
    }
   ],
   "source": [
    "if any(i==0 for i in y_pred):\n",
    "    print (\"yes\")"
   ]
  },
  {
   "cell_type": "code",
   "execution_count": 22,
   "id": "08e845f1",
   "metadata": {},
   "outputs": [
    {
     "data": {
      "text/plain": [
       "np.float64(14.391356730570331)"
      ]
     },
     "execution_count": 22,
     "metadata": {},
     "output_type": "execute_result"
    }
   ],
   "source": [
    "# since log 0 will be infinity create a very small number which is epsilon \n",
    "epsilon = 1e-15\n",
    "\n",
    "def log_loss(y_target, y_predicted):\n",
    "    error = 0 \n",
    "\n",
    "    if any(i == 0 for i in y_pred):\n",
    "        y_pred_scaled = [max(i, epsilon) for i in y_predicted]\n",
    "        y_pred_scaled = [min(i, 1-epsilon) for i in y_pred_scaled]\n",
    "\n",
    "    for yi, yj in zip(y_target, y_pred_scaled):\n",
    "        error = error + ((yi * np.log(yj)) + (1-yi) * np.log(1-yj))\n",
    "    \n",
    "    return -1 * (error/len(y_target))\n",
    "\n",
    "log_loss(y, y_pred)"
   ]
  },
  {
   "cell_type": "code",
   "execution_count": null,
   "id": "b409725b",
   "metadata": {},
   "outputs": [],
   "source": []
  }
 ],
 "metadata": {
  "kernelspec": {
   "display_name": "mlenv",
   "language": "python",
   "name": "python3"
  },
  "language_info": {
   "codemirror_mode": {
    "name": "ipython",
    "version": 3
   },
   "file_extension": ".py",
   "mimetype": "text/x-python",
   "name": "python",
   "nbconvert_exporter": "python",
   "pygments_lexer": "ipython3",
   "version": "3.11.8"
  }
 },
 "nbformat": 4,
 "nbformat_minor": 5
}
