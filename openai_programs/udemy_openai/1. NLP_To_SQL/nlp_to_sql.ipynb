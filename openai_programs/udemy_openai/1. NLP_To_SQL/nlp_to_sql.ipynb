{
 "cells": [
  {
   "cell_type": "code",
   "execution_count": 26,
   "id": "72ca750c",
   "metadata": {},
   "outputs": [],
   "source": [
    "# take natural language as input and convert into sql statements to get data from in memory database \n",
    "# use pandas for this activity \n",
    "import os \n",
    "import openai \n",
    "import pandas as pd \n",
    "import zipfile\n",
    "import urllib\n",
    "import urllib.request\n",
    "\n",
    "# store the api key as environment variable\n",
    "openai.api_key = os.getenv(\"OPENAI_API_KEY\")"
   ]
  },
  {
   "cell_type": "code",
   "execution_count": 27,
   "id": "7bee3ddc",
   "metadata": {},
   "outputs": [],
   "source": [
    "DOWNLOAD_ROOT=\"https://www.kaggle.com/api/v1/datasets/download/kyanyoga/sample-sales-data\"\n",
    "DATA_LOCATION=\"/Users/rohitabhishek/Python_Workspace\"\n",
    "DATA_PATH=os.path.join(DATA_LOCATION, \"openai_programs\", \"udemy_openai\", \"DATA\")"
   ]
  },
  {
   "cell_type": "code",
   "execution_count": null,
   "id": "491d3446",
   "metadata": {},
   "outputs": [],
   "source": [
    "def fetch_sales_data(data_url=DOWNLOAD_ROOT, data_path=DATA_PATH):\n",
    "    os.makedirs(data_path, exist_ok=True)\n",
    "\n",
    "    # give filename \n",
    "    zip_file = os.path.join(data_path, \"sample-sales-data.zip\")\n",
    "\n",
    "    urllib.request.urlretrieve(data_url, zip_file)\n",
    "\n",
    "    # extract the data \n",
    "    sales_tgz=zipfile.ZipFile(zip_file)\n",
    "    sales_tgz.extractall(path=data_path)\n",
    "    sales_tgz.close()\n",
    "\n",
    "files = os.listdir(DATA_PATH)\n",
    "if \"sales_data_sample.csv\" not in files: \n",
    "    fetch_sales_data()"
   ]
  },
  {
   "cell_type": "code",
   "execution_count": 31,
   "id": "e4f69d5e",
   "metadata": {},
   "outputs": [
    {
     "data": {
      "text/plain": [
       "['sample-sales-data.zip', 'sales_data_sample.csv']"
      ]
     },
     "execution_count": 31,
     "metadata": {},
     "output_type": "execute_result"
    }
   ],
   "source": [
    "os.listdir(DATA_PATH)"
   ]
  },
  {
   "cell_type": "code",
   "execution_count": 39,
   "id": "37a3631c",
   "metadata": {},
   "outputs": [
    {
     "data": {
      "application/vnd.microsoft.datawrangler.viewer.v0+json": {
       "columns": [
        {
         "name": "index",
         "rawType": "int64",
         "type": "integer"
        },
        {
         "name": "ORDERNUMBER",
         "rawType": "int64",
         "type": "integer"
        },
        {
         "name": "QUANTITYORDERED",
         "rawType": "int64",
         "type": "integer"
        },
        {
         "name": "PRICEEACH",
         "rawType": "float64",
         "type": "float"
        },
        {
         "name": "ORDERLINENUMBER",
         "rawType": "int64",
         "type": "integer"
        },
        {
         "name": "SALES",
         "rawType": "float64",
         "type": "float"
        },
        {
         "name": "ORDERDATE",
         "rawType": "object",
         "type": "string"
        },
        {
         "name": "STATUS",
         "rawType": "object",
         "type": "string"
        },
        {
         "name": "QTR_ID",
         "rawType": "int64",
         "type": "integer"
        },
        {
         "name": "MONTH_ID",
         "rawType": "int64",
         "type": "integer"
        },
        {
         "name": "YEAR_ID",
         "rawType": "int64",
         "type": "integer"
        },
        {
         "name": "PRODUCTLINE",
         "rawType": "object",
         "type": "string"
        },
        {
         "name": "MSRP",
         "rawType": "int64",
         "type": "integer"
        },
        {
         "name": "PRODUCTCODE",
         "rawType": "object",
         "type": "string"
        },
        {
         "name": "CUSTOMERNAME",
         "rawType": "object",
         "type": "string"
        },
        {
         "name": "PHONE",
         "rawType": "object",
         "type": "string"
        },
        {
         "name": "ADDRESSLINE1",
         "rawType": "object",
         "type": "string"
        },
        {
         "name": "ADDRESSLINE2",
         "rawType": "object",
         "type": "unknown"
        },
        {
         "name": "CITY",
         "rawType": "object",
         "type": "string"
        },
        {
         "name": "STATE",
         "rawType": "object",
         "type": "unknown"
        },
        {
         "name": "POSTALCODE",
         "rawType": "object",
         "type": "unknown"
        },
        {
         "name": "COUNTRY",
         "rawType": "object",
         "type": "string"
        },
        {
         "name": "TERRITORY",
         "rawType": "object",
         "type": "unknown"
        },
        {
         "name": "CONTACTLASTNAME",
         "rawType": "object",
         "type": "string"
        },
        {
         "name": "CONTACTFIRSTNAME",
         "rawType": "object",
         "type": "string"
        },
        {
         "name": "DEALSIZE",
         "rawType": "object",
         "type": "string"
        }
       ],
       "ref": "70587809-b211-49cb-b824-dfd9a26de9b7",
       "rows": [
        [
         "0",
         "10107",
         "30",
         "95.7",
         "2",
         "2871.0",
         "2/24/2003 0:00",
         "Shipped",
         "1",
         "2",
         "2003",
         "Motorcycles",
         "95",
         "S10_1678",
         "Land of Toys Inc.",
         "2125557818",
         "897 Long Airport Avenue",
         null,
         "NYC",
         "NY",
         "10022",
         "USA",
         null,
         "Yu",
         "Kwai",
         "Small"
        ],
        [
         "1",
         "10121",
         "34",
         "81.35",
         "5",
         "2765.9",
         "5/7/2003 0:00",
         "Shipped",
         "2",
         "5",
         "2003",
         "Motorcycles",
         "95",
         "S10_1678",
         "Reims Collectables",
         "26.47.1555",
         "59 rue de l'Abbaye",
         null,
         "Reims",
         null,
         "51100",
         "France",
         "EMEA",
         "Henriot",
         "Paul",
         "Small"
        ],
        [
         "2",
         "10134",
         "41",
         "94.74",
         "2",
         "3884.34",
         "7/1/2003 0:00",
         "Shipped",
         "3",
         "7",
         "2003",
         "Motorcycles",
         "95",
         "S10_1678",
         "Lyon Souveniers",
         "+33 1 46 62 7555",
         "27 rue du Colonel Pierre Avia",
         null,
         "Paris",
         null,
         "75508",
         "France",
         "EMEA",
         "Da Cunha",
         "Daniel",
         "Medium"
        ],
        [
         "3",
         "10145",
         "45",
         "83.26",
         "6",
         "3746.7",
         "8/25/2003 0:00",
         "Shipped",
         "3",
         "8",
         "2003",
         "Motorcycles",
         "95",
         "S10_1678",
         "Toys4GrownUps.com",
         "6265557265",
         "78934 Hillside Dr.",
         null,
         "Pasadena",
         "CA",
         "90003",
         "USA",
         null,
         "Young",
         "Julie",
         "Medium"
        ],
        [
         "4",
         "10159",
         "49",
         "100.0",
         "14",
         "5205.27",
         "10/10/2003 0:00",
         "Shipped",
         "4",
         "10",
         "2003",
         "Motorcycles",
         "95",
         "S10_1678",
         "Corporate Gift Ideas Co.",
         "6505551386",
         "7734 Strong St.",
         null,
         "San Francisco",
         "CA",
         null,
         "USA",
         null,
         "Brown",
         "Julie",
         "Medium"
        ]
       ],
       "shape": {
        "columns": 25,
        "rows": 5
       }
      },
      "text/html": [
       "<div>\n",
       "<style scoped>\n",
       "    .dataframe tbody tr th:only-of-type {\n",
       "        vertical-align: middle;\n",
       "    }\n",
       "\n",
       "    .dataframe tbody tr th {\n",
       "        vertical-align: top;\n",
       "    }\n",
       "\n",
       "    .dataframe thead th {\n",
       "        text-align: right;\n",
       "    }\n",
       "</style>\n",
       "<table border=\"1\" class=\"dataframe\">\n",
       "  <thead>\n",
       "    <tr style=\"text-align: right;\">\n",
       "      <th></th>\n",
       "      <th>ORDERNUMBER</th>\n",
       "      <th>QUANTITYORDERED</th>\n",
       "      <th>PRICEEACH</th>\n",
       "      <th>ORDERLINENUMBER</th>\n",
       "      <th>SALES</th>\n",
       "      <th>ORDERDATE</th>\n",
       "      <th>STATUS</th>\n",
       "      <th>QTR_ID</th>\n",
       "      <th>MONTH_ID</th>\n",
       "      <th>YEAR_ID</th>\n",
       "      <th>...</th>\n",
       "      <th>ADDRESSLINE1</th>\n",
       "      <th>ADDRESSLINE2</th>\n",
       "      <th>CITY</th>\n",
       "      <th>STATE</th>\n",
       "      <th>POSTALCODE</th>\n",
       "      <th>COUNTRY</th>\n",
       "      <th>TERRITORY</th>\n",
       "      <th>CONTACTLASTNAME</th>\n",
       "      <th>CONTACTFIRSTNAME</th>\n",
       "      <th>DEALSIZE</th>\n",
       "    </tr>\n",
       "  </thead>\n",
       "  <tbody>\n",
       "    <tr>\n",
       "      <th>0</th>\n",
       "      <td>10107</td>\n",
       "      <td>30</td>\n",
       "      <td>95.70</td>\n",
       "      <td>2</td>\n",
       "      <td>2871.00</td>\n",
       "      <td>2/24/2003 0:00</td>\n",
       "      <td>Shipped</td>\n",
       "      <td>1</td>\n",
       "      <td>2</td>\n",
       "      <td>2003</td>\n",
       "      <td>...</td>\n",
       "      <td>897 Long Airport Avenue</td>\n",
       "      <td>NaN</td>\n",
       "      <td>NYC</td>\n",
       "      <td>NY</td>\n",
       "      <td>10022</td>\n",
       "      <td>USA</td>\n",
       "      <td>NaN</td>\n",
       "      <td>Yu</td>\n",
       "      <td>Kwai</td>\n",
       "      <td>Small</td>\n",
       "    </tr>\n",
       "    <tr>\n",
       "      <th>1</th>\n",
       "      <td>10121</td>\n",
       "      <td>34</td>\n",
       "      <td>81.35</td>\n",
       "      <td>5</td>\n",
       "      <td>2765.90</td>\n",
       "      <td>5/7/2003 0:00</td>\n",
       "      <td>Shipped</td>\n",
       "      <td>2</td>\n",
       "      <td>5</td>\n",
       "      <td>2003</td>\n",
       "      <td>...</td>\n",
       "      <td>59 rue de l'Abbaye</td>\n",
       "      <td>NaN</td>\n",
       "      <td>Reims</td>\n",
       "      <td>NaN</td>\n",
       "      <td>51100</td>\n",
       "      <td>France</td>\n",
       "      <td>EMEA</td>\n",
       "      <td>Henriot</td>\n",
       "      <td>Paul</td>\n",
       "      <td>Small</td>\n",
       "    </tr>\n",
       "    <tr>\n",
       "      <th>2</th>\n",
       "      <td>10134</td>\n",
       "      <td>41</td>\n",
       "      <td>94.74</td>\n",
       "      <td>2</td>\n",
       "      <td>3884.34</td>\n",
       "      <td>7/1/2003 0:00</td>\n",
       "      <td>Shipped</td>\n",
       "      <td>3</td>\n",
       "      <td>7</td>\n",
       "      <td>2003</td>\n",
       "      <td>...</td>\n",
       "      <td>27 rue du Colonel Pierre Avia</td>\n",
       "      <td>NaN</td>\n",
       "      <td>Paris</td>\n",
       "      <td>NaN</td>\n",
       "      <td>75508</td>\n",
       "      <td>France</td>\n",
       "      <td>EMEA</td>\n",
       "      <td>Da Cunha</td>\n",
       "      <td>Daniel</td>\n",
       "      <td>Medium</td>\n",
       "    </tr>\n",
       "    <tr>\n",
       "      <th>3</th>\n",
       "      <td>10145</td>\n",
       "      <td>45</td>\n",
       "      <td>83.26</td>\n",
       "      <td>6</td>\n",
       "      <td>3746.70</td>\n",
       "      <td>8/25/2003 0:00</td>\n",
       "      <td>Shipped</td>\n",
       "      <td>3</td>\n",
       "      <td>8</td>\n",
       "      <td>2003</td>\n",
       "      <td>...</td>\n",
       "      <td>78934 Hillside Dr.</td>\n",
       "      <td>NaN</td>\n",
       "      <td>Pasadena</td>\n",
       "      <td>CA</td>\n",
       "      <td>90003</td>\n",
       "      <td>USA</td>\n",
       "      <td>NaN</td>\n",
       "      <td>Young</td>\n",
       "      <td>Julie</td>\n",
       "      <td>Medium</td>\n",
       "    </tr>\n",
       "    <tr>\n",
       "      <th>4</th>\n",
       "      <td>10159</td>\n",
       "      <td>49</td>\n",
       "      <td>100.00</td>\n",
       "      <td>14</td>\n",
       "      <td>5205.27</td>\n",
       "      <td>10/10/2003 0:00</td>\n",
       "      <td>Shipped</td>\n",
       "      <td>4</td>\n",
       "      <td>10</td>\n",
       "      <td>2003</td>\n",
       "      <td>...</td>\n",
       "      <td>7734 Strong St.</td>\n",
       "      <td>NaN</td>\n",
       "      <td>San Francisco</td>\n",
       "      <td>CA</td>\n",
       "      <td>NaN</td>\n",
       "      <td>USA</td>\n",
       "      <td>NaN</td>\n",
       "      <td>Brown</td>\n",
       "      <td>Julie</td>\n",
       "      <td>Medium</td>\n",
       "    </tr>\n",
       "  </tbody>\n",
       "</table>\n",
       "<p>5 rows × 25 columns</p>\n",
       "</div>"
      ],
      "text/plain": [
       "   ORDERNUMBER  QUANTITYORDERED  PRICEEACH  ORDERLINENUMBER    SALES  \\\n",
       "0        10107               30      95.70                2  2871.00   \n",
       "1        10121               34      81.35                5  2765.90   \n",
       "2        10134               41      94.74                2  3884.34   \n",
       "3        10145               45      83.26                6  3746.70   \n",
       "4        10159               49     100.00               14  5205.27   \n",
       "\n",
       "         ORDERDATE   STATUS  QTR_ID  MONTH_ID  YEAR_ID  ...  \\\n",
       "0   2/24/2003 0:00  Shipped       1         2     2003  ...   \n",
       "1    5/7/2003 0:00  Shipped       2         5     2003  ...   \n",
       "2    7/1/2003 0:00  Shipped       3         7     2003  ...   \n",
       "3   8/25/2003 0:00  Shipped       3         8     2003  ...   \n",
       "4  10/10/2003 0:00  Shipped       4        10     2003  ...   \n",
       "\n",
       "                    ADDRESSLINE1  ADDRESSLINE2           CITY STATE  \\\n",
       "0        897 Long Airport Avenue           NaN            NYC    NY   \n",
       "1             59 rue de l'Abbaye           NaN          Reims   NaN   \n",
       "2  27 rue du Colonel Pierre Avia           NaN          Paris   NaN   \n",
       "3             78934 Hillside Dr.           NaN       Pasadena    CA   \n",
       "4                7734 Strong St.           NaN  San Francisco    CA   \n",
       "\n",
       "  POSTALCODE COUNTRY TERRITORY CONTACTLASTNAME CONTACTFIRSTNAME DEALSIZE  \n",
       "0      10022     USA       NaN              Yu             Kwai    Small  \n",
       "1      51100  France      EMEA         Henriot             Paul    Small  \n",
       "2      75508  France      EMEA        Da Cunha           Daniel   Medium  \n",
       "3      90003     USA       NaN           Young            Julie   Medium  \n",
       "4        NaN     USA       NaN           Brown            Julie   Medium  \n",
       "\n",
       "[5 rows x 25 columns]"
      ]
     },
     "execution_count": 39,
     "metadata": {},
     "output_type": "execute_result"
    }
   ],
   "source": [
    "data_location=os.path.join(DATA_PATH, \"sales_data_sample.csv\")\n",
    "df=pd.read_csv(data_location)\n",
    "df.head()"
   ]
  },
  {
   "cell_type": "code",
   "execution_count": 40,
   "id": "e4a154ae",
   "metadata": {},
   "outputs": [
    {
     "data": {
      "application/vnd.microsoft.datawrangler.viewer.v0+json": {
       "columns": [
        {
         "name": "YEAR_ID",
         "rawType": "int64",
         "type": "integer"
        },
        {
         "name": "count",
         "rawType": "int64",
         "type": "integer"
        }
       ],
       "ref": "7a6b9712-7648-4685-9e5c-18150cd451e7",
       "rows": [
        [
         "2004",
         "1345"
        ],
        [
         "2003",
         "1000"
        ],
        [
         "2005",
         "478"
        ]
       ],
       "shape": {
        "columns": 1,
        "rows": 3
       }
      },
      "text/plain": [
       "YEAR_ID\n",
       "2004    1345\n",
       "2003    1000\n",
       "2005     478\n",
       "Name: count, dtype: int64"
      ]
     },
     "execution_count": 40,
     "metadata": {},
     "output_type": "execute_result"
    }
   ],
   "source": [
    "df[\"YEAR_ID\"].value_counts()"
   ]
  },
  {
   "cell_type": "code",
   "execution_count": 41,
   "id": "1bdfcda0",
   "metadata": {},
   "outputs": [
    {
     "name": "stdout",
     "output_type": "stream",
     "text": [
      "<class 'pandas.core.frame.DataFrame'>\n",
      "RangeIndex: 2823 entries, 0 to 2822\n",
      "Data columns (total 25 columns):\n",
      " #   Column            Non-Null Count  Dtype  \n",
      "---  ------            --------------  -----  \n",
      " 0   ORDERNUMBER       2823 non-null   int64  \n",
      " 1   QUANTITYORDERED   2823 non-null   int64  \n",
      " 2   PRICEEACH         2823 non-null   float64\n",
      " 3   ORDERLINENUMBER   2823 non-null   int64  \n",
      " 4   SALES             2823 non-null   float64\n",
      " 5   ORDERDATE         2823 non-null   object \n",
      " 6   STATUS            2823 non-null   object \n",
      " 7   QTR_ID            2823 non-null   int64  \n",
      " 8   MONTH_ID          2823 non-null   int64  \n",
      " 9   YEAR_ID           2823 non-null   int64  \n",
      " 10  PRODUCTLINE       2823 non-null   object \n",
      " 11  MSRP              2823 non-null   int64  \n",
      " 12  PRODUCTCODE       2823 non-null   object \n",
      " 13  CUSTOMERNAME      2823 non-null   object \n",
      " 14  PHONE             2823 non-null   object \n",
      " 15  ADDRESSLINE1      2823 non-null   object \n",
      " 16  ADDRESSLINE2      302 non-null    object \n",
      " 17  CITY              2823 non-null   object \n",
      " 18  STATE             1337 non-null   object \n",
      " 19  POSTALCODE        2747 non-null   object \n",
      " 20  COUNTRY           2823 non-null   object \n",
      " 21  TERRITORY         1749 non-null   object \n",
      " 22  CONTACTLASTNAME   2823 non-null   object \n",
      " 23  CONTACTFIRSTNAME  2823 non-null   object \n",
      " 24  DEALSIZE          2823 non-null   object \n",
      "dtypes: float64(2), int64(7), object(16)\n",
      "memory usage: 551.5+ KB\n"
     ]
    }
   ],
   "source": [
    "df.info()"
   ]
  },
  {
   "cell_type": "code",
   "execution_count": 42,
   "id": "71bdb24a",
   "metadata": {},
   "outputs": [
    {
     "data": {
      "application/vnd.microsoft.datawrangler.viewer.v0+json": {
       "columns": [
        {
         "name": "QTR_ID",
         "rawType": "int64",
         "type": "integer"
        },
        {
         "name": "SALES",
         "rawType": "float64",
         "type": "float"
        }
       ],
       "ref": "8373ff0a-0502-4626-9591-d244ceb87801",
       "rows": [
        [
         "1",
         "2350817.73"
        ],
        [
         "2",
         "2048120.3"
        ],
        [
         "3",
         "1758910.81"
        ],
        [
         "4",
         "3874780.01"
        ]
       ],
       "shape": {
        "columns": 1,
        "rows": 4
       }
      },
      "text/plain": [
       "QTR_ID\n",
       "1    2350817.73\n",
       "2    2048120.30\n",
       "3    1758910.81\n",
       "4    3874780.01\n",
       "Name: SALES, dtype: float64"
      ]
     },
     "execution_count": 42,
     "metadata": {},
     "output_type": "execute_result"
    }
   ],
   "source": [
    "df.groupby(\"QTR_ID\").sum()[\"SALES\"]"
   ]
  },
  {
   "cell_type": "markdown",
   "id": "ca743dbc",
   "metadata": {},
   "source": [
    "``` \n",
    "We want to give question like what is the total sales per quater which is equivalent to \n",
    "SELECT SUM(SALES) FROM TABLE GROUP BY QTR_ID\n",
    "```"
   ]
  },
  {
   "cell_type": "code",
   "execution_count": 43,
   "id": "2fc935ef",
   "metadata": {},
   "outputs": [],
   "source": [
    "import sqlalchemy\n",
    "from sqlalchemy import create_engine, text "
   ]
  },
  {
   "cell_type": "code",
   "execution_count": 44,
   "id": "1f1e3e4d",
   "metadata": {},
   "outputs": [
    {
     "name": "stdout",
     "output_type": "stream",
     "text": [
      "2025-06-03 18:56:13,012 INFO sqlalchemy.engine.Engine BEGIN (implicit)\n",
      "2025-06-03 18:56:13,015 INFO sqlalchemy.engine.Engine PRAGMA main.table_info(\"Sales\")\n",
      "2025-06-03 18:56:13,015 INFO sqlalchemy.engine.Engine [raw sql] ()\n",
      "2025-06-03 18:56:13,016 INFO sqlalchemy.engine.Engine PRAGMA temp.table_info(\"Sales\")\n",
      "2025-06-03 18:56:13,016 INFO sqlalchemy.engine.Engine [raw sql] ()\n",
      "2025-06-03 18:56:13,017 INFO sqlalchemy.engine.Engine \n",
      "CREATE TABLE \"Sales\" (\n",
      "\t\"index\" BIGINT, \n",
      "\t\"ORDERNUMBER\" BIGINT, \n",
      "\t\"QUANTITYORDERED\" BIGINT, \n",
      "\t\"PRICEEACH\" FLOAT, \n",
      "\t\"ORDERLINENUMBER\" BIGINT, \n",
      "\t\"SALES\" FLOAT, \n",
      "\t\"ORDERDATE\" TEXT, \n",
      "\t\"STATUS\" TEXT, \n",
      "\t\"QTR_ID\" BIGINT, \n",
      "\t\"MONTH_ID\" BIGINT, \n",
      "\t\"YEAR_ID\" BIGINT, \n",
      "\t\"PRODUCTLINE\" TEXT, \n",
      "\t\"MSRP\" BIGINT, \n",
      "\t\"PRODUCTCODE\" TEXT, \n",
      "\t\"CUSTOMERNAME\" TEXT, \n",
      "\t\"PHONE\" TEXT, \n",
      "\t\"ADDRESSLINE1\" TEXT, \n",
      "\t\"ADDRESSLINE2\" TEXT, \n",
      "\t\"CITY\" TEXT, \n",
      "\t\"STATE\" TEXT, \n",
      "\t\"POSTALCODE\" TEXT, \n",
      "\t\"COUNTRY\" TEXT, \n",
      "\t\"TERRITORY\" TEXT, \n",
      "\t\"CONTACTLASTNAME\" TEXT, \n",
      "\t\"CONTACTFIRSTNAME\" TEXT, \n",
      "\t\"DEALSIZE\" TEXT\n",
      ")\n",
      "\n",
      "\n",
      "2025-06-03 18:56:13,017 INFO sqlalchemy.engine.Engine [no key 0.00031s] ()\n",
      "2025-06-03 18:56:13,018 INFO sqlalchemy.engine.Engine CREATE INDEX \"ix_Sales_index\" ON \"Sales\" (\"index\")\n",
      "2025-06-03 18:56:13,019 INFO sqlalchemy.engine.Engine [no key 0.00047s] ()\n",
      "2025-06-03 18:56:13,091 INFO sqlalchemy.engine.Engine INSERT INTO \"Sales\" (\"index\", \"ORDERNUMBER\", \"QUANTITYORDERED\", \"PRICEEACH\", \"ORDERLINENUMBER\", \"SALES\", \"ORDERDATE\", \"STATUS\", \"QTR_ID\", \"MONTH_ID\", \"YEAR_ID\", \"PRODUCTLINE\", \"MSRP\", \"PRODUCTCODE\", \"CUSTOMERNAME\", \"PHONE\", \"ADDRESSLINE1\", \"ADDRESSLINE2\", \"CITY\", \"STATE\", \"POSTALCODE\", \"COUNTRY\", \"TERRITORY\", \"CONTACTLASTNAME\", \"CONTACTFIRSTNAME\", \"DEALSIZE\") VALUES (?, ?, ?, ?, ?, ?, ?, ?, ?, ?, ?, ?, ?, ?, ?, ?, ?, ?, ?, ?, ?, ?, ?, ?, ?, ?)\n",
      "2025-06-03 18:56:13,092 INFO sqlalchemy.engine.Engine [generated in 0.06557s] [(0, 10107, 30, 95.7, 2, 2871.0, '2/24/2003 0:00', 'Shipped', 1, 2, 2003, 'Motorcycles', 95, 'S10_1678', 'Land of Toys Inc.', '2125557818', '897 Long Airport Avenue', None, 'NYC', 'NY', '10022', 'USA', None, 'Yu', 'Kwai', 'Small'), (1, 10121, 34, 81.35, 5, 2765.9, '5/7/2003 0:00', 'Shipped', 2, 5, 2003, 'Motorcycles', 95, 'S10_1678', 'Reims Collectables', '26.47.1555', \"59 rue de l'Abbaye\", None, 'Reims', None, '51100', 'France', 'EMEA', 'Henriot', 'Paul', 'Small'), (2, 10134, 41, 94.74, 2, 3884.34, '7/1/2003 0:00', 'Shipped', 3, 7, 2003, 'Motorcycles', 95, 'S10_1678', 'Lyon Souveniers', '+33 1 46 62 7555', '27 rue du Colonel Pierre Avia', None, 'Paris', None, '75508', 'France', 'EMEA', 'Da Cunha', 'Daniel', 'Medium'), (3, 10145, 45, 83.26, 6, 3746.7, '8/25/2003 0:00', 'Shipped', 3, 8, 2003, 'Motorcycles', 95, 'S10_1678', 'Toys4GrownUps.com', '6265557265', '78934 Hillside Dr.', None, 'Pasadena', 'CA', '90003', 'USA', None, 'Young', 'Julie', 'Medium'), (4, 10159, 49, 100.0, 14, 5205.27, '10/10/2003 0:00', 'Shipped', 4, 10, 2003, 'Motorcycles', 95, 'S10_1678', 'Corporate Gift Ideas Co.', '6505551386', '7734 Strong St.', None, 'San Francisco', 'CA', None, 'USA', None, 'Brown', 'Julie', 'Medium'), (5, 10168, 36, 96.66, 1, 3479.76, '10/28/2003 0:00', 'Shipped', 4, 10, 2003, 'Motorcycles', 95, 'S10_1678', 'Technics Stores Inc.', '6505556809', '9408 Furth Circle', None, 'Burlingame', 'CA', '94217', 'USA', None, 'Hirano', 'Juri', 'Medium'), (6, 10180, 29, 86.13, 9, 2497.77, '11/11/2003 0:00', 'Shipped', 4, 11, 2003, 'Motorcycles', 95, 'S10_1678', 'Daedalus Designs Imports', '20.16.1555', '184, chausse de Tournai', None, 'Lille', None, '59000', 'France', 'EMEA', 'Rance', 'Martine', 'Small'), (7, 10188, 48, 100.0, 1, 5512.32, '11/18/2003 0:00', 'Shipped', 4, 11, 2003, 'Motorcycles', 95, 'S10_1678', 'Herkku Gifts', '+47 2267 3215', 'Drammen 121, PR 744 Sentrum', None, 'Bergen', None, 'N 5804', 'Norway', 'EMEA', 'Oeztan', 'Veysel', 'Medium')  ... displaying 10 of 2823 total bound parameter sets ...  (2821, 10397, 34, 62.24, 1, 2116.16, '3/28/2005 0:00', 'Shipped', 1, 3, 2005, 'Ships', 54, 'S72_3212', 'Alpha Cognac', '61.77.6555', '1 rue Alsace-Lorraine', None, 'Toulouse', None, '31000', 'France', 'EMEA', 'Roulet', 'Annette', 'Small'), (2822, 10414, 47, 65.52, 9, 3079.44, '5/6/2005 0:00', 'On Hold', 2, 5, 2005, 'Ships', 54, 'S72_3212', 'Gifts4AllAges.com', '6175559555', '8616 Spinnaker Dr.', None, 'Boston', 'MA', '51003', 'USA', None, 'Yoshido', 'Juri', 'Medium')]\n",
      "2025-06-03 18:56:13,100 INFO sqlalchemy.engine.Engine SELECT name FROM sqlite_master WHERE type='table' AND name NOT LIKE 'sqlite~_%' ESCAPE '~' ORDER BY name\n",
      "2025-06-03 18:56:13,101 INFO sqlalchemy.engine.Engine [raw sql] ()\n",
      "2025-06-03 18:56:13,101 INFO sqlalchemy.engine.Engine COMMIT\n"
     ]
    }
   ],
   "source": [
    "# create in-memory database \n",
    "temp_db = create_engine(\"sqlite:///:memory:\", echo=True)\n",
    "data=df.to_sql(name=\"Sales\", con=temp_db)"
   ]
  },
  {
   "cell_type": "code",
   "execution_count": 45,
   "id": "f4434bd2",
   "metadata": {},
   "outputs": [
    {
     "name": "stdout",
     "output_type": "stream",
     "text": [
      "2025-06-03 18:56:14,850 INFO sqlalchemy.engine.Engine BEGIN (implicit)\n",
      "2025-06-03 18:56:14,851 INFO sqlalchemy.engine.Engine SELECT QTR_ID, SUM(SALES) from Sales Group by QTR_ID\n",
      "2025-06-03 18:56:14,851 INFO sqlalchemy.engine.Engine [generated in 0.00096s] ()\n",
      "2025-06-03 18:56:14,852 INFO sqlalchemy.engine.Engine ROLLBACK\n"
     ]
    },
    {
     "data": {
      "text/plain": [
       "[(1, 2350817.73), (2, 2048120.3), (3, 1758910.81), (4, 3874780.01)]"
      ]
     },
     "execution_count": 45,
     "metadata": {},
     "output_type": "execute_result"
    }
   ],
   "source": [
    "with temp_db.connect() as conn:\n",
    "    result=conn.execute(text(\"SELECT QTR_ID, SUM(SALES) from Sales Group by QTR_ID\"))\n",
    "\n",
    "result.all()"
   ]
  },
  {
   "cell_type": "markdown",
   "id": "5472bb46",
   "metadata": {},
   "source": [
    "``` \n",
    "Create OPENAI prompt\n",
    "```"
   ]
  },
  {
   "cell_type": "code",
   "execution_count": 46,
   "id": "8eaec20f",
   "metadata": {},
   "outputs": [
    {
     "name": "stdout",
     "output_type": "stream",
     "text": [
      "I have a CSV File with following columns: \n",
      "\n",
      "ORDERNUMBER,QUANTITYORDERED,PRICEEACH,ORDERLINENUMBER,SALES,ORDERDATE,STATUS,QTR_ID,MONTH_ID,YEAR_ID,PRODUCTLINE,MSRP,PRODUCTCODE,CUSTOMERNAME,PHONE,ADDRESSLINE1,ADDRESSLINE2,CITY,STATE,POSTALCODE,COUNTRY,TERRITORY,CONTACTLASTNAME,CONTACTFIRSTNAME,DEALSIZE.\n",
      "Create a python function to insert record from this CSV to SQLLite table. \n",
      "\n"
     ]
    }
   ],
   "source": [
    "# get details from csv for open ai to understand \n",
    "csv_details_prompt = f\"\"\"I have a CSV File with following columns: \\n\n",
    "{','.join(str(col) for col in df.columns)}.\\nCreate a python function to insert record from this CSV to SQLLite table. \n",
    "\"\"\"\n",
    "print(csv_details_prompt)"
   ]
  },
  {
   "cell_type": "code",
   "execution_count": null,
   "id": "ff3d7c42",
   "metadata": {},
   "outputs": [],
   "source": [
    "class CreateBot:\n",
    "    def __init__(self, system_prompt):\n",
    "        self.system_prompt=system_prompt\n",
    "        self.message=[{\"role\" : \"system\", \"content\" : system_prompt}]\n",
    "\n",
    "    def create_question_prompt(self):\n",
    "        question = \"\"\n",
    "        print(\"To Terminate type END\")\n",
    "\n",
    "        while question!= \"END\":\n",
    "            question = input(\"Your question is: \")\n",
    "            print (\"\\n\")\n",
    "\n",
    "            self.message.append({\"role\": \"system\", \"content\": question})\n",
    "\n",
    "            response=openai.ChatCompletion.create(\n",
    "                model=\"gpt-3.5-turbo\", \n",
    "                messages=self.message\n",
    "            )\n",
    "\n",
    "            content=response[\"choices\"][0][\"message\"][\"content\"]\n",
    "            print(\"\\n\")\n",
    "            print(content)\n",
    "            print(\"\\n\")\n",
    "\n",
    "            self.message.append({\"role\" : \"assistant\", \"content\": content})"
   ]
  },
  {
   "cell_type": "code",
   "execution_count": 52,
   "id": "ae5153b4",
   "metadata": {},
   "outputs": [
    {
     "ename": "TypeError",
     "evalue": "CreateBot.chat() takes 1 positional argument but 2 were given",
     "output_type": "error",
     "traceback": [
      "\u001b[31m---------------------------------------------------------------------------\u001b[39m",
      "\u001b[31mTypeError\u001b[39m                                 Traceback (most recent call last)",
      "\u001b[36mCell\u001b[39m\u001b[36m \u001b[39m\u001b[32mIn[52]\u001b[39m\u001b[32m, line 2\u001b[39m\n\u001b[32m      1\u001b[39m python_expert = CreateBot(system_prompt=\u001b[33m\"\u001b[39m\u001b[33mYou are a Python Programming expert.\u001b[39m\u001b[33m\"\u001b[39m)\n\u001b[32m----> \u001b[39m\u001b[32m2\u001b[39m \u001b[43mpython_expert\u001b[49m\u001b[43m.\u001b[49m\u001b[43mchat\u001b[49m\u001b[43m(\u001b[49m\u001b[43mcsv_details_prompt\u001b[49m\u001b[43m)\u001b[49m\n",
      "\u001b[31mTypeError\u001b[39m: CreateBot.chat() takes 1 positional argument but 2 were given"
     ]
    }
   ],
   "source": [
    "python_expert = CreateBot(system_prompt=\"You are a Python Programming expert.\")\n",
    "python_expert.chat(csv_details_prompt)"
   ]
  },
  {
   "cell_type": "code",
   "execution_count": null,
   "id": "a6457884",
   "metadata": {},
   "outputs": [],
   "source": []
  }
 ],
 "metadata": {
  "kernelspec": {
   "display_name": "mlenv",
   "language": "python",
   "name": "python3"
  },
  "language_info": {
   "codemirror_mode": {
    "name": "ipython",
    "version": 3
   },
   "file_extension": ".py",
   "mimetype": "text/x-python",
   "name": "python",
   "nbconvert_exporter": "python",
   "pygments_lexer": "ipython3",
   "version": "3.11.8"
  }
 },
 "nbformat": 4,
 "nbformat_minor": 5
}
