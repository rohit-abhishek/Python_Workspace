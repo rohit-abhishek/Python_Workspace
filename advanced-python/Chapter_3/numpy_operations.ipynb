{
 "cells": [
  {
   "cell_type": "markdown",
   "id": "b097935e",
   "metadata": {},
   "source": [
    "# Numpy intro"
   ]
  },
  {
   "cell_type": "code",
   "execution_count": 5,
   "id": "e397ffd1",
   "metadata": {},
   "outputs": [
    {
     "data": {
      "text/plain": [
       "array([0, 1, 2, 3, 4, 5, 6, 7, 8, 9])"
      ]
     },
     "execution_count": 5,
     "metadata": {},
     "output_type": "execute_result"
    }
   ],
   "source": [
    "import numpy as np\n",
    "a = np.array(range(10))\n",
    "a"
   ]
  },
  {
   "cell_type": "code",
   "execution_count": 6,
   "id": "971cb2f0",
   "metadata": {},
   "outputs": [
    {
     "data": {
      "text/plain": [
       "dtype('int64')"
      ]
     },
     "execution_count": 6,
     "metadata": {},
     "output_type": "execute_result"
    }
   ],
   "source": [
    "# check the data type of elements\n",
    "a.dtype"
   ]
  },
  {
   "cell_type": "markdown",
   "id": "6c932f58",
   "metadata": {},
   "source": [
    "# Can we have numpy array with mixed data types"
   ]
  },
  {
   "cell_type": "code",
   "execution_count": 7,
   "id": "074cb7c5",
   "metadata": {},
   "outputs": [],
   "source": [
    "# can i have a numpy array with both string and int64 data in it \n",
    "a =np.array(['a', 2, 3, 0, 5.6])"
   ]
  },
  {
   "cell_type": "code",
   "execution_count": 8,
   "id": "53de4340",
   "metadata": {},
   "outputs": [
    {
     "data": {
      "text/plain": [
       "dtype('<U32')"
      ]
     },
     "execution_count": 8,
     "metadata": {},
     "output_type": "execute_result"
    }
   ],
   "source": [
    "a.dtype"
   ]
  },
  {
   "cell_type": "markdown",
   "id": "f227750e",
   "metadata": {},
   "source": [
    "# converting the datatype of the array"
   ]
  },
  {
   "cell_type": "code",
   "execution_count": 9,
   "id": "586fb685",
   "metadata": {},
   "outputs": [
    {
     "data": {
      "text/plain": [
       "dtype('int64')"
      ]
     },
     "execution_count": 9,
     "metadata": {},
     "output_type": "execute_result"
    }
   ],
   "source": [
    "a = np.array(range(10))\n",
    "a.dtype"
   ]
  },
  {
   "cell_type": "code",
   "execution_count": 10,
   "id": "bed9c844",
   "metadata": {},
   "outputs": [
    {
     "data": {
      "text/plain": [
       "(dtype('float64'), array([0., 1., 2., 3., 4., 5., 6., 7., 8., 9.]))"
      ]
     },
     "execution_count": 10,
     "metadata": {},
     "output_type": "execute_result"
    }
   ],
   "source": [
    "# convert these int64 to float type during intialization\n",
    "a = np.array(range(10), dtype=float)\n",
    "a.dtype, a"
   ]
  },
  {
   "cell_type": "code",
   "execution_count": 15,
   "id": "8161f1c8",
   "metadata": {},
   "outputs": [
    {
     "data": {
      "text/plain": [
       "(dtype('float64'), array([0., 1., 2., 3., 4., 5., 6., 7., 8., 9.]))"
      ]
     },
     "execution_count": 15,
     "metadata": {},
     "output_type": "execute_result"
    }
   ],
   "source": [
    "# convert the data type using casting method \n",
    "a = np.array(range(10))\n",
    "a = a.astype('float64')\n",
    "a.dtype, a"
   ]
  },
  {
   "cell_type": "markdown",
   "id": "81cd97ea",
   "metadata": {},
   "source": [
    "# Creating 2 D array"
   ]
  },
  {
   "cell_type": "code",
   "execution_count": 17,
   "id": "2e563b03",
   "metadata": {},
   "outputs": [
    {
     "data": {
      "text/plain": [
       "array([[1, 2, 3, 4, 5],\n",
       "       [5, 6, 7, 8, 9]])"
      ]
     },
     "execution_count": 17,
     "metadata": {},
     "output_type": "execute_result"
    }
   ],
   "source": [
    "# create 2 dimensional array using numpy \n",
    "a = np.array([[1,2,3,4,5], [5,6,7,8,9]])\n",
    "a"
   ]
  },
  {
   "cell_type": "code",
   "execution_count": 18,
   "id": "2e89f98f",
   "metadata": {},
   "outputs": [
    {
     "data": {
      "text/plain": [
       "(2, 5)"
      ]
     },
     "execution_count": 18,
     "metadata": {},
     "output_type": "execute_result"
    }
   ],
   "source": [
    "a.shape"
   ]
  },
  {
   "cell_type": "markdown",
   "id": "8e07a21c",
   "metadata": {},
   "source": [
    "# Reshape"
   ]
  },
  {
   "cell_type": "code",
   "execution_count": 20,
   "id": "5a1596c1",
   "metadata": {},
   "outputs": [
    {
     "data": {
      "text/plain": [
       "(16,)"
      ]
     },
     "execution_count": 20,
     "metadata": {},
     "output_type": "execute_result"
    }
   ],
   "source": [
    "# numpy array can be reshaped considering the total number of elements remain same\n",
    "a = np.array(range(16))\n",
    "a.shape"
   ]
  },
  {
   "cell_type": "code",
   "execution_count": 21,
   "id": "370986f7",
   "metadata": {},
   "outputs": [
    {
     "data": {
      "text/plain": [
       "array([[ 0,  1,  2,  3],\n",
       "       [ 4,  5,  6,  7],\n",
       "       [ 8,  9, 10, 11],\n",
       "       [12, 13, 14, 15]])"
      ]
     },
     "execution_count": 21,
     "metadata": {},
     "output_type": "execute_result"
    }
   ],
   "source": [
    "a.reshape(4, 4)"
   ]
  },
  {
   "cell_type": "markdown",
   "id": "1c2a8db9",
   "metadata": {},
   "source": [
    "# Create initialized array"
   ]
  },
  {
   "cell_type": "code",
   "execution_count": 23,
   "id": "5322ec82",
   "metadata": {},
   "outputs": [
    {
     "data": {
      "text/plain": [
       "array([[0., 0., 0.],\n",
       "       [0., 0., 0.],\n",
       "       [0., 0., 0.]])"
      ]
     },
     "execution_count": 23,
     "metadata": {},
     "output_type": "execute_result"
    }
   ],
   "source": [
    "# you can initialize the numpy array to zeros, ones and no values \n",
    "np.zeros((3,3))"
   ]
  },
  {
   "cell_type": "code",
   "execution_count": 28,
   "id": "10a93513",
   "metadata": {},
   "outputs": [
    {
     "data": {
      "text/plain": [
       "array([[1, 1, 1, 1],\n",
       "       [1, 1, 1, 1],\n",
       "       [1, 1, 1, 1]])"
      ]
     },
     "execution_count": 28,
     "metadata": {},
     "output_type": "execute_result"
    }
   ],
   "source": [
    "np.ones((3,4), dtype='int64')"
   ]
  },
  {
   "cell_type": "code",
   "execution_count": 27,
   "id": "f06affbd",
   "metadata": {},
   "outputs": [
    {
     "data": {
      "text/plain": [
       "array([[0., 0., 0.],\n",
       "       [0., 0., 0.]])"
      ]
     },
     "execution_count": 27,
     "metadata": {},
     "output_type": "execute_result"
    }
   ],
   "source": [
    "np.empty((2,3))"
   ]
  },
  {
   "cell_type": "markdown",
   "id": "02c84203",
   "metadata": {},
   "source": [
    "# Create array with random function of numpy which will generated values between 0 and 1 (excluding 1)"
   ]
  },
  {
   "cell_type": "code",
   "execution_count": 31,
   "id": "74553312",
   "metadata": {},
   "outputs": [],
   "source": [
    "# generate random numbers \n",
    "b = np.random.rand(2,3)"
   ]
  },
  {
   "cell_type": "code",
   "execution_count": 32,
   "id": "70d38ba1",
   "metadata": {},
   "outputs": [
    {
     "data": {
      "text/plain": [
       "array([[0.96725822, 0.44549238, 0.94141367],\n",
       "       [0.57635617, 0.65021225, 0.17616786]])"
      ]
     },
     "execution_count": 32,
     "metadata": {},
     "output_type": "execute_result"
    }
   ],
   "source": [
    "b"
   ]
  },
  {
   "cell_type": "markdown",
   "id": "2a3d8d3d",
   "metadata": {},
   "source": [
    "# Create initialized array similar to another array dimension"
   ]
  },
  {
   "cell_type": "code",
   "execution_count": 33,
   "id": "486fc1cb",
   "metadata": {},
   "outputs": [
    {
     "data": {
      "text/plain": [
       "array([[1, 1, 1],\n",
       "       [1, 1, 1]])"
      ]
     },
     "execution_count": 33,
     "metadata": {},
     "output_type": "execute_result"
    }
   ],
   "source": [
    "# sometimes it is convinent to initialize an array with diremension similar to another array \n",
    "np.ones_like(a)"
   ]
  },
  {
   "cell_type": "code",
   "execution_count": 34,
   "id": "02ebd3d2",
   "metadata": {},
   "outputs": [
    {
     "data": {
      "text/plain": [
       "array([[0., 0., 0.],\n",
       "       [0., 0., 0.]])"
      ]
     },
     "execution_count": 34,
     "metadata": {},
     "output_type": "execute_result"
    }
   ],
   "source": [
    "np.zeros_like(b)"
   ]
  },
  {
   "cell_type": "code",
   "execution_count": 36,
   "id": "af7b06d9",
   "metadata": {},
   "outputs": [
    {
     "data": {
      "text/plain": [
       "array([[0, 0, 0],\n",
       "       [0, 0, 0]])"
      ]
     },
     "execution_count": 36,
     "metadata": {},
     "output_type": "execute_result"
    }
   ],
   "source": [
    "np.empty_like(a)"
   ]
  },
  {
   "cell_type": "markdown",
   "id": "4f8cc2cc",
   "metadata": {},
   "source": [
    "# Difference between list and array"
   ]
  },
  {
   "cell_type": "code",
   "execution_count": 37,
   "id": "d3362f76",
   "metadata": {},
   "outputs": [
    {
     "data": {
      "text/plain": [
       "dtype('int64')"
      ]
     },
     "execution_count": 37,
     "metadata": {},
     "output_type": "execute_result"
    }
   ],
   "source": [
    "a = np.array(range(16))\n",
    "a.dtype"
   ]
  },
  {
   "cell_type": "code",
   "execution_count": 41,
   "id": "53b86bf6",
   "metadata": {},
   "outputs": [
    {
     "data": {
      "text/plain": [
       "array([ 0,  1,  2,  3,  4,  5,  6,  7,  8,  9, 10, 11, 12, 13, 14, 15])"
      ]
     },
     "execution_count": 41,
     "metadata": {},
     "output_type": "execute_result"
    }
   ],
   "source": [
    "a"
   ]
  },
  {
   "cell_type": "code",
   "execution_count": 38,
   "id": "03b99ecd",
   "metadata": {},
   "outputs": [
    {
     "data": {
      "text/plain": [
       "numpy.ndarray"
      ]
     },
     "execution_count": 38,
     "metadata": {},
     "output_type": "execute_result"
    }
   ],
   "source": [
    "type(a)"
   ]
  },
  {
   "cell_type": "code",
   "execution_count": null,
   "id": "b316dc33",
   "metadata": {},
   "outputs": [
    {
     "data": {
      "text/plain": [
       "list"
      ]
     },
     "execution_count": 39,
     "metadata": {},
     "output_type": "execute_result"
    }
   ],
   "source": [
    "# using list comprehension create list from numpy array\n",
    "b = [i for i in a]\n",
    "type(b)"
   ]
  },
  {
   "cell_type": "code",
   "execution_count": 40,
   "id": "a9fe2cdf",
   "metadata": {},
   "outputs": [
    {
     "data": {
      "text/plain": [
       "[0, 1, 2, 3, 4, 5, 6, 7, 8, 9, 10, 11, 12, 13, 14, 15]"
      ]
     },
     "execution_count": 40,
     "metadata": {},
     "output_type": "execute_result"
    }
   ],
   "source": [
    "b"
   ]
  },
  {
   "cell_type": "markdown",
   "id": "ce04be7b",
   "metadata": {},
   "source": [
    "# Indexing and Slicing"
   ]
  },
  {
   "cell_type": "code",
   "execution_count": 42,
   "id": "d3cdadbb",
   "metadata": {},
   "outputs": [
    {
     "data": {
      "text/plain": [
       "array([[0, 2, 1],\n",
       "       [5, 3, 2],\n",
       "       [2, 1, 0],\n",
       "       [0, 0, 3]])"
      ]
     },
     "execution_count": 42,
     "metadata": {},
     "output_type": "execute_result"
    }
   ],
   "source": [
    "# create a 4x3 numpoy array \n",
    "a = np.array([[0,2,1], [5,3,2], [2, 1, 0], [0, 0, 3]])\n",
    "a"
   ]
  },
  {
   "cell_type": "code",
   "execution_count": 43,
   "id": "6f44354e",
   "metadata": {},
   "outputs": [
    {
     "data": {
      "text/plain": [
       "(4, 3)"
      ]
     },
     "execution_count": 43,
     "metadata": {},
     "output_type": "execute_result"
    }
   ],
   "source": [
    "a.shape"
   ]
  },
  {
   "cell_type": "code",
   "execution_count": 44,
   "id": "d14cd081",
   "metadata": {},
   "outputs": [
    {
     "data": {
      "text/plain": [
       "array([0, 2, 1])"
      ]
     },
     "execution_count": 44,
     "metadata": {},
     "output_type": "execute_result"
    }
   ],
   "source": [
    "# access the first row of the matrix/numpy array\n",
    "a[0]"
   ]
  },
  {
   "cell_type": "code",
   "execution_count": 46,
   "id": "5cc7740f",
   "metadata": {},
   "outputs": [
    {
     "data": {
      "text/plain": [
       "2"
      ]
     },
     "execution_count": 46,
     "metadata": {},
     "output_type": "execute_result"
    }
   ],
   "source": [
    "# access the second element of the first row of the array \n",
    "a[0][1]"
   ]
  },
  {
   "cell_type": "code",
   "execution_count": 48,
   "id": "0086adcd",
   "metadata": {},
   "outputs": [
    {
     "data": {
      "text/plain": [
       "2"
      ]
     },
     "execution_count": 48,
     "metadata": {},
     "output_type": "execute_result"
    }
   ],
   "source": [
    "# using shorthand\n",
    "a[0, 1]"
   ]
  },
  {
   "cell_type": "code",
   "execution_count": 49,
   "id": "68f3e0a8",
   "metadata": {},
   "outputs": [
    {
     "data": {
      "text/plain": [
       "2"
      ]
     },
     "execution_count": 49,
     "metadata": {},
     "output_type": "execute_result"
    }
   ],
   "source": [
    "# using tuple form \n",
    "a[(0,1)]"
   ]
  },
  {
   "cell_type": "markdown",
   "id": "6fa776e6",
   "metadata": {},
   "source": [
    "# Data Slicing"
   ]
  },
  {
   "cell_type": "code",
   "execution_count": null,
   "id": "30e2404b",
   "metadata": {},
   "outputs": [
    {
     "data": {
      "text/plain": [
       "array([[0, 2, 1],\n",
       "       [5, 3, 2]])"
      ]
     },
     "execution_count": 50,
     "metadata": {},
     "output_type": "execute_result"
    }
   ],
   "source": [
    "# slicing the data i.e. get first 2 rows of the current matrix with all columns \n",
    "a[0:2]"
   ]
  },
  {
   "cell_type": "code",
   "execution_count": null,
   "id": "f1ad014f",
   "metadata": {},
   "outputs": [
    {
     "data": {
      "text/plain": [
       "array([[0, 2],\n",
       "       [5, 3]])"
      ]
     },
     "execution_count": 57,
     "metadata": {},
     "output_type": "execute_result"
    }
   ],
   "source": [
    "# slicing the data i.e. first 2 rows and first two columns\n",
    "a[0:2, 0:2]"
   ]
  },
  {
   "cell_type": "markdown",
   "id": "f9c58ce5",
   "metadata": {},
   "source": [
    "# Updating the element value in numpy array"
   ]
  },
  {
   "cell_type": "code",
   "execution_count": 59,
   "id": "1bbd088a",
   "metadata": {},
   "outputs": [
    {
     "data": {
      "text/plain": [
       "array([[0, 8, 1],\n",
       "       [5, 3, 2],\n",
       "       [2, 1, 0],\n",
       "       [0, 0, 3]])"
      ]
     },
     "execution_count": 59,
     "metadata": {},
     "output_type": "execute_result"
    }
   ],
   "source": [
    "a[0, 1] = 8 \n",
    "a"
   ]
  },
  {
   "cell_type": "code",
   "execution_count": 60,
   "id": "1c0be8ba",
   "metadata": {},
   "outputs": [
    {
     "data": {
      "text/plain": [
       "array([[1, 0, 1],\n",
       "       [0, 1, 2],\n",
       "       [2, 1, 0],\n",
       "       [0, 0, 3]])"
      ]
     },
     "execution_count": 60,
     "metadata": {},
     "output_type": "execute_result"
    }
   ],
   "source": [
    "a[0:2, 0:2] = [[1, 0], [0, 1]]\n",
    "a"
   ]
  },
  {
   "cell_type": "markdown",
   "id": "bd47e4d0",
   "metadata": {},
   "source": [
    "#### Since numpy allows to make change in the sliced data and it will be reflected in the actual underlying data - set flag a.flags.writeable=False to make array and its view read only"
   ]
  },
  {
   "cell_type": "code",
   "execution_count": 61,
   "id": "1d4a93c9",
   "metadata": {},
   "outputs": [],
   "source": [
    "a.flags.writeable = False"
   ]
  },
  {
   "cell_type": "code",
   "execution_count": 62,
   "id": "0c7c6380",
   "metadata": {},
   "outputs": [
    {
     "ename": "ValueError",
     "evalue": "assignment destination is read-only",
     "output_type": "error",
     "traceback": [
      "\u001b[0;31m---------------------------------------------------------------------------\u001b[0m",
      "\u001b[0;31mValueError\u001b[0m                                Traceback (most recent call last)",
      "\u001b[0;32m/var/folders/kx/s0nzgxq96zgdm61_51783vnm0000gn/T/ipykernel_65708/1283131234.py\u001b[0m in \u001b[0;36m<module>\u001b[0;34m\u001b[0m\n\u001b[1;32m      1\u001b[0m \u001b[0;31m# perform the update operation again\u001b[0m\u001b[0;34m\u001b[0m\u001b[0;34m\u001b[0m\u001b[0;34m\u001b[0m\u001b[0m\n\u001b[0;32m----> 2\u001b[0;31m \u001b[0ma\u001b[0m\u001b[0;34m[\u001b[0m\u001b[0;36m0\u001b[0m\u001b[0;34m:\u001b[0m\u001b[0;36m2\u001b[0m\u001b[0;34m,\u001b[0m \u001b[0;36m0\u001b[0m\u001b[0;34m:\u001b[0m\u001b[0;36m2\u001b[0m\u001b[0;34m]\u001b[0m \u001b[0;34m=\u001b[0m \u001b[0;34m[\u001b[0m\u001b[0;34m[\u001b[0m\u001b[0;36m1\u001b[0m\u001b[0;34m,\u001b[0m \u001b[0;36m0\u001b[0m\u001b[0;34m]\u001b[0m\u001b[0;34m,\u001b[0m \u001b[0;34m[\u001b[0m\u001b[0;36m0\u001b[0m\u001b[0;34m,\u001b[0m \u001b[0;36m1\u001b[0m\u001b[0;34m]\u001b[0m\u001b[0;34m]\u001b[0m\u001b[0;34m\u001b[0m\u001b[0;34m\u001b[0m\u001b[0m\n\u001b[0m\u001b[1;32m      3\u001b[0m \u001b[0ma\u001b[0m\u001b[0;34m\u001b[0m\u001b[0;34m\u001b[0m\u001b[0m\n",
      "\u001b[0;31mValueError\u001b[0m: assignment destination is read-only"
     ]
    }
   ],
   "source": [
    "# perform the update operation again \n",
    "a[0:2, 0:2] = [[1, 0], [0, 1]]\n",
    "a"
   ]
  },
  {
   "cell_type": "markdown",
   "id": "c6e5b2bb",
   "metadata": {},
   "source": [
    "# A real life example of numpy array"
   ]
  },
  {
   "cell_type": "code",
   "execution_count": 68,
   "id": "b30255d1",
   "metadata": {},
   "outputs": [
    {
     "data": {
      "text/plain": [
       "array([[0.99797696, 0.00504496],\n",
       "       [0.83085028, 0.64689173],\n",
       "       [0.09201872, 0.7100885 ],\n",
       "       [0.44305633, 0.27398468],\n",
       "       [0.3306672 , 0.28588617],\n",
       "       [0.79520435, 0.03813544],\n",
       "       [0.86534833, 0.48901012],\n",
       "       [0.93017275, 0.51108006],\n",
       "       [0.43140019, 0.24666645],\n",
       "       [0.91226907, 0.43172188]])"
      ]
     },
     "execution_count": 68,
     "metadata": {},
     "output_type": "execute_result"
    }
   ],
   "source": [
    "# create a matrix with 10 rows and 2 columns\n",
    "r_i = np.random.rand(10, 2)\n",
    "r_i"
   ]
  },
  {
   "cell_type": "code",
   "execution_count": 69,
   "id": "af7af4c2",
   "metadata": {},
   "outputs": [
    {
     "data": {
      "text/plain": [
       "array([0.99797696, 0.83085028, 0.09201872, 0.44305633, 0.3306672 ,\n",
       "       0.79520435, 0.86534833, 0.93017275, 0.43140019, 0.91226907])"
      ]
     },
     "execution_count": 69,
     "metadata": {},
     "output_type": "execute_result"
    }
   ],
   "source": [
    "# pick all x axes elements i.e. (0, 0), (1,0), (2,0) and so on \n",
    "x_i = r_i[:, 0]\n",
    "x_i"
   ]
  },
  {
   "cell_type": "code",
   "execution_count": 74,
   "id": "5789b350",
   "metadata": {},
   "outputs": [
    {
     "data": {
      "text/plain": [
       "array([0.00504496, 0.64689173, 0.7100885 , 0.27398468, 0.28588617,\n",
       "       0.03813544, 0.48901012, 0.51108006, 0.24666645, 0.43172188])"
      ]
     },
     "execution_count": 74,
     "metadata": {},
     "output_type": "execute_result"
    }
   ],
   "source": [
    "# similarly pick all elements on y axis i.e. (0,1), (0,2), (0,3)\n",
    "y_i = r_i[:, 1]\n",
    "y_i"
   ]
  },
  {
   "cell_type": "code",
   "execution_count": 77,
   "id": "d1aabc7d",
   "metadata": {},
   "outputs": [
    {
     "data": {
      "text/plain": [
       "array([0.99797696, 0.00504496])"
      ]
     },
     "execution_count": 77,
     "metadata": {},
     "output_type": "execute_result"
    }
   ],
   "source": [
    "# below will return the first row of the array \n",
    "f = r_i[0, :]\n",
    "f"
   ]
  },
  {
   "cell_type": "markdown",
   "id": "9c2b29cd",
   "metadata": {},
   "source": [
    "# Fancy Indexing\n",
    "Indexing a numpy array using another numpy error with boolean or integer in it"
   ]
  },
  {
   "cell_type": "code",
   "execution_count": 78,
   "id": "1acf32c5",
   "metadata": {},
   "outputs": [
    {
     "data": {
      "text/plain": [
       "array([9, 7, 2])"
      ]
     },
     "execution_count": 78,
     "metadata": {},
     "output_type": "execute_result"
    }
   ],
   "source": [
    "a = np.array([9,8,7,6,5,4,3,2,1,0])\n",
    "idx = np.array([0, 2, 7])\n",
    "\n",
    "a[idx]"
   ]
  },
  {
   "cell_type": "code",
   "execution_count": 126,
   "id": "3100f758",
   "metadata": {},
   "outputs": [
    {
     "data": {
      "text/plain": [
       "array([2, 7, 3])"
      ]
     },
     "execution_count": 126,
     "metadata": {},
     "output_type": "execute_result"
    }
   ],
   "source": [
    "# fancy indexing in multi dimensional array say fetch (0,1) and (2,2) from (4,3) matrix\n",
    "a = np.array([[0,1,2], \n",
    "             [3,4,5],\n",
    "             [6,7,8],\n",
    "             [9,10,11]])\n",
    "\n",
    "idx1 = np.array([0, 2, 1])\n",
    "idx2 = np.array([2, 1, 0])\n",
    "\n",
    "a[idx1, idx2]"
   ]
  },
  {
   "cell_type": "code",
   "execution_count": null,
   "id": "daef7153",
   "metadata": {},
   "outputs": [
    {
     "data": {
      "text/plain": [
       "1"
      ]
     },
     "execution_count": 118,
     "metadata": {},
     "output_type": "execute_result"
    }
   ],
   "source": [
    "a[0, 1] # this is simple indexig returning the data at 0 row and 1 column"
   ]
  },
  {
   "cell_type": "code",
   "execution_count": 120,
   "id": "bfdf0ce5",
   "metadata": {},
   "outputs": [
    {
     "data": {
      "text/plain": [
       "array([[0, 1, 2],\n",
       "       [6, 7, 8],\n",
       "       [3, 4, 5]])"
      ]
     },
     "execution_count": 120,
     "metadata": {},
     "output_type": "execute_result"
    }
   ],
   "source": [
    "a[[0, 2, 1]]     # array is creating this view"
   ]
  },
  {
   "cell_type": "code",
   "execution_count": 125,
   "id": "ca3bf463",
   "metadata": {},
   "outputs": [
    {
     "data": {
      "text/plain": [
       "array([2, 7, 3])"
      ]
     },
     "execution_count": 125,
     "metadata": {},
     "output_type": "execute_result"
    }
   ],
   "source": [
    "a[[0, 2, 1], [2, 1, 0]]"
   ]
  },
  {
   "cell_type": "markdown",
   "id": "416d722e",
   "metadata": {},
   "source": [
    "# You can perform the above operation using numpy array or list. NOT Tuples.\n",
    "REMEMBER - A[(0,1,2)] = A[0,1,2] which will fail as this is 2D array not 3D"
   ]
  },
  {
   "cell_type": "code",
   "execution_count": 128,
   "id": "cef13b93",
   "metadata": {},
   "outputs": [
    {
     "ename": "IndexError",
     "evalue": "too many indices for array: array is 2-dimensional, but 3 were indexed",
     "output_type": "error",
     "traceback": [
      "\u001b[0;31m---------------------------------------------------------------------------\u001b[0m",
      "\u001b[0;31mIndexError\u001b[0m                                Traceback (most recent call last)",
      "\u001b[0;32m/var/folders/kx/s0nzgxq96zgdm61_51783vnm0000gn/T/ipykernel_65708/902919089.py\u001b[0m in \u001b[0;36m<module>\u001b[0;34m\u001b[0m\n\u001b[0;32m----> 1\u001b[0;31m \u001b[0ma\u001b[0m\u001b[0;34m[\u001b[0m\u001b[0;34m(\u001b[0m\u001b[0;36m0\u001b[0m\u001b[0;34m,\u001b[0m \u001b[0;36m2\u001b[0m\u001b[0;34m,\u001b[0m \u001b[0;36m1\u001b[0m\u001b[0;34m)\u001b[0m\u001b[0;34m]\u001b[0m\u001b[0;34m\u001b[0m\u001b[0;34m\u001b[0m\u001b[0m\n\u001b[0m",
      "\u001b[0;31mIndexError\u001b[0m: too many indices for array: array is 2-dimensional, but 3 were indexed"
     ]
    }
   ],
   "source": [
    "a[(0, 2, 1)]"
   ]
  },
  {
   "cell_type": "markdown",
   "id": "4c3d49e7",
   "metadata": {},
   "source": [
    "# Lets complicate this a bit with 2D indexes :) "
   ]
  },
  {
   "cell_type": "code",
   "execution_count": 135,
   "id": "fe322c7d",
   "metadata": {},
   "outputs": [
    {
     "data": {
      "text/plain": [
       "array([[2, 7, 3],\n",
       "       [3, 1, 8]])"
      ]
     },
     "execution_count": 135,
     "metadata": {},
     "output_type": "execute_result"
    }
   ],
   "source": [
    "# fancy indexing in multi dimensional array say fetch (0,1) and (2,2) from (4,3) matrix\n",
    "a = np.array([[0,1,2], \n",
    "             [3,4,5],\n",
    "             [6,7,8],\n",
    "             [9,10,11]])\n",
    "\n",
    "idx1 = np.array([[0, 2, 1], [1, 0, 2]])\n",
    "idx2 = np.array([[2, 1, 0], [0, 1, 2]])\n",
    "\n",
    "a[idx1, idx2]"
   ]
  },
  {
   "cell_type": "code",
   "execution_count": 137,
   "id": "75102d39",
   "metadata": {},
   "outputs": [
    {
     "data": {
      "text/plain": [
       "array([[[0, 1, 2],\n",
       "        [6, 7, 8],\n",
       "        [3, 4, 5]],\n",
       "\n",
       "       [[3, 4, 5],\n",
       "        [0, 1, 2],\n",
       "        [6, 7, 8]]])"
      ]
     },
     "execution_count": 137,
     "metadata": {},
     "output_type": "execute_result"
    }
   ],
   "source": [
    "a[[[0, 2, 1], [1, 0, 2]]]"
   ]
  },
  {
   "cell_type": "code",
   "execution_count": 138,
   "id": "a4f6ff72",
   "metadata": {},
   "outputs": [
    {
     "data": {
      "text/plain": [
       "array([[2, 7, 3],\n",
       "       [3, 1, 8]])"
      ]
     },
     "execution_count": 138,
     "metadata": {},
     "output_type": "execute_result"
    }
   ],
   "source": [
    "a[[[0, 2, 1], [1, 0, 2]], [[2, 1, 0], [0, 1, 2]]]"
   ]
  },
  {
   "cell_type": "markdown",
   "id": "6c92f5d3",
   "metadata": {},
   "source": [
    "# Swapping X and Y values using slicing and fancy indexing"
   ]
  },
  {
   "cell_type": "code",
   "execution_count": 141,
   "id": "364c5671",
   "metadata": {},
   "outputs": [
    {
     "data": {
      "text/plain": [
       "array([[0.59986571, 0.91705219],\n",
       "       [0.90311496, 0.86761458],\n",
       "       [0.6224037 , 0.45466681],\n",
       "       [0.42869689, 0.79075574],\n",
       "       [0.63783634, 0.95916824],\n",
       "       [0.11561883, 0.93542199],\n",
       "       [0.08573475, 0.08110274],\n",
       "       [0.83864294, 0.87361937],\n",
       "       [0.25473376, 0.26662882],\n",
       "       [0.08824469, 0.37894654]])"
      ]
     },
     "execution_count": 141,
     "metadata": {},
     "output_type": "execute_result"
    }
   ],
   "source": [
    "r_i = np.random.rand(10, 2)\n",
    "r_i"
   ]
  },
  {
   "cell_type": "code",
   "execution_count": 144,
   "id": "d9606b8e",
   "metadata": {},
   "outputs": [],
   "source": [
    "r_i_b = r_i.copy()"
   ]
  },
  {
   "cell_type": "code",
   "execution_count": 142,
   "id": "591ae825",
   "metadata": {},
   "outputs": [
    {
     "data": {
      "text/plain": [
       "array([[0.91705219, 0.59986571],\n",
       "       [0.86761458, 0.90311496],\n",
       "       [0.45466681, 0.6224037 ],\n",
       "       [0.79075574, 0.42869689],\n",
       "       [0.95916824, 0.63783634],\n",
       "       [0.93542199, 0.11561883],\n",
       "       [0.08110274, 0.08573475],\n",
       "       [0.87361937, 0.83864294],\n",
       "       [0.26662882, 0.25473376],\n",
       "       [0.37894654, 0.08824469]])"
      ]
     },
     "execution_count": 142,
     "metadata": {},
     "output_type": "execute_result"
    }
   ],
   "source": [
    "r_i[:, [1, 0]]"
   ]
  },
  {
   "cell_type": "code",
   "execution_count": 143,
   "id": "92f09c1f",
   "metadata": {},
   "outputs": [
    {
     "data": {
      "text/plain": [
       "array([[0.59986571, 0.91705219],\n",
       "       [0.90311496, 0.86761458],\n",
       "       [0.6224037 , 0.45466681],\n",
       "       [0.42869689, 0.79075574],\n",
       "       [0.63783634, 0.95916824],\n",
       "       [0.11561883, 0.93542199],\n",
       "       [0.08573475, 0.08110274],\n",
       "       [0.83864294, 0.87361937],\n",
       "       [0.25473376, 0.26662882],\n",
       "       [0.08824469, 0.37894654]])"
      ]
     },
     "execution_count": 143,
     "metadata": {},
     "output_type": "execute_result"
    }
   ],
   "source": [
    "r_i[:, [0, 1]]"
   ]
  },
  {
   "cell_type": "code",
   "execution_count": 145,
   "id": "f73a6334",
   "metadata": {},
   "outputs": [
    {
     "data": {
      "text/plain": [
       "array([[0.91705219, 0.59986571],\n",
       "       [0.86761458, 0.90311496],\n",
       "       [0.45466681, 0.6224037 ],\n",
       "       [0.79075574, 0.42869689],\n",
       "       [0.95916824, 0.63783634],\n",
       "       [0.93542199, 0.11561883],\n",
       "       [0.08110274, 0.08573475],\n",
       "       [0.87361937, 0.83864294],\n",
       "       [0.26662882, 0.25473376],\n",
       "       [0.37894654, 0.08824469]])"
      ]
     },
     "execution_count": 145,
     "metadata": {},
     "output_type": "execute_result"
    }
   ],
   "source": [
    "# swap value of x with y and vice versa\n",
    "r_i[:, [0, 1]] = r_i[:, [1, 0]]\n",
    "r_i"
   ]
  },
  {
   "cell_type": "code",
   "execution_count": 146,
   "id": "0a04b1c9",
   "metadata": {},
   "outputs": [
    {
     "data": {
      "text/plain": [
       "array([[0.59986571, 0.91705219],\n",
       "       [0.90311496, 0.86761458],\n",
       "       [0.6224037 , 0.45466681],\n",
       "       [0.42869689, 0.79075574],\n",
       "       [0.63783634, 0.95916824],\n",
       "       [0.11561883, 0.93542199],\n",
       "       [0.08573475, 0.08110274],\n",
       "       [0.83864294, 0.87361937],\n",
       "       [0.25473376, 0.26662882],\n",
       "       [0.08824469, 0.37894654]])"
      ]
     },
     "execution_count": 146,
     "metadata": {},
     "output_type": "execute_result"
    }
   ],
   "source": [
    "# LHS part can be optional still r_i can be used instead of r_i[:, [0, 1]]\n",
    "r_i = r_i_b.copy()\n",
    "r_i"
   ]
  },
  {
   "cell_type": "code",
   "execution_count": 147,
   "id": "eddfb095",
   "metadata": {},
   "outputs": [
    {
     "data": {
      "text/plain": [
       "array([[0.91705219, 0.59986571],\n",
       "       [0.86761458, 0.90311496],\n",
       "       [0.45466681, 0.6224037 ],\n",
       "       [0.79075574, 0.42869689],\n",
       "       [0.95916824, 0.63783634],\n",
       "       [0.93542199, 0.11561883],\n",
       "       [0.08110274, 0.08573475],\n",
       "       [0.87361937, 0.83864294],\n",
       "       [0.26662882, 0.25473376],\n",
       "       [0.37894654, 0.08824469]])"
      ]
     },
     "execution_count": 147,
     "metadata": {},
     "output_type": "execute_result"
    }
   ],
   "source": [
    "r_i= r_i[:, [1, 0]]\n",
    "r_i"
   ]
  },
  {
   "cell_type": "markdown",
   "id": "83fb9ede",
   "metadata": {},
   "source": [
    "# Numpy Boolean"
   ]
  },
  {
   "cell_type": "code",
   "execution_count": 150,
   "id": "ab2ac344",
   "metadata": {},
   "outputs": [
    {
     "data": {
      "text/plain": [
       "array([0, 1, 2, 3, 4, 5, 6, 7, 8, 9])"
      ]
     },
     "execution_count": 150,
     "metadata": {},
     "output_type": "execute_result"
    }
   ],
   "source": [
    "a = np.array(range(10))\n",
    "a"
   ]
  },
  {
   "cell_type": "code",
   "execution_count": 151,
   "id": "b5bdc77c",
   "metadata": {},
   "outputs": [
    {
     "data": {
      "text/plain": [
       "array([0, 4, 5, 8])"
      ]
     },
     "execution_count": 151,
     "metadata": {},
     "output_type": "execute_result"
    }
   ],
   "source": [
    "idx = [True, False, False, False, True, True, False, False, True, False]\n",
    "a[idx]"
   ]
  },
  {
   "cell_type": "markdown",
   "id": "242d991a",
   "metadata": {},
   "source": [
    "# numpy take"
   ]
  },
  {
   "cell_type": "code",
   "execution_count": null,
   "id": "c79e0f19",
   "metadata": {},
   "outputs": [
    {
     "data": {
      "text/plain": [
       "array([1.69024946e-01, 5.57102396e-01, 4.63049112e-01, 9.31537389e-01,\n",
       "       9.86362355e-01, 6.02360835e-01, 7.20592767e-01, 7.51747194e-02,\n",
       "       9.79102063e-01, 4.58211853e-01, 2.11628498e-01, 6.98899296e-01,\n",
       "       9.20701453e-04, 4.15890361e-01, 2.05671001e-02, 2.83425971e-01,\n",
       "       5.53971893e-01, 4.79166252e-01, 3.07309971e-01, 3.46971818e-01,\n",
       "       6.51472745e-01, 8.05853403e-01, 3.45254449e-01, 5.21364621e-01,\n",
       "       8.60837489e-01, 7.46878376e-02, 4.36623000e-01, 8.24082903e-01,\n",
       "       9.35123365e-01, 3.33932912e-01, 2.40465897e-01, 6.72871853e-01,\n",
       "       1.55961061e-01, 5.80630750e-01, 8.34010361e-01, 4.87252395e-01,\n",
       "       3.04894672e-01, 1.02415787e-01, 7.12326320e-01, 4.91584531e-01,\n",
       "       2.59377895e-01, 9.85232007e-02, 1.87943401e-01, 7.09608169e-01,\n",
       "       6.27864262e-01, 7.51820137e-01, 9.76613275e-02, 7.03344146e-01,\n",
       "       3.25245891e-01, 4.80768194e-01])"
      ]
     },
     "execution_count": 152,
     "metadata": {},
     "output_type": "execute_result"
    }
   ],
   "source": [
    "a = np.random.rand(100, 2)\n",
    "idx = np.arange(50)\n",
    "\n",
    "# axis not specified will result in operation on flattened array\n",
    "np.take(a, idx)"
   ]
  },
  {
   "cell_type": "code",
   "execution_count": null,
   "id": "4e0b4ef4",
   "metadata": {},
   "outputs": [
    {
     "data": {
      "text/plain": [
       "array([[1.69024946e-01, 5.57102396e-01],\n",
       "       [4.63049112e-01, 9.31537389e-01],\n",
       "       [9.86362355e-01, 6.02360835e-01],\n",
       "       [7.20592767e-01, 7.51747194e-02],\n",
       "       [9.79102063e-01, 4.58211853e-01],\n",
       "       [2.11628498e-01, 6.98899296e-01],\n",
       "       [9.20701453e-04, 4.15890361e-01],\n",
       "       [2.05671001e-02, 2.83425971e-01],\n",
       "       [5.53971893e-01, 4.79166252e-01],\n",
       "       [3.07309971e-01, 3.46971818e-01],\n",
       "       [6.51472745e-01, 8.05853403e-01],\n",
       "       [3.45254449e-01, 5.21364621e-01],\n",
       "       [8.60837489e-01, 7.46878376e-02],\n",
       "       [4.36623000e-01, 8.24082903e-01],\n",
       "       [9.35123365e-01, 3.33932912e-01],\n",
       "       [2.40465897e-01, 6.72871853e-01],\n",
       "       [1.55961061e-01, 5.80630750e-01],\n",
       "       [8.34010361e-01, 4.87252395e-01],\n",
       "       [3.04894672e-01, 1.02415787e-01],\n",
       "       [7.12326320e-01, 4.91584531e-01],\n",
       "       [2.59377895e-01, 9.85232007e-02],\n",
       "       [1.87943401e-01, 7.09608169e-01],\n",
       "       [6.27864262e-01, 7.51820137e-01],\n",
       "       [9.76613275e-02, 7.03344146e-01],\n",
       "       [3.25245891e-01, 4.80768194e-01],\n",
       "       [8.62779018e-01, 5.98089106e-01],\n",
       "       [7.17623186e-01, 4.81379264e-01],\n",
       "       [6.69402611e-01, 1.29164405e-01],\n",
       "       [9.22504892e-01, 9.23347218e-01],\n",
       "       [3.05436245e-01, 3.64430912e-01],\n",
       "       [5.43667969e-02, 1.74974135e-01],\n",
       "       [4.81025158e-01, 9.85210255e-01],\n",
       "       [2.95500338e-01, 3.12296152e-01],\n",
       "       [1.96890201e-01, 2.40141680e-02],\n",
       "       [4.55176631e-01, 1.52563032e-01],\n",
       "       [3.68846317e-01, 7.07728026e-01],\n",
       "       [1.62290424e-01, 1.89201225e-01],\n",
       "       [7.91423797e-01, 7.39870851e-01],\n",
       "       [9.02280910e-01, 8.47958854e-01],\n",
       "       [3.00530066e-01, 1.53746823e-01],\n",
       "       [8.98952023e-01, 9.42909098e-01],\n",
       "       [4.20875831e-01, 1.39947638e-01],\n",
       "       [5.30554538e-01, 3.67606492e-01],\n",
       "       [6.91207116e-01, 7.30548972e-02],\n",
       "       [8.67372492e-01, 8.75319731e-01],\n",
       "       [3.09450772e-02, 6.38553551e-01],\n",
       "       [4.01928612e-01, 8.38705369e-01],\n",
       "       [5.69877208e-01, 7.46752217e-01],\n",
       "       [3.88204357e-01, 2.10868166e-01],\n",
       "       [2.13735790e-02, 4.76511550e-01]])"
      ]
     },
     "execution_count": 153,
     "metadata": {},
     "output_type": "execute_result"
    }
   ],
   "source": [
    "# axis=0 specified will be performed on rows axis=1 will be on columns i.e. axis=0 is performed vertically and axis=1 is performed horizontally\n",
    "np.take(a, idx, axis=0)"
   ]
  },
  {
   "cell_type": "code",
   "execution_count": 156,
   "id": "888c727a",
   "metadata": {},
   "outputs": [
    {
     "data": {
      "text/plain": [
       "array([[1.69024946e-01, 5.57102396e-01],\n",
       "       [4.63049112e-01, 9.31537389e-01],\n",
       "       [9.86362355e-01, 6.02360835e-01],\n",
       "       [7.20592767e-01, 7.51747194e-02],\n",
       "       [9.79102063e-01, 4.58211853e-01],\n",
       "       [2.11628498e-01, 6.98899296e-01],\n",
       "       [9.20701453e-04, 4.15890361e-01],\n",
       "       [2.05671001e-02, 2.83425971e-01],\n",
       "       [5.53971893e-01, 4.79166252e-01],\n",
       "       [3.07309971e-01, 3.46971818e-01],\n",
       "       [6.51472745e-01, 8.05853403e-01],\n",
       "       [3.45254449e-01, 5.21364621e-01],\n",
       "       [8.60837489e-01, 7.46878376e-02],\n",
       "       [4.36623000e-01, 8.24082903e-01],\n",
       "       [9.35123365e-01, 3.33932912e-01],\n",
       "       [2.40465897e-01, 6.72871853e-01],\n",
       "       [1.55961061e-01, 5.80630750e-01],\n",
       "       [8.34010361e-01, 4.87252395e-01],\n",
       "       [3.04894672e-01, 1.02415787e-01],\n",
       "       [7.12326320e-01, 4.91584531e-01],\n",
       "       [2.59377895e-01, 9.85232007e-02],\n",
       "       [1.87943401e-01, 7.09608169e-01],\n",
       "       [6.27864262e-01, 7.51820137e-01],\n",
       "       [9.76613275e-02, 7.03344146e-01],\n",
       "       [3.25245891e-01, 4.80768194e-01],\n",
       "       [8.62779018e-01, 5.98089106e-01],\n",
       "       [7.17623186e-01, 4.81379264e-01],\n",
       "       [6.69402611e-01, 1.29164405e-01],\n",
       "       [9.22504892e-01, 9.23347218e-01],\n",
       "       [3.05436245e-01, 3.64430912e-01],\n",
       "       [5.43667969e-02, 1.74974135e-01],\n",
       "       [4.81025158e-01, 9.85210255e-01],\n",
       "       [2.95500338e-01, 3.12296152e-01],\n",
       "       [1.96890201e-01, 2.40141680e-02],\n",
       "       [4.55176631e-01, 1.52563032e-01],\n",
       "       [3.68846317e-01, 7.07728026e-01],\n",
       "       [1.62290424e-01, 1.89201225e-01],\n",
       "       [7.91423797e-01, 7.39870851e-01],\n",
       "       [9.02280910e-01, 8.47958854e-01],\n",
       "       [3.00530066e-01, 1.53746823e-01],\n",
       "       [8.98952023e-01, 9.42909098e-01],\n",
       "       [4.20875831e-01, 1.39947638e-01],\n",
       "       [5.30554538e-01, 3.67606492e-01],\n",
       "       [6.91207116e-01, 7.30548972e-02],\n",
       "       [8.67372492e-01, 8.75319731e-01],\n",
       "       [3.09450772e-02, 6.38553551e-01],\n",
       "       [4.01928612e-01, 8.38705369e-01],\n",
       "       [5.69877208e-01, 7.46752217e-01],\n",
       "       [3.88204357e-01, 2.10868166e-01],\n",
       "       [2.13735790e-02, 4.76511550e-01]])"
      ]
     },
     "execution_count": 156,
     "metadata": {},
     "output_type": "execute_result"
    }
   ],
   "source": [
    "a[idx]"
   ]
  },
  {
   "cell_type": "markdown",
   "id": "b1b7b3a5",
   "metadata": {},
   "source": [
    "Timeit both options"
   ]
  },
  {
   "cell_type": "code",
   "execution_count": 154,
   "id": "3067d444",
   "metadata": {},
   "outputs": [
    {
     "name": "stdout",
     "output_type": "stream",
     "text": [
      "3.03 µs ± 6.65 ns per loop (mean ± std. dev. of 7 runs, 100000 loops each)\n"
     ]
    }
   ],
   "source": [
    "%timeit np.take(a, idx, axis=0)"
   ]
  },
  {
   "cell_type": "code",
   "execution_count": 155,
   "id": "9f11c145",
   "metadata": {},
   "outputs": [
    {
     "name": "stdout",
     "output_type": "stream",
     "text": [
      "1.76 µs ± 1.26 ns per loop (mean ± std. dev. of 7 runs, 1000000 loops each)\n"
     ]
    }
   ],
   "source": [
    "%timeit a[idx]"
   ]
  },
  {
   "cell_type": "markdown",
   "id": "d5f31f56",
   "metadata": {},
   "source": [
    "# numpy compress"
   ]
  },
  {
   "cell_type": "code",
   "execution_count": 166,
   "id": "2de00c9f",
   "metadata": {},
   "outputs": [
    {
     "data": {
      "text/plain": [
       "array([ True,  True,  True,  True,  True,  True,  True,  True,  True,\n",
       "        True,  True,  True,  True,  True,  True,  True,  True,  True,\n",
       "        True,  True,  True,  True,  True,  True,  True,  True,  True,\n",
       "        True,  True,  True,  True,  True,  True,  True,  True,  True,\n",
       "        True,  True,  True,  True,  True,  True,  True,  True,  True,\n",
       "        True,  True,  True,  True,  True,  True,  True,  True,  True,\n",
       "        True,  True,  True,  True,  True,  True,  True,  True,  True,\n",
       "        True,  True,  True,  True,  True,  True,  True,  True,  True,\n",
       "        True,  True,  True,  True,  True,  True,  True,  True,  True,\n",
       "        True,  True,  True,  True,  True,  True,  True,  True,  True,\n",
       "        True,  True,  True,  True,  True,  True,  True,  True,  True,\n",
       "        True])"
      ]
     },
     "execution_count": 166,
     "metadata": {},
     "output_type": "execute_result"
    }
   ],
   "source": [
    "# similar to numpy take, for boolean we have numpy compress\n",
    "idx = np.ones(100, dtype='bool')\n",
    "idx"
   ]
  },
  {
   "cell_type": "code",
   "execution_count": 167,
   "id": "01f33dab",
   "metadata": {},
   "outputs": [
    {
     "data": {
      "text/plain": [
       "array([1.69024946e-01, 5.57102396e-01, 4.63049112e-01, 9.31537389e-01,\n",
       "       9.86362355e-01, 6.02360835e-01, 7.20592767e-01, 7.51747194e-02,\n",
       "       9.79102063e-01, 4.58211853e-01, 2.11628498e-01, 6.98899296e-01,\n",
       "       9.20701453e-04, 4.15890361e-01, 2.05671001e-02, 2.83425971e-01,\n",
       "       5.53971893e-01, 4.79166252e-01, 3.07309971e-01, 3.46971818e-01,\n",
       "       6.51472745e-01, 8.05853403e-01, 3.45254449e-01, 5.21364621e-01,\n",
       "       8.60837489e-01, 7.46878376e-02, 4.36623000e-01, 8.24082903e-01,\n",
       "       9.35123365e-01, 3.33932912e-01, 2.40465897e-01, 6.72871853e-01,\n",
       "       1.55961061e-01, 5.80630750e-01, 8.34010361e-01, 4.87252395e-01,\n",
       "       3.04894672e-01, 1.02415787e-01, 7.12326320e-01, 4.91584531e-01,\n",
       "       2.59377895e-01, 9.85232007e-02, 1.87943401e-01, 7.09608169e-01,\n",
       "       6.27864262e-01, 7.51820137e-01, 9.76613275e-02, 7.03344146e-01,\n",
       "       3.25245891e-01, 4.80768194e-01, 8.62779018e-01, 5.98089106e-01,\n",
       "       7.17623186e-01, 4.81379264e-01, 6.69402611e-01, 1.29164405e-01,\n",
       "       9.22504892e-01, 9.23347218e-01, 3.05436245e-01, 3.64430912e-01,\n",
       "       5.43667969e-02, 1.74974135e-01, 4.81025158e-01, 9.85210255e-01,\n",
       "       2.95500338e-01, 3.12296152e-01, 1.96890201e-01, 2.40141680e-02,\n",
       "       4.55176631e-01, 1.52563032e-01, 3.68846317e-01, 7.07728026e-01,\n",
       "       1.62290424e-01, 1.89201225e-01, 7.91423797e-01, 7.39870851e-01,\n",
       "       9.02280910e-01, 8.47958854e-01, 3.00530066e-01, 1.53746823e-01,\n",
       "       8.98952023e-01, 9.42909098e-01, 4.20875831e-01, 1.39947638e-01,\n",
       "       5.30554538e-01, 3.67606492e-01, 6.91207116e-01, 7.30548972e-02,\n",
       "       8.67372492e-01, 8.75319731e-01, 3.09450772e-02, 6.38553551e-01,\n",
       "       4.01928612e-01, 8.38705369e-01, 5.69877208e-01, 7.46752217e-01,\n",
       "       3.88204357e-01, 2.10868166e-01, 2.13735790e-02, 4.76511550e-01])"
      ]
     },
     "execution_count": 167,
     "metadata": {},
     "output_type": "execute_result"
    }
   ],
   "source": [
    "np.compress(idx, a)"
   ]
  },
  {
   "cell_type": "code",
   "execution_count": 168,
   "id": "01b5e795",
   "metadata": {},
   "outputs": [
    {
     "data": {
      "text/plain": [
       "array([[1.69024946e-01, 5.57102396e-01],\n",
       "       [4.63049112e-01, 9.31537389e-01],\n",
       "       [9.86362355e-01, 6.02360835e-01],\n",
       "       [7.20592767e-01, 7.51747194e-02],\n",
       "       [9.79102063e-01, 4.58211853e-01],\n",
       "       [2.11628498e-01, 6.98899296e-01],\n",
       "       [9.20701453e-04, 4.15890361e-01],\n",
       "       [2.05671001e-02, 2.83425971e-01],\n",
       "       [5.53971893e-01, 4.79166252e-01],\n",
       "       [3.07309971e-01, 3.46971818e-01],\n",
       "       [6.51472745e-01, 8.05853403e-01],\n",
       "       [3.45254449e-01, 5.21364621e-01],\n",
       "       [8.60837489e-01, 7.46878376e-02],\n",
       "       [4.36623000e-01, 8.24082903e-01],\n",
       "       [9.35123365e-01, 3.33932912e-01],\n",
       "       [2.40465897e-01, 6.72871853e-01],\n",
       "       [1.55961061e-01, 5.80630750e-01],\n",
       "       [8.34010361e-01, 4.87252395e-01],\n",
       "       [3.04894672e-01, 1.02415787e-01],\n",
       "       [7.12326320e-01, 4.91584531e-01],\n",
       "       [2.59377895e-01, 9.85232007e-02],\n",
       "       [1.87943401e-01, 7.09608169e-01],\n",
       "       [6.27864262e-01, 7.51820137e-01],\n",
       "       [9.76613275e-02, 7.03344146e-01],\n",
       "       [3.25245891e-01, 4.80768194e-01],\n",
       "       [8.62779018e-01, 5.98089106e-01],\n",
       "       [7.17623186e-01, 4.81379264e-01],\n",
       "       [6.69402611e-01, 1.29164405e-01],\n",
       "       [9.22504892e-01, 9.23347218e-01],\n",
       "       [3.05436245e-01, 3.64430912e-01],\n",
       "       [5.43667969e-02, 1.74974135e-01],\n",
       "       [4.81025158e-01, 9.85210255e-01],\n",
       "       [2.95500338e-01, 3.12296152e-01],\n",
       "       [1.96890201e-01, 2.40141680e-02],\n",
       "       [4.55176631e-01, 1.52563032e-01],\n",
       "       [3.68846317e-01, 7.07728026e-01],\n",
       "       [1.62290424e-01, 1.89201225e-01],\n",
       "       [7.91423797e-01, 7.39870851e-01],\n",
       "       [9.02280910e-01, 8.47958854e-01],\n",
       "       [3.00530066e-01, 1.53746823e-01],\n",
       "       [8.98952023e-01, 9.42909098e-01],\n",
       "       [4.20875831e-01, 1.39947638e-01],\n",
       "       [5.30554538e-01, 3.67606492e-01],\n",
       "       [6.91207116e-01, 7.30548972e-02],\n",
       "       [8.67372492e-01, 8.75319731e-01],\n",
       "       [3.09450772e-02, 6.38553551e-01],\n",
       "       [4.01928612e-01, 8.38705369e-01],\n",
       "       [5.69877208e-01, 7.46752217e-01],\n",
       "       [3.88204357e-01, 2.10868166e-01],\n",
       "       [2.13735790e-02, 4.76511550e-01],\n",
       "       [9.24499053e-03, 5.88675765e-02],\n",
       "       [4.58442741e-01, 1.67129689e-01],\n",
       "       [2.52327865e-01, 7.63661719e-01],\n",
       "       [5.94492060e-01, 5.08597931e-01],\n",
       "       [8.81297956e-01, 4.00634080e-02],\n",
       "       [2.57245300e-01, 1.03125966e-01],\n",
       "       [6.07605615e-01, 1.50638731e-01],\n",
       "       [2.65827721e-01, 6.73873122e-01],\n",
       "       [7.27203424e-01, 3.61921931e-01],\n",
       "       [1.05699109e-02, 2.38800083e-01],\n",
       "       [9.63039493e-01, 4.19459426e-01],\n",
       "       [7.02675225e-01, 5.09984422e-02],\n",
       "       [1.75597825e-01, 2.79222024e-01],\n",
       "       [9.08750355e-01, 6.70181571e-01],\n",
       "       [6.11034569e-01, 6.06916952e-01],\n",
       "       [9.13658448e-01, 8.55635904e-01],\n",
       "       [2.70559071e-02, 6.17368944e-01],\n",
       "       [1.41745757e-01, 6.14830139e-02],\n",
       "       [2.89814733e-01, 3.25889731e-01],\n",
       "       [4.51737801e-01, 6.64997524e-01],\n",
       "       [1.94603749e-01, 8.77257852e-02],\n",
       "       [4.21244090e-02, 6.87095733e-01],\n",
       "       [2.52648501e-01, 4.24709878e-01],\n",
       "       [4.33124387e-01, 9.02749657e-02],\n",
       "       [7.65601416e-01, 1.25931804e-01],\n",
       "       [4.72671560e-01, 2.30104507e-01],\n",
       "       [7.29922746e-01, 3.50434665e-01],\n",
       "       [2.46052358e-01, 8.68794996e-01],\n",
       "       [7.66634086e-01, 9.68270845e-01],\n",
       "       [7.24570025e-01, 4.46610752e-01],\n",
       "       [6.03425426e-01, 3.54732953e-02],\n",
       "       [2.76999695e-01, 2.78720505e-01],\n",
       "       [4.53915165e-02, 3.25386449e-01],\n",
       "       [4.46047884e-01, 7.54133195e-01],\n",
       "       [9.81516291e-01, 3.23135858e-01],\n",
       "       [7.61601580e-01, 4.82750284e-01],\n",
       "       [3.22071750e-01, 6.00414498e-01],\n",
       "       [3.03932832e-01, 8.86468428e-01],\n",
       "       [4.02740475e-01, 4.26157033e-01],\n",
       "       [7.96251015e-01, 5.71680751e-01],\n",
       "       [7.47490602e-01, 4.53857038e-01],\n",
       "       [2.09605596e-01, 9.92497294e-01],\n",
       "       [1.41855650e-01, 4.74403344e-01],\n",
       "       [9.21040189e-01, 6.19819165e-01],\n",
       "       [9.94280653e-01, 2.50310936e-01],\n",
       "       [4.24328126e-01, 8.87015775e-01],\n",
       "       [2.43379688e-01, 5.51928361e-02],\n",
       "       [7.53789981e-01, 7.16392813e-01],\n",
       "       [5.93492782e-01, 9.95393600e-01],\n",
       "       [7.14648362e-01, 2.75861491e-01]])"
      ]
     },
     "execution_count": 168,
     "metadata": {},
     "output_type": "execute_result"
    }
   ],
   "source": [
    "np.compress(idx, a, axis=0)"
   ]
  },
  {
   "cell_type": "code",
   "execution_count": 169,
   "id": "0c12ed39",
   "metadata": {},
   "outputs": [
    {
     "data": {
      "text/plain": [
       "array([[1.69024946e-01, 5.57102396e-01],\n",
       "       [4.63049112e-01, 9.31537389e-01],\n",
       "       [9.86362355e-01, 6.02360835e-01],\n",
       "       [7.20592767e-01, 7.51747194e-02],\n",
       "       [9.79102063e-01, 4.58211853e-01],\n",
       "       [2.11628498e-01, 6.98899296e-01],\n",
       "       [9.20701453e-04, 4.15890361e-01],\n",
       "       [2.05671001e-02, 2.83425971e-01],\n",
       "       [5.53971893e-01, 4.79166252e-01],\n",
       "       [3.07309971e-01, 3.46971818e-01],\n",
       "       [6.51472745e-01, 8.05853403e-01],\n",
       "       [3.45254449e-01, 5.21364621e-01],\n",
       "       [8.60837489e-01, 7.46878376e-02],\n",
       "       [4.36623000e-01, 8.24082903e-01],\n",
       "       [9.35123365e-01, 3.33932912e-01],\n",
       "       [2.40465897e-01, 6.72871853e-01],\n",
       "       [1.55961061e-01, 5.80630750e-01],\n",
       "       [8.34010361e-01, 4.87252395e-01],\n",
       "       [3.04894672e-01, 1.02415787e-01],\n",
       "       [7.12326320e-01, 4.91584531e-01],\n",
       "       [2.59377895e-01, 9.85232007e-02],\n",
       "       [1.87943401e-01, 7.09608169e-01],\n",
       "       [6.27864262e-01, 7.51820137e-01],\n",
       "       [9.76613275e-02, 7.03344146e-01],\n",
       "       [3.25245891e-01, 4.80768194e-01],\n",
       "       [8.62779018e-01, 5.98089106e-01],\n",
       "       [7.17623186e-01, 4.81379264e-01],\n",
       "       [6.69402611e-01, 1.29164405e-01],\n",
       "       [9.22504892e-01, 9.23347218e-01],\n",
       "       [3.05436245e-01, 3.64430912e-01],\n",
       "       [5.43667969e-02, 1.74974135e-01],\n",
       "       [4.81025158e-01, 9.85210255e-01],\n",
       "       [2.95500338e-01, 3.12296152e-01],\n",
       "       [1.96890201e-01, 2.40141680e-02],\n",
       "       [4.55176631e-01, 1.52563032e-01],\n",
       "       [3.68846317e-01, 7.07728026e-01],\n",
       "       [1.62290424e-01, 1.89201225e-01],\n",
       "       [7.91423797e-01, 7.39870851e-01],\n",
       "       [9.02280910e-01, 8.47958854e-01],\n",
       "       [3.00530066e-01, 1.53746823e-01],\n",
       "       [8.98952023e-01, 9.42909098e-01],\n",
       "       [4.20875831e-01, 1.39947638e-01],\n",
       "       [5.30554538e-01, 3.67606492e-01],\n",
       "       [6.91207116e-01, 7.30548972e-02],\n",
       "       [8.67372492e-01, 8.75319731e-01],\n",
       "       [3.09450772e-02, 6.38553551e-01],\n",
       "       [4.01928612e-01, 8.38705369e-01],\n",
       "       [5.69877208e-01, 7.46752217e-01],\n",
       "       [3.88204357e-01, 2.10868166e-01],\n",
       "       [2.13735790e-02, 4.76511550e-01],\n",
       "       [9.24499053e-03, 5.88675765e-02],\n",
       "       [4.58442741e-01, 1.67129689e-01],\n",
       "       [2.52327865e-01, 7.63661719e-01],\n",
       "       [5.94492060e-01, 5.08597931e-01],\n",
       "       [8.81297956e-01, 4.00634080e-02],\n",
       "       [2.57245300e-01, 1.03125966e-01],\n",
       "       [6.07605615e-01, 1.50638731e-01],\n",
       "       [2.65827721e-01, 6.73873122e-01],\n",
       "       [7.27203424e-01, 3.61921931e-01],\n",
       "       [1.05699109e-02, 2.38800083e-01],\n",
       "       [9.63039493e-01, 4.19459426e-01],\n",
       "       [7.02675225e-01, 5.09984422e-02],\n",
       "       [1.75597825e-01, 2.79222024e-01],\n",
       "       [9.08750355e-01, 6.70181571e-01],\n",
       "       [6.11034569e-01, 6.06916952e-01],\n",
       "       [9.13658448e-01, 8.55635904e-01],\n",
       "       [2.70559071e-02, 6.17368944e-01],\n",
       "       [1.41745757e-01, 6.14830139e-02],\n",
       "       [2.89814733e-01, 3.25889731e-01],\n",
       "       [4.51737801e-01, 6.64997524e-01],\n",
       "       [1.94603749e-01, 8.77257852e-02],\n",
       "       [4.21244090e-02, 6.87095733e-01],\n",
       "       [2.52648501e-01, 4.24709878e-01],\n",
       "       [4.33124387e-01, 9.02749657e-02],\n",
       "       [7.65601416e-01, 1.25931804e-01],\n",
       "       [4.72671560e-01, 2.30104507e-01],\n",
       "       [7.29922746e-01, 3.50434665e-01],\n",
       "       [2.46052358e-01, 8.68794996e-01],\n",
       "       [7.66634086e-01, 9.68270845e-01],\n",
       "       [7.24570025e-01, 4.46610752e-01],\n",
       "       [6.03425426e-01, 3.54732953e-02],\n",
       "       [2.76999695e-01, 2.78720505e-01],\n",
       "       [4.53915165e-02, 3.25386449e-01],\n",
       "       [4.46047884e-01, 7.54133195e-01],\n",
       "       [9.81516291e-01, 3.23135858e-01],\n",
       "       [7.61601580e-01, 4.82750284e-01],\n",
       "       [3.22071750e-01, 6.00414498e-01],\n",
       "       [3.03932832e-01, 8.86468428e-01],\n",
       "       [4.02740475e-01, 4.26157033e-01],\n",
       "       [7.96251015e-01, 5.71680751e-01],\n",
       "       [7.47490602e-01, 4.53857038e-01],\n",
       "       [2.09605596e-01, 9.92497294e-01],\n",
       "       [1.41855650e-01, 4.74403344e-01],\n",
       "       [9.21040189e-01, 6.19819165e-01],\n",
       "       [9.94280653e-01, 2.50310936e-01],\n",
       "       [4.24328126e-01, 8.87015775e-01],\n",
       "       [2.43379688e-01, 5.51928361e-02],\n",
       "       [7.53789981e-01, 7.16392813e-01],\n",
       "       [5.93492782e-01, 9.95393600e-01],\n",
       "       [7.14648362e-01, 2.75861491e-01]])"
      ]
     },
     "execution_count": 169,
     "metadata": {},
     "output_type": "execute_result"
    }
   ],
   "source": [
    "a[idx]"
   ]
  },
  {
   "cell_type": "markdown",
   "id": "27c24625",
   "metadata": {},
   "source": [
    "Time them"
   ]
  },
  {
   "cell_type": "code",
   "execution_count": 170,
   "id": "ae1ee30a",
   "metadata": {},
   "outputs": [
    {
     "name": "stdout",
     "output_type": "stream",
     "text": [
      "3.93 µs ± 19.2 ns per loop (mean ± std. dev. of 7 runs, 100000 loops each)\n"
     ]
    }
   ],
   "source": [
    "%timeit np.compress(idx, a, axis=0)"
   ]
  },
  {
   "cell_type": "code",
   "execution_count": 171,
   "id": "a81de959",
   "metadata": {},
   "outputs": [
    {
     "name": "stdout",
     "output_type": "stream",
     "text": [
      "2.98 µs ± 4.66 ns per loop (mean ± std. dev. of 7 runs, 100000 loops each)\n"
     ]
    }
   ],
   "source": [
    "%timeit a[idx]"
   ]
  },
  {
   "cell_type": "markdown",
   "id": "3ee699c1",
   "metadata": {},
   "source": [
    "# Broadcasting"
   ]
  },
  {
   "cell_type": "code",
   "execution_count": null,
   "id": "deda7492",
   "metadata": {},
   "outputs": [
    {
     "data": {
      "text/plain": [
       "array([[ 5, 12],\n",
       "       [21, 32]])"
      ]
     },
     "execution_count": 173,
     "metadata": {},
     "output_type": "execute_result"
    }
   ],
   "source": [
    "A = np.array([[1, 2], \n",
    "              [3, 4]])\n",
    "B = np.array([[5, 6], \n",
    "              [7, 8]])\n",
    "\n",
    "A*B"
   ]
  },
  {
   "cell_type": "markdown",
   "id": "ca0af772",
   "metadata": {},
   "source": [
    "### IMP: Above is not matrix multiplication. It is trying to multiply each element from one arrray to another i.e. 1 x 5, 2 x 6, 3 x 7, 4 x 8\n",
    "\n",
    "In order to do matrix multiplication you will need to perform A.dot(B) instead of a*b"
   ]
  },
  {
   "cell_type": "code",
   "execution_count": 174,
   "id": "832c4ede",
   "metadata": {},
   "outputs": [
    {
     "data": {
      "text/plain": [
       "array([[2, 4],\n",
       "       [6, 8]])"
      ]
     },
     "execution_count": 174,
     "metadata": {},
     "output_type": "execute_result"
    }
   ],
   "source": [
    "# even when multiplying the scalar value with the array \n",
    "2 * A "
   ]
  },
  {
   "cell_type": "code",
   "execution_count": null,
   "id": "7a5d4372",
   "metadata": {},
   "outputs": [
    {
     "data": {
      "text/plain": [
       "array([[ 2,  6,  3],\n",
       "       [ 8, 15,  6],\n",
       "       [14, 24,  9]])"
      ]
     },
     "execution_count": 182,
     "metadata": {},
     "output_type": "execute_result"
    }
   ],
   "source": [
    "# consider if array dont match one is (3,3) and another one in (1,3) it will try to match the shape of operands \n",
    "A = np.array([[1,2,3], \n",
    "              [4,5,6], \n",
    "              [7,8,9]])\n",
    "B = np.array([[2, 3, 1]])\n",
    "\n",
    "A*B"
   ]
  },
  {
   "cell_type": "code",
   "execution_count": null,
   "id": "1b3018ad",
   "metadata": {},
   "outputs": [
    {
     "ename": "ValueError",
     "evalue": "operands could not be broadcast together with shapes (3,2) (2,3) ",
     "output_type": "error",
     "traceback": [
      "\u001b[0;31m---------------------------------------------------------------------------\u001b[0m",
      "\u001b[0;31mValueError\u001b[0m                                Traceback (most recent call last)",
      "\u001b[0;32m/var/folders/kx/s0nzgxq96zgdm61_51783vnm0000gn/T/ipykernel_65708/1140839836.py\u001b[0m in \u001b[0;36m<module>\u001b[0;34m\u001b[0m\n\u001b[1;32m      7\u001b[0m               [1, 0, 1]])\n\u001b[1;32m      8\u001b[0m \u001b[0;34m\u001b[0m\u001b[0m\n\u001b[0;32m----> 9\u001b[0;31m \u001b[0mA\u001b[0m\u001b[0;34m*\u001b[0m\u001b[0mB\u001b[0m\u001b[0;34m\u001b[0m\u001b[0;34m\u001b[0m\u001b[0m\n\u001b[0m",
      "\u001b[0;31mValueError\u001b[0m: operands could not be broadcast together with shapes (3,2) (2,3) "
     ]
    }
   ],
   "source": [
    "# below will throw error as shapes of operands are not compatible\n",
    "A = np.array([[1,2], \n",
    "              [4,5],\n",
    "              [7,8]])\n",
    "B = np.array([[2,3,1], \n",
    "              [1,0,1]])\n",
    "\n",
    "A*B"
   ]
  },
  {
   "cell_type": "markdown",
   "id": "11d77e91",
   "metadata": {},
   "source": [
    "# numpy newaxis\n",
    "To introduce new dimension while indexing"
   ]
  },
  {
   "cell_type": "code",
   "execution_count": 191,
   "id": "78dbd7bb",
   "metadata": {},
   "outputs": [
    {
     "data": {
      "text/plain": [
       "array([[[0.93033288, 0.53808362],\n",
       "        [0.61651055, 0.29089299],\n",
       "        [0.0644358 , 0.28294367],\n",
       "        [0.08843579, 0.87450544],\n",
       "        [0.72147675, 0.95063919],\n",
       "        [0.03073461, 0.90724414],\n",
       "        [0.62727646, 0.61595787],\n",
       "        [0.92170374, 0.74428178],\n",
       "        [0.21749429, 0.67721314],\n",
       "        [0.76586087, 0.19988617]],\n",
       "\n",
       "       [[0.01089599, 0.01793994],\n",
       "        [0.40379013, 0.80509782],\n",
       "        [0.53527919, 0.097367  ],\n",
       "        [0.40920151, 0.54448514],\n",
       "        [0.27030302, 0.31632068],\n",
       "        [0.07575567, 0.80083355],\n",
       "        [0.96552932, 0.60106424],\n",
       "        [0.53059762, 0.95862405],\n",
       "        [0.70466733, 0.54522378],\n",
       "        [0.46417439, 0.43891168]],\n",
       "\n",
       "       [[0.59129194, 0.33863233],\n",
       "        [0.68713897, 0.9503741 ],\n",
       "        [0.9807667 , 0.44075145],\n",
       "        [0.83858922, 0.5193976 ],\n",
       "        [0.67740695, 0.41434301],\n",
       "        [0.93932011, 0.56267964],\n",
       "        [0.80183374, 0.56215513],\n",
       "        [0.59177612, 0.30671942],\n",
       "        [0.6288624 , 0.78926312],\n",
       "        [0.66532117, 0.33419482]],\n",
       "\n",
       "       [[0.57281404, 0.34660411],\n",
       "        [0.1442854 , 0.2112065 ],\n",
       "        [0.95823703, 0.99476115],\n",
       "        [0.03010831, 0.79967774],\n",
       "        [0.75194462, 0.46677871],\n",
       "        [0.87657888, 0.85179558],\n",
       "        [0.35499758, 0.59872623],\n",
       "        [0.80894961, 0.36748918],\n",
       "        [0.28332711, 0.73863425],\n",
       "        [0.54177448, 0.33912162]],\n",
       "\n",
       "       [[0.96265668, 0.02990429],\n",
       "        [0.75573184, 0.33586945],\n",
       "        [0.5528278 , 0.36495361],\n",
       "        [0.32337481, 0.60606478],\n",
       "        [0.60251007, 0.65928112],\n",
       "        [0.9010824 , 0.4764514 ],\n",
       "        [0.63468608, 0.60453758],\n",
       "        [0.26357248, 0.68131485],\n",
       "        [0.80971917, 0.4114226 ],\n",
       "        [0.29234129, 0.1200229 ]]])"
      ]
     },
     "execution_count": 191,
     "metadata": {},
     "output_type": "execute_result"
    }
   ],
   "source": [
    "A = np.random.rand(5, 10, 2)\n",
    "B = np.random.rand(5, 2)\n",
    "A"
   ]
  },
  {
   "cell_type": "code",
   "execution_count": 192,
   "id": "928ce97d",
   "metadata": {},
   "outputs": [
    {
     "data": {
      "text/plain": [
       "array([[0.87909034, 0.47631521],\n",
       "       [0.83974391, 0.45894816],\n",
       "       [0.30786325, 0.12691366],\n",
       "       [0.54315009, 0.93645184],\n",
       "       [0.12712842, 0.51679317]])"
      ]
     },
     "execution_count": 192,
     "metadata": {},
     "output_type": "execute_result"
    }
   ],
   "source": [
    "B"
   ]
  },
  {
   "cell_type": "code",
   "execution_count": 193,
   "id": "520bf370",
   "metadata": {},
   "outputs": [
    {
     "ename": "ValueError",
     "evalue": "operands could not be broadcast together with shapes (5,10,2) (5,2) ",
     "output_type": "error",
     "traceback": [
      "\u001b[0;31m---------------------------------------------------------------------------\u001b[0m",
      "\u001b[0;31mValueError\u001b[0m                                Traceback (most recent call last)",
      "\u001b[0;32m/var/folders/kx/s0nzgxq96zgdm61_51783vnm0000gn/T/ipykernel_65708/786576050.py\u001b[0m in \u001b[0;36m<module>\u001b[0;34m\u001b[0m\n\u001b[0;32m----> 1\u001b[0;31m \u001b[0mA\u001b[0m\u001b[0;34m*\u001b[0m\u001b[0mB\u001b[0m\u001b[0;34m\u001b[0m\u001b[0;34m\u001b[0m\u001b[0m\n\u001b[0m",
      "\u001b[0;31mValueError\u001b[0m: operands could not be broadcast together with shapes (5,10,2) (5,2) "
     ]
    }
   ],
   "source": [
    "A*B"
   ]
  },
  {
   "cell_type": "code",
   "execution_count": 194,
   "id": "93f62864",
   "metadata": {},
   "outputs": [
    {
     "data": {
      "text/plain": [
       "array([[[0.81784665, 0.25629741],\n",
       "        [0.54196847, 0.13855675],\n",
       "        [0.05664489, 0.13477037],\n",
       "        [0.07774305, 0.41654024],\n",
       "        [0.63424324, 0.4528039 ],\n",
       "        [0.0270185 , 0.43213418],\n",
       "        [0.55143267, 0.2933901 ],\n",
       "        [0.81026086, 0.35451273],\n",
       "        [0.19119713, 0.32256692],\n",
       "        [0.67326089, 0.09520882]],\n",
       "\n",
       "       [[0.00914984, 0.0082335 ],\n",
       "        [0.3390803 , 0.36949816],\n",
       "        [0.44949744, 0.0446864 ],\n",
       "        [0.34362447, 0.24989045],\n",
       "        [0.22698531, 0.14517479],\n",
       "        [0.06361536, 0.36754108],\n",
       "        [0.81079736, 0.27585732],\n",
       "        [0.44556612, 0.43995874],\n",
       "        [0.59174009, 0.25022945],\n",
       "        [0.38978762, 0.20143771]],\n",
       "\n",
       "       [[0.18203706, 0.04297707],\n",
       "        [0.21154483, 0.12061545],\n",
       "        [0.30194202, 0.05593738],\n",
       "        [0.2581708 , 0.06591865],\n",
       "        [0.2085487 , 0.05258579],\n",
       "        [0.28918214, 0.07141173],\n",
       "        [0.24685514, 0.07134516],\n",
       "        [0.18218612, 0.03892688],\n",
       "        [0.19360362, 0.10016827],\n",
       "        [0.20482794, 0.04241389]],\n",
       "\n",
       "       [[0.311124  , 0.32457806],\n",
       "        [0.07836863, 0.19778472],\n",
       "        [0.52046653, 0.93154591],\n",
       "        [0.01635333, 0.74885969],\n",
       "        [0.40841879, 0.43711578],\n",
       "        [0.4761139 , 0.79766554],\n",
       "        [0.19281697, 0.56067828],\n",
       "        [0.43938106, 0.34413592],\n",
       "        [0.15388915, 0.6916954 ],\n",
       "        [0.29426486, 0.31757106]],\n",
       "\n",
       "       [[0.12238103, 0.01545433],\n",
       "        [0.096075  , 0.17357504],\n",
       "        [0.07028013, 0.18860554],\n",
       "        [0.04111013, 0.31321014],\n",
       "        [0.07659616, 0.34071198],\n",
       "        [0.11455319, 0.24622683],\n",
       "        [0.08068664, 0.31242089],\n",
       "        [0.03350755, 0.35209886],\n",
       "        [0.10293832, 0.21262039],\n",
       "        [0.03716489, 0.06202701]]])"
      ]
     },
     "execution_count": 194,
     "metadata": {},
     "output_type": "execute_result"
    }
   ],
   "source": [
    "A*B[:, np.newaxis, :]"
   ]
  },
  {
   "cell_type": "code",
   "execution_count": 195,
   "id": "073fd9af",
   "metadata": {},
   "outputs": [
    {
     "data": {
      "text/plain": [
       "array([[[0.87909034, 0.47631521]],\n",
       "\n",
       "       [[0.83974391, 0.45894816]],\n",
       "\n",
       "       [[0.30786325, 0.12691366]],\n",
       "\n",
       "       [[0.54315009, 0.93645184]],\n",
       "\n",
       "       [[0.12712842, 0.51679317]]])"
      ]
     },
     "execution_count": 195,
     "metadata": {},
     "output_type": "execute_result"
    }
   ],
   "source": [
    "B[:, np.newaxis, :]"
   ]
  },
  {
   "cell_type": "markdown",
   "id": "32d5a53f",
   "metadata": {},
   "source": [
    "# Mathematical Operations"
   ]
  },
  {
   "cell_type": "code",
   "execution_count": null,
   "id": "81b7cf36",
   "metadata": {},
   "outputs": [
    {
     "data": {
      "text/plain": [
       "array([2., 3., 5., 4.])"
      ]
     },
     "execution_count": 196,
     "metadata": {},
     "output_type": "execute_result"
    }
   ],
   "source": [
    "# Square root of elements\n",
    "np.sqrt(np.array([4,9,25,16]))"
   ]
  },
  {
   "cell_type": "code",
   "execution_count": 197,
   "id": "41de93b4",
   "metadata": {},
   "outputs": [
    {
     "data": {
      "text/plain": [
       "array([[ True,  True, False],\n",
       "       [ True,  True, False],\n",
       "       [False,  True, False],\n",
       "       [ True, False,  True],\n",
       "       [ True,  True, False],\n",
       "       [False, False, False],\n",
       "       [False,  True, False],\n",
       "       [ True,  True, False],\n",
       "       [False, False, False],\n",
       "       [False,  True, False]])"
      ]
     },
     "execution_count": 197,
     "metadata": {},
     "output_type": "execute_result"
    }
   ],
   "source": [
    "# comparsion \n",
    "a = np.random.rand(10, 3)\n",
    "\n",
    "# get the indexes where the values are greater than 0.5\n",
    "a > 0.5"
   ]
  },
  {
   "cell_type": "code",
   "execution_count": null,
   "id": "ccd8a561",
   "metadata": {},
   "outputs": [
    {
     "data": {
      "text/plain": [
       "array([0.58247313, 0.64988187, 0.91317384, 0.98506107, 0.72727711,\n",
       "       0.8189055 , 0.53115553, 0.68105731, 0.61719012, 0.84135533,\n",
       "       0.80041562, 0.84321212, 0.73978399])"
      ]
     },
     "execution_count": 199,
     "metadata": {},
     "output_type": "execute_result"
    }
   ],
   "source": [
    "# get all elements that are greater than 0.5\n",
    "a[a>0.5]"
   ]
  },
  {
   "cell_type": "code",
   "execution_count": null,
   "id": "f5055d4a",
   "metadata": {},
   "outputs": [
    {
     "data": {
      "text/plain": [
       "array([5.1918034 , 5.80444463, 2.93191238])"
      ]
     },
     "execution_count": 200,
     "metadata": {},
     "output_type": "execute_result"
    }
   ],
   "source": [
    "# sum all elements in the rows (perform sum operation on veritical axis)\n",
    "a.sum(axis=0)"
   ]
  },
  {
   "cell_type": "code",
   "execution_count": null,
   "id": "f349b8dc",
   "metadata": {},
   "outputs": [
    {
     "data": {
      "text/plain": [
       "array([1.68796124, 2.39328116, 1.04464129, 1.62870418, 1.45988575,\n",
       "       0.47401701, 1.62305042, 1.79945177, 0.43547221, 1.38169538])"
      ]
     },
     "execution_count": 201,
     "metadata": {},
     "output_type": "execute_result"
    }
   ],
   "source": [
    "# sum all elements in the columns (perform sum operation on horizontal axis)\n",
    "a.sum(axis=1)"
   ]
  },
  {
   "cell_type": "code",
   "execution_count": 202,
   "id": "9c1bdb7c",
   "metadata": {},
   "outputs": [
    {
     "data": {
      "text/plain": [
       "array([[0.58247313, 0.64988187, 0.45560624],\n",
       "       [0.91317384, 0.98506107, 0.49504626],\n",
       "       [0.16956724, 0.72727711, 0.14779693],\n",
       "       [0.8189055 , 0.27864315, 0.53115553],\n",
       "       [0.68105731, 0.61719012, 0.16163831],\n",
       "       [0.13724741, 0.09810991, 0.23865969],\n",
       "       [0.46852485, 0.84135533, 0.31317023],\n",
       "       [0.80041562, 0.84321212, 0.15582404],\n",
       "       [0.21258475, 0.02392997, 0.19895748],\n",
       "       [0.40785373, 0.73978399, 0.23405766]])"
      ]
     },
     "execution_count": 202,
     "metadata": {},
     "output_type": "execute_result"
    }
   ],
   "source": [
    "a"
   ]
  },
  {
   "cell_type": "code",
   "execution_count": 203,
   "id": "4a1bef62",
   "metadata": {},
   "outputs": [
    {
     "data": {
      "text/plain": [
       "13.92816039909554"
      ]
     },
     "execution_count": 203,
     "metadata": {},
     "output_type": "execute_result"
    }
   ],
   "source": [
    "# If no axis provided it will yield overall sum\n",
    "a.sum()"
   ]
  },
  {
   "cell_type": "markdown",
   "id": "bb46aa4f",
   "metadata": {},
   "source": [
    "# Calculating norm"
   ]
  },
  {
   "cell_type": "code",
   "execution_count": 204,
   "id": "2ef8591e",
   "metadata": {},
   "outputs": [
    {
     "data": {
      "text/plain": [
       "array([0.945961  , 1.05558161, 0.82442553, 0.72375493, 0.09536352,\n",
       "       0.68324762, 0.25965659, 0.97597661, 1.04274711, 0.5835829 ])"
      ]
     },
     "execution_count": 204,
     "metadata": {},
     "output_type": "execute_result"
    }
   ],
   "source": [
    "# create 10 coordinates \n",
    "ri = np.random.rand(10,2)\n",
    "\n",
    "# calculate norm \n",
    "norm = np.sqrt((ri ** 2).sum(axis=1))\n",
    "\n",
    "norm"
   ]
  },
  {
   "cell_type": "markdown",
   "id": "9e1d2fea",
   "metadata": {},
   "source": [
    "# Numexpr"
   ]
  },
  {
   "cell_type": "code",
   "execution_count": 205,
   "id": "c24e6efc",
   "metadata": {},
   "outputs": [],
   "source": [
    "import numexpr as ne \n",
    "\n",
    "a = np.random.rand(100000)\n",
    "b = np.random.rand(100000)\n",
    "c = np.random.rand(100000)\n",
    "d = ne.evaluate('a+b*c')"
   ]
  },
  {
   "cell_type": "code",
   "execution_count": 207,
   "id": "53260315",
   "metadata": {},
   "outputs": [
    {
     "name": "stdout",
     "output_type": "stream",
     "text": [
      "153 µs ± 2.83 µs per loop (mean ± std. dev. of 7 runs, 10000 loops each)\n"
     ]
    }
   ],
   "source": [
    "%timeit ne.evaluate('a+b*c')"
   ]
  },
  {
   "cell_type": "code",
   "execution_count": 208,
   "id": "ffea8d85",
   "metadata": {},
   "outputs": [
    {
     "name": "stdout",
     "output_type": "stream",
     "text": [
      "58.7 µs ± 133 ns per loop (mean ± std. dev. of 7 runs, 10000 loops each)\n"
     ]
    }
   ],
   "source": [
    "%timeit a+b*c"
   ]
  },
  {
   "cell_type": "markdown",
   "id": "caae4fab",
   "metadata": {},
   "source": [
    "# Pandas"
   ]
  },
  {
   "cell_type": "code",
   "execution_count": 209,
   "id": "377bac34",
   "metadata": {},
   "outputs": [],
   "source": [
    "import pandas as pd"
   ]
  },
  {
   "cell_type": "code",
   "execution_count": 219,
   "id": "2de1a081",
   "metadata": {},
   "outputs": [],
   "source": [
    "# create series object. This is different from numpy array as there is extra key is stored along with data \n",
    "patients = ['a', 'b', 'c', 'd']\n",
    "effective = [True, False, False, True]"
   ]
  },
  {
   "cell_type": "code",
   "execution_count": 220,
   "id": "9c3470c5",
   "metadata": {},
   "outputs": [
    {
     "data": {
      "text/plain": [
       "a     True\n",
       "b    False\n",
       "c    False\n",
       "d     True\n",
       "dtype: bool"
      ]
     },
     "execution_count": 220,
     "metadata": {},
     "output_type": "execute_result"
    }
   ],
   "source": [
    "effective_series = pd.Series(effective, index=patients)\n",
    "effective_series"
   ]
  },
  {
   "cell_type": "code",
   "execution_count": 221,
   "id": "f13bb74e",
   "metadata": {},
   "outputs": [],
   "source": [
    "# index can be non numeric as well \n",
    "patient_series = pd.Series(patients, index=effective)"
   ]
  },
  {
   "cell_type": "code",
   "execution_count": 222,
   "id": "4b576f94",
   "metadata": {},
   "outputs": [
    {
     "data": {
      "text/plain": [
       "True     a\n",
       "False    b\n",
       "False    c\n",
       "True     d\n",
       "dtype: object"
      ]
     },
     "execution_count": 222,
     "metadata": {},
     "output_type": "execute_result"
    }
   ],
   "source": [
    "patient_series"
   ]
  },
  {
   "cell_type": "code",
   "execution_count": 292,
   "id": "e72b0300",
   "metadata": {},
   "outputs": [],
   "source": [
    "# store more information in blood pressure example \n",
    "patients = ['a', 'b', 'c', 'd']\n",
    "\n",
    "columns = {\n",
    "    'sys_initial' : [120, 126, 110, 130], \n",
    "    'dia_initial' : [75, 85, 890, 87], \n",
    "    'sys_final' : [115, 130, 132, 110],\n",
    "    'dia_final' : [70, 82, 87, 83]\n",
    "}\n",
    "\n",
    "# create dataframe \n",
    "df = pd.DataFrame(columns, index=patients)"
   ]
  },
  {
   "cell_type": "code",
   "execution_count": 293,
   "id": "86f11a0b",
   "metadata": {},
   "outputs": [
    {
     "data": {
      "text/html": [
       "<div>\n",
       "<style scoped>\n",
       "    .dataframe tbody tr th:only-of-type {\n",
       "        vertical-align: middle;\n",
       "    }\n",
       "\n",
       "    .dataframe tbody tr th {\n",
       "        vertical-align: top;\n",
       "    }\n",
       "\n",
       "    .dataframe thead th {\n",
       "        text-align: right;\n",
       "    }\n",
       "</style>\n",
       "<table border=\"1\" class=\"dataframe\">\n",
       "  <thead>\n",
       "    <tr style=\"text-align: right;\">\n",
       "      <th></th>\n",
       "      <th>sys_initial</th>\n",
       "      <th>dia_initial</th>\n",
       "      <th>sys_final</th>\n",
       "      <th>dia_final</th>\n",
       "    </tr>\n",
       "  </thead>\n",
       "  <tbody>\n",
       "    <tr>\n",
       "      <th>a</th>\n",
       "      <td>120</td>\n",
       "      <td>75</td>\n",
       "      <td>115</td>\n",
       "      <td>70</td>\n",
       "    </tr>\n",
       "    <tr>\n",
       "      <th>b</th>\n",
       "      <td>126</td>\n",
       "      <td>85</td>\n",
       "      <td>130</td>\n",
       "      <td>82</td>\n",
       "    </tr>\n",
       "    <tr>\n",
       "      <th>c</th>\n",
       "      <td>110</td>\n",
       "      <td>890</td>\n",
       "      <td>132</td>\n",
       "      <td>87</td>\n",
       "    </tr>\n",
       "    <tr>\n",
       "      <th>d</th>\n",
       "      <td>130</td>\n",
       "      <td>87</td>\n",
       "      <td>110</td>\n",
       "      <td>83</td>\n",
       "    </tr>\n",
       "  </tbody>\n",
       "</table>\n",
       "</div>"
      ],
      "text/plain": [
       "   sys_initial  dia_initial  sys_final  dia_final\n",
       "a          120           75        115         70\n",
       "b          126           85        130         82\n",
       "c          110          890        132         87\n",
       "d          130           87        110         83"
      ]
     },
     "execution_count": 293,
     "metadata": {},
     "output_type": "execute_result"
    }
   ],
   "source": [
    "df"
   ]
  },
  {
   "cell_type": "markdown",
   "id": "1bf62e0e",
   "metadata": {},
   "source": [
    "# Indexing Series and Dataframe objects"
   ]
  },
  {
   "cell_type": "code",
   "execution_count": 226,
   "id": "f3813d4b",
   "metadata": {},
   "outputs": [
    {
     "data": {
      "text/plain": [
       "False"
      ]
     },
     "execution_count": 226,
     "metadata": {},
     "output_type": "execute_result"
    }
   ],
   "source": [
    "# access element in series using index key \n",
    "effective_series.loc['b']"
   ]
  },
  {
   "cell_type": "code",
   "execution_count": 227,
   "id": "f98818bf",
   "metadata": {},
   "outputs": [
    {
     "data": {
      "text/plain": [
       "True"
      ]
     },
     "execution_count": 227,
     "metadata": {},
     "output_type": "execute_result"
    }
   ],
   "source": [
    "# access element in series using position of the object \n",
    "effective_series.iloc[3]"
   ]
  },
  {
   "cell_type": "code",
   "execution_count": 229,
   "id": "0732a46c",
   "metadata": {},
   "outputs": [
    {
     "data": {
      "text/plain": [
       "sys_initial    126\n",
       "dia_initial     85\n",
       "sys_final      130\n",
       "dia_final       82\n",
       "Name: b, dtype: int64"
      ]
     },
     "execution_count": 229,
     "metadata": {},
     "output_type": "execute_result"
    }
   ],
   "source": [
    "# access element in dataframe object using index key \n",
    "df.loc['b']"
   ]
  },
  {
   "cell_type": "code",
   "execution_count": 230,
   "id": "ffbe1985",
   "metadata": {},
   "outputs": [
    {
     "data": {
      "text/plain": [
       "sys_initial    110\n",
       "dia_initial    890\n",
       "sys_final      132\n",
       "dia_final       87\n",
       "Name: c, dtype: int64"
      ]
     },
     "execution_count": 230,
     "metadata": {},
     "output_type": "execute_result"
    }
   ],
   "source": [
    "df.iloc[2]"
   ]
  },
  {
   "cell_type": "code",
   "execution_count": 237,
   "id": "fc02d9af",
   "metadata": {},
   "outputs": [
    {
     "data": {
      "text/plain": [
       "115"
      ]
     },
     "execution_count": 237,
     "metadata": {},
     "output_type": "execute_result"
    }
   ],
   "source": [
    "# get first row and third column \n",
    "df.loc['a', 'sys_final']"
   ]
  },
  {
   "cell_type": "code",
   "execution_count": 238,
   "id": "ed0a9f42",
   "metadata": {},
   "outputs": [
    {
     "data": {
      "text/plain": [
       "115"
      ]
     },
     "execution_count": 238,
     "metadata": {},
     "output_type": "execute_result"
    }
   ],
   "source": [
    "# above is same as \n",
    "df.loc[\"a\"][\"sys_final\"]"
   ]
  },
  {
   "cell_type": "code",
   "execution_count": 239,
   "id": "0544cb07",
   "metadata": {},
   "outputs": [
    {
     "data": {
      "text/plain": [
       "115"
      ]
     },
     "execution_count": 239,
     "metadata": {},
     "output_type": "execute_result"
    }
   ],
   "source": [
    "# above is same as \n",
    "df.loc[\"a\"].loc[\"sys_final\"]"
   ]
  },
  {
   "cell_type": "code",
   "execution_count": 240,
   "id": "75ebddec",
   "metadata": {},
   "outputs": [
    {
     "data": {
      "text/plain": [
       "115"
      ]
     },
     "execution_count": 240,
     "metadata": {},
     "output_type": "execute_result"
    }
   ],
   "source": [
    "# above is same as \n",
    "df.iloc[0, 2]"
   ]
  },
  {
   "cell_type": "code",
   "execution_count": 241,
   "id": "4243d051",
   "metadata": {},
   "outputs": [
    {
     "data": {
      "text/plain": [
       "115"
      ]
     },
     "execution_count": 241,
     "metadata": {},
     "output_type": "execute_result"
    }
   ],
   "source": [
    "# above is same as \n",
    "df.iloc[0].iloc[2]"
   ]
  },
  {
   "cell_type": "code",
   "execution_count": 242,
   "id": "10b2049b",
   "metadata": {},
   "outputs": [
    {
     "data": {
      "text/plain": [
       "a    115\n",
       "b    130\n",
       "c    132\n",
       "d    110\n",
       "Name: sys_final, dtype: int64"
      ]
     },
     "execution_count": 242,
     "metadata": {},
     "output_type": "execute_result"
    }
   ],
   "source": [
    "df['sys_final']"
   ]
  },
  {
   "cell_type": "code",
   "execution_count": 243,
   "id": "d2f7df0e",
   "metadata": {},
   "outputs": [
    {
     "data": {
      "text/plain": [
       "a    115\n",
       "b    130\n",
       "c    132\n",
       "d    110\n",
       "Name: sys_final, dtype: int64"
      ]
     },
     "execution_count": 243,
     "metadata": {},
     "output_type": "execute_result"
    }
   ],
   "source": [
    "# above is same as \n",
    "df.sys_final"
   ]
  },
  {
   "cell_type": "code",
   "execution_count": 244,
   "id": "4f96f466",
   "metadata": {},
   "outputs": [
    {
     "data": {
      "text/plain": [
       "a    115\n",
       "b    130\n",
       "c    132\n",
       "d    110\n",
       "Name: sys_final, dtype: int64"
      ]
     },
     "execution_count": 244,
     "metadata": {},
     "output_type": "execute_result"
    }
   ],
   "source": [
    "# above is same as \n",
    "df[df.columns[2]]"
   ]
  },
  {
   "cell_type": "code",
   "execution_count": 245,
   "id": "c8082805",
   "metadata": {},
   "outputs": [
    {
     "data": {
      "text/plain": [
       "a    115\n",
       "b    130\n",
       "c    132\n",
       "d    110\n",
       "Name: sys_final, dtype: int64"
      ]
     },
     "execution_count": 245,
     "metadata": {},
     "output_type": "execute_result"
    }
   ],
   "source": [
    "# above is same as \n",
    "df.iloc[:, 2]"
   ]
  },
  {
   "cell_type": "markdown",
   "id": "4ab36fb1",
   "metadata": {},
   "source": [
    "# Series with duplicate items "
   ]
  },
  {
   "cell_type": "code",
   "execution_count": 247,
   "id": "7b27098c",
   "metadata": {},
   "outputs": [
    {
     "data": {
      "text/plain": [
       "5000     5000\n",
       "5000    15000\n",
       "dtype: int64"
      ]
     },
     "execution_count": 247,
     "metadata": {},
     "output_type": "execute_result"
    }
   ],
   "source": [
    "index = list(range(10000)) + list(range(10000))\n",
    "\n",
    "# create pandas series of 20000 elements\n",
    "duplicate_series = pd.Series(range(20000), index=index)\n",
    "\n",
    "duplicate_series.loc[5000]"
   ]
  },
  {
   "cell_type": "code",
   "execution_count": 248,
   "id": "72276758",
   "metadata": {},
   "outputs": [
    {
     "name": "stdout",
     "output_type": "stream",
     "text": [
      "76 µs ± 3.1 µs per loop (mean ± std. dev. of 7 runs, 10000 loops each)\n"
     ]
    }
   ],
   "source": [
    "%timeit duplicate_series.loc[5000]"
   ]
  },
  {
   "cell_type": "code",
   "execution_count": null,
   "id": "cbbdcfa1",
   "metadata": {},
   "outputs": [
    {
     "data": {
      "text/plain": [
       "0           0\n",
       "0       10000\n",
       "1       10001\n",
       "1           1\n",
       "2           2\n",
       "        ...  \n",
       "9997     9997\n",
       "9998    19998\n",
       "9998     9998\n",
       "9999     9999\n",
       "9999    19999\n",
       "Length: 20000, dtype: int64"
      ]
     },
     "execution_count": 249,
     "metadata": {},
     "output_type": "execute_result"
    }
   ],
   "source": [
    "# sort the series using sort_index function \n",
    "duplicate_series = duplicate_series.sort_index()"
   ]
  },
  {
   "cell_type": "code",
   "execution_count": 251,
   "id": "5747e162",
   "metadata": {},
   "outputs": [
    {
     "name": "stdout",
     "output_type": "stream",
     "text": [
      "79.3 µs ± 4.48 µs per loop (mean ± std. dev. of 7 runs, 10000 loops each)\n"
     ]
    }
   ],
   "source": [
    "%timeit duplicate_series.loc[5000]"
   ]
  },
  {
   "cell_type": "code",
   "execution_count": 252,
   "id": "d169d439",
   "metadata": {},
   "outputs": [],
   "source": [
    "# This cell contains some utility functions to prepare and execute the benchmarks\n",
    "import timeit\n",
    "from random import choice\n",
    "from string import ascii_uppercase\n",
    "\n",
    "def random_string(length):\n",
    "    \"\"\"Produce a random string made of *length* uppercase ascii characters\"\"\"\n",
    "    return ''.join(choice(ascii_uppercase) for i in range(length))\n",
    "\n",
    "def print_scaling(stmt, setup, sizes=[10000, 20000, 30000], repeat=False, units='us'):\n",
    "    \"\"\"Print scaling information for the statement *stmt*, executed after *setup*.\n",
    "    \n",
    "    The *setup* and *stmt* arguments take a template string where \"{N}\"\n",
    "    will be replaced as the size of the input.\n",
    "    \n",
    "    The *repeat* flags determined if the setup needs to be run between\n",
    "    each test run.\n",
    "    \"\"\"\n",
    "    values = []\n",
    "    for size in sizes:\n",
    "        if repeat:\n",
    "            timings = timeit.repeat(stmt.format(N=size),\n",
    "                                    setup=setup.format(N=size),\n",
    "                                    number=1, repeat=1000)\n",
    "            values.append(min(timings))\n",
    "        else:\n",
    "            timings = timeit.repeat(stmt.format(N=size),\n",
    "                                    setup=setup.format(N=size),\n",
    "                                    number=1000, repeat=3)\n",
    "            values.append(min(t/1000 for t in timings))\n",
    "    unit_factor = {'us': 1e6,\n",
    "                   'ms': 1e3}[units]\n",
    "    \n",
    "    print(' | '.join('N = {} t = {:.2f} ({})'.format(n, t * unit_factor, units) for n, t in zip(sizes, values)))"
   ]
  },
  {
   "cell_type": "code",
   "execution_count": 255,
   "id": "5c0899f7",
   "metadata": {},
   "outputs": [
    {
     "name": "stdout",
     "output_type": "stream",
     "text": [
      "N = 10000 t = 6.18 (us) | N = 20000 t = 5.41 (us) | N = 30000 t = 4.98 (us)\n"
     ]
    }
   ],
   "source": [
    "print_scaling('series[1000]',\n",
    "              setup='import pandas as pd; series = pd.Series(range({N}), index=range({N}))')"
   ]
  },
  {
   "cell_type": "code",
   "execution_count": 256,
   "id": "e07b8d8c",
   "metadata": {},
   "outputs": [
    {
     "name": "stdout",
     "output_type": "stream",
     "text": [
      "N = 10000 t = 84.13 (us) | N = 20000 t = 87.79 (us) | N = 30000 t = 93.39 (us)\n"
     ]
    }
   ],
   "source": [
    "setup_code = '''\n",
    "import pandas as pd\n",
    "import random\n",
    "\n",
    "index = list(range({N}//2)) + list(range({N}//2))\n",
    "random.seed(42)\n",
    "random.shuffle(index)\n",
    "\n",
    "series = pd.Series(range({N}), index=index)\n",
    "'''\n",
    "print_scaling('series[1000]',\n",
    "              setup=setup_code)"
   ]
  },
  {
   "cell_type": "code",
   "execution_count": 257,
   "id": "dd26d6b0",
   "metadata": {},
   "outputs": [
    {
     "data": {
      "text/html": [
       "<div>\n",
       "<style scoped>\n",
       "    .dataframe tbody tr th:only-of-type {\n",
       "        vertical-align: middle;\n",
       "    }\n",
       "\n",
       "    .dataframe tbody tr th {\n",
       "        vertical-align: top;\n",
       "    }\n",
       "\n",
       "    .dataframe thead th {\n",
       "        text-align: right;\n",
       "    }\n",
       "</style>\n",
       "<table border=\"1\" class=\"dataframe\">\n",
       "  <thead>\n",
       "    <tr style=\"text-align: right;\">\n",
       "      <th></th>\n",
       "      <th>sys_initial</th>\n",
       "      <th>dia_initial</th>\n",
       "      <th>sys_final</th>\n",
       "      <th>dia_final</th>\n",
       "    </tr>\n",
       "  </thead>\n",
       "  <tbody>\n",
       "    <tr>\n",
       "      <th>a</th>\n",
       "      <td>120</td>\n",
       "      <td>75</td>\n",
       "      <td>115</td>\n",
       "      <td>70</td>\n",
       "    </tr>\n",
       "    <tr>\n",
       "      <th>b</th>\n",
       "      <td>126</td>\n",
       "      <td>85</td>\n",
       "      <td>130</td>\n",
       "      <td>82</td>\n",
       "    </tr>\n",
       "    <tr>\n",
       "      <th>c</th>\n",
       "      <td>110</td>\n",
       "      <td>890</td>\n",
       "      <td>132</td>\n",
       "      <td>87</td>\n",
       "    </tr>\n",
       "    <tr>\n",
       "      <th>d</th>\n",
       "      <td>130</td>\n",
       "      <td>87</td>\n",
       "      <td>110</td>\n",
       "      <td>83</td>\n",
       "    </tr>\n",
       "  </tbody>\n",
       "</table>\n",
       "</div>"
      ],
      "text/plain": [
       "   sys_initial  dia_initial  sys_final  dia_final\n",
       "a          120           75        115         70\n",
       "b          126           85        130         82\n",
       "c          110          890        132         87\n",
       "d          130           87        110         83"
      ]
     },
     "execution_count": 257,
     "metadata": {},
     "output_type": "execute_result"
    }
   ],
   "source": [
    "df"
   ]
  },
  {
   "cell_type": "markdown",
   "id": "cf5a7e8a",
   "metadata": {},
   "source": [
    "# Pandas Mapping"
   ]
  },
  {
   "cell_type": "code",
   "execution_count": null,
   "id": "f44419ca",
   "metadata": {},
   "outputs": [
    {
     "data": {
      "text/plain": [
       "a    4.744932\n",
       "b    4.867534\n",
       "c    4.882802\n",
       "d    4.700480\n",
       "Name: sys_final, dtype: float64"
      ]
     },
     "execution_count": 258,
     "metadata": {},
     "output_type": "execute_result"
    }
   ],
   "source": [
    "# Apply numpy log to sys_final column\n",
    "np.log(df.sys_final)"
   ]
  },
  {
   "cell_type": "code",
   "execution_count": 259,
   "id": "dd25d9e2",
   "metadata": {},
   "outputs": [
    {
     "data": {
      "text/plain": [
       "a    13225\n",
       "b    16900\n",
       "c    17424\n",
       "d    12100\n",
       "Name: sys_final, dtype: int64"
      ]
     },
     "execution_count": 259,
     "metadata": {},
     "output_type": "execute_result"
    }
   ],
   "source": [
    "df.sys_final ** 2"
   ]
  },
  {
   "cell_type": "code",
   "execution_count": 260,
   "id": "cf4a951c",
   "metadata": {},
   "outputs": [
    {
     "data": {
      "text/html": [
       "<div>\n",
       "<style scoped>\n",
       "    .dataframe tbody tr th:only-of-type {\n",
       "        vertical-align: middle;\n",
       "    }\n",
       "\n",
       "    .dataframe tbody tr th {\n",
       "        vertical-align: top;\n",
       "    }\n",
       "\n",
       "    .dataframe thead th {\n",
       "        text-align: right;\n",
       "    }\n",
       "</style>\n",
       "<table border=\"1\" class=\"dataframe\">\n",
       "  <thead>\n",
       "    <tr style=\"text-align: right;\">\n",
       "      <th></th>\n",
       "      <th>sys_initial</th>\n",
       "      <th>dia_initial</th>\n",
       "      <th>sys_final</th>\n",
       "      <th>dia_final</th>\n",
       "    </tr>\n",
       "  </thead>\n",
       "  <tbody>\n",
       "    <tr>\n",
       "      <th>a</th>\n",
       "      <td>4.787492</td>\n",
       "      <td>4.317488</td>\n",
       "      <td>4.744932</td>\n",
       "      <td>4.248495</td>\n",
       "    </tr>\n",
       "    <tr>\n",
       "      <th>b</th>\n",
       "      <td>4.836282</td>\n",
       "      <td>4.442651</td>\n",
       "      <td>4.867534</td>\n",
       "      <td>4.406719</td>\n",
       "    </tr>\n",
       "    <tr>\n",
       "      <th>c</th>\n",
       "      <td>4.700480</td>\n",
       "      <td>6.791221</td>\n",
       "      <td>4.882802</td>\n",
       "      <td>4.465908</td>\n",
       "    </tr>\n",
       "    <tr>\n",
       "      <th>d</th>\n",
       "      <td>4.867534</td>\n",
       "      <td>4.465908</td>\n",
       "      <td>4.700480</td>\n",
       "      <td>4.418841</td>\n",
       "    </tr>\n",
       "  </tbody>\n",
       "</table>\n",
       "</div>"
      ],
      "text/plain": [
       "   sys_initial  dia_initial  sys_final  dia_final\n",
       "a     4.787492     4.317488   4.744932   4.248495\n",
       "b     4.836282     4.442651   4.867534   4.406719\n",
       "c     4.700480     6.791221   4.882802   4.465908\n",
       "d     4.867534     4.465908   4.700480   4.418841"
      ]
     },
     "execution_count": 260,
     "metadata": {},
     "output_type": "execute_result"
    }
   ],
   "source": [
    "np.log(df)"
   ]
  },
  {
   "cell_type": "markdown",
   "id": "26061b9c",
   "metadata": {},
   "source": [
    "# Adding 2 series with same indexes "
   ]
  },
  {
   "cell_type": "code",
   "execution_count": 261,
   "id": "d05ecf93",
   "metadata": {},
   "outputs": [
    {
     "data": {
      "text/plain": [
       "a    1\n",
       "b    2\n",
       "c    3\n",
       "dtype: int64"
      ]
     },
     "execution_count": 261,
     "metadata": {},
     "output_type": "execute_result"
    }
   ],
   "source": [
    "# matching index summation \n",
    "a = pd.Series([1,2,3], index=['a', 'b', 'c'])\n",
    "a"
   ]
  },
  {
   "cell_type": "code",
   "execution_count": 262,
   "id": "cfe9ad42",
   "metadata": {},
   "outputs": [
    {
     "data": {
      "text/plain": [
       "a    4\n",
       "b    5\n",
       "c    6\n",
       "dtype: int64"
      ]
     },
     "execution_count": 262,
     "metadata": {},
     "output_type": "execute_result"
    }
   ],
   "source": [
    "b = pd.Series([4,5,6], index=['a', 'b', 'c'])\n",
    "b"
   ]
  },
  {
   "cell_type": "code",
   "execution_count": 263,
   "id": "c68e381c",
   "metadata": {},
   "outputs": [
    {
     "data": {
      "text/plain": [
       "a    5\n",
       "b    7\n",
       "c    9\n",
       "dtype: int64"
      ]
     },
     "execution_count": 263,
     "metadata": {},
     "output_type": "execute_result"
    }
   ],
   "source": [
    "a + b"
   ]
  },
  {
   "cell_type": "markdown",
   "id": "56eb5297",
   "metadata": {},
   "source": [
    "# Adding 2 series with different indexes"
   ]
  },
  {
   "cell_type": "code",
   "execution_count": 264,
   "id": "5fd59f13",
   "metadata": {},
   "outputs": [
    {
     "data": {
      "text/plain": [
       "a    1\n",
       "b    2\n",
       "c    3\n",
       "dtype: int64"
      ]
     },
     "execution_count": 264,
     "metadata": {},
     "output_type": "execute_result"
    }
   ],
   "source": [
    "a = pd.Series([1,2,3], index=['a', 'b', 'c'])\n",
    "a"
   ]
  },
  {
   "cell_type": "code",
   "execution_count": 265,
   "id": "2a0e8764",
   "metadata": {},
   "outputs": [
    {
     "data": {
      "text/plain": [
       "b    1\n",
       "c    2\n",
       "d    3\n",
       "dtype: int64"
      ]
     },
     "execution_count": 265,
     "metadata": {},
     "output_type": "execute_result"
    }
   ],
   "source": [
    "b = pd.Series([1,2,3], index=['b', 'c', 'd'])\n",
    "b"
   ]
  },
  {
   "cell_type": "code",
   "execution_count": 266,
   "id": "b3cd0344",
   "metadata": {},
   "outputs": [
    {
     "data": {
      "text/plain": [
       "a    NaN\n",
       "b    3.0\n",
       "c    5.0\n",
       "d    NaN\n",
       "dtype: float64"
      ]
     },
     "execution_count": 266,
     "metadata": {},
     "output_type": "execute_result"
    }
   ],
   "source": [
    "a + b"
   ]
  },
  {
   "cell_type": "markdown",
   "id": "1b94c77d",
   "metadata": {},
   "source": [
    "# Map"
   ]
  },
  {
   "cell_type": "code",
   "execution_count": 267,
   "id": "36452771",
   "metadata": {},
   "outputs": [
    {
     "data": {
      "text/plain": [
       "a    *1*\n",
       "b    *2*\n",
       "c    *3*\n",
       "dtype: object"
      ]
     },
     "execution_count": 267,
     "metadata": {},
     "output_type": "execute_result"
    }
   ],
   "source": [
    "# call a function for every value in the dataframe \n",
    "\n",
    "def superstar(x): \n",
    "    return '*' + str(x) + '*'\n",
    "\n",
    "a.map(superstar)"
   ]
  },
  {
   "cell_type": "markdown",
   "id": "cd3cdc3e",
   "metadata": {},
   "source": [
    "# applymap - for dataframes only"
   ]
  },
  {
   "cell_type": "code",
   "execution_count": 268,
   "id": "ce41c6a7",
   "metadata": {},
   "outputs": [
    {
     "data": {
      "text/html": [
       "<div>\n",
       "<style scoped>\n",
       "    .dataframe tbody tr th:only-of-type {\n",
       "        vertical-align: middle;\n",
       "    }\n",
       "\n",
       "    .dataframe tbody tr th {\n",
       "        vertical-align: top;\n",
       "    }\n",
       "\n",
       "    .dataframe thead th {\n",
       "        text-align: right;\n",
       "    }\n",
       "</style>\n",
       "<table border=\"1\" class=\"dataframe\">\n",
       "  <thead>\n",
       "    <tr style=\"text-align: right;\">\n",
       "      <th></th>\n",
       "      <th>sys_initial</th>\n",
       "      <th>dia_initial</th>\n",
       "      <th>sys_final</th>\n",
       "      <th>dia_final</th>\n",
       "    </tr>\n",
       "  </thead>\n",
       "  <tbody>\n",
       "    <tr>\n",
       "      <th>a</th>\n",
       "      <td>*120*</td>\n",
       "      <td>*75*</td>\n",
       "      <td>*115*</td>\n",
       "      <td>*70*</td>\n",
       "    </tr>\n",
       "    <tr>\n",
       "      <th>b</th>\n",
       "      <td>*126*</td>\n",
       "      <td>*85*</td>\n",
       "      <td>*130*</td>\n",
       "      <td>*82*</td>\n",
       "    </tr>\n",
       "    <tr>\n",
       "      <th>c</th>\n",
       "      <td>*110*</td>\n",
       "      <td>*890*</td>\n",
       "      <td>*132*</td>\n",
       "      <td>*87*</td>\n",
       "    </tr>\n",
       "    <tr>\n",
       "      <th>d</th>\n",
       "      <td>*130*</td>\n",
       "      <td>*87*</td>\n",
       "      <td>*110*</td>\n",
       "      <td>*83*</td>\n",
       "    </tr>\n",
       "  </tbody>\n",
       "</table>\n",
       "</div>"
      ],
      "text/plain": [
       "  sys_initial dia_initial sys_final dia_final\n",
       "a       *120*        *75*     *115*      *70*\n",
       "b       *126*        *85*     *130*      *82*\n",
       "c       *110*       *890*     *132*      *87*\n",
       "d       *130*        *87*     *110*      *83*"
      ]
     },
     "execution_count": 268,
     "metadata": {},
     "output_type": "execute_result"
    }
   ],
   "source": [
    "df.applymap(superstar)"
   ]
  },
  {
   "cell_type": "markdown",
   "id": "162c6e4a",
   "metadata": {},
   "source": [
    "# apply function "
   ]
  },
  {
   "cell_type": "code",
   "execution_count": 269,
   "id": "c509a6dd",
   "metadata": {},
   "outputs": [
    {
     "data": {
      "text/plain": [
       "sys_initial    *a    120\\nb    126\\nc    110\\nd    130\\nName:...\n",
       "dia_initial    *a     75\\nb     85\\nc    890\\nd     87\\nName:...\n",
       "sys_final      *a    115\\nb    130\\nc    132\\nd    110\\nName:...\n",
       "dia_final      *a    70\\nb    82\\nc    87\\nd    83\\nName: dia...\n",
       "dtype: object"
      ]
     },
     "execution_count": 269,
     "metadata": {},
     "output_type": "execute_result"
    }
   ],
   "source": [
    "df.apply(superstar, axis=0)"
   ]
  },
  {
   "cell_type": "code",
   "execution_count": 270,
   "id": "bcbf3255",
   "metadata": {},
   "outputs": [
    {
     "data": {
      "text/plain": [
       "a    *sys_initial    120\\ndia_initial     75\\nsys_f...\n",
       "b    *sys_initial    126\\ndia_initial     85\\nsys_f...\n",
       "c    *sys_initial    110\\ndia_initial    890\\nsys_f...\n",
       "d    *sys_initial    130\\ndia_initial     87\\nsys_f...\n",
       "dtype: object"
      ]
     },
     "execution_count": 270,
     "metadata": {},
     "output_type": "execute_result"
    }
   ],
   "source": [
    "df.apply(superstar, axis=1)"
   ]
  },
  {
   "cell_type": "markdown",
   "id": "eb406a87",
   "metadata": {},
   "source": [
    "# Using numexpr eval function in pandas "
   ]
  },
  {
   "cell_type": "code",
   "execution_count": 272,
   "id": "8eb62706",
   "metadata": {},
   "outputs": [
    {
     "data": {
      "text/plain": [
       "a    -5\n",
       "b     4\n",
       "c    22\n",
       "d   -20\n",
       "dtype: int64"
      ]
     },
     "execution_count": 272,
     "metadata": {},
     "output_type": "execute_result"
    }
   ],
   "source": [
    "df.eval(\"sys_final - sys_initial\")"
   ]
  },
  {
   "cell_type": "code",
   "execution_count": 301,
   "id": "4fde4cbf",
   "metadata": {},
   "outputs": [],
   "source": [
    "# create new column ; inplace=True will change the underlying dataframe; inplace=False will not change the dataframe\n",
    "df.eval('sys_delta = sys_final - sys_initial', inplace=True)"
   ]
  },
  {
   "cell_type": "code",
   "execution_count": 302,
   "id": "d525d4d1",
   "metadata": {},
   "outputs": [
    {
     "data": {
      "text/html": [
       "<div>\n",
       "<style scoped>\n",
       "    .dataframe tbody tr th:only-of-type {\n",
       "        vertical-align: middle;\n",
       "    }\n",
       "\n",
       "    .dataframe tbody tr th {\n",
       "        vertical-align: top;\n",
       "    }\n",
       "\n",
       "    .dataframe thead th {\n",
       "        text-align: right;\n",
       "    }\n",
       "</style>\n",
       "<table border=\"1\" class=\"dataframe\">\n",
       "  <thead>\n",
       "    <tr style=\"text-align: right;\">\n",
       "      <th></th>\n",
       "      <th>sys_initial</th>\n",
       "      <th>dia_initial</th>\n",
       "      <th>sys_final</th>\n",
       "      <th>dia_final</th>\n",
       "      <th>sys_delta</th>\n",
       "    </tr>\n",
       "  </thead>\n",
       "  <tbody>\n",
       "    <tr>\n",
       "      <th>a</th>\n",
       "      <td>120</td>\n",
       "      <td>75</td>\n",
       "      <td>115</td>\n",
       "      <td>70</td>\n",
       "      <td>-5</td>\n",
       "    </tr>\n",
       "    <tr>\n",
       "      <th>b</th>\n",
       "      <td>126</td>\n",
       "      <td>85</td>\n",
       "      <td>130</td>\n",
       "      <td>82</td>\n",
       "      <td>4</td>\n",
       "    </tr>\n",
       "    <tr>\n",
       "      <th>c</th>\n",
       "      <td>110</td>\n",
       "      <td>890</td>\n",
       "      <td>132</td>\n",
       "      <td>87</td>\n",
       "      <td>22</td>\n",
       "    </tr>\n",
       "    <tr>\n",
       "      <th>d</th>\n",
       "      <td>130</td>\n",
       "      <td>87</td>\n",
       "      <td>110</td>\n",
       "      <td>83</td>\n",
       "      <td>-20</td>\n",
       "    </tr>\n",
       "  </tbody>\n",
       "</table>\n",
       "</div>"
      ],
      "text/plain": [
       "   sys_initial  dia_initial  sys_final  dia_final  sys_delta\n",
       "a          120           75        115         70         -5\n",
       "b          126           85        130         82          4\n",
       "c          110          890        132         87         22\n",
       "d          130           87        110         83        -20"
      ]
     },
     "execution_count": 302,
     "metadata": {},
     "output_type": "execute_result"
    }
   ],
   "source": [
    "df"
   ]
  },
  {
   "cell_type": "code",
   "execution_count": 287,
   "id": "366ee556",
   "metadata": {},
   "outputs": [
    {
     "data": {
      "text/html": [
       "<div>\n",
       "<style scoped>\n",
       "    .dataframe tbody tr th:only-of-type {\n",
       "        vertical-align: middle;\n",
       "    }\n",
       "\n",
       "    .dataframe tbody tr th {\n",
       "        vertical-align: top;\n",
       "    }\n",
       "\n",
       "    .dataframe thead th {\n",
       "        text-align: right;\n",
       "    }\n",
       "</style>\n",
       "<table border=\"1\" class=\"dataframe\">\n",
       "  <thead>\n",
       "    <tr style=\"text-align: right;\">\n",
       "      <th></th>\n",
       "      <th>sys_initial</th>\n",
       "      <th>dia_initial</th>\n",
       "      <th>sys_final</th>\n",
       "      <th>dia_final</th>\n",
       "      <th>sys_delta</th>\n",
       "      <th>sys_delta1</th>\n",
       "    </tr>\n",
       "  </thead>\n",
       "  <tbody>\n",
       "    <tr>\n",
       "      <th>a</th>\n",
       "      <td>120</td>\n",
       "      <td>75</td>\n",
       "      <td>115</td>\n",
       "      <td>70</td>\n",
       "      <td>-5</td>\n",
       "      <td>-5</td>\n",
       "    </tr>\n",
       "    <tr>\n",
       "      <th>b</th>\n",
       "      <td>126</td>\n",
       "      <td>85</td>\n",
       "      <td>130</td>\n",
       "      <td>82</td>\n",
       "      <td>4</td>\n",
       "      <td>4</td>\n",
       "    </tr>\n",
       "    <tr>\n",
       "      <th>c</th>\n",
       "      <td>110</td>\n",
       "      <td>890</td>\n",
       "      <td>132</td>\n",
       "      <td>87</td>\n",
       "      <td>22</td>\n",
       "      <td>22</td>\n",
       "    </tr>\n",
       "    <tr>\n",
       "      <th>d</th>\n",
       "      <td>130</td>\n",
       "      <td>87</td>\n",
       "      <td>110</td>\n",
       "      <td>83</td>\n",
       "      <td>-20</td>\n",
       "      <td>-20</td>\n",
       "    </tr>\n",
       "  </tbody>\n",
       "</table>\n",
       "</div>"
      ],
      "text/plain": [
       "   sys_initial  dia_initial  sys_final  dia_final  sys_delta  sys_delta1\n",
       "a          120           75        115         70         -5          -5\n",
       "b          126           85        130         82          4           4\n",
       "c          110          890        132         87         22          22\n",
       "d          130           87        110         83        -20         -20"
      ]
     },
     "execution_count": 287,
     "metadata": {},
     "output_type": "execute_result"
    }
   ],
   "source": [
    "df.eval('sys_delta1 = sys_final - sys_initial', inplace=False)"
   ]
  },
  {
   "cell_type": "code",
   "execution_count": 288,
   "id": "4c038029",
   "metadata": {},
   "outputs": [
    {
     "data": {
      "text/html": [
       "<div>\n",
       "<style scoped>\n",
       "    .dataframe tbody tr th:only-of-type {\n",
       "        vertical-align: middle;\n",
       "    }\n",
       "\n",
       "    .dataframe tbody tr th {\n",
       "        vertical-align: top;\n",
       "    }\n",
       "\n",
       "    .dataframe thead th {\n",
       "        text-align: right;\n",
       "    }\n",
       "</style>\n",
       "<table border=\"1\" class=\"dataframe\">\n",
       "  <thead>\n",
       "    <tr style=\"text-align: right;\">\n",
       "      <th></th>\n",
       "      <th>sys_initial</th>\n",
       "      <th>dia_initial</th>\n",
       "      <th>sys_final</th>\n",
       "      <th>dia_final</th>\n",
       "      <th>sys_delta</th>\n",
       "    </tr>\n",
       "  </thead>\n",
       "  <tbody>\n",
       "    <tr>\n",
       "      <th>a</th>\n",
       "      <td>120</td>\n",
       "      <td>75</td>\n",
       "      <td>115</td>\n",
       "      <td>70</td>\n",
       "      <td>-5</td>\n",
       "    </tr>\n",
       "    <tr>\n",
       "      <th>b</th>\n",
       "      <td>126</td>\n",
       "      <td>85</td>\n",
       "      <td>130</td>\n",
       "      <td>82</td>\n",
       "      <td>4</td>\n",
       "    </tr>\n",
       "    <tr>\n",
       "      <th>c</th>\n",
       "      <td>110</td>\n",
       "      <td>890</td>\n",
       "      <td>132</td>\n",
       "      <td>87</td>\n",
       "      <td>22</td>\n",
       "    </tr>\n",
       "    <tr>\n",
       "      <th>d</th>\n",
       "      <td>130</td>\n",
       "      <td>87</td>\n",
       "      <td>110</td>\n",
       "      <td>83</td>\n",
       "      <td>-20</td>\n",
       "    </tr>\n",
       "  </tbody>\n",
       "</table>\n",
       "</div>"
      ],
      "text/plain": [
       "   sys_initial  dia_initial  sys_final  dia_final  sys_delta\n",
       "a          120           75        115         70         -5\n",
       "b          126           85        130         82          4\n",
       "c          110          890        132         87         22\n",
       "d          130           87        110         83        -20"
      ]
     },
     "execution_count": 288,
     "metadata": {},
     "output_type": "execute_result"
    }
   ],
   "source": [
    "df"
   ]
  },
  {
   "cell_type": "markdown",
   "id": "60ce45aa",
   "metadata": {},
   "source": [
    "# Grouping, Aggregation and transformation"
   ]
  },
  {
   "cell_type": "code",
   "execution_count": 303,
   "id": "469f7a5f",
   "metadata": {},
   "outputs": [],
   "source": [
    "df_copy = df.copy()"
   ]
  },
  {
   "cell_type": "code",
   "execution_count": 332,
   "id": "01bac7d5",
   "metadata": {},
   "outputs": [
    {
     "data": {
      "text/html": [
       "<div>\n",
       "<style scoped>\n",
       "    .dataframe tbody tr th:only-of-type {\n",
       "        vertical-align: middle;\n",
       "    }\n",
       "\n",
       "    .dataframe tbody tr th {\n",
       "        vertical-align: top;\n",
       "    }\n",
       "\n",
       "    .dataframe thead th {\n",
       "        text-align: right;\n",
       "    }\n",
       "</style>\n",
       "<table border=\"1\" class=\"dataframe\">\n",
       "  <thead>\n",
       "    <tr style=\"text-align: right;\">\n",
       "      <th></th>\n",
       "      <th>sys_initial</th>\n",
       "      <th>dia_initial</th>\n",
       "      <th>sys_final</th>\n",
       "      <th>dia_final</th>\n",
       "      <th>sys_delta</th>\n",
       "    </tr>\n",
       "  </thead>\n",
       "  <tbody>\n",
       "    <tr>\n",
       "      <th>a</th>\n",
       "      <td>120</td>\n",
       "      <td>75</td>\n",
       "      <td>115</td>\n",
       "      <td>70</td>\n",
       "      <td>-5</td>\n",
       "    </tr>\n",
       "    <tr>\n",
       "      <th>b</th>\n",
       "      <td>126</td>\n",
       "      <td>85</td>\n",
       "      <td>130</td>\n",
       "      <td>82</td>\n",
       "      <td>4</td>\n",
       "    </tr>\n",
       "    <tr>\n",
       "      <th>c</th>\n",
       "      <td>110</td>\n",
       "      <td>890</td>\n",
       "      <td>132</td>\n",
       "      <td>87</td>\n",
       "      <td>22</td>\n",
       "    </tr>\n",
       "    <tr>\n",
       "      <th>d</th>\n",
       "      <td>130</td>\n",
       "      <td>87</td>\n",
       "      <td>110</td>\n",
       "      <td>83</td>\n",
       "      <td>-20</td>\n",
       "    </tr>\n",
       "    <tr>\n",
       "      <th>4</th>\n",
       "      <td>136</td>\n",
       "      <td>90</td>\n",
       "      <td>134</td>\n",
       "      <td>85</td>\n",
       "      <td>-2</td>\n",
       "    </tr>\n",
       "    <tr>\n",
       "      <th>5</th>\n",
       "      <td>144</td>\n",
       "      <td>83</td>\n",
       "      <td>165</td>\n",
       "      <td>87</td>\n",
       "      <td>21</td>\n",
       "    </tr>\n",
       "  </tbody>\n",
       "</table>\n",
       "</div>"
      ],
      "text/plain": [
       "   sys_initial  dia_initial  sys_final  dia_final  sys_delta\n",
       "a          120           75        115         70         -5\n",
       "b          126           85        130         82          4\n",
       "c          110          890        132         87         22\n",
       "d          130           87        110         83        -20\n",
       "4          136           90        134         85         -2\n",
       "5          144           83        165         87         21"
      ]
     },
     "execution_count": 332,
     "metadata": {},
     "output_type": "execute_result"
    }
   ],
   "source": [
    "# add 2 more rows to existing dataframe \n",
    "df.loc[len(df)] = [136, 90, 134, 85, -2]\n",
    "df.loc[len(df)] = [144, 83, 165, 87, 21]\n",
    "df"
   ]
  },
  {
   "cell_type": "code",
   "execution_count": 333,
   "id": "0ee41468",
   "metadata": {},
   "outputs": [],
   "source": [
    "df.index = ['a', 'b', 'c', 'd', 'e', 'f']"
   ]
  },
  {
   "cell_type": "code",
   "execution_count": 334,
   "id": "1f9aeb16",
   "metadata": {},
   "outputs": [
    {
     "data": {
      "text/html": [
       "<div>\n",
       "<style scoped>\n",
       "    .dataframe tbody tr th:only-of-type {\n",
       "        vertical-align: middle;\n",
       "    }\n",
       "\n",
       "    .dataframe tbody tr th {\n",
       "        vertical-align: top;\n",
       "    }\n",
       "\n",
       "    .dataframe thead th {\n",
       "        text-align: right;\n",
       "    }\n",
       "</style>\n",
       "<table border=\"1\" class=\"dataframe\">\n",
       "  <thead>\n",
       "    <tr style=\"text-align: right;\">\n",
       "      <th></th>\n",
       "      <th>sys_initial</th>\n",
       "      <th>dia_initial</th>\n",
       "      <th>sys_final</th>\n",
       "      <th>dia_final</th>\n",
       "      <th>sys_delta</th>\n",
       "    </tr>\n",
       "  </thead>\n",
       "  <tbody>\n",
       "    <tr>\n",
       "      <th>a</th>\n",
       "      <td>120</td>\n",
       "      <td>75</td>\n",
       "      <td>115</td>\n",
       "      <td>70</td>\n",
       "      <td>-5</td>\n",
       "    </tr>\n",
       "    <tr>\n",
       "      <th>b</th>\n",
       "      <td>126</td>\n",
       "      <td>85</td>\n",
       "      <td>130</td>\n",
       "      <td>82</td>\n",
       "      <td>4</td>\n",
       "    </tr>\n",
       "    <tr>\n",
       "      <th>c</th>\n",
       "      <td>110</td>\n",
       "      <td>890</td>\n",
       "      <td>132</td>\n",
       "      <td>87</td>\n",
       "      <td>22</td>\n",
       "    </tr>\n",
       "    <tr>\n",
       "      <th>d</th>\n",
       "      <td>130</td>\n",
       "      <td>87</td>\n",
       "      <td>110</td>\n",
       "      <td>83</td>\n",
       "      <td>-20</td>\n",
       "    </tr>\n",
       "    <tr>\n",
       "      <th>e</th>\n",
       "      <td>136</td>\n",
       "      <td>90</td>\n",
       "      <td>134</td>\n",
       "      <td>85</td>\n",
       "      <td>-2</td>\n",
       "    </tr>\n",
       "    <tr>\n",
       "      <th>f</th>\n",
       "      <td>144</td>\n",
       "      <td>83</td>\n",
       "      <td>165</td>\n",
       "      <td>87</td>\n",
       "      <td>21</td>\n",
       "    </tr>\n",
       "  </tbody>\n",
       "</table>\n",
       "</div>"
      ],
      "text/plain": [
       "   sys_initial  dia_initial  sys_final  dia_final  sys_delta\n",
       "a          120           75        115         70         -5\n",
       "b          126           85        130         82          4\n",
       "c          110          890        132         87         22\n",
       "d          130           87        110         83        -20\n",
       "e          136           90        134         85         -2\n",
       "f          144           83        165         87         21"
      ]
     },
     "execution_count": 334,
     "metadata": {},
     "output_type": "execute_result"
    }
   ],
   "source": [
    "df"
   ]
  },
  {
   "cell_type": "code",
   "execution_count": 335,
   "id": "03567a04",
   "metadata": {},
   "outputs": [],
   "source": [
    "# add one more column called drug adminster\n",
    "df['drg_admn'] = [True, True, True, True, False, False]"
   ]
  },
  {
   "cell_type": "code",
   "execution_count": 336,
   "id": "5408e689",
   "metadata": {},
   "outputs": [
    {
     "data": {
      "text/html": [
       "<div>\n",
       "<style scoped>\n",
       "    .dataframe tbody tr th:only-of-type {\n",
       "        vertical-align: middle;\n",
       "    }\n",
       "\n",
       "    .dataframe tbody tr th {\n",
       "        vertical-align: top;\n",
       "    }\n",
       "\n",
       "    .dataframe thead th {\n",
       "        text-align: right;\n",
       "    }\n",
       "</style>\n",
       "<table border=\"1\" class=\"dataframe\">\n",
       "  <thead>\n",
       "    <tr style=\"text-align: right;\">\n",
       "      <th></th>\n",
       "      <th>sys_initial</th>\n",
       "      <th>dia_initial</th>\n",
       "      <th>sys_final</th>\n",
       "      <th>dia_final</th>\n",
       "      <th>sys_delta</th>\n",
       "      <th>drg_admn</th>\n",
       "    </tr>\n",
       "  </thead>\n",
       "  <tbody>\n",
       "    <tr>\n",
       "      <th>a</th>\n",
       "      <td>120</td>\n",
       "      <td>75</td>\n",
       "      <td>115</td>\n",
       "      <td>70</td>\n",
       "      <td>-5</td>\n",
       "      <td>True</td>\n",
       "    </tr>\n",
       "    <tr>\n",
       "      <th>b</th>\n",
       "      <td>126</td>\n",
       "      <td>85</td>\n",
       "      <td>130</td>\n",
       "      <td>82</td>\n",
       "      <td>4</td>\n",
       "      <td>True</td>\n",
       "    </tr>\n",
       "    <tr>\n",
       "      <th>c</th>\n",
       "      <td>110</td>\n",
       "      <td>890</td>\n",
       "      <td>132</td>\n",
       "      <td>87</td>\n",
       "      <td>22</td>\n",
       "      <td>True</td>\n",
       "    </tr>\n",
       "    <tr>\n",
       "      <th>d</th>\n",
       "      <td>130</td>\n",
       "      <td>87</td>\n",
       "      <td>110</td>\n",
       "      <td>83</td>\n",
       "      <td>-20</td>\n",
       "      <td>True</td>\n",
       "    </tr>\n",
       "    <tr>\n",
       "      <th>e</th>\n",
       "      <td>136</td>\n",
       "      <td>90</td>\n",
       "      <td>134</td>\n",
       "      <td>85</td>\n",
       "      <td>-2</td>\n",
       "      <td>False</td>\n",
       "    </tr>\n",
       "    <tr>\n",
       "      <th>f</th>\n",
       "      <td>144</td>\n",
       "      <td>83</td>\n",
       "      <td>165</td>\n",
       "      <td>87</td>\n",
       "      <td>21</td>\n",
       "      <td>False</td>\n",
       "    </tr>\n",
       "  </tbody>\n",
       "</table>\n",
       "</div>"
      ],
      "text/plain": [
       "   sys_initial  dia_initial  sys_final  dia_final  sys_delta  drg_admn\n",
       "a          120           75        115         70         -5      True\n",
       "b          126           85        130         82          4      True\n",
       "c          110          890        132         87         22      True\n",
       "d          130           87        110         83        -20      True\n",
       "e          136           90        134         85         -2     False\n",
       "f          144           83        165         87         21     False"
      ]
     },
     "execution_count": 336,
     "metadata": {},
     "output_type": "execute_result"
    }
   ],
   "source": [
    "df"
   ]
  },
  {
   "cell_type": "code",
   "execution_count": 337,
   "id": "1d3fd05e",
   "metadata": {},
   "outputs": [],
   "source": [
    "df_copy = df.copy()"
   ]
  },
  {
   "cell_type": "code",
   "execution_count": 338,
   "id": "f40ce1b6",
   "metadata": {},
   "outputs": [
    {
     "data": {
      "text/plain": [
       "<pandas.core.groupby.generic.DataFrameGroupBy object at 0x7fca30578d90>"
      ]
     },
     "execution_count": 338,
     "metadata": {},
     "output_type": "execute_result"
    }
   ],
   "source": [
    "df.groupby('drg_admn')"
   ]
  },
  {
   "cell_type": "code",
   "execution_count": 339,
   "id": "f2b406be",
   "metadata": {},
   "outputs": [
    {
     "name": "stdout",
     "output_type": "stream",
     "text": [
      "Value: False\n",
      "Group Dataframe:\n",
      "    sys_initial  dia_initial  sys_final  dia_final  sys_delta  drg_admn\n",
      "e          136           90        134         85         -2     False\n",
      "f          144           83        165         87         21     False\n",
      "\n",
      "\n",
      "Value: True\n",
      "Group Dataframe:\n",
      "    sys_initial  dia_initial  sys_final  dia_final  sys_delta  drg_admn\n",
      "a          120           75        115         70         -5      True\n",
      "b          126           85        130         82          4      True\n",
      "c          110          890        132         87         22      True\n",
      "d          130           87        110         83        -20      True\n",
      "\n",
      "\n"
     ]
    }
   ],
   "source": [
    "for value, group in df.groupby('drg_admn'):\n",
    "    print (f\"Value: {value}\")\n",
    "    print (f\"Group Dataframe:\\n {group}\")\n",
    "    print(\"\\n\")"
   ]
  },
  {
   "cell_type": "code",
   "execution_count": 340,
   "id": "683d5c49",
   "metadata": {},
   "outputs": [
    {
     "data": {
      "text/html": [
       "<div>\n",
       "<style scoped>\n",
       "    .dataframe tbody tr th:only-of-type {\n",
       "        vertical-align: middle;\n",
       "    }\n",
       "\n",
       "    .dataframe tbody tr th {\n",
       "        vertical-align: top;\n",
       "    }\n",
       "\n",
       "    .dataframe thead th {\n",
       "        text-align: right;\n",
       "    }\n",
       "</style>\n",
       "<table border=\"1\" class=\"dataframe\">\n",
       "  <thead>\n",
       "    <tr style=\"text-align: right;\">\n",
       "      <th></th>\n",
       "      <th>sys_initial</th>\n",
       "      <th>dia_initial</th>\n",
       "      <th>sys_final</th>\n",
       "      <th>dia_final</th>\n",
       "      <th>sys_delta</th>\n",
       "    </tr>\n",
       "    <tr>\n",
       "      <th>drg_admn</th>\n",
       "      <th></th>\n",
       "      <th></th>\n",
       "      <th></th>\n",
       "      <th></th>\n",
       "      <th></th>\n",
       "    </tr>\n",
       "  </thead>\n",
       "  <tbody>\n",
       "    <tr>\n",
       "      <th>False</th>\n",
       "      <td>140.0</td>\n",
       "      <td>86.50</td>\n",
       "      <td>149.50</td>\n",
       "      <td>86.0</td>\n",
       "      <td>9.50</td>\n",
       "    </tr>\n",
       "    <tr>\n",
       "      <th>True</th>\n",
       "      <td>121.5</td>\n",
       "      <td>284.25</td>\n",
       "      <td>121.75</td>\n",
       "      <td>80.5</td>\n",
       "      <td>0.25</td>\n",
       "    </tr>\n",
       "  </tbody>\n",
       "</table>\n",
       "</div>"
      ],
      "text/plain": [
       "          sys_initial  dia_initial  sys_final  dia_final  sys_delta\n",
       "drg_admn                                                           \n",
       "False           140.0        86.50     149.50       86.0       9.50\n",
       "True            121.5       284.25     121.75       80.5       0.25"
      ]
     },
     "execution_count": 340,
     "metadata": {},
     "output_type": "execute_result"
    }
   ],
   "source": [
    "# iteration of groupby object is rare due to method chaining as group by comes with aggregate funciton \n",
    "df.groupby('drg_admn').agg(np.mean)"
   ]
  },
  {
   "cell_type": "markdown",
   "id": "11e0d6b0",
   "metadata": {},
   "source": [
    "# transform"
   ]
  },
  {
   "cell_type": "code",
   "execution_count": 341,
   "id": "f0d1c6d4",
   "metadata": {},
   "outputs": [],
   "source": [
    "df = df_copy.copy()"
   ]
  },
  {
   "cell_type": "code",
   "execution_count": 344,
   "id": "ac6f24ec",
   "metadata": {},
   "outputs": [
    {
     "data": {
      "text/html": [
       "<div>\n",
       "<style scoped>\n",
       "    .dataframe tbody tr th:only-of-type {\n",
       "        vertical-align: middle;\n",
       "    }\n",
       "\n",
       "    .dataframe tbody tr th {\n",
       "        vertical-align: top;\n",
       "    }\n",
       "\n",
       "    .dataframe thead th {\n",
       "        text-align: right;\n",
       "    }\n",
       "</style>\n",
       "<table border=\"1\" class=\"dataframe\">\n",
       "  <thead>\n",
       "    <tr style=\"text-align: right;\">\n",
       "      <th></th>\n",
       "      <th>sys_initial</th>\n",
       "      <th>dia_initial</th>\n",
       "      <th>sys_final</th>\n",
       "      <th>dia_final</th>\n",
       "      <th>sys_delta</th>\n",
       "      <th>drg_admn</th>\n",
       "    </tr>\n",
       "  </thead>\n",
       "  <tbody>\n",
       "    <tr>\n",
       "      <th>a</th>\n",
       "      <td>NaN</td>\n",
       "      <td>75</td>\n",
       "      <td>115</td>\n",
       "      <td>70</td>\n",
       "      <td>-5</td>\n",
       "      <td>True</td>\n",
       "    </tr>\n",
       "    <tr>\n",
       "      <th>b</th>\n",
       "      <td>126.0</td>\n",
       "      <td>85</td>\n",
       "      <td>130</td>\n",
       "      <td>82</td>\n",
       "      <td>4</td>\n",
       "      <td>True</td>\n",
       "    </tr>\n",
       "    <tr>\n",
       "      <th>c</th>\n",
       "      <td>110.0</td>\n",
       "      <td>890</td>\n",
       "      <td>132</td>\n",
       "      <td>87</td>\n",
       "      <td>22</td>\n",
       "      <td>True</td>\n",
       "    </tr>\n",
       "    <tr>\n",
       "      <th>d</th>\n",
       "      <td>130.0</td>\n",
       "      <td>87</td>\n",
       "      <td>110</td>\n",
       "      <td>83</td>\n",
       "      <td>-20</td>\n",
       "      <td>True</td>\n",
       "    </tr>\n",
       "    <tr>\n",
       "      <th>e</th>\n",
       "      <td>136.0</td>\n",
       "      <td>90</td>\n",
       "      <td>134</td>\n",
       "      <td>85</td>\n",
       "      <td>-2</td>\n",
       "      <td>False</td>\n",
       "    </tr>\n",
       "    <tr>\n",
       "      <th>f</th>\n",
       "      <td>144.0</td>\n",
       "      <td>83</td>\n",
       "      <td>165</td>\n",
       "      <td>87</td>\n",
       "      <td>21</td>\n",
       "      <td>False</td>\n",
       "    </tr>\n",
       "  </tbody>\n",
       "</table>\n",
       "</div>"
      ],
      "text/plain": [
       "   sys_initial  dia_initial  sys_final  dia_final  sys_delta  drg_admn\n",
       "a          NaN           75        115         70         -5      True\n",
       "b        126.0           85        130         82          4      True\n",
       "c        110.0          890        132         87         22      True\n",
       "d        130.0           87        110         83        -20      True\n",
       "e        136.0           90        134         85         -2     False\n",
       "f        144.0           83        165         87         21     False"
      ]
     },
     "execution_count": 344,
     "metadata": {},
     "output_type": "execute_result"
    }
   ],
   "source": [
    "df"
   ]
  },
  {
   "cell_type": "code",
   "execution_count": 345,
   "id": "7162d4fb",
   "metadata": {},
   "outputs": [
    {
     "data": {
      "text/html": [
       "<div>\n",
       "<style scoped>\n",
       "    .dataframe tbody tr th:only-of-type {\n",
       "        vertical-align: middle;\n",
       "    }\n",
       "\n",
       "    .dataframe tbody tr th {\n",
       "        vertical-align: top;\n",
       "    }\n",
       "\n",
       "    .dataframe thead th {\n",
       "        text-align: right;\n",
       "    }\n",
       "</style>\n",
       "<table border=\"1\" class=\"dataframe\">\n",
       "  <thead>\n",
       "    <tr style=\"text-align: right;\">\n",
       "      <th></th>\n",
       "      <th>sys_initial</th>\n",
       "      <th>dia_initial</th>\n",
       "      <th>sys_final</th>\n",
       "      <th>dia_final</th>\n",
       "      <th>sys_delta</th>\n",
       "    </tr>\n",
       "  </thead>\n",
       "  <tbody>\n",
       "    <tr>\n",
       "      <th>a</th>\n",
       "      <td>122.0</td>\n",
       "      <td>75</td>\n",
       "      <td>115</td>\n",
       "      <td>70</td>\n",
       "      <td>-5</td>\n",
       "    </tr>\n",
       "    <tr>\n",
       "      <th>b</th>\n",
       "      <td>126.0</td>\n",
       "      <td>85</td>\n",
       "      <td>130</td>\n",
       "      <td>82</td>\n",
       "      <td>4</td>\n",
       "    </tr>\n",
       "    <tr>\n",
       "      <th>c</th>\n",
       "      <td>110.0</td>\n",
       "      <td>890</td>\n",
       "      <td>132</td>\n",
       "      <td>87</td>\n",
       "      <td>22</td>\n",
       "    </tr>\n",
       "    <tr>\n",
       "      <th>d</th>\n",
       "      <td>130.0</td>\n",
       "      <td>87</td>\n",
       "      <td>110</td>\n",
       "      <td>83</td>\n",
       "      <td>-20</td>\n",
       "    </tr>\n",
       "    <tr>\n",
       "      <th>e</th>\n",
       "      <td>136.0</td>\n",
       "      <td>90</td>\n",
       "      <td>134</td>\n",
       "      <td>85</td>\n",
       "      <td>-2</td>\n",
       "    </tr>\n",
       "    <tr>\n",
       "      <th>f</th>\n",
       "      <td>144.0</td>\n",
       "      <td>83</td>\n",
       "      <td>165</td>\n",
       "      <td>87</td>\n",
       "      <td>21</td>\n",
       "    </tr>\n",
       "  </tbody>\n",
       "</table>\n",
       "</div>"
      ],
      "text/plain": [
       "   sys_initial  dia_initial  sys_final  dia_final  sys_delta\n",
       "a        122.0           75        115         70         -5\n",
       "b        126.0           85        130         82          4\n",
       "c        110.0          890        132         87         22\n",
       "d        130.0           87        110         83        -20\n",
       "e        136.0           90        134         85         -2\n",
       "f        144.0           83        165         87         21"
      ]
     },
     "execution_count": 345,
     "metadata": {},
     "output_type": "execute_result"
    }
   ],
   "source": [
    "df.loc['a', 'sys_initial'] = None\n",
    "\n",
    "df.groupby('drg_admn').transform(lambda df: df.fillna(df.mean()))"
   ]
  },
  {
   "cell_type": "markdown",
   "id": "fe049ef1",
   "metadata": {},
   "source": [
    "# Xarray"
   ]
  },
  {
   "cell_type": "code",
   "execution_count": 349,
   "id": "f97e8ba8",
   "metadata": {},
   "outputs": [
    {
     "data": {
      "text/html": [
       "<div>\n",
       "<style scoped>\n",
       "    .dataframe tbody tr th:only-of-type {\n",
       "        vertical-align: middle;\n",
       "    }\n",
       "\n",
       "    .dataframe tbody tr th {\n",
       "        vertical-align: top;\n",
       "    }\n",
       "\n",
       "    .dataframe thead th {\n",
       "        text-align: right;\n",
       "    }\n",
       "</style>\n",
       "<table border=\"1\" class=\"dataframe\">\n",
       "  <thead>\n",
       "    <tr style=\"text-align: right;\">\n",
       "      <th></th>\n",
       "      <th></th>\n",
       "      <th>co2</th>\n",
       "    </tr>\n",
       "    <tr>\n",
       "      <th>year</th>\n",
       "      <th>month</th>\n",
       "      <th></th>\n",
       "    </tr>\n",
       "  </thead>\n",
       "  <tbody>\n",
       "    <tr>\n",
       "      <th rowspan=\"5\" valign=\"top\">1958</th>\n",
       "      <th>3</th>\n",
       "      <td>315.70</td>\n",
       "    </tr>\n",
       "    <tr>\n",
       "      <th>4</th>\n",
       "      <td>317.45</td>\n",
       "    </tr>\n",
       "    <tr>\n",
       "      <th>5</th>\n",
       "      <td>317.51</td>\n",
       "    </tr>\n",
       "    <tr>\n",
       "      <th>6</th>\n",
       "      <td>317.24</td>\n",
       "    </tr>\n",
       "    <tr>\n",
       "      <th>7</th>\n",
       "      <td>315.86</td>\n",
       "    </tr>\n",
       "  </tbody>\n",
       "</table>\n",
       "</div>"
      ],
      "text/plain": [
       "               co2\n",
       "year month        \n",
       "1958 3      315.70\n",
       "     4      317.45\n",
       "     5      317.51\n",
       "     6      317.24\n",
       "     7      315.86"
      ]
     },
     "execution_count": 349,
     "metadata": {},
     "output_type": "execute_result"
    }
   ],
   "source": [
    "# read the CO2 concentration file in data folder \n",
    "df = pd.read_csv('/Users/rohitabhishek/Documents/Programming_Workspace/Github-Programs/advanced-python/Chapter_3/data/monthly_co2.csv', index_col=[0, 1]) \n",
    "df.head()  "
   ]
  },
  {
   "cell_type": "code",
   "execution_count": 350,
   "id": "eea7c3e3",
   "metadata": {},
   "outputs": [
    {
     "data": {
      "text/html": [
       "<div>\n",
       "<style scoped>\n",
       "    .dataframe tbody tr th:only-of-type {\n",
       "        vertical-align: middle;\n",
       "    }\n",
       "\n",
       "    .dataframe tbody tr th {\n",
       "        vertical-align: top;\n",
       "    }\n",
       "\n",
       "    .dataframe thead th {\n",
       "        text-align: right;\n",
       "    }\n",
       "</style>\n",
       "<table border=\"1\" class=\"dataframe\">\n",
       "  <thead>\n",
       "    <tr style=\"text-align: right;\">\n",
       "      <th></th>\n",
       "      <th></th>\n",
       "      <th>co2</th>\n",
       "    </tr>\n",
       "    <tr>\n",
       "      <th>year</th>\n",
       "      <th>month</th>\n",
       "      <th></th>\n",
       "    </tr>\n",
       "  </thead>\n",
       "  <tbody>\n",
       "    <tr>\n",
       "      <th rowspan=\"4\" valign=\"top\">2020</th>\n",
       "      <th>9</th>\n",
       "      <td>411.19</td>\n",
       "    </tr>\n",
       "    <tr>\n",
       "      <th>10</th>\n",
       "      <td>411.15</td>\n",
       "    </tr>\n",
       "    <tr>\n",
       "      <th>11</th>\n",
       "      <td>412.88</td>\n",
       "    </tr>\n",
       "    <tr>\n",
       "      <th>12</th>\n",
       "      <td>413.89</td>\n",
       "    </tr>\n",
       "    <tr>\n",
       "      <th>2021</th>\n",
       "      <th>1</th>\n",
       "      <td>415.16</td>\n",
       "    </tr>\n",
       "  </tbody>\n",
       "</table>\n",
       "</div>"
      ],
      "text/plain": [
       "               co2\n",
       "year month        \n",
       "2020 9      411.19\n",
       "     10     411.15\n",
       "     11     412.88\n",
       "     12     413.89\n",
       "2021 1      415.16"
      ]
     },
     "execution_count": 350,
     "metadata": {},
     "output_type": "execute_result"
    }
   ],
   "source": [
    "df.tail()"
   ]
  },
  {
   "cell_type": "code",
   "execution_count": null,
   "id": "661030ef",
   "metadata": {},
   "outputs": [
    {
     "name": "stderr",
     "output_type": "stream",
     "text": [
      "No artists with labels found to put in legend.  Note that artists whose label start with an underscore are ignored when legend() is called with no argument.\n"
     ]
    },
    {
     "data": {
      "text/plain": [
       "<matplotlib.legend.Legend at 0x7fca125fea30>"
      ]
     },
     "execution_count": 352,
     "metadata": {},
     "output_type": "execute_result"
    },
    {
     "data": {
      "image/png": "[encoded data removed]",
      "text/plain": [
       "<Figure size 640x480 with 1 Axes>"
      ]
     },
     "metadata": {},
     "output_type": "display_data"
    }
   ],
   "source": [
    "#plot the co2 level\n",
    "import matplotlib.pyplot as plt\n",
    "plt.plot(df.co2.values)"
   ]
  },
  {
   "cell_type": "code",
   "execution_count": 354,
   "id": "ddf95500",
   "metadata": {},
   "outputs": [
    {
     "data": {
      "text/plain": [
       "year\n",
       "1958    315.233000\n",
       "1959    315.981667\n",
       "1960    316.909167\n",
       "1961    317.643333\n",
       "1962    318.454167\n",
       "Name: co2, dtype: float64"
      ]
     },
     "execution_count": 354,
     "metadata": {},
     "output_type": "execute_result"
    }
   ],
   "source": [
    "# to validate of the global co2 level has increased over time. Take average of the co2 level \n",
    "df_by_year = df.groupby('year').mean()['co2']\n",
    "df_by_year.head()"
   ]
  },
  {
   "cell_type": "code",
   "execution_count": 355,
   "id": "6160bd73",
   "metadata": {},
   "outputs": [
    {
     "data": {
      "text/plain": [
       "[<matplotlib.lines.Line2D at 0x7fca00cd1250>]"
      ]
     },
     "execution_count": 355,
     "metadata": {},
     "output_type": "execute_result"
    },
    {
     "data": {
      "image/png": "[encoded data removed]",
      "text/plain": [
       "<Figure size 640x480 with 1 Axes>"
      ]
     },
     "metadata": {},
     "output_type": "display_data"
    }
   ],
   "source": [
    "plt.plot(df_by_year)"
   ]
  },
  {
   "cell_type": "code",
   "execution_count": 356,
   "id": "1ba72df2",
   "metadata": {},
   "outputs": [
    {
     "data": {
      "text/plain": [
       "month\n",
       "1     356.467302\n",
       "2     356.284677\n",
       "3     356.435238\n",
       "4     357.801111\n",
       "5     358.418254\n",
       "6     357.828730\n",
       "7     356.327778\n",
       "8     354.340635\n",
       "9     352.684286\n",
       "10    352.677619\n",
       "11    354.082381\n",
       "12    355.376349\n",
       "Name: co2, dtype: float64"
      ]
     },
     "execution_count": 356,
     "metadata": {},
     "output_type": "execute_result"
    }
   ],
   "source": [
    "# check the level by month \n",
    "df_by_month = df.groupby('month').mean()['co2']\n",
    "df_by_month"
   ]
  },
  {
   "cell_type": "code",
   "execution_count": 357,
   "id": "bc4f6d93",
   "metadata": {},
   "outputs": [
    {
     "data": {
      "text/plain": [
       "[<matplotlib.lines.Line2D at 0x7fca22e96040>]"
      ]
     },
     "execution_count": 357,
     "metadata": {},
     "output_type": "execute_result"
    },
    {
     "data": {
      "image/png": "[encoded data removed]",
      "text/plain": [
       "<Figure size 640x480 with 1 Axes>"
      ]
     },
     "metadata": {},
     "output_type": "display_data"
    }
   ],
   "source": [
    "plt.plot(df_by_month)"
   ]
  },
  {
   "cell_type": "markdown",
   "id": "e8925bdc",
   "metadata": {},
   "source": [
    "# the seasonal trend seem to be rising in summer but going down in winters"
   ]
  },
  {
   "cell_type": "code",
   "execution_count": 358,
   "id": "e0e8689e",
   "metadata": {},
   "outputs": [],
   "source": [
    "import xarray  as xr\n",
    "ds = xr.Dataset.from_dataframe(df)"
   ]
  },
  {
   "cell_type": "code",
   "execution_count": 359,
   "id": "d0b228ee",
   "metadata": {},
   "outputs": [
    {
     "data": {
      "text/html": [
       "<div><svg style=\"position: absolute; width: 0; height: 0; overflow: hidden\">\n",
       "<defs>\n",
       "<symbol id=\"icon-database\" viewBox=\"0 0 32 32\">\n",
       "<path d=\"M16 0c-8.837 0-16 2.239-16 5v4c0 2.761 7.163 5 16 5s16-2.239 16-5v-4c0-2.761-7.163-5-16-5z\"></path>\n",
       "<path d=\"M16 17c-8.837 0-16-2.239-16-5v6c0 2.761 7.163 5 16 5s16-2.239 16-5v-6c0 2.761-7.163 5-16 5z\"></path>\n",
       "<path d=\"M16 26c-8.837 0-16-2.239-16-5v6c0 2.761 7.163 5 16 5s16-2.239 16-5v-6c0 2.761-7.163 5-16 5z\"></path>\n",
       "</symbol>\n",
       "<symbol id=\"icon-file-text2\" viewBox=\"0 0 32 32\">\n",
       "<path d=\"M28.681 7.159c-0.694-0.947-1.662-2.053-2.724-3.116s-2.169-2.030-3.116-2.724c-1.612-1.182-2.393-1.319-2.841-1.319h-15.5c-1.378 0-2.5 1.121-2.5 2.5v27c0 1.378 1.122 2.5 2.5 2.5h23c1.378 0 2.5-1.122 2.5-2.5v-19.5c0-0.448-0.137-1.23-1.319-2.841zM24.543 5.457c0.959 0.959 1.712 1.825 2.268 2.543h-4.811v-4.811c0.718 0.556 1.584 1.309 2.543 2.268zM28 29.5c0 0.271-0.229 0.5-0.5 0.5h-23c-0.271 0-0.5-0.229-0.5-0.5v-27c0-0.271 0.229-0.5 0.5-0.5 0 0 15.499-0 15.5 0v7c0 0.552 0.448 1 1 1h7v19.5z\"></path>\n",
       "<path d=\"M23 26h-14c-0.552 0-1-0.448-1-1s0.448-1 1-1h14c0.552 0 1 0.448 1 1s-0.448 1-1 1z\"></path>\n",
       "<path d=\"M23 22h-14c-0.552 0-1-0.448-1-1s0.448-1 1-1h14c0.552 0 1 0.448 1 1s-0.448 1-1 1z\"></path>\n",
       "<path d=\"M23 18h-14c-0.552 0-1-0.448-1-1s0.448-1 1-1h14c0.552 0 1 0.448 1 1s-0.448 1-1 1z\"></path>\n",
       "</symbol>\n",
       "</defs>\n",
       "</svg>\n",
       "<style>/* CSS stylesheet for displaying xarray objects in jupyterlab.\n",
       " *\n",
       " */\n",
       "\n",
       ":root {\n",
       "  --xr-font-color0: var(--jp-content-font-color0, rgba(0, 0, 0, 1));\n",
       "  --xr-font-color2: var(--jp-content-font-color2, rgba(0, 0, 0, 0.54));\n",
       "  --xr-font-color3: var(--jp-content-font-color3, rgba(0, 0, 0, 0.38));\n",
       "  --xr-border-color: var(--jp-border-color2, #e0e0e0);\n",
       "  --xr-disabled-color: var(--jp-layout-color3, #bdbdbd);\n",
       "  --xr-background-color: var(--jp-layout-color0, white);\n",
       "  --xr-background-color-row-even: var(--jp-layout-color1, white);\n",
       "  --xr-background-color-row-odd: var(--jp-layout-color2, #eeeeee);\n",
       "}\n",
       "\n",
       "html[theme=dark],\n",
       "body[data-theme=dark],\n",
       "body.vscode-dark {\n",
       "  --xr-font-color0: rgba(255, 255, 255, 1);\n",
       "  --xr-font-color2: rgba(255, 255, 255, 0.54);\n",
       "  --xr-font-color3: rgba(255, 255, 255, 0.38);\n",
       "  --xr-border-color: #1F1F1F;\n",
       "  --xr-disabled-color: #515151;\n",
       "  --xr-background-color: #111111;\n",
       "  --xr-background-color-row-even: #111111;\n",
       "  --xr-background-color-row-odd: #313131;\n",
       "}\n",
       "\n",
       ".xr-wrap {\n",
       "  display: block !important;\n",
       "  min-width: 300px;\n",
       "  max-width: 700px;\n",
       "}\n",
       "\n",
       ".xr-text-repr-fallback {\n",
       "  /* fallback to plain text repr when CSS is not injected (untrusted notebook) */\n",
       "  display: none;\n",
       "}\n",
       "\n",
       ".xr-header {\n",
       "  padding-top: 6px;\n",
       "  padding-bottom: 6px;\n",
       "  margin-bottom: 4px;\n",
       "  border-bottom: solid 1px var(--xr-border-color);\n",
       "}\n",
       "\n",
       ".xr-header > div,\n",
       ".xr-header > ul {\n",
       "  display: inline;\n",
       "  margin-top: 0;\n",
       "  margin-bottom: 0;\n",
       "}\n",
       "\n",
       ".xr-obj-type,\n",
       ".xr-array-name {\n",
       "  margin-left: 2px;\n",
       "  margin-right: 10px;\n",
       "}\n",
       "\n",
       ".xr-obj-type {\n",
       "  color: var(--xr-font-color2);\n",
       "}\n",
       "\n",
       ".xr-sections {\n",
       "  padding-left: 0 !important;\n",
       "  display: grid;\n",
       "  grid-template-columns: 150px auto auto 1fr 20px 20px;\n",
       "}\n",
       "\n",
       ".xr-section-item {\n",
       "  display: contents;\n",
       "}\n",
       "\n",
       ".xr-section-item input {\n",
       "  display: none;\n",
       "}\n",
       "\n",
       ".xr-section-item input + label {\n",
       "  color: var(--xr-disabled-color);\n",
       "}\n",
       "\n",
       ".xr-section-item input:enabled + label {\n",
       "  cursor: pointer;\n",
       "  color: var(--xr-font-color2);\n",
       "}\n",
       "\n",
       ".xr-section-item input:enabled + label:hover {\n",
       "  color: var(--xr-font-color0);\n",
       "}\n",
       "\n",
       ".xr-section-summary {\n",
       "  grid-column: 1;\n",
       "  color: var(--xr-font-color2);\n",
       "  font-weight: 500;\n",
       "}\n",
       "\n",
       ".xr-section-summary > span {\n",
       "  display: inline-block;\n",
       "  padding-left: 0.5em;\n",
       "}\n",
       "\n",
       ".xr-section-summary-in:disabled + label {\n",
       "  color: var(--xr-font-color2);\n",
       "}\n",
       "\n",
       ".xr-section-summary-in + label:before {\n",
       "  display: inline-block;\n",
       "  content: '►';\n",
       "  font-size: 11px;\n",
       "  width: 15px;\n",
       "  text-align: center;\n",
       "}\n",
       "\n",
       ".xr-section-summary-in:disabled + label:before {\n",
       "  color: var(--xr-disabled-color);\n",
       "}\n",
       "\n",
       ".xr-section-summary-in:checked + label:before {\n",
       "  content: '▼';\n",
       "}\n",
       "\n",
       ".xr-section-summary-in:checked + label > span {\n",
       "  display: none;\n",
       "}\n",
       "\n",
       ".xr-section-summary,\n",
       ".xr-section-inline-details {\n",
       "  padding-top: 4px;\n",
       "  padding-bottom: 4px;\n",
       "}\n",
       "\n",
       ".xr-section-inline-details {\n",
       "  grid-column: 2 / -1;\n",
       "}\n",
       "\n",
       ".xr-section-details {\n",
       "  display: none;\n",
       "  grid-column: 1 / -1;\n",
       "  margin-bottom: 5px;\n",
       "}\n",
       "\n",
       ".xr-section-summary-in:checked ~ .xr-section-details {\n",
       "  display: contents;\n",
       "}\n",
       "\n",
       ".xr-array-wrap {\n",
       "  grid-column: 1 / -1;\n",
       "  display: grid;\n",
       "  grid-template-columns: 20px auto;\n",
       "}\n",
       "\n",
       ".xr-array-wrap > label {\n",
       "  grid-column: 1;\n",
       "  vertical-align: top;\n",
       "}\n",
       "\n",
       ".xr-preview {\n",
       "  color: var(--xr-font-color3);\n",
       "}\n",
       "\n",
       ".xr-array-preview,\n",
       ".xr-array-data {\n",
       "  padding: 0 5px !important;\n",
       "  grid-column: 2;\n",
       "}\n",
       "\n",
       ".xr-array-data,\n",
       ".xr-array-in:checked ~ .xr-array-preview {\n",
       "  display: none;\n",
       "}\n",
       "\n",
       ".xr-array-in:checked ~ .xr-array-data,\n",
       ".xr-array-preview {\n",
       "  display: inline-block;\n",
       "}\n",
       "\n",
       ".xr-dim-list {\n",
       "  display: inline-block !important;\n",
       "  list-style: none;\n",
       "  padding: 0 !important;\n",
       "  margin: 0;\n",
       "}\n",
       "\n",
       ".xr-dim-list li {\n",
       "  display: inline-block;\n",
       "  padding: 0;\n",
       "  margin: 0;\n",
       "}\n",
       "\n",
       ".xr-dim-list:before {\n",
       "  content: '(';\n",
       "}\n",
       "\n",
       ".xr-dim-list:after {\n",
       "  content: ')';\n",
       "}\n",
       "\n",
       ".xr-dim-list li:not(:last-child):after {\n",
       "  content: ',';\n",
       "  padding-right: 5px;\n",
       "}\n",
       "\n",
       ".xr-has-index {\n",
       "  font-weight: bold;\n",
       "}\n",
       "\n",
       ".xr-var-list,\n",
       ".xr-var-item {\n",
       "  display: contents;\n",
       "}\n",
       "\n",
       ".xr-var-item > div,\n",
       ".xr-var-item label,\n",
       ".xr-var-item > .xr-var-name span {\n",
       "  background-color: var(--xr-background-color-row-even);\n",
       "  margin-bottom: 0;\n",
       "}\n",
       "\n",
       ".xr-var-item > .xr-var-name:hover span {\n",
       "  padding-right: 5px;\n",
       "}\n",
       "\n",
       ".xr-var-list > li:nth-child(odd) > div,\n",
       ".xr-var-list > li:nth-child(odd) > label,\n",
       ".xr-var-list > li:nth-child(odd) > .xr-var-name span {\n",
       "  background-color: var(--xr-background-color-row-odd);\n",
       "}\n",
       "\n",
       ".xr-var-name {\n",
       "  grid-column: 1;\n",
       "}\n",
       "\n",
       ".xr-var-dims {\n",
       "  grid-column: 2;\n",
       "}\n",
       "\n",
       ".xr-var-dtype {\n",
       "  grid-column: 3;\n",
       "  text-align: right;\n",
       "  color: var(--xr-font-color2);\n",
       "}\n",
       "\n",
       ".xr-var-preview {\n",
       "  grid-column: 4;\n",
       "}\n",
       "\n",
       ".xr-index-preview {\n",
       "  grid-column: 2 / 5;\n",
       "  color: var(--xr-font-color2);\n",
       "}\n",
       "\n",
       ".xr-var-name,\n",
       ".xr-var-dims,\n",
       ".xr-var-dtype,\n",
       ".xr-preview,\n",
       ".xr-attrs dt {\n",
       "  white-space: nowrap;\n",
       "  overflow: hidden;\n",
       "  text-overflow: ellipsis;\n",
       "  padding-right: 10px;\n",
       "}\n",
       "\n",
       ".xr-var-name:hover,\n",
       ".xr-var-dims:hover,\n",
       ".xr-var-dtype:hover,\n",
       ".xr-attrs dt:hover {\n",
       "  overflow: visible;\n",
       "  width: auto;\n",
       "  z-index: 1;\n",
       "}\n",
       "\n",
       ".xr-var-attrs,\n",
       ".xr-var-data,\n",
       ".xr-index-data {\n",
       "  display: none;\n",
       "  background-color: var(--xr-background-color) !important;\n",
       "  padding-bottom: 5px !important;\n",
       "}\n",
       "\n",
       ".xr-var-attrs-in:checked ~ .xr-var-attrs,\n",
       ".xr-var-data-in:checked ~ .xr-var-data,\n",
       ".xr-index-data-in:checked ~ .xr-index-data {\n",
       "  display: block;\n",
       "}\n",
       "\n",
       ".xr-var-data > table {\n",
       "  float: right;\n",
       "}\n",
       "\n",
       ".xr-var-name span,\n",
       ".xr-var-data,\n",
       ".xr-index-name div,\n",
       ".xr-index-data,\n",
       ".xr-attrs {\n",
       "  padding-left: 25px !important;\n",
       "}\n",
       "\n",
       ".xr-attrs,\n",
       ".xr-var-attrs,\n",
       ".xr-var-data,\n",
       ".xr-index-data {\n",
       "  grid-column: 1 / -1;\n",
       "}\n",
       "\n",
       "dl.xr-attrs {\n",
       "  padding: 0;\n",
       "  margin: 0;\n",
       "  display: grid;\n",
       "  grid-template-columns: 125px auto;\n",
       "}\n",
       "\n",
       ".xr-attrs dt,\n",
       ".xr-attrs dd {\n",
       "  padding: 0;\n",
       "  margin: 0;\n",
       "  float: left;\n",
       "  padding-right: 10px;\n",
       "  width: auto;\n",
       "}\n",
       "\n",
       ".xr-attrs dt {\n",
       "  font-weight: normal;\n",
       "  grid-column: 1;\n",
       "}\n",
       "\n",
       ".xr-attrs dt:hover span {\n",
       "  display: inline-block;\n",
       "  background: var(--xr-background-color);\n",
       "  padding-right: 10px;\n",
       "}\n",
       "\n",
       ".xr-attrs dd {\n",
       "  grid-column: 2;\n",
       "  white-space: pre-wrap;\n",
       "  word-break: break-all;\n",
       "}\n",
       "\n",
       ".xr-icon-database,\n",
       ".xr-icon-file-text2,\n",
       ".xr-no-icon {\n",
       "  display: inline-block;\n",
       "  vertical-align: middle;\n",
       "  width: 1em;\n",
       "  height: 1.5em !important;\n",
       "  stroke-width: 0;\n",
       "  stroke: currentColor;\n",
       "  fill: currentColor;\n",
       "}\n",
       "</style><pre class='xr-text-repr-fallback'>&lt;xarray.Dataset&gt;\n",
       "Dimensions:  (year: 64, month: 12)\n",
       "Coordinates:\n",
       "  * year     (year) int64 1958 1959 1960 1961 1962 ... 2017 2018 2019 2020 2021\n",
       "  * month    (month) int64 1 2 3 4 5 6 7 8 9 10 11 12\n",
       "Data variables:\n",
       "    co2      (year, month) float64 nan nan 315.7 317.4 317.5 ... nan nan nan nan</pre><div class='xr-wrap' style='display:none'><div class='xr-header'><div class='xr-obj-type'>xarray.Dataset</div></div><ul class='xr-sections'><li class='xr-section-item'><input id='section-f82b5ba8-beaf-40c7-b84b-010a156c80eb' class='xr-section-summary-in' type='checkbox' disabled ><label for='section-f82b5ba8-beaf-40c7-b84b-010a156c80eb' class='xr-section-summary'  title='Expand/collapse section'>Dimensions:</label><div class='xr-section-inline-details'><ul class='xr-dim-list'><li><span class='xr-has-index'>year</span>: 64</li><li><span class='xr-has-index'>month</span>: 12</li></ul></div><div class='xr-section-details'></div></li><li class='xr-section-item'><input id='section-5eea075b-d0bb-48d2-8590-091ade805f6a' class='xr-section-summary-in' type='checkbox'  checked><label for='section-5eea075b-d0bb-48d2-8590-091ade805f6a' class='xr-section-summary' >Coordinates: <span>(2)</span></label><div class='xr-section-inline-details'></div><div class='xr-section-details'><ul class='xr-var-list'><li class='xr-var-item'><div class='xr-var-name'><span class='xr-has-index'>year</span></div><div class='xr-var-dims'>(year)</div><div class='xr-var-dtype'>int64</div><div class='xr-var-preview xr-preview'>1958 1959 1960 ... 2019 2020 2021</div><input id='attrs-3eacaeea-4cb2-4a59-a009-8392faf3a726' class='xr-var-attrs-in' type='checkbox' disabled><label for='attrs-3eacaeea-4cb2-4a59-a009-8392faf3a726' title='Show/Hide attributes'><svg class='icon xr-icon-file-text2'><use xlink:href='#icon-file-text2'></use></svg></label><input id='data-8b726769-3f16-4018-aace-892c05cd165b' class='xr-var-data-in' type='checkbox'><label for='data-8b726769-3f16-4018-aace-892c05cd165b' title='Show/Hide data repr'><svg class='icon xr-icon-database'><use xlink:href='#icon-database'></use></svg></label><div class='xr-var-attrs'><dl class='xr-attrs'></dl></div><div class='xr-var-data'><pre>array([1958, 1959, 1960, 1961, 1962, 1963, 1964, 1965, 1966, 1967, 1968, 1969,\n",
       "       1970, 1971, 1972, 1973, 1974, 1975, 1976, 1977, 1978, 1979, 1980, 1981,\n",
       "       1982, 1983, 1984, 1985, 1986, 1987, 1988, 1989, 1990, 1991, 1992, 1993,\n",
       "       1994, 1995, 1996, 1997, 1998, 1999, 2000, 2001, 2002, 2003, 2004, 2005,\n",
       "       2006, 2007, 2008, 2009, 2010, 2011, 2012, 2013, 2014, 2015, 2016, 2017,\n",
       "       2018, 2019, 2020, 2021])</pre></div></li><li class='xr-var-item'><div class='xr-var-name'><span class='xr-has-index'>month</span></div><div class='xr-var-dims'>(month)</div><div class='xr-var-dtype'>int64</div><div class='xr-var-preview xr-preview'>1 2 3 4 5 6 7 8 9 10 11 12</div><input id='attrs-eb86b92c-d529-4633-a3fa-e7122f593edb' class='xr-var-attrs-in' type='checkbox' disabled><label for='attrs-eb86b92c-d529-4633-a3fa-e7122f593edb' title='Show/Hide attributes'><svg class='icon xr-icon-file-text2'><use xlink:href='#icon-file-text2'></use></svg></label><input id='data-653559fc-0996-4714-bcfe-563087548138' class='xr-var-data-in' type='checkbox'><label for='data-653559fc-0996-4714-bcfe-563087548138' title='Show/Hide data repr'><svg class='icon xr-icon-database'><use xlink:href='#icon-database'></use></svg></label><div class='xr-var-attrs'><dl class='xr-attrs'></dl></div><div class='xr-var-data'><pre>array([ 1,  2,  3,  4,  5,  6,  7,  8,  9, 10, 11, 12])</pre></div></li></ul></div></li><li class='xr-section-item'><input id='section-4732f7c3-c947-4d25-9a06-ab1b4deb2634' class='xr-section-summary-in' type='checkbox'  checked><label for='section-4732f7c3-c947-4d25-9a06-ab1b4deb2634' class='xr-section-summary' >Data variables: <span>(1)</span></label><div class='xr-section-inline-details'></div><div class='xr-section-details'><ul class='xr-var-list'><li class='xr-var-item'><div class='xr-var-name'><span>co2</span></div><div class='xr-var-dims'>(year, month)</div><div class='xr-var-dtype'>float64</div><div class='xr-var-preview xr-preview'>nan nan 315.7 317.4 ... nan nan nan</div><input id='attrs-6c6ab253-ff85-4818-8653-ec31a04ce9ea' class='xr-var-attrs-in' type='checkbox' disabled><label for='attrs-6c6ab253-ff85-4818-8653-ec31a04ce9ea' title='Show/Hide attributes'><svg class='icon xr-icon-file-text2'><use xlink:href='#icon-file-text2'></use></svg></label><input id='data-2009850c-9739-4c19-9b58-1496ff989f5a' class='xr-var-data-in' type='checkbox'><label for='data-2009850c-9739-4c19-9b58-1496ff989f5a' title='Show/Hide data repr'><svg class='icon xr-icon-database'><use xlink:href='#icon-database'></use></svg></label><div class='xr-var-attrs'><dl class='xr-attrs'></dl></div><div class='xr-var-data'><pre>array([[   nan,    nan, 315.7 , 317.45, 317.51, 317.24, 315.86, 314.93,\n",
       "        313.21, 312.43, 313.33, 314.67],\n",
       "       [315.58, 316.49, 316.65, 317.72, 318.29, 318.15, 316.54, 314.8 ,\n",
       "        313.84, 313.33, 314.81, 315.58],\n",
       "       [316.43, 316.98, 317.58, 319.03, 320.04, 319.58, 318.18, 315.9 ,\n",
       "        314.17, 313.83, 315.  , 316.19],\n",
       "       [316.89, 317.7 , 318.54, 319.48, 320.58, 319.77, 318.56, 316.79,\n",
       "        314.99, 315.31, 316.1 , 317.01],\n",
       "       [317.94, 318.55, 319.68, 320.57, 321.02, 320.62, 319.61, 317.4 ,\n",
       "        316.25, 315.42, 316.69, 317.7 ],\n",
       "       [318.74, 319.07, 319.86, 321.38, 322.25, 321.48, 319.74, 317.77,\n",
       "        316.21, 315.99, 317.07, 318.35],\n",
       "       [319.57, 320.01, 320.74, 321.84, 322.26, 321.89, 320.44, 318.69,\n",
       "        316.71, 316.87, 317.68, 318.71],\n",
       "       [319.44, 320.44, 320.89, 322.14, 322.17, 321.87, 321.21, 318.87,\n",
       "        317.82, 317.3 , 318.87, 319.42],\n",
       "       [320.62, 321.6 , 322.39, 323.7 , 324.08, 323.75, 322.38, 320.36,\n",
       "        318.64, 318.1 , 319.78, 321.03],\n",
       "       [322.33, 322.5 , 323.04, 324.42, 325.  , 324.09, 322.54, 320.92,\n",
       "        319.25, 319.39, 320.73, 321.96],\n",
       "...\n",
       "       [393.13, 393.42, 394.43, 396.51, 396.96, 395.97, 394.6 , 392.61,\n",
       "        391.2 , 391.09, 393.03, 394.42],\n",
       "       [395.69, 396.94, 397.35, 398.44, 400.06, 398.95, 397.45, 395.49,\n",
       "        393.48, 393.77, 395.27, 396.9 ],\n",
       "       [398.01, 398.18, 399.56, 401.44, 401.99, 401.41, 399.17, 397.3 ,\n",
       "        395.49, 395.74, 397.32, 398.89],\n",
       "       [399.94, 400.39, 401.6 , 403.53, 404.04, 402.81, 401.54, 398.93,\n",
       "        397.43, 398.21, 400.17, 401.82],\n",
       "       [402.58, 404.09, 404.79, 407.5 , 407.59, 406.94, 404.43, 402.17,\n",
       "        400.94, 401.43, 403.57, 404.48],\n",
       "       [406.  , 406.57, 406.99, 408.88, 409.84, 409.05, 407.13, 405.17,\n",
       "        403.2 , 403.57, 405.1 , 406.68],\n",
       "       [407.98, 408.28, 409.19, 410.24, 411.23, 410.81, 408.83, 407.03,\n",
       "        405.52, 405.93, 408.05, 409.16],\n",
       "       [410.85, 411.59, 411.93, 413.46, 414.76, 413.89, 411.78, 410.01,\n",
       "        408.48, 408.37, 410.22, 411.78],\n",
       "       [413.31, 414.02, 414.44, 416.11, 417.1 , 416.23, 414.42, 412.52,\n",
       "        411.19, 411.15, 412.88, 413.89],\n",
       "       [415.16,    nan,    nan,    nan,    nan,    nan,    nan,    nan,\n",
       "           nan,    nan,    nan,    nan]])</pre></div></li></ul></div></li><li class='xr-section-item'><input id='section-6a8ad553-d7f1-47fa-bd8f-ea54fbbe7b06' class='xr-section-summary-in' type='checkbox'  ><label for='section-6a8ad553-d7f1-47fa-bd8f-ea54fbbe7b06' class='xr-section-summary' >Indexes: <span>(2)</span></label><div class='xr-section-inline-details'></div><div class='xr-section-details'><ul class='xr-var-list'><li class='xr-var-item'><div class='xr-index-name'><div>year</div></div><div class='xr-index-preview'>PandasIndex</div><div></div><input id='index-8af9eb4d-69f1-4fd7-80f1-f7180e287f71' class='xr-index-data-in' type='checkbox'/><label for='index-8af9eb4d-69f1-4fd7-80f1-f7180e287f71' title='Show/Hide index repr'><svg class='icon xr-icon-database'><use xlink:href='#icon-database'></use></svg></label><div class='xr-index-data'><pre>PandasIndex(Int64Index([1958, 1959, 1960, 1961, 1962, 1963, 1964, 1965, 1966, 1967, 1968,\n",
       "            1969, 1970, 1971, 1972, 1973, 1974, 1975, 1976, 1977, 1978, 1979,\n",
       "            1980, 1981, 1982, 1983, 1984, 1985, 1986, 1987, 1988, 1989, 1990,\n",
       "            1991, 1992, 1993, 1994, 1995, 1996, 1997, 1998, 1999, 2000, 2001,\n",
       "            2002, 2003, 2004, 2005, 2006, 2007, 2008, 2009, 2010, 2011, 2012,\n",
       "            2013, 2014, 2015, 2016, 2017, 2018, 2019, 2020, 2021],\n",
       "           dtype=&#x27;int64&#x27;, name=&#x27;year&#x27;))</pre></div></li><li class='xr-var-item'><div class='xr-index-name'><div>month</div></div><div class='xr-index-preview'>PandasIndex</div><div></div><input id='index-eeeabd21-ae5a-4d6a-9b51-2b50b5286def' class='xr-index-data-in' type='checkbox'/><label for='index-eeeabd21-ae5a-4d6a-9b51-2b50b5286def' title='Show/Hide index repr'><svg class='icon xr-icon-database'><use xlink:href='#icon-database'></use></svg></label><div class='xr-index-data'><pre>PandasIndex(Int64Index([1, 2, 3, 4, 5, 6, 7, 8, 9, 10, 11, 12], dtype=&#x27;int64&#x27;, name=&#x27;month&#x27;))</pre></div></li></ul></div></li><li class='xr-section-item'><input id='section-08daa0c8-d6ae-41fd-88dd-9369fe7a26ab' class='xr-section-summary-in' type='checkbox' disabled ><label for='section-08daa0c8-d6ae-41fd-88dd-9369fe7a26ab' class='xr-section-summary'  title='Expand/collapse section'>Attributes: <span>(0)</span></label><div class='xr-section-inline-details'></div><div class='xr-section-details'><dl class='xr-attrs'></dl></div></li></ul></div></div>"
      ],
      "text/plain": [
       "<xarray.Dataset>\n",
       "Dimensions:  (year: 64, month: 12)\n",
       "Coordinates:\n",
       "  * year     (year) int64 1958 1959 1960 1961 1962 ... 2017 2018 2019 2020 2021\n",
       "  * month    (month) int64 1 2 3 4 5 6 7 8 9 10 11 12\n",
       "Data variables:\n",
       "    co2      (year, month) float64 nan nan 315.7 317.4 317.5 ... nan nan nan nan"
      ]
     },
     "execution_count": 359,
     "metadata": {},
     "output_type": "execute_result"
    }
   ],
   "source": [
    "ds"
   ]
  },
  {
   "cell_type": "code",
   "execution_count": 362,
   "id": "da22541c",
   "metadata": {},
   "outputs": [
    {
     "data": {
      "text/html": [
       "<div><svg style=\"position: absolute; width: 0; height: 0; overflow: hidden\">\n",
       "<defs>\n",
       "<symbol id=\"icon-database\" viewBox=\"0 0 32 32\">\n",
       "<path d=\"M16 0c-8.837 0-16 2.239-16 5v4c0 2.761 7.163 5 16 5s16-2.239 16-5v-4c0-2.761-7.163-5-16-5z\"></path>\n",
       "<path d=\"M16 17c-8.837 0-16-2.239-16-5v6c0 2.761 7.163 5 16 5s16-2.239 16-5v-6c0 2.761-7.163 5-16 5z\"></path>\n",
       "<path d=\"M16 26c-8.837 0-16-2.239-16-5v6c0 2.761 7.163 5 16 5s16-2.239 16-5v-6c0 2.761-7.163 5-16 5z\"></path>\n",
       "</symbol>\n",
       "<symbol id=\"icon-file-text2\" viewBox=\"0 0 32 32\">\n",
       "<path d=\"M28.681 7.159c-0.694-0.947-1.662-2.053-2.724-3.116s-2.169-2.030-3.116-2.724c-1.612-1.182-2.393-1.319-2.841-1.319h-15.5c-1.378 0-2.5 1.121-2.5 2.5v27c0 1.378 1.122 2.5 2.5 2.5h23c1.378 0 2.5-1.122 2.5-2.5v-19.5c0-0.448-0.137-1.23-1.319-2.841zM24.543 5.457c0.959 0.959 1.712 1.825 2.268 2.543h-4.811v-4.811c0.718 0.556 1.584 1.309 2.543 2.268zM28 29.5c0 0.271-0.229 0.5-0.5 0.5h-23c-0.271 0-0.5-0.229-0.5-0.5v-27c0-0.271 0.229-0.5 0.5-0.5 0 0 15.499-0 15.5 0v7c0 0.552 0.448 1 1 1h7v19.5z\"></path>\n",
       "<path d=\"M23 26h-14c-0.552 0-1-0.448-1-1s0.448-1 1-1h14c0.552 0 1 0.448 1 1s-0.448 1-1 1z\"></path>\n",
       "<path d=\"M23 22h-14c-0.552 0-1-0.448-1-1s0.448-1 1-1h14c0.552 0 1 0.448 1 1s-0.448 1-1 1z\"></path>\n",
       "<path d=\"M23 18h-14c-0.552 0-1-0.448-1-1s0.448-1 1-1h14c0.552 0 1 0.448 1 1s-0.448 1-1 1z\"></path>\n",
       "</symbol>\n",
       "</defs>\n",
       "</svg>\n",
       "<style>/* CSS stylesheet for displaying xarray objects in jupyterlab.\n",
       " *\n",
       " */\n",
       "\n",
       ":root {\n",
       "  --xr-font-color0: var(--jp-content-font-color0, rgba(0, 0, 0, 1));\n",
       "  --xr-font-color2: var(--jp-content-font-color2, rgba(0, 0, 0, 0.54));\n",
       "  --xr-font-color3: var(--jp-content-font-color3, rgba(0, 0, 0, 0.38));\n",
       "  --xr-border-color: var(--jp-border-color2, #e0e0e0);\n",
       "  --xr-disabled-color: var(--jp-layout-color3, #bdbdbd);\n",
       "  --xr-background-color: var(--jp-layout-color0, white);\n",
       "  --xr-background-color-row-even: var(--jp-layout-color1, white);\n",
       "  --xr-background-color-row-odd: var(--jp-layout-color2, #eeeeee);\n",
       "}\n",
       "\n",
       "html[theme=dark],\n",
       "body[data-theme=dark],\n",
       "body.vscode-dark {\n",
       "  --xr-font-color0: rgba(255, 255, 255, 1);\n",
       "  --xr-font-color2: rgba(255, 255, 255, 0.54);\n",
       "  --xr-font-color3: rgba(255, 255, 255, 0.38);\n",
       "  --xr-border-color: #1F1F1F;\n",
       "  --xr-disabled-color: #515151;\n",
       "  --xr-background-color: #111111;\n",
       "  --xr-background-color-row-even: #111111;\n",
       "  --xr-background-color-row-odd: #313131;\n",
       "}\n",
       "\n",
       ".xr-wrap {\n",
       "  display: block !important;\n",
       "  min-width: 300px;\n",
       "  max-width: 700px;\n",
       "}\n",
       "\n",
       ".xr-text-repr-fallback {\n",
       "  /* fallback to plain text repr when CSS is not injected (untrusted notebook) */\n",
       "  display: none;\n",
       "}\n",
       "\n",
       ".xr-header {\n",
       "  padding-top: 6px;\n",
       "  padding-bottom: 6px;\n",
       "  margin-bottom: 4px;\n",
       "  border-bottom: solid 1px var(--xr-border-color);\n",
       "}\n",
       "\n",
       ".xr-header > div,\n",
       ".xr-header > ul {\n",
       "  display: inline;\n",
       "  margin-top: 0;\n",
       "  margin-bottom: 0;\n",
       "}\n",
       "\n",
       ".xr-obj-type,\n",
       ".xr-array-name {\n",
       "  margin-left: 2px;\n",
       "  margin-right: 10px;\n",
       "}\n",
       "\n",
       ".xr-obj-type {\n",
       "  color: var(--xr-font-color2);\n",
       "}\n",
       "\n",
       ".xr-sections {\n",
       "  padding-left: 0 !important;\n",
       "  display: grid;\n",
       "  grid-template-columns: 150px auto auto 1fr 20px 20px;\n",
       "}\n",
       "\n",
       ".xr-section-item {\n",
       "  display: contents;\n",
       "}\n",
       "\n",
       ".xr-section-item input {\n",
       "  display: none;\n",
       "}\n",
       "\n",
       ".xr-section-item input + label {\n",
       "  color: var(--xr-disabled-color);\n",
       "}\n",
       "\n",
       ".xr-section-item input:enabled + label {\n",
       "  cursor: pointer;\n",
       "  color: var(--xr-font-color2);\n",
       "}\n",
       "\n",
       ".xr-section-item input:enabled + label:hover {\n",
       "  color: var(--xr-font-color0);\n",
       "}\n",
       "\n",
       ".xr-section-summary {\n",
       "  grid-column: 1;\n",
       "  color: var(--xr-font-color2);\n",
       "  font-weight: 500;\n",
       "}\n",
       "\n",
       ".xr-section-summary > span {\n",
       "  display: inline-block;\n",
       "  padding-left: 0.5em;\n",
       "}\n",
       "\n",
       ".xr-section-summary-in:disabled + label {\n",
       "  color: var(--xr-font-color2);\n",
       "}\n",
       "\n",
       ".xr-section-summary-in + label:before {\n",
       "  display: inline-block;\n",
       "  content: '►';\n",
       "  font-size: 11px;\n",
       "  width: 15px;\n",
       "  text-align: center;\n",
       "}\n",
       "\n",
       ".xr-section-summary-in:disabled + label:before {\n",
       "  color: var(--xr-disabled-color);\n",
       "}\n",
       "\n",
       ".xr-section-summary-in:checked + label:before {\n",
       "  content: '▼';\n",
       "}\n",
       "\n",
       ".xr-section-summary-in:checked + label > span {\n",
       "  display: none;\n",
       "}\n",
       "\n",
       ".xr-section-summary,\n",
       ".xr-section-inline-details {\n",
       "  padding-top: 4px;\n",
       "  padding-bottom: 4px;\n",
       "}\n",
       "\n",
       ".xr-section-inline-details {\n",
       "  grid-column: 2 / -1;\n",
       "}\n",
       "\n",
       ".xr-section-details {\n",
       "  display: none;\n",
       "  grid-column: 1 / -1;\n",
       "  margin-bottom: 5px;\n",
       "}\n",
       "\n",
       ".xr-section-summary-in:checked ~ .xr-section-details {\n",
       "  display: contents;\n",
       "}\n",
       "\n",
       ".xr-array-wrap {\n",
       "  grid-column: 1 / -1;\n",
       "  display: grid;\n",
       "  grid-template-columns: 20px auto;\n",
       "}\n",
       "\n",
       ".xr-array-wrap > label {\n",
       "  grid-column: 1;\n",
       "  vertical-align: top;\n",
       "}\n",
       "\n",
       ".xr-preview {\n",
       "  color: var(--xr-font-color3);\n",
       "}\n",
       "\n",
       ".xr-array-preview,\n",
       ".xr-array-data {\n",
       "  padding: 0 5px !important;\n",
       "  grid-column: 2;\n",
       "}\n",
       "\n",
       ".xr-array-data,\n",
       ".xr-array-in:checked ~ .xr-array-preview {\n",
       "  display: none;\n",
       "}\n",
       "\n",
       ".xr-array-in:checked ~ .xr-array-data,\n",
       ".xr-array-preview {\n",
       "  display: inline-block;\n",
       "}\n",
       "\n",
       ".xr-dim-list {\n",
       "  display: inline-block !important;\n",
       "  list-style: none;\n",
       "  padding: 0 !important;\n",
       "  margin: 0;\n",
       "}\n",
       "\n",
       ".xr-dim-list li {\n",
       "  display: inline-block;\n",
       "  padding: 0;\n",
       "  margin: 0;\n",
       "}\n",
       "\n",
       ".xr-dim-list:before {\n",
       "  content: '(';\n",
       "}\n",
       "\n",
       ".xr-dim-list:after {\n",
       "  content: ')';\n",
       "}\n",
       "\n",
       ".xr-dim-list li:not(:last-child):after {\n",
       "  content: ',';\n",
       "  padding-right: 5px;\n",
       "}\n",
       "\n",
       ".xr-has-index {\n",
       "  font-weight: bold;\n",
       "}\n",
       "\n",
       ".xr-var-list,\n",
       ".xr-var-item {\n",
       "  display: contents;\n",
       "}\n",
       "\n",
       ".xr-var-item > div,\n",
       ".xr-var-item label,\n",
       ".xr-var-item > .xr-var-name span {\n",
       "  background-color: var(--xr-background-color-row-even);\n",
       "  margin-bottom: 0;\n",
       "}\n",
       "\n",
       ".xr-var-item > .xr-var-name:hover span {\n",
       "  padding-right: 5px;\n",
       "}\n",
       "\n",
       ".xr-var-list > li:nth-child(odd) > div,\n",
       ".xr-var-list > li:nth-child(odd) > label,\n",
       ".xr-var-list > li:nth-child(odd) > .xr-var-name span {\n",
       "  background-color: var(--xr-background-color-row-odd);\n",
       "}\n",
       "\n",
       ".xr-var-name {\n",
       "  grid-column: 1;\n",
       "}\n",
       "\n",
       ".xr-var-dims {\n",
       "  grid-column: 2;\n",
       "}\n",
       "\n",
       ".xr-var-dtype {\n",
       "  grid-column: 3;\n",
       "  text-align: right;\n",
       "  color: var(--xr-font-color2);\n",
       "}\n",
       "\n",
       ".xr-var-preview {\n",
       "  grid-column: 4;\n",
       "}\n",
       "\n",
       ".xr-index-preview {\n",
       "  grid-column: 2 / 5;\n",
       "  color: var(--xr-font-color2);\n",
       "}\n",
       "\n",
       ".xr-var-name,\n",
       ".xr-var-dims,\n",
       ".xr-var-dtype,\n",
       ".xr-preview,\n",
       ".xr-attrs dt {\n",
       "  white-space: nowrap;\n",
       "  overflow: hidden;\n",
       "  text-overflow: ellipsis;\n",
       "  padding-right: 10px;\n",
       "}\n",
       "\n",
       ".xr-var-name:hover,\n",
       ".xr-var-dims:hover,\n",
       ".xr-var-dtype:hover,\n",
       ".xr-attrs dt:hover {\n",
       "  overflow: visible;\n",
       "  width: auto;\n",
       "  z-index: 1;\n",
       "}\n",
       "\n",
       ".xr-var-attrs,\n",
       ".xr-var-data,\n",
       ".xr-index-data {\n",
       "  display: none;\n",
       "  background-color: var(--xr-background-color) !important;\n",
       "  padding-bottom: 5px !important;\n",
       "}\n",
       "\n",
       ".xr-var-attrs-in:checked ~ .xr-var-attrs,\n",
       ".xr-var-data-in:checked ~ .xr-var-data,\n",
       ".xr-index-data-in:checked ~ .xr-index-data {\n",
       "  display: block;\n",
       "}\n",
       "\n",
       ".xr-var-data > table {\n",
       "  float: right;\n",
       "}\n",
       "\n",
       ".xr-var-name span,\n",
       ".xr-var-data,\n",
       ".xr-index-name div,\n",
       ".xr-index-data,\n",
       ".xr-attrs {\n",
       "  padding-left: 25px !important;\n",
       "}\n",
       "\n",
       ".xr-attrs,\n",
       ".xr-var-attrs,\n",
       ".xr-var-data,\n",
       ".xr-index-data {\n",
       "  grid-column: 1 / -1;\n",
       "}\n",
       "\n",
       "dl.xr-attrs {\n",
       "  padding: 0;\n",
       "  margin: 0;\n",
       "  display: grid;\n",
       "  grid-template-columns: 125px auto;\n",
       "}\n",
       "\n",
       ".xr-attrs dt,\n",
       ".xr-attrs dd {\n",
       "  padding: 0;\n",
       "  margin: 0;\n",
       "  float: left;\n",
       "  padding-right: 10px;\n",
       "  width: auto;\n",
       "}\n",
       "\n",
       ".xr-attrs dt {\n",
       "  font-weight: normal;\n",
       "  grid-column: 1;\n",
       "}\n",
       "\n",
       ".xr-attrs dt:hover span {\n",
       "  display: inline-block;\n",
       "  background: var(--xr-background-color);\n",
       "  padding-right: 10px;\n",
       "}\n",
       "\n",
       ".xr-attrs dd {\n",
       "  grid-column: 2;\n",
       "  white-space: pre-wrap;\n",
       "  word-break: break-all;\n",
       "}\n",
       "\n",
       ".xr-icon-database,\n",
       ".xr-icon-file-text2,\n",
       ".xr-no-icon {\n",
       "  display: inline-block;\n",
       "  vertical-align: middle;\n",
       "  width: 1em;\n",
       "  height: 1.5em !important;\n",
       "  stroke-width: 0;\n",
       "  stroke: currentColor;\n",
       "  fill: currentColor;\n",
       "}\n",
       "</style><pre class='xr-text-repr-fallback'>&lt;xarray.DataArray &#x27;co2&#x27; (year: 10, month: 5)&gt;\n",
       "array([[   nan,    nan, 315.7 , 317.45, 317.51],\n",
       "       [315.58, 316.49, 316.65, 317.72, 318.29],\n",
       "       [316.43, 316.98, 317.58, 319.03, 320.04],\n",
       "       [316.89, 317.7 , 318.54, 319.48, 320.58],\n",
       "       [317.94, 318.55, 319.68, 320.57, 321.02],\n",
       "       [318.74, 319.07, 319.86, 321.38, 322.25],\n",
       "       [319.57, 320.01, 320.74, 321.84, 322.26],\n",
       "       [319.44, 320.44, 320.89, 322.14, 322.17],\n",
       "       [320.62, 321.6 , 322.39, 323.7 , 324.08],\n",
       "       [322.33, 322.5 , 323.04, 324.42, 325.  ]])\n",
       "Coordinates:\n",
       "  * year     (year) int64 1958 1959 1960 1961 1962 1963 1964 1965 1966 1967\n",
       "  * month    (month) int64 1 2 3 4 5</pre><div class='xr-wrap' style='display:none'><div class='xr-header'><div class='xr-obj-type'>xarray.DataArray</div><div class='xr-array-name'>'co2'</div><ul class='xr-dim-list'><li><span class='xr-has-index'>year</span>: 10</li><li><span class='xr-has-index'>month</span>: 5</li></ul></div><ul class='xr-sections'><li class='xr-section-item'><div class='xr-array-wrap'><input id='section-e6e46d83-8199-4806-b549-2f79030ec6de' class='xr-array-in' type='checkbox' checked><label for='section-e6e46d83-8199-4806-b549-2f79030ec6de' title='Show/hide data repr'><svg class='icon xr-icon-database'><use xlink:href='#icon-database'></use></svg></label><div class='xr-array-preview xr-preview'><span>nan nan 315.7 317.4 317.5 315.6 ... 322.3 322.5 323.0 324.4 325.0</span></div><div class='xr-array-data'><pre>array([[   nan,    nan, 315.7 , 317.45, 317.51],\n",
       "       [315.58, 316.49, 316.65, 317.72, 318.29],\n",
       "       [316.43, 316.98, 317.58, 319.03, 320.04],\n",
       "       [316.89, 317.7 , 318.54, 319.48, 320.58],\n",
       "       [317.94, 318.55, 319.68, 320.57, 321.02],\n",
       "       [318.74, 319.07, 319.86, 321.38, 322.25],\n",
       "       [319.57, 320.01, 320.74, 321.84, 322.26],\n",
       "       [319.44, 320.44, 320.89, 322.14, 322.17],\n",
       "       [320.62, 321.6 , 322.39, 323.7 , 324.08],\n",
       "       [322.33, 322.5 , 323.04, 324.42, 325.  ]])</pre></div></div></li><li class='xr-section-item'><input id='section-47ed0f76-5d23-4305-8d88-886dc7a4be59' class='xr-section-summary-in' type='checkbox'  checked><label for='section-47ed0f76-5d23-4305-8d88-886dc7a4be59' class='xr-section-summary' >Coordinates: <span>(2)</span></label><div class='xr-section-inline-details'></div><div class='xr-section-details'><ul class='xr-var-list'><li class='xr-var-item'><div class='xr-var-name'><span class='xr-has-index'>year</span></div><div class='xr-var-dims'>(year)</div><div class='xr-var-dtype'>int64</div><div class='xr-var-preview xr-preview'>1958 1959 1960 ... 1965 1966 1967</div><input id='attrs-caf2c96c-23e9-4317-88e3-0cf7593a0eee' class='xr-var-attrs-in' type='checkbox' disabled><label for='attrs-caf2c96c-23e9-4317-88e3-0cf7593a0eee' title='Show/Hide attributes'><svg class='icon xr-icon-file-text2'><use xlink:href='#icon-file-text2'></use></svg></label><input id='data-36d6aad7-ae6d-4f27-94bc-539ff5765d33' class='xr-var-data-in' type='checkbox'><label for='data-36d6aad7-ae6d-4f27-94bc-539ff5765d33' title='Show/Hide data repr'><svg class='icon xr-icon-database'><use xlink:href='#icon-database'></use></svg></label><div class='xr-var-attrs'><dl class='xr-attrs'></dl></div><div class='xr-var-data'><pre>array([1958, 1959, 1960, 1961, 1962, 1963, 1964, 1965, 1966, 1967])</pre></div></li><li class='xr-var-item'><div class='xr-var-name'><span class='xr-has-index'>month</span></div><div class='xr-var-dims'>(month)</div><div class='xr-var-dtype'>int64</div><div class='xr-var-preview xr-preview'>1 2 3 4 5</div><input id='attrs-0548c79d-3ff7-40c1-937a-0fc739bbc2a0' class='xr-var-attrs-in' type='checkbox' disabled><label for='attrs-0548c79d-3ff7-40c1-937a-0fc739bbc2a0' title='Show/Hide attributes'><svg class='icon xr-icon-file-text2'><use xlink:href='#icon-file-text2'></use></svg></label><input id='data-cb5be037-8788-44f4-a1a3-3d1628d57c8c' class='xr-var-data-in' type='checkbox'><label for='data-cb5be037-8788-44f4-a1a3-3d1628d57c8c' title='Show/Hide data repr'><svg class='icon xr-icon-database'><use xlink:href='#icon-database'></use></svg></label><div class='xr-var-attrs'><dl class='xr-attrs'></dl></div><div class='xr-var-data'><pre>array([1, 2, 3, 4, 5])</pre></div></li></ul></div></li><li class='xr-section-item'><input id='section-9ce550e7-81f1-4a1b-b12b-a3785b6ecdab' class='xr-section-summary-in' type='checkbox'  ><label for='section-9ce550e7-81f1-4a1b-b12b-a3785b6ecdab' class='xr-section-summary' >Indexes: <span>(2)</span></label><div class='xr-section-inline-details'></div><div class='xr-section-details'><ul class='xr-var-list'><li class='xr-var-item'><div class='xr-index-name'><div>year</div></div><div class='xr-index-preview'>PandasIndex</div><div></div><input id='index-2fdb1088-a654-4012-aa6b-c5023baae831' class='xr-index-data-in' type='checkbox'/><label for='index-2fdb1088-a654-4012-aa6b-c5023baae831' title='Show/Hide index repr'><svg class='icon xr-icon-database'><use xlink:href='#icon-database'></use></svg></label><div class='xr-index-data'><pre>PandasIndex(Int64Index([1958, 1959, 1960, 1961, 1962, 1963, 1964, 1965, 1966, 1967], dtype=&#x27;int64&#x27;, name=&#x27;year&#x27;))</pre></div></li><li class='xr-var-item'><div class='xr-index-name'><div>month</div></div><div class='xr-index-preview'>PandasIndex</div><div></div><input id='index-dfa9307e-9b03-421b-9176-ff0768aeaad4' class='xr-index-data-in' type='checkbox'/><label for='index-dfa9307e-9b03-421b-9176-ff0768aeaad4' title='Show/Hide index repr'><svg class='icon xr-icon-database'><use xlink:href='#icon-database'></use></svg></label><div class='xr-index-data'><pre>PandasIndex(Int64Index([1, 2, 3, 4, 5], dtype=&#x27;int64&#x27;, name=&#x27;month&#x27;))</pre></div></li></ul></div></li><li class='xr-section-item'><input id='section-51d6e979-c976-4ed0-91df-24f2688075bb' class='xr-section-summary-in' type='checkbox' disabled ><label for='section-51d6e979-c976-4ed0-91df-24f2688075bb' class='xr-section-summary'  title='Expand/collapse section'>Attributes: <span>(0)</span></label><div class='xr-section-inline-details'></div><div class='xr-section-details'><dl class='xr-attrs'></dl></div></li></ul></div></div>"
      ],
      "text/plain": [
       "<xarray.DataArray 'co2' (year: 10, month: 5)>\n",
       "array([[   nan,    nan, 315.7 , 317.45, 317.51],\n",
       "       [315.58, 316.49, 316.65, 317.72, 318.29],\n",
       "       [316.43, 316.98, 317.58, 319.03, 320.04],\n",
       "       [316.89, 317.7 , 318.54, 319.48, 320.58],\n",
       "       [317.94, 318.55, 319.68, 320.57, 321.02],\n",
       "       [318.74, 319.07, 319.86, 321.38, 322.25],\n",
       "       [319.57, 320.01, 320.74, 321.84, 322.26],\n",
       "       [319.44, 320.44, 320.89, 322.14, 322.17],\n",
       "       [320.62, 321.6 , 322.39, 323.7 , 324.08],\n",
       "       [322.33, 322.5 , 323.04, 324.42, 325.  ]])\n",
       "Coordinates:\n",
       "  * year     (year) int64 1958 1959 1960 1961 1962 1963 1964 1965 1966 1967\n",
       "  * month    (month) int64 1 2 3 4 5"
      ]
     },
     "execution_count": 362,
     "metadata": {},
     "output_type": "execute_result"
    }
   ],
   "source": [
    "ds['co2'][:10, :5]"
   ]
  },
  {
   "cell_type": "code",
   "execution_count": 363,
   "id": "f23d26df",
   "metadata": {},
   "outputs": [
    {
     "data": {
      "text/html": [
       "<div><svg style=\"position: absolute; width: 0; height: 0; overflow: hidden\">\n",
       "<defs>\n",
       "<symbol id=\"icon-database\" viewBox=\"0 0 32 32\">\n",
       "<path d=\"M16 0c-8.837 0-16 2.239-16 5v4c0 2.761 7.163 5 16 5s16-2.239 16-5v-4c0-2.761-7.163-5-16-5z\"></path>\n",
       "<path d=\"M16 17c-8.837 0-16-2.239-16-5v6c0 2.761 7.163 5 16 5s16-2.239 16-5v-6c0 2.761-7.163 5-16 5z\"></path>\n",
       "<path d=\"M16 26c-8.837 0-16-2.239-16-5v6c0 2.761 7.163 5 16 5s16-2.239 16-5v-6c0 2.761-7.163 5-16 5z\"></path>\n",
       "</symbol>\n",
       "<symbol id=\"icon-file-text2\" viewBox=\"0 0 32 32\">\n",
       "<path d=\"M28.681 7.159c-0.694-0.947-1.662-2.053-2.724-3.116s-2.169-2.030-3.116-2.724c-1.612-1.182-2.393-1.319-2.841-1.319h-15.5c-1.378 0-2.5 1.121-2.5 2.5v27c0 1.378 1.122 2.5 2.5 2.5h23c1.378 0 2.5-1.122 2.5-2.5v-19.5c0-0.448-0.137-1.23-1.319-2.841zM24.543 5.457c0.959 0.959 1.712 1.825 2.268 2.543h-4.811v-4.811c0.718 0.556 1.584 1.309 2.543 2.268zM28 29.5c0 0.271-0.229 0.5-0.5 0.5h-23c-0.271 0-0.5-0.229-0.5-0.5v-27c0-0.271 0.229-0.5 0.5-0.5 0 0 15.499-0 15.5 0v7c0 0.552 0.448 1 1 1h7v19.5z\"></path>\n",
       "<path d=\"M23 26h-14c-0.552 0-1-0.448-1-1s0.448-1 1-1h14c0.552 0 1 0.448 1 1s-0.448 1-1 1z\"></path>\n",
       "<path d=\"M23 22h-14c-0.552 0-1-0.448-1-1s0.448-1 1-1h14c0.552 0 1 0.448 1 1s-0.448 1-1 1z\"></path>\n",
       "<path d=\"M23 18h-14c-0.552 0-1-0.448-1-1s0.448-1 1-1h14c0.552 0 1 0.448 1 1s-0.448 1-1 1z\"></path>\n",
       "</symbol>\n",
       "</defs>\n",
       "</svg>\n",
       "<style>/* CSS stylesheet for displaying xarray objects in jupyterlab.\n",
       " *\n",
       " */\n",
       "\n",
       ":root {\n",
       "  --xr-font-color0: var(--jp-content-font-color0, rgba(0, 0, 0, 1));\n",
       "  --xr-font-color2: var(--jp-content-font-color2, rgba(0, 0, 0, 0.54));\n",
       "  --xr-font-color3: var(--jp-content-font-color3, rgba(0, 0, 0, 0.38));\n",
       "  --xr-border-color: var(--jp-border-color2, #e0e0e0);\n",
       "  --xr-disabled-color: var(--jp-layout-color3, #bdbdbd);\n",
       "  --xr-background-color: var(--jp-layout-color0, white);\n",
       "  --xr-background-color-row-even: var(--jp-layout-color1, white);\n",
       "  --xr-background-color-row-odd: var(--jp-layout-color2, #eeeeee);\n",
       "}\n",
       "\n",
       "html[theme=dark],\n",
       "body[data-theme=dark],\n",
       "body.vscode-dark {\n",
       "  --xr-font-color0: rgba(255, 255, 255, 1);\n",
       "  --xr-font-color2: rgba(255, 255, 255, 0.54);\n",
       "  --xr-font-color3: rgba(255, 255, 255, 0.38);\n",
       "  --xr-border-color: #1F1F1F;\n",
       "  --xr-disabled-color: #515151;\n",
       "  --xr-background-color: #111111;\n",
       "  --xr-background-color-row-even: #111111;\n",
       "  --xr-background-color-row-odd: #313131;\n",
       "}\n",
       "\n",
       ".xr-wrap {\n",
       "  display: block !important;\n",
       "  min-width: 300px;\n",
       "  max-width: 700px;\n",
       "}\n",
       "\n",
       ".xr-text-repr-fallback {\n",
       "  /* fallback to plain text repr when CSS is not injected (untrusted notebook) */\n",
       "  display: none;\n",
       "}\n",
       "\n",
       ".xr-header {\n",
       "  padding-top: 6px;\n",
       "  padding-bottom: 6px;\n",
       "  margin-bottom: 4px;\n",
       "  border-bottom: solid 1px var(--xr-border-color);\n",
       "}\n",
       "\n",
       ".xr-header > div,\n",
       ".xr-header > ul {\n",
       "  display: inline;\n",
       "  margin-top: 0;\n",
       "  margin-bottom: 0;\n",
       "}\n",
       "\n",
       ".xr-obj-type,\n",
       ".xr-array-name {\n",
       "  margin-left: 2px;\n",
       "  margin-right: 10px;\n",
       "}\n",
       "\n",
       ".xr-obj-type {\n",
       "  color: var(--xr-font-color2);\n",
       "}\n",
       "\n",
       ".xr-sections {\n",
       "  padding-left: 0 !important;\n",
       "  display: grid;\n",
       "  grid-template-columns: 150px auto auto 1fr 20px 20px;\n",
       "}\n",
       "\n",
       ".xr-section-item {\n",
       "  display: contents;\n",
       "}\n",
       "\n",
       ".xr-section-item input {\n",
       "  display: none;\n",
       "}\n",
       "\n",
       ".xr-section-item input + label {\n",
       "  color: var(--xr-disabled-color);\n",
       "}\n",
       "\n",
       ".xr-section-item input:enabled + label {\n",
       "  cursor: pointer;\n",
       "  color: var(--xr-font-color2);\n",
       "}\n",
       "\n",
       ".xr-section-item input:enabled + label:hover {\n",
       "  color: var(--xr-font-color0);\n",
       "}\n",
       "\n",
       ".xr-section-summary {\n",
       "  grid-column: 1;\n",
       "  color: var(--xr-font-color2);\n",
       "  font-weight: 500;\n",
       "}\n",
       "\n",
       ".xr-section-summary > span {\n",
       "  display: inline-block;\n",
       "  padding-left: 0.5em;\n",
       "}\n",
       "\n",
       ".xr-section-summary-in:disabled + label {\n",
       "  color: var(--xr-font-color2);\n",
       "}\n",
       "\n",
       ".xr-section-summary-in + label:before {\n",
       "  display: inline-block;\n",
       "  content: '►';\n",
       "  font-size: 11px;\n",
       "  width: 15px;\n",
       "  text-align: center;\n",
       "}\n",
       "\n",
       ".xr-section-summary-in:disabled + label:before {\n",
       "  color: var(--xr-disabled-color);\n",
       "}\n",
       "\n",
       ".xr-section-summary-in:checked + label:before {\n",
       "  content: '▼';\n",
       "}\n",
       "\n",
       ".xr-section-summary-in:checked + label > span {\n",
       "  display: none;\n",
       "}\n",
       "\n",
       ".xr-section-summary,\n",
       ".xr-section-inline-details {\n",
       "  padding-top: 4px;\n",
       "  padding-bottom: 4px;\n",
       "}\n",
       "\n",
       ".xr-section-inline-details {\n",
       "  grid-column: 2 / -1;\n",
       "}\n",
       "\n",
       ".xr-section-details {\n",
       "  display: none;\n",
       "  grid-column: 1 / -1;\n",
       "  margin-bottom: 5px;\n",
       "}\n",
       "\n",
       ".xr-section-summary-in:checked ~ .xr-section-details {\n",
       "  display: contents;\n",
       "}\n",
       "\n",
       ".xr-array-wrap {\n",
       "  grid-column: 1 / -1;\n",
       "  display: grid;\n",
       "  grid-template-columns: 20px auto;\n",
       "}\n",
       "\n",
       ".xr-array-wrap > label {\n",
       "  grid-column: 1;\n",
       "  vertical-align: top;\n",
       "}\n",
       "\n",
       ".xr-preview {\n",
       "  color: var(--xr-font-color3);\n",
       "}\n",
       "\n",
       ".xr-array-preview,\n",
       ".xr-array-data {\n",
       "  padding: 0 5px !important;\n",
       "  grid-column: 2;\n",
       "}\n",
       "\n",
       ".xr-array-data,\n",
       ".xr-array-in:checked ~ .xr-array-preview {\n",
       "  display: none;\n",
       "}\n",
       "\n",
       ".xr-array-in:checked ~ .xr-array-data,\n",
       ".xr-array-preview {\n",
       "  display: inline-block;\n",
       "}\n",
       "\n",
       ".xr-dim-list {\n",
       "  display: inline-block !important;\n",
       "  list-style: none;\n",
       "  padding: 0 !important;\n",
       "  margin: 0;\n",
       "}\n",
       "\n",
       ".xr-dim-list li {\n",
       "  display: inline-block;\n",
       "  padding: 0;\n",
       "  margin: 0;\n",
       "}\n",
       "\n",
       ".xr-dim-list:before {\n",
       "  content: '(';\n",
       "}\n",
       "\n",
       ".xr-dim-list:after {\n",
       "  content: ')';\n",
       "}\n",
       "\n",
       ".xr-dim-list li:not(:last-child):after {\n",
       "  content: ',';\n",
       "  padding-right: 5px;\n",
       "}\n",
       "\n",
       ".xr-has-index {\n",
       "  font-weight: bold;\n",
       "}\n",
       "\n",
       ".xr-var-list,\n",
       ".xr-var-item {\n",
       "  display: contents;\n",
       "}\n",
       "\n",
       ".xr-var-item > div,\n",
       ".xr-var-item label,\n",
       ".xr-var-item > .xr-var-name span {\n",
       "  background-color: var(--xr-background-color-row-even);\n",
       "  margin-bottom: 0;\n",
       "}\n",
       "\n",
       ".xr-var-item > .xr-var-name:hover span {\n",
       "  padding-right: 5px;\n",
       "}\n",
       "\n",
       ".xr-var-list > li:nth-child(odd) > div,\n",
       ".xr-var-list > li:nth-child(odd) > label,\n",
       ".xr-var-list > li:nth-child(odd) > .xr-var-name span {\n",
       "  background-color: var(--xr-background-color-row-odd);\n",
       "}\n",
       "\n",
       ".xr-var-name {\n",
       "  grid-column: 1;\n",
       "}\n",
       "\n",
       ".xr-var-dims {\n",
       "  grid-column: 2;\n",
       "}\n",
       "\n",
       ".xr-var-dtype {\n",
       "  grid-column: 3;\n",
       "  text-align: right;\n",
       "  color: var(--xr-font-color2);\n",
       "}\n",
       "\n",
       ".xr-var-preview {\n",
       "  grid-column: 4;\n",
       "}\n",
       "\n",
       ".xr-index-preview {\n",
       "  grid-column: 2 / 5;\n",
       "  color: var(--xr-font-color2);\n",
       "}\n",
       "\n",
       ".xr-var-name,\n",
       ".xr-var-dims,\n",
       ".xr-var-dtype,\n",
       ".xr-preview,\n",
       ".xr-attrs dt {\n",
       "  white-space: nowrap;\n",
       "  overflow: hidden;\n",
       "  text-overflow: ellipsis;\n",
       "  padding-right: 10px;\n",
       "}\n",
       "\n",
       ".xr-var-name:hover,\n",
       ".xr-var-dims:hover,\n",
       ".xr-var-dtype:hover,\n",
       ".xr-attrs dt:hover {\n",
       "  overflow: visible;\n",
       "  width: auto;\n",
       "  z-index: 1;\n",
       "}\n",
       "\n",
       ".xr-var-attrs,\n",
       ".xr-var-data,\n",
       ".xr-index-data {\n",
       "  display: none;\n",
       "  background-color: var(--xr-background-color) !important;\n",
       "  padding-bottom: 5px !important;\n",
       "}\n",
       "\n",
       ".xr-var-attrs-in:checked ~ .xr-var-attrs,\n",
       ".xr-var-data-in:checked ~ .xr-var-data,\n",
       ".xr-index-data-in:checked ~ .xr-index-data {\n",
       "  display: block;\n",
       "}\n",
       "\n",
       ".xr-var-data > table {\n",
       "  float: right;\n",
       "}\n",
       "\n",
       ".xr-var-name span,\n",
       ".xr-var-data,\n",
       ".xr-index-name div,\n",
       ".xr-index-data,\n",
       ".xr-attrs {\n",
       "  padding-left: 25px !important;\n",
       "}\n",
       "\n",
       ".xr-attrs,\n",
       ".xr-var-attrs,\n",
       ".xr-var-data,\n",
       ".xr-index-data {\n",
       "  grid-column: 1 / -1;\n",
       "}\n",
       "\n",
       "dl.xr-attrs {\n",
       "  padding: 0;\n",
       "  margin: 0;\n",
       "  display: grid;\n",
       "  grid-template-columns: 125px auto;\n",
       "}\n",
       "\n",
       ".xr-attrs dt,\n",
       ".xr-attrs dd {\n",
       "  padding: 0;\n",
       "  margin: 0;\n",
       "  float: left;\n",
       "  padding-right: 10px;\n",
       "  width: auto;\n",
       "}\n",
       "\n",
       ".xr-attrs dt {\n",
       "  font-weight: normal;\n",
       "  grid-column: 1;\n",
       "}\n",
       "\n",
       ".xr-attrs dt:hover span {\n",
       "  display: inline-block;\n",
       "  background: var(--xr-background-color);\n",
       "  padding-right: 10px;\n",
       "}\n",
       "\n",
       ".xr-attrs dd {\n",
       "  grid-column: 2;\n",
       "  white-space: pre-wrap;\n",
       "  word-break: break-all;\n",
       "}\n",
       "\n",
       ".xr-icon-database,\n",
       ".xr-icon-file-text2,\n",
       ".xr-no-icon {\n",
       "  display: inline-block;\n",
       "  vertical-align: middle;\n",
       "  width: 1em;\n",
       "  height: 1.5em !important;\n",
       "  stroke-width: 0;\n",
       "  stroke: currentColor;\n",
       "  fill: currentColor;\n",
       "}\n",
       "</style><pre class='xr-text-repr-fallback'>&lt;xarray.DataArray &#x27;co2&#x27; (month: 12)&gt;\n",
       "array([348.  , 348.47, 349.4 , 350.97, 351.84, 351.25, 349.5 , 348.09,\n",
       "       346.44, 346.09, 347.54, 348.69])\n",
       "Coordinates:\n",
       "    year     int64 1987\n",
       "  * month    (month) int64 1 2 3 4 5 6 7 8 9 10 11 12</pre><div class='xr-wrap' style='display:none'><div class='xr-header'><div class='xr-obj-type'>xarray.DataArray</div><div class='xr-array-name'>'co2'</div><ul class='xr-dim-list'><li><span class='xr-has-index'>month</span>: 12</li></ul></div><ul class='xr-sections'><li class='xr-section-item'><div class='xr-array-wrap'><input id='section-e3911c2b-a212-4b5d-a045-0e763c0c81da' class='xr-array-in' type='checkbox' checked><label for='section-e3911c2b-a212-4b5d-a045-0e763c0c81da' title='Show/hide data repr'><svg class='icon xr-icon-database'><use xlink:href='#icon-database'></use></svg></label><div class='xr-array-preview xr-preview'><span>348.0 348.5 349.4 351.0 351.8 351.2 ... 348.1 346.4 346.1 347.5 348.7</span></div><div class='xr-array-data'><pre>array([348.  , 348.47, 349.4 , 350.97, 351.84, 351.25, 349.5 , 348.09,\n",
       "       346.44, 346.09, 347.54, 348.69])</pre></div></div></li><li class='xr-section-item'><input id='section-26955721-3933-4fd1-94ed-b87fa15bdfcf' class='xr-section-summary-in' type='checkbox'  checked><label for='section-26955721-3933-4fd1-94ed-b87fa15bdfcf' class='xr-section-summary' >Coordinates: <span>(2)</span></label><div class='xr-section-inline-details'></div><div class='xr-section-details'><ul class='xr-var-list'><li class='xr-var-item'><div class='xr-var-name'><span>year</span></div><div class='xr-var-dims'>()</div><div class='xr-var-dtype'>int64</div><div class='xr-var-preview xr-preview'>1987</div><input id='attrs-1c68135b-2f24-4004-a187-9c4967dc3cf2' class='xr-var-attrs-in' type='checkbox' disabled><label for='attrs-1c68135b-2f24-4004-a187-9c4967dc3cf2' title='Show/Hide attributes'><svg class='icon xr-icon-file-text2'><use xlink:href='#icon-file-text2'></use></svg></label><input id='data-0d57294f-19f6-4407-8e90-a569c5221cf4' class='xr-var-data-in' type='checkbox'><label for='data-0d57294f-19f6-4407-8e90-a569c5221cf4' title='Show/Hide data repr'><svg class='icon xr-icon-database'><use xlink:href='#icon-database'></use></svg></label><div class='xr-var-attrs'><dl class='xr-attrs'></dl></div><div class='xr-var-data'><pre>array(1987)</pre></div></li><li class='xr-var-item'><div class='xr-var-name'><span class='xr-has-index'>month</span></div><div class='xr-var-dims'>(month)</div><div class='xr-var-dtype'>int64</div><div class='xr-var-preview xr-preview'>1 2 3 4 5 6 7 8 9 10 11 12</div><input id='attrs-3be2d86c-cc86-4bcc-91d5-aa3678d32030' class='xr-var-attrs-in' type='checkbox' disabled><label for='attrs-3be2d86c-cc86-4bcc-91d5-aa3678d32030' title='Show/Hide attributes'><svg class='icon xr-icon-file-text2'><use xlink:href='#icon-file-text2'></use></svg></label><input id='data-5bed6aad-60ac-496d-ada3-482a40f9ff0a' class='xr-var-data-in' type='checkbox'><label for='data-5bed6aad-60ac-496d-ada3-482a40f9ff0a' title='Show/Hide data repr'><svg class='icon xr-icon-database'><use xlink:href='#icon-database'></use></svg></label><div class='xr-var-attrs'><dl class='xr-attrs'></dl></div><div class='xr-var-data'><pre>array([ 1,  2,  3,  4,  5,  6,  7,  8,  9, 10, 11, 12])</pre></div></li></ul></div></li><li class='xr-section-item'><input id='section-1e5a7504-9efb-4970-8ccd-516993b42471' class='xr-section-summary-in' type='checkbox'  ><label for='section-1e5a7504-9efb-4970-8ccd-516993b42471' class='xr-section-summary' >Indexes: <span>(1)</span></label><div class='xr-section-inline-details'></div><div class='xr-section-details'><ul class='xr-var-list'><li class='xr-var-item'><div class='xr-index-name'><div>month</div></div><div class='xr-index-preview'>PandasIndex</div><div></div><input id='index-0a627e19-a8e3-4dc6-904d-5e722d6e29c3' class='xr-index-data-in' type='checkbox'/><label for='index-0a627e19-a8e3-4dc6-904d-5e722d6e29c3' title='Show/Hide index repr'><svg class='icon xr-icon-database'><use xlink:href='#icon-database'></use></svg></label><div class='xr-index-data'><pre>PandasIndex(Int64Index([1, 2, 3, 4, 5, 6, 7, 8, 9, 10, 11, 12], dtype=&#x27;int64&#x27;, name=&#x27;month&#x27;))</pre></div></li></ul></div></li><li class='xr-section-item'><input id='section-ef896fde-a12a-4cfb-b2da-0096837fe549' class='xr-section-summary-in' type='checkbox' disabled ><label for='section-ef896fde-a12a-4cfb-b2da-0096837fe549' class='xr-section-summary'  title='Expand/collapse section'>Attributes: <span>(0)</span></label><div class='xr-section-inline-details'></div><div class='xr-section-details'><dl class='xr-attrs'></dl></div></li></ul></div></div>"
      ],
      "text/plain": [
       "<xarray.DataArray 'co2' (month: 12)>\n",
       "array([348.  , 348.47, 349.4 , 350.97, 351.84, 351.25, 349.5 , 348.09,\n",
       "       346.44, 346.09, 347.54, 348.69])\n",
       "Coordinates:\n",
       "    year     int64 1987\n",
       "  * month    (month) int64 1 2 3 4 5 6 7 8 9 10 11 12"
      ]
     },
     "execution_count": 363,
     "metadata": {},
     "output_type": "execute_result"
    }
   ],
   "source": [
    "ds['co2'].sel(year=1987)"
   ]
  },
  {
   "cell_type": "code",
   "execution_count": null,
   "id": "a93b4a7f",
   "metadata": {},
   "outputs": [
    {
     "data": {
      "text/html": [
       "<div><svg style=\"position: absolute; width: 0; height: 0; overflow: hidden\">\n",
       "<defs>\n",
       "<symbol id=\"icon-database\" viewBox=\"0 0 32 32\">\n",
       "<path d=\"M16 0c-8.837 0-16 2.239-16 5v4c0 2.761 7.163 5 16 5s16-2.239 16-5v-4c0-2.761-7.163-5-16-5z\"></path>\n",
       "<path d=\"M16 17c-8.837 0-16-2.239-16-5v6c0 2.761 7.163 5 16 5s16-2.239 16-5v-6c0 2.761-7.163 5-16 5z\"></path>\n",
       "<path d=\"M16 26c-8.837 0-16-2.239-16-5v6c0 2.761 7.163 5 16 5s16-2.239 16-5v-6c0 2.761-7.163 5-16 5z\"></path>\n",
       "</symbol>\n",
       "<symbol id=\"icon-file-text2\" viewBox=\"0 0 32 32\">\n",
       "<path d=\"M28.681 7.159c-0.694-0.947-1.662-2.053-2.724-3.116s-2.169-2.030-3.116-2.724c-1.612-1.182-2.393-1.319-2.841-1.319h-15.5c-1.378 0-2.5 1.121-2.5 2.5v27c0 1.378 1.122 2.5 2.5 2.5h23c1.378 0 2.5-1.122 2.5-2.5v-19.5c0-0.448-0.137-1.23-1.319-2.841zM24.543 5.457c0.959 0.959 1.712 1.825 2.268 2.543h-4.811v-4.811c0.718 0.556 1.584 1.309 2.543 2.268zM28 29.5c0 0.271-0.229 0.5-0.5 0.5h-23c-0.271 0-0.5-0.229-0.5-0.5v-27c0-0.271 0.229-0.5 0.5-0.5 0 0 15.499-0 15.5 0v7c0 0.552 0.448 1 1 1h7v19.5z\"></path>\n",
       "<path d=\"M23 26h-14c-0.552 0-1-0.448-1-1s0.448-1 1-1h14c0.552 0 1 0.448 1 1s-0.448 1-1 1z\"></path>\n",
       "<path d=\"M23 22h-14c-0.552 0-1-0.448-1-1s0.448-1 1-1h14c0.552 0 1 0.448 1 1s-0.448 1-1 1z\"></path>\n",
       "<path d=\"M23 18h-14c-0.552 0-1-0.448-1-1s0.448-1 1-1h14c0.552 0 1 0.448 1 1s-0.448 1-1 1z\"></path>\n",
       "</symbol>\n",
       "</defs>\n",
       "</svg>\n",
       "<style>/* CSS stylesheet for displaying xarray objects in jupyterlab.\n",
       " *\n",
       " */\n",
       "\n",
       ":root {\n",
       "  --xr-font-color0: var(--jp-content-font-color0, rgba(0, 0, 0, 1));\n",
       "  --xr-font-color2: var(--jp-content-font-color2, rgba(0, 0, 0, 0.54));\n",
       "  --xr-font-color3: var(--jp-content-font-color3, rgba(0, 0, 0, 0.38));\n",
       "  --xr-border-color: var(--jp-border-color2, #e0e0e0);\n",
       "  --xr-disabled-color: var(--jp-layout-color3, #bdbdbd);\n",
       "  --xr-background-color: var(--jp-layout-color0, white);\n",
       "  --xr-background-color-row-even: var(--jp-layout-color1, white);\n",
       "  --xr-background-color-row-odd: var(--jp-layout-color2, #eeeeee);\n",
       "}\n",
       "\n",
       "html[theme=dark],\n",
       "body[data-theme=dark],\n",
       "body.vscode-dark {\n",
       "  --xr-font-color0: rgba(255, 255, 255, 1);\n",
       "  --xr-font-color2: rgba(255, 255, 255, 0.54);\n",
       "  --xr-font-color3: rgba(255, 255, 255, 0.38);\n",
       "  --xr-border-color: #1F1F1F;\n",
       "  --xr-disabled-color: #515151;\n",
       "  --xr-background-color: #111111;\n",
       "  --xr-background-color-row-even: #111111;\n",
       "  --xr-background-color-row-odd: #313131;\n",
       "}\n",
       "\n",
       ".xr-wrap {\n",
       "  display: block !important;\n",
       "  min-width: 300px;\n",
       "  max-width: 700px;\n",
       "}\n",
       "\n",
       ".xr-text-repr-fallback {\n",
       "  /* fallback to plain text repr when CSS is not injected (untrusted notebook) */\n",
       "  display: none;\n",
       "}\n",
       "\n",
       ".xr-header {\n",
       "  padding-top: 6px;\n",
       "  padding-bottom: 6px;\n",
       "  margin-bottom: 4px;\n",
       "  border-bottom: solid 1px var(--xr-border-color);\n",
       "}\n",
       "\n",
       ".xr-header > div,\n",
       ".xr-header > ul {\n",
       "  display: inline;\n",
       "  margin-top: 0;\n",
       "  margin-bottom: 0;\n",
       "}\n",
       "\n",
       ".xr-obj-type,\n",
       ".xr-array-name {\n",
       "  margin-left: 2px;\n",
       "  margin-right: 10px;\n",
       "}\n",
       "\n",
       ".xr-obj-type {\n",
       "  color: var(--xr-font-color2);\n",
       "}\n",
       "\n",
       ".xr-sections {\n",
       "  padding-left: 0 !important;\n",
       "  display: grid;\n",
       "  grid-template-columns: 150px auto auto 1fr 20px 20px;\n",
       "}\n",
       "\n",
       ".xr-section-item {\n",
       "  display: contents;\n",
       "}\n",
       "\n",
       ".xr-section-item input {\n",
       "  display: none;\n",
       "}\n",
       "\n",
       ".xr-section-item input + label {\n",
       "  color: var(--xr-disabled-color);\n",
       "}\n",
       "\n",
       ".xr-section-item input:enabled + label {\n",
       "  cursor: pointer;\n",
       "  color: var(--xr-font-color2);\n",
       "}\n",
       "\n",
       ".xr-section-item input:enabled + label:hover {\n",
       "  color: var(--xr-font-color0);\n",
       "}\n",
       "\n",
       ".xr-section-summary {\n",
       "  grid-column: 1;\n",
       "  color: var(--xr-font-color2);\n",
       "  font-weight: 500;\n",
       "}\n",
       "\n",
       ".xr-section-summary > span {\n",
       "  display: inline-block;\n",
       "  padding-left: 0.5em;\n",
       "}\n",
       "\n",
       ".xr-section-summary-in:disabled + label {\n",
       "  color: var(--xr-font-color2);\n",
       "}\n",
       "\n",
       ".xr-section-summary-in + label:before {\n",
       "  display: inline-block;\n",
       "  content: '►';\n",
       "  font-size: 11px;\n",
       "  width: 15px;\n",
       "  text-align: center;\n",
       "}\n",
       "\n",
       ".xr-section-summary-in:disabled + label:before {\n",
       "  color: var(--xr-disabled-color);\n",
       "}\n",
       "\n",
       ".xr-section-summary-in:checked + label:before {\n",
       "  content: '▼';\n",
       "}\n",
       "\n",
       ".xr-section-summary-in:checked + label > span {\n",
       "  display: none;\n",
       "}\n",
       "\n",
       ".xr-section-summary,\n",
       ".xr-section-inline-details {\n",
       "  padding-top: 4px;\n",
       "  padding-bottom: 4px;\n",
       "}\n",
       "\n",
       ".xr-section-inline-details {\n",
       "  grid-column: 2 / -1;\n",
       "}\n",
       "\n",
       ".xr-section-details {\n",
       "  display: none;\n",
       "  grid-column: 1 / -1;\n",
       "  margin-bottom: 5px;\n",
       "}\n",
       "\n",
       ".xr-section-summary-in:checked ~ .xr-section-details {\n",
       "  display: contents;\n",
       "}\n",
       "\n",
       ".xr-array-wrap {\n",
       "  grid-column: 1 / -1;\n",
       "  display: grid;\n",
       "  grid-template-columns: 20px auto;\n",
       "}\n",
       "\n",
       ".xr-array-wrap > label {\n",
       "  grid-column: 1;\n",
       "  vertical-align: top;\n",
       "}\n",
       "\n",
       ".xr-preview {\n",
       "  color: var(--xr-font-color3);\n",
       "}\n",
       "\n",
       ".xr-array-preview,\n",
       ".xr-array-data {\n",
       "  padding: 0 5px !important;\n",
       "  grid-column: 2;\n",
       "}\n",
       "\n",
       ".xr-array-data,\n",
       ".xr-array-in:checked ~ .xr-array-preview {\n",
       "  display: none;\n",
       "}\n",
       "\n",
       ".xr-array-in:checked ~ .xr-array-data,\n",
       ".xr-array-preview {\n",
       "  display: inline-block;\n",
       "}\n",
       "\n",
       ".xr-dim-list {\n",
       "  display: inline-block !important;\n",
       "  list-style: none;\n",
       "  padding: 0 !important;\n",
       "  margin: 0;\n",
       "}\n",
       "\n",
       ".xr-dim-list li {\n",
       "  display: inline-block;\n",
       "  padding: 0;\n",
       "  margin: 0;\n",
       "}\n",
       "\n",
       ".xr-dim-list:before {\n",
       "  content: '(';\n",
       "}\n",
       "\n",
       ".xr-dim-list:after {\n",
       "  content: ')';\n",
       "}\n",
       "\n",
       ".xr-dim-list li:not(:last-child):after {\n",
       "  content: ',';\n",
       "  padding-right: 5px;\n",
       "}\n",
       "\n",
       ".xr-has-index {\n",
       "  font-weight: bold;\n",
       "}\n",
       "\n",
       ".xr-var-list,\n",
       ".xr-var-item {\n",
       "  display: contents;\n",
       "}\n",
       "\n",
       ".xr-var-item > div,\n",
       ".xr-var-item label,\n",
       ".xr-var-item > .xr-var-name span {\n",
       "  background-color: var(--xr-background-color-row-even);\n",
       "  margin-bottom: 0;\n",
       "}\n",
       "\n",
       ".xr-var-item > .xr-var-name:hover span {\n",
       "  padding-right: 5px;\n",
       "}\n",
       "\n",
       ".xr-var-list > li:nth-child(odd) > div,\n",
       ".xr-var-list > li:nth-child(odd) > label,\n",
       ".xr-var-list > li:nth-child(odd) > .xr-var-name span {\n",
       "  background-color: var(--xr-background-color-row-odd);\n",
       "}\n",
       "\n",
       ".xr-var-name {\n",
       "  grid-column: 1;\n",
       "}\n",
       "\n",
       ".xr-var-dims {\n",
       "  grid-column: 2;\n",
       "}\n",
       "\n",
       ".xr-var-dtype {\n",
       "  grid-column: 3;\n",
       "  text-align: right;\n",
       "  color: var(--xr-font-color2);\n",
       "}\n",
       "\n",
       ".xr-var-preview {\n",
       "  grid-column: 4;\n",
       "}\n",
       "\n",
       ".xr-index-preview {\n",
       "  grid-column: 2 / 5;\n",
       "  color: var(--xr-font-color2);\n",
       "}\n",
       "\n",
       ".xr-var-name,\n",
       ".xr-var-dims,\n",
       ".xr-var-dtype,\n",
       ".xr-preview,\n",
       ".xr-attrs dt {\n",
       "  white-space: nowrap;\n",
       "  overflow: hidden;\n",
       "  text-overflow: ellipsis;\n",
       "  padding-right: 10px;\n",
       "}\n",
       "\n",
       ".xr-var-name:hover,\n",
       ".xr-var-dims:hover,\n",
       ".xr-var-dtype:hover,\n",
       ".xr-attrs dt:hover {\n",
       "  overflow: visible;\n",
       "  width: auto;\n",
       "  z-index: 1;\n",
       "}\n",
       "\n",
       ".xr-var-attrs,\n",
       ".xr-var-data,\n",
       ".xr-index-data {\n",
       "  display: none;\n",
       "  background-color: var(--xr-background-color) !important;\n",
       "  padding-bottom: 5px !important;\n",
       "}\n",
       "\n",
       ".xr-var-attrs-in:checked ~ .xr-var-attrs,\n",
       ".xr-var-data-in:checked ~ .xr-var-data,\n",
       ".xr-index-data-in:checked ~ .xr-index-data {\n",
       "  display: block;\n",
       "}\n",
       "\n",
       ".xr-var-data > table {\n",
       "  float: right;\n",
       "}\n",
       "\n",
       ".xr-var-name span,\n",
       ".xr-var-data,\n",
       ".xr-index-name div,\n",
       ".xr-index-data,\n",
       ".xr-attrs {\n",
       "  padding-left: 25px !important;\n",
       "}\n",
       "\n",
       ".xr-attrs,\n",
       ".xr-var-attrs,\n",
       ".xr-var-data,\n",
       ".xr-index-data {\n",
       "  grid-column: 1 / -1;\n",
       "}\n",
       "\n",
       "dl.xr-attrs {\n",
       "  padding: 0;\n",
       "  margin: 0;\n",
       "  display: grid;\n",
       "  grid-template-columns: 125px auto;\n",
       "}\n",
       "\n",
       ".xr-attrs dt,\n",
       ".xr-attrs dd {\n",
       "  padding: 0;\n",
       "  margin: 0;\n",
       "  float: left;\n",
       "  padding-right: 10px;\n",
       "  width: auto;\n",
       "}\n",
       "\n",
       ".xr-attrs dt {\n",
       "  font-weight: normal;\n",
       "  grid-column: 1;\n",
       "}\n",
       "\n",
       ".xr-attrs dt:hover span {\n",
       "  display: inline-block;\n",
       "  background: var(--xr-background-color);\n",
       "  padding-right: 10px;\n",
       "}\n",
       "\n",
       ".xr-attrs dd {\n",
       "  grid-column: 2;\n",
       "  white-space: pre-wrap;\n",
       "  word-break: break-all;\n",
       "}\n",
       "\n",
       ".xr-icon-database,\n",
       ".xr-icon-file-text2,\n",
       ".xr-no-icon {\n",
       "  display: inline-block;\n",
       "  vertical-align: middle;\n",
       "  width: 1em;\n",
       "  height: 1.5em !important;\n",
       "  stroke-width: 0;\n",
       "  stroke: currentColor;\n",
       "  fill: currentColor;\n",
       "}\n",
       "</style><pre class='xr-text-repr-fallback'>&lt;xarray.Dataset&gt;\n",
       "Dimensions:  (month: 12)\n",
       "Coordinates:\n",
       "  * month    (month) int64 1 2 3 4 5 6 7 8 9 10 11 12\n",
       "Data variables:\n",
       "    co2      (month) float64 356.5 356.3 356.4 357.8 ... 352.7 352.7 354.1 355.4</pre><div class='xr-wrap' style='display:none'><div class='xr-header'><div class='xr-obj-type'>xarray.Dataset</div></div><ul class='xr-sections'><li class='xr-section-item'><input id='section-5b53c8f8-57b6-453d-8285-ce11d1b9766f' class='xr-section-summary-in' type='checkbox' disabled ><label for='section-5b53c8f8-57b6-453d-8285-ce11d1b9766f' class='xr-section-summary'  title='Expand/collapse section'>Dimensions:</label><div class='xr-section-inline-details'><ul class='xr-dim-list'><li><span class='xr-has-index'>month</span>: 12</li></ul></div><div class='xr-section-details'></div></li><li class='xr-section-item'><input id='section-4b01edfd-9530-48c6-98b9-7e499b5d1345' class='xr-section-summary-in' type='checkbox'  checked><label for='section-4b01edfd-9530-48c6-98b9-7e499b5d1345' class='xr-section-summary' >Coordinates: <span>(1)</span></label><div class='xr-section-inline-details'></div><div class='xr-section-details'><ul class='xr-var-list'><li class='xr-var-item'><div class='xr-var-name'><span class='xr-has-index'>month</span></div><div class='xr-var-dims'>(month)</div><div class='xr-var-dtype'>int64</div><div class='xr-var-preview xr-preview'>1 2 3 4 5 6 7 8 9 10 11 12</div><input id='attrs-4db9d08a-fca1-4d79-a9b6-e3ad6bcd3126' class='xr-var-attrs-in' type='checkbox' disabled><label for='attrs-4db9d08a-fca1-4d79-a9b6-e3ad6bcd3126' title='Show/Hide attributes'><svg class='icon xr-icon-file-text2'><use xlink:href='#icon-file-text2'></use></svg></label><input id='data-6ac8f74f-9ee4-4127-b55c-cde64ec1add1' class='xr-var-data-in' type='checkbox'><label for='data-6ac8f74f-9ee4-4127-b55c-cde64ec1add1' title='Show/Hide data repr'><svg class='icon xr-icon-database'><use xlink:href='#icon-database'></use></svg></label><div class='xr-var-attrs'><dl class='xr-attrs'></dl></div><div class='xr-var-data'><pre>array([ 1,  2,  3,  4,  5,  6,  7,  8,  9, 10, 11, 12])</pre></div></li></ul></div></li><li class='xr-section-item'><input id='section-03ad260b-0a29-4668-82a5-e169078d7f55' class='xr-section-summary-in' type='checkbox'  checked><label for='section-03ad260b-0a29-4668-82a5-e169078d7f55' class='xr-section-summary' >Data variables: <span>(1)</span></label><div class='xr-section-inline-details'></div><div class='xr-section-details'><ul class='xr-var-list'><li class='xr-var-item'><div class='xr-var-name'><span>co2</span></div><div class='xr-var-dims'>(month)</div><div class='xr-var-dtype'>float64</div><div class='xr-var-preview xr-preview'>356.5 356.3 356.4 ... 354.1 355.4</div><input id='attrs-219b03d1-92fe-40eb-b3a4-717e6b0f1948' class='xr-var-attrs-in' type='checkbox' disabled><label for='attrs-219b03d1-92fe-40eb-b3a4-717e6b0f1948' title='Show/Hide attributes'><svg class='icon xr-icon-file-text2'><use xlink:href='#icon-file-text2'></use></svg></label><input id='data-eb895ca3-ddd4-4dcb-b1fc-0ca66f06b533' class='xr-var-data-in' type='checkbox'><label for='data-eb895ca3-ddd4-4dcb-b1fc-0ca66f06b533' title='Show/Hide data repr'><svg class='icon xr-icon-database'><use xlink:href='#icon-database'></use></svg></label><div class='xr-var-attrs'><dl class='xr-attrs'></dl></div><div class='xr-var-data'><pre>array([356.46730159, 356.28467742, 356.4352381 , 357.80111111,\n",
       "       358.41825397, 357.82873016, 356.32777778, 354.34063492,\n",
       "       352.68428571, 352.67761905, 354.08238095, 355.37634921])</pre></div></li></ul></div></li><li class='xr-section-item'><input id='section-621d3521-3025-4d0e-aade-d51432623182' class='xr-section-summary-in' type='checkbox'  ><label for='section-621d3521-3025-4d0e-aade-d51432623182' class='xr-section-summary' >Indexes: <span>(1)</span></label><div class='xr-section-inline-details'></div><div class='xr-section-details'><ul class='xr-var-list'><li class='xr-var-item'><div class='xr-index-name'><div>month</div></div><div class='xr-index-preview'>PandasIndex</div><div></div><input id='index-caf1b88a-2f69-4329-8d74-163c8cbf498e' class='xr-index-data-in' type='checkbox'/><label for='index-caf1b88a-2f69-4329-8d74-163c8cbf498e' title='Show/Hide index repr'><svg class='icon xr-icon-database'><use xlink:href='#icon-database'></use></svg></label><div class='xr-index-data'><pre>PandasIndex(Int64Index([1, 2, 3, 4, 5, 6, 7, 8, 9, 10, 11, 12], dtype=&#x27;int64&#x27;, name=&#x27;month&#x27;))</pre></div></li></ul></div></li><li class='xr-section-item'><input id='section-4dd8abd8-e90d-456e-8675-dc7d19e5323f' class='xr-section-summary-in' type='checkbox' disabled ><label for='section-4dd8abd8-e90d-456e-8675-dc7d19e5323f' class='xr-section-summary'  title='Expand/collapse section'>Attributes: <span>(0)</span></label><div class='xr-section-inline-details'></div><div class='xr-section-details'><dl class='xr-attrs'></dl></div></li></ul></div></div>"
      ],
      "text/plain": [
       "<xarray.Dataset>\n",
       "Dimensions:  (month: 12)\n",
       "Coordinates:\n",
       "  * month    (month) int64 1 2 3 4 5 6 7 8 9 10 11 12\n",
       "Data variables:\n",
       "    co2      (month) float64 356.5 356.3 356.4 357.8 ... 352.7 352.7 354.1 355.4"
      ]
     },
     "execution_count": 364,
     "metadata": {},
     "output_type": "execute_result"
    }
   ],
   "source": [
    "# get mean of co2 for each month across all year. Use dimension='year' to calculate\n",
    "ds.mean(dim='year')"
   ]
  },
  {
   "cell_type": "code",
   "execution_count": null,
   "id": "2216d6a5",
   "metadata": {},
   "outputs": [
    {
     "data": {
      "text/html": [
       "<div><svg style=\"position: absolute; width: 0; height: 0; overflow: hidden\">\n",
       "<defs>\n",
       "<symbol id=\"icon-database\" viewBox=\"0 0 32 32\">\n",
       "<path d=\"M16 0c-8.837 0-16 2.239-16 5v4c0 2.761 7.163 5 16 5s16-2.239 16-5v-4c0-2.761-7.163-5-16-5z\"></path>\n",
       "<path d=\"M16 17c-8.837 0-16-2.239-16-5v6c0 2.761 7.163 5 16 5s16-2.239 16-5v-6c0 2.761-7.163 5-16 5z\"></path>\n",
       "<path d=\"M16 26c-8.837 0-16-2.239-16-5v6c0 2.761 7.163 5 16 5s16-2.239 16-5v-6c0 2.761-7.163 5-16 5z\"></path>\n",
       "</symbol>\n",
       "<symbol id=\"icon-file-text2\" viewBox=\"0 0 32 32\">\n",
       "<path d=\"M28.681 7.159c-0.694-0.947-1.662-2.053-2.724-3.116s-2.169-2.030-3.116-2.724c-1.612-1.182-2.393-1.319-2.841-1.319h-15.5c-1.378 0-2.5 1.121-2.5 2.5v27c0 1.378 1.122 2.5 2.5 2.5h23c1.378 0 2.5-1.122 2.5-2.5v-19.5c0-0.448-0.137-1.23-1.319-2.841zM24.543 5.457c0.959 0.959 1.712 1.825 2.268 2.543h-4.811v-4.811c0.718 0.556 1.584 1.309 2.543 2.268zM28 29.5c0 0.271-0.229 0.5-0.5 0.5h-23c-0.271 0-0.5-0.229-0.5-0.5v-27c0-0.271 0.229-0.5 0.5-0.5 0 0 15.499-0 15.5 0v7c0 0.552 0.448 1 1 1h7v19.5z\"></path>\n",
       "<path d=\"M23 26h-14c-0.552 0-1-0.448-1-1s0.448-1 1-1h14c0.552 0 1 0.448 1 1s-0.448 1-1 1z\"></path>\n",
       "<path d=\"M23 22h-14c-0.552 0-1-0.448-1-1s0.448-1 1-1h14c0.552 0 1 0.448 1 1s-0.448 1-1 1z\"></path>\n",
       "<path d=\"M23 18h-14c-0.552 0-1-0.448-1-1s0.448-1 1-1h14c0.552 0 1 0.448 1 1s-0.448 1-1 1z\"></path>\n",
       "</symbol>\n",
       "</defs>\n",
       "</svg>\n",
       "<style>/* CSS stylesheet for displaying xarray objects in jupyterlab.\n",
       " *\n",
       " */\n",
       "\n",
       ":root {\n",
       "  --xr-font-color0: var(--jp-content-font-color0, rgba(0, 0, 0, 1));\n",
       "  --xr-font-color2: var(--jp-content-font-color2, rgba(0, 0, 0, 0.54));\n",
       "  --xr-font-color3: var(--jp-content-font-color3, rgba(0, 0, 0, 0.38));\n",
       "  --xr-border-color: var(--jp-border-color2, #e0e0e0);\n",
       "  --xr-disabled-color: var(--jp-layout-color3, #bdbdbd);\n",
       "  --xr-background-color: var(--jp-layout-color0, white);\n",
       "  --xr-background-color-row-even: var(--jp-layout-color1, white);\n",
       "  --xr-background-color-row-odd: var(--jp-layout-color2, #eeeeee);\n",
       "}\n",
       "\n",
       "html[theme=dark],\n",
       "body[data-theme=dark],\n",
       "body.vscode-dark {\n",
       "  --xr-font-color0: rgba(255, 255, 255, 1);\n",
       "  --xr-font-color2: rgba(255, 255, 255, 0.54);\n",
       "  --xr-font-color3: rgba(255, 255, 255, 0.38);\n",
       "  --xr-border-color: #1F1F1F;\n",
       "  --xr-disabled-color: #515151;\n",
       "  --xr-background-color: #111111;\n",
       "  --xr-background-color-row-even: #111111;\n",
       "  --xr-background-color-row-odd: #313131;\n",
       "}\n",
       "\n",
       ".xr-wrap {\n",
       "  display: block !important;\n",
       "  min-width: 300px;\n",
       "  max-width: 700px;\n",
       "}\n",
       "\n",
       ".xr-text-repr-fallback {\n",
       "  /* fallback to plain text repr when CSS is not injected (untrusted notebook) */\n",
       "  display: none;\n",
       "}\n",
       "\n",
       ".xr-header {\n",
       "  padding-top: 6px;\n",
       "  padding-bottom: 6px;\n",
       "  margin-bottom: 4px;\n",
       "  border-bottom: solid 1px var(--xr-border-color);\n",
       "}\n",
       "\n",
       ".xr-header > div,\n",
       ".xr-header > ul {\n",
       "  display: inline;\n",
       "  margin-top: 0;\n",
       "  margin-bottom: 0;\n",
       "}\n",
       "\n",
       ".xr-obj-type,\n",
       ".xr-array-name {\n",
       "  margin-left: 2px;\n",
       "  margin-right: 10px;\n",
       "}\n",
       "\n",
       ".xr-obj-type {\n",
       "  color: var(--xr-font-color2);\n",
       "}\n",
       "\n",
       ".xr-sections {\n",
       "  padding-left: 0 !important;\n",
       "  display: grid;\n",
       "  grid-template-columns: 150px auto auto 1fr 20px 20px;\n",
       "}\n",
       "\n",
       ".xr-section-item {\n",
       "  display: contents;\n",
       "}\n",
       "\n",
       ".xr-section-item input {\n",
       "  display: none;\n",
       "}\n",
       "\n",
       ".xr-section-item input + label {\n",
       "  color: var(--xr-disabled-color);\n",
       "}\n",
       "\n",
       ".xr-section-item input:enabled + label {\n",
       "  cursor: pointer;\n",
       "  color: var(--xr-font-color2);\n",
       "}\n",
       "\n",
       ".xr-section-item input:enabled + label:hover {\n",
       "  color: var(--xr-font-color0);\n",
       "}\n",
       "\n",
       ".xr-section-summary {\n",
       "  grid-column: 1;\n",
       "  color: var(--xr-font-color2);\n",
       "  font-weight: 500;\n",
       "}\n",
       "\n",
       ".xr-section-summary > span {\n",
       "  display: inline-block;\n",
       "  padding-left: 0.5em;\n",
       "}\n",
       "\n",
       ".xr-section-summary-in:disabled + label {\n",
       "  color: var(--xr-font-color2);\n",
       "}\n",
       "\n",
       ".xr-section-summary-in + label:before {\n",
       "  display: inline-block;\n",
       "  content: '►';\n",
       "  font-size: 11px;\n",
       "  width: 15px;\n",
       "  text-align: center;\n",
       "}\n",
       "\n",
       ".xr-section-summary-in:disabled + label:before {\n",
       "  color: var(--xr-disabled-color);\n",
       "}\n",
       "\n",
       ".xr-section-summary-in:checked + label:before {\n",
       "  content: '▼';\n",
       "}\n",
       "\n",
       ".xr-section-summary-in:checked + label > span {\n",
       "  display: none;\n",
       "}\n",
       "\n",
       ".xr-section-summary,\n",
       ".xr-section-inline-details {\n",
       "  padding-top: 4px;\n",
       "  padding-bottom: 4px;\n",
       "}\n",
       "\n",
       ".xr-section-inline-details {\n",
       "  grid-column: 2 / -1;\n",
       "}\n",
       "\n",
       ".xr-section-details {\n",
       "  display: none;\n",
       "  grid-column: 1 / -1;\n",
       "  margin-bottom: 5px;\n",
       "}\n",
       "\n",
       ".xr-section-summary-in:checked ~ .xr-section-details {\n",
       "  display: contents;\n",
       "}\n",
       "\n",
       ".xr-array-wrap {\n",
       "  grid-column: 1 / -1;\n",
       "  display: grid;\n",
       "  grid-template-columns: 20px auto;\n",
       "}\n",
       "\n",
       ".xr-array-wrap > label {\n",
       "  grid-column: 1;\n",
       "  vertical-align: top;\n",
       "}\n",
       "\n",
       ".xr-preview {\n",
       "  color: var(--xr-font-color3);\n",
       "}\n",
       "\n",
       ".xr-array-preview,\n",
       ".xr-array-data {\n",
       "  padding: 0 5px !important;\n",
       "  grid-column: 2;\n",
       "}\n",
       "\n",
       ".xr-array-data,\n",
       ".xr-array-in:checked ~ .xr-array-preview {\n",
       "  display: none;\n",
       "}\n",
       "\n",
       ".xr-array-in:checked ~ .xr-array-data,\n",
       ".xr-array-preview {\n",
       "  display: inline-block;\n",
       "}\n",
       "\n",
       ".xr-dim-list {\n",
       "  display: inline-block !important;\n",
       "  list-style: none;\n",
       "  padding: 0 !important;\n",
       "  margin: 0;\n",
       "}\n",
       "\n",
       ".xr-dim-list li {\n",
       "  display: inline-block;\n",
       "  padding: 0;\n",
       "  margin: 0;\n",
       "}\n",
       "\n",
       ".xr-dim-list:before {\n",
       "  content: '(';\n",
       "}\n",
       "\n",
       ".xr-dim-list:after {\n",
       "  content: ')';\n",
       "}\n",
       "\n",
       ".xr-dim-list li:not(:last-child):after {\n",
       "  content: ',';\n",
       "  padding-right: 5px;\n",
       "}\n",
       "\n",
       ".xr-has-index {\n",
       "  font-weight: bold;\n",
       "}\n",
       "\n",
       ".xr-var-list,\n",
       ".xr-var-item {\n",
       "  display: contents;\n",
       "}\n",
       "\n",
       ".xr-var-item > div,\n",
       ".xr-var-item label,\n",
       ".xr-var-item > .xr-var-name span {\n",
       "  background-color: var(--xr-background-color-row-even);\n",
       "  margin-bottom: 0;\n",
       "}\n",
       "\n",
       ".xr-var-item > .xr-var-name:hover span {\n",
       "  padding-right: 5px;\n",
       "}\n",
       "\n",
       ".xr-var-list > li:nth-child(odd) > div,\n",
       ".xr-var-list > li:nth-child(odd) > label,\n",
       ".xr-var-list > li:nth-child(odd) > .xr-var-name span {\n",
       "  background-color: var(--xr-background-color-row-odd);\n",
       "}\n",
       "\n",
       ".xr-var-name {\n",
       "  grid-column: 1;\n",
       "}\n",
       "\n",
       ".xr-var-dims {\n",
       "  grid-column: 2;\n",
       "}\n",
       "\n",
       ".xr-var-dtype {\n",
       "  grid-column: 3;\n",
       "  text-align: right;\n",
       "  color: var(--xr-font-color2);\n",
       "}\n",
       "\n",
       ".xr-var-preview {\n",
       "  grid-column: 4;\n",
       "}\n",
       "\n",
       ".xr-index-preview {\n",
       "  grid-column: 2 / 5;\n",
       "  color: var(--xr-font-color2);\n",
       "}\n",
       "\n",
       ".xr-var-name,\n",
       ".xr-var-dims,\n",
       ".xr-var-dtype,\n",
       ".xr-preview,\n",
       ".xr-attrs dt {\n",
       "  white-space: nowrap;\n",
       "  overflow: hidden;\n",
       "  text-overflow: ellipsis;\n",
       "  padding-right: 10px;\n",
       "}\n",
       "\n",
       ".xr-var-name:hover,\n",
       ".xr-var-dims:hover,\n",
       ".xr-var-dtype:hover,\n",
       ".xr-attrs dt:hover {\n",
       "  overflow: visible;\n",
       "  width: auto;\n",
       "  z-index: 1;\n",
       "}\n",
       "\n",
       ".xr-var-attrs,\n",
       ".xr-var-data,\n",
       ".xr-index-data {\n",
       "  display: none;\n",
       "  background-color: var(--xr-background-color) !important;\n",
       "  padding-bottom: 5px !important;\n",
       "}\n",
       "\n",
       ".xr-var-attrs-in:checked ~ .xr-var-attrs,\n",
       ".xr-var-data-in:checked ~ .xr-var-data,\n",
       ".xr-index-data-in:checked ~ .xr-index-data {\n",
       "  display: block;\n",
       "}\n",
       "\n",
       ".xr-var-data > table {\n",
       "  float: right;\n",
       "}\n",
       "\n",
       ".xr-var-name span,\n",
       ".xr-var-data,\n",
       ".xr-index-name div,\n",
       ".xr-index-data,\n",
       ".xr-attrs {\n",
       "  padding-left: 25px !important;\n",
       "}\n",
       "\n",
       ".xr-attrs,\n",
       ".xr-var-attrs,\n",
       ".xr-var-data,\n",
       ".xr-index-data {\n",
       "  grid-column: 1 / -1;\n",
       "}\n",
       "\n",
       "dl.xr-attrs {\n",
       "  padding: 0;\n",
       "  margin: 0;\n",
       "  display: grid;\n",
       "  grid-template-columns: 125px auto;\n",
       "}\n",
       "\n",
       ".xr-attrs dt,\n",
       ".xr-attrs dd {\n",
       "  padding: 0;\n",
       "  margin: 0;\n",
       "  float: left;\n",
       "  padding-right: 10px;\n",
       "  width: auto;\n",
       "}\n",
       "\n",
       ".xr-attrs dt {\n",
       "  font-weight: normal;\n",
       "  grid-column: 1;\n",
       "}\n",
       "\n",
       ".xr-attrs dt:hover span {\n",
       "  display: inline-block;\n",
       "  background: var(--xr-background-color);\n",
       "  padding-right: 10px;\n",
       "}\n",
       "\n",
       ".xr-attrs dd {\n",
       "  grid-column: 2;\n",
       "  white-space: pre-wrap;\n",
       "  word-break: break-all;\n",
       "}\n",
       "\n",
       ".xr-icon-database,\n",
       ".xr-icon-file-text2,\n",
       ".xr-no-icon {\n",
       "  display: inline-block;\n",
       "  vertical-align: middle;\n",
       "  width: 1em;\n",
       "  height: 1.5em !important;\n",
       "  stroke-width: 0;\n",
       "  stroke: currentColor;\n",
       "  fill: currentColor;\n",
       "}\n",
       "</style><pre class='xr-text-repr-fallback'>&lt;xarray.Dataset&gt;\n",
       "Dimensions:  (year: 64)\n",
       "Coordinates:\n",
       "  * year     (year) int64 1958 1959 1960 1961 1962 ... 2017 2018 2019 2020 2021\n",
       "Data variables:\n",
       "    co2      (year) float64 315.2 316.0 316.9 317.6 ... 408.5 411.4 413.9 415.2</pre><div class='xr-wrap' style='display:none'><div class='xr-header'><div class='xr-obj-type'>xarray.Dataset</div></div><ul class='xr-sections'><li class='xr-section-item'><input id='section-e14dbec0-c4a2-4169-8c72-502ae8e9d9aa' class='xr-section-summary-in' type='checkbox' disabled ><label for='section-e14dbec0-c4a2-4169-8c72-502ae8e9d9aa' class='xr-section-summary'  title='Expand/collapse section'>Dimensions:</label><div class='xr-section-inline-details'><ul class='xr-dim-list'><li><span class='xr-has-index'>year</span>: 64</li></ul></div><div class='xr-section-details'></div></li><li class='xr-section-item'><input id='section-d4f2e4c0-c8cc-4cf2-b88a-05e2922fb72f' class='xr-section-summary-in' type='checkbox'  checked><label for='section-d4f2e4c0-c8cc-4cf2-b88a-05e2922fb72f' class='xr-section-summary' >Coordinates: <span>(1)</span></label><div class='xr-section-inline-details'></div><div class='xr-section-details'><ul class='xr-var-list'><li class='xr-var-item'><div class='xr-var-name'><span class='xr-has-index'>year</span></div><div class='xr-var-dims'>(year)</div><div class='xr-var-dtype'>int64</div><div class='xr-var-preview xr-preview'>1958 1959 1960 ... 2019 2020 2021</div><input id='attrs-5dbb65ce-ef45-4f10-ba3a-fcda8074a0e1' class='xr-var-attrs-in' type='checkbox' disabled><label for='attrs-5dbb65ce-ef45-4f10-ba3a-fcda8074a0e1' title='Show/Hide attributes'><svg class='icon xr-icon-file-text2'><use xlink:href='#icon-file-text2'></use></svg></label><input id='data-1ac3cec5-409b-43db-853d-95faeb1001c7' class='xr-var-data-in' type='checkbox'><label for='data-1ac3cec5-409b-43db-853d-95faeb1001c7' title='Show/Hide data repr'><svg class='icon xr-icon-database'><use xlink:href='#icon-database'></use></svg></label><div class='xr-var-attrs'><dl class='xr-attrs'></dl></div><div class='xr-var-data'><pre>array([1958, 1959, 1960, 1961, 1962, 1963, 1964, 1965, 1966, 1967, 1968, 1969,\n",
       "       1970, 1971, 1972, 1973, 1974, 1975, 1976, 1977, 1978, 1979, 1980, 1981,\n",
       "       1982, 1983, 1984, 1985, 1986, 1987, 1988, 1989, 1990, 1991, 1992, 1993,\n",
       "       1994, 1995, 1996, 1997, 1998, 1999, 2000, 2001, 2002, 2003, 2004, 2005,\n",
       "       2006, 2007, 2008, 2009, 2010, 2011, 2012, 2013, 2014, 2015, 2016, 2017,\n",
       "       2018, 2019, 2020, 2021])</pre></div></li></ul></div></li><li class='xr-section-item'><input id='section-d38b9778-30d7-4334-81f7-00657c6a2b5f' class='xr-section-summary-in' type='checkbox'  checked><label for='section-d38b9778-30d7-4334-81f7-00657c6a2b5f' class='xr-section-summary' >Data variables: <span>(1)</span></label><div class='xr-section-inline-details'></div><div class='xr-section-details'><ul class='xr-var-list'><li class='xr-var-item'><div class='xr-var-name'><span>co2</span></div><div class='xr-var-dims'>(year)</div><div class='xr-var-dtype'>float64</div><div class='xr-var-preview xr-preview'>315.2 316.0 316.9 ... 413.9 415.2</div><input id='attrs-7e09fb44-ede1-4574-97c0-76b03aca4675' class='xr-var-attrs-in' type='checkbox' disabled><label for='attrs-7e09fb44-ede1-4574-97c0-76b03aca4675' title='Show/Hide attributes'><svg class='icon xr-icon-file-text2'><use xlink:href='#icon-file-text2'></use></svg></label><input id='data-da9100d1-5964-4d76-9cee-8b1474d88dc9' class='xr-var-data-in' type='checkbox'><label for='data-da9100d1-5964-4d76-9cee-8b1474d88dc9' title='Show/Hide data repr'><svg class='icon xr-icon-database'><use xlink:href='#icon-database'></use></svg></label><div class='xr-var-attrs'><dl class='xr-attrs'></dl></div><div class='xr-var-data'><pre>array([315.233     , 315.98166667, 316.90916667, 317.64333333,\n",
       "       318.45416667, 318.9925    , 319.6175    , 320.03666667,\n",
       "       321.36916667, 322.18083333, 323.05      , 324.6225    ,\n",
       "       325.68166667, 326.32      , 327.45666667, 329.68083333,\n",
       "       330.25083333, 331.16166667, 332.16166667, 333.91083333,\n",
       "       335.51583333, 336.86083333, 338.7       , 339.9525    ,\n",
       "       341.15083333, 342.7975    , 344.49916667, 345.88916667,\n",
       "       347.13333333, 348.85666667, 351.24166667, 352.7075    ,\n",
       "       353.99166667, 355.39333333, 356.17333333, 356.8475    ,\n",
       "       358.71583333, 360.73      , 362.51083333, 363.64916667,\n",
       "       366.52416667, 368.215     , 369.38416667, 370.93833333,\n",
       "       373.0225    , 375.5725    , 377.3075    , 379.5675    ,\n",
       "       381.77333333, 383.5625    , 385.41916667, 387.345     ,\n",
       "       389.91416667, 391.695     , 393.9475    , 396.64916667,\n",
       "       398.70833333, 400.8675    , 404.20916667, 406.515     ,\n",
       "       408.52083333, 411.42666667, 413.93833333, 415.16      ])</pre></div></li></ul></div></li><li class='xr-section-item'><input id='section-e3dea1ff-512e-46a3-b26d-ccaa186aafd5' class='xr-section-summary-in' type='checkbox'  ><label for='section-e3dea1ff-512e-46a3-b26d-ccaa186aafd5' class='xr-section-summary' >Indexes: <span>(1)</span></label><div class='xr-section-inline-details'></div><div class='xr-section-details'><ul class='xr-var-list'><li class='xr-var-item'><div class='xr-index-name'><div>year</div></div><div class='xr-index-preview'>PandasIndex</div><div></div><input id='index-d470ba9d-725a-4c3b-9d37-4e1997f26ef3' class='xr-index-data-in' type='checkbox'/><label for='index-d470ba9d-725a-4c3b-9d37-4e1997f26ef3' title='Show/Hide index repr'><svg class='icon xr-icon-database'><use xlink:href='#icon-database'></use></svg></label><div class='xr-index-data'><pre>PandasIndex(Int64Index([1958, 1959, 1960, 1961, 1962, 1963, 1964, 1965, 1966, 1967, 1968,\n",
       "            1969, 1970, 1971, 1972, 1973, 1974, 1975, 1976, 1977, 1978, 1979,\n",
       "            1980, 1981, 1982, 1983, 1984, 1985, 1986, 1987, 1988, 1989, 1990,\n",
       "            1991, 1992, 1993, 1994, 1995, 1996, 1997, 1998, 1999, 2000, 2001,\n",
       "            2002, 2003, 2004, 2005, 2006, 2007, 2008, 2009, 2010, 2011, 2012,\n",
       "            2013, 2014, 2015, 2016, 2017, 2018, 2019, 2020, 2021],\n",
       "           dtype=&#x27;int64&#x27;, name=&#x27;year&#x27;))</pre></div></li></ul></div></li><li class='xr-section-item'><input id='section-18c26862-ae2f-4842-86cf-8f7657cf5530' class='xr-section-summary-in' type='checkbox' disabled ><label for='section-18c26862-ae2f-4842-86cf-8f7657cf5530' class='xr-section-summary'  title='Expand/collapse section'>Attributes: <span>(0)</span></label><div class='xr-section-inline-details'></div><div class='xr-section-details'><dl class='xr-attrs'></dl></div></li></ul></div></div>"
      ],
      "text/plain": [
       "<xarray.Dataset>\n",
       "Dimensions:  (year: 64)\n",
       "Coordinates:\n",
       "  * year     (year) int64 1958 1959 1960 1961 1962 ... 2017 2018 2019 2020 2021\n",
       "Data variables:\n",
       "    co2      (year) float64 315.2 316.0 316.9 317.6 ... 408.5 411.4 413.9 415.2"
      ]
     },
     "execution_count": 365,
     "metadata": {},
     "output_type": "execute_result"
    }
   ],
   "source": [
    "# get mean of co2 for each year; in this case use dim=\"month\"\n",
    "ds.mean(dim='month')"
   ]
  },
  {
   "cell_type": "markdown",
   "id": "87e4a0db",
   "metadata": {},
   "source": [
    "# Performance check for pandas groupby vs xarray "
   ]
  },
  {
   "cell_type": "code",
   "execution_count": 366,
   "id": "b6df8f72",
   "metadata": {},
   "outputs": [
    {
     "name": "stdout",
     "output_type": "stream",
     "text": [
      "438 µs ± 2.42 µs per loop (mean ± std. dev. of 7 runs, 1000 loops each)\n"
     ]
    }
   ],
   "source": [
    "%timeit df.groupby('year').mean()['co2']"
   ]
  },
  {
   "cell_type": "code",
   "execution_count": 367,
   "id": "7765a632",
   "metadata": {},
   "outputs": [
    {
     "name": "stdout",
     "output_type": "stream",
     "text": [
      "199 µs ± 1.02 µs per loop (mean ± std. dev. of 7 runs, 1000 loops each)\n"
     ]
    }
   ],
   "source": [
    "%timeit ds.mean(dim='month').co2.values"
   ]
  },
  {
   "cell_type": "markdown",
   "id": "21920a72",
   "metadata": {},
   "source": [
    "# Plotting with XArrays"
   ]
  },
  {
   "cell_type": "code",
   "execution_count": 368,
   "id": "dde2804d",
   "metadata": {},
   "outputs": [
    {
     "data": {
      "text/plain": [
       "(100, 100, 3)"
      ]
     },
     "execution_count": 368,
     "metadata": {},
     "output_type": "execute_result"
    }
   ],
   "source": [
    "measures = np.load('/Users/rohitabhishek/Documents/Programming_Workspace/Github-Programs/advanced-python/Chapter_3/data/2d_measure.npy')\n",
    "measures.shape"
   ]
  },
  {
   "cell_type": "code",
   "execution_count": 369,
   "id": "e31e4e9e",
   "metadata": {},
   "outputs": [
    {
     "data": {
      "image/png": "[encoded data removed]",
      "text/plain": [
       "<Figure size 1000x300 with 6 Axes>"
      ]
     },
     "metadata": {},
     "output_type": "display_data"
    }
   ],
   "source": [
    "fig, ax = plt.subplots(1,3,figsize=(10,3))\n",
    "for i in range(3):\n",
    "    c = ax[i].imshow(measures[:,:,i], origin='lower')\n",
    "    plt.colorbar(c, ax=ax[i])\n",
    "\n",
    "plt.show()"
   ]
  },
  {
   "cell_type": "code",
   "execution_count": 370,
   "id": "e2d90da3",
   "metadata": {},
   "outputs": [],
   "source": [
    "da = xr.DataArray(measures, dims=['x', 'y', 'time'])"
   ]
  },
  {
   "cell_type": "code",
   "execution_count": 372,
   "id": "ad18d3c7",
   "metadata": {},
   "outputs": [
    {
     "data": {
      "text/plain": [
       "<xarray.plot.facetgrid.FacetGrid at 0x7fca30a0d0a0>"
      ]
     },
     "execution_count": 372,
     "metadata": {},
     "output_type": "execute_result"
    },
    {
     "data": {
      "image/png": "[encoded data removed]",
      "text/plain": [
       "<Figure size 1000x300 with 4 Axes>"
      ]
     },
     "metadata": {},
     "output_type": "display_data"
    }
   ],
   "source": [
    "da.plot.imshow(x='x', y='y', col='time', robust=True)"
   ]
  },
  {
   "cell_type": "code",
   "execution_count": null,
   "id": "41232661",
   "metadata": {},
   "outputs": [],
   "source": []
  }
 ],
 "metadata": {
  "kernelspec": {
   "display_name": "mlenv",
   "language": "python",
   "name": "python3"
  },
  "language_info": {
   "codemirror_mode": {
    "name": "ipython",
    "version": 3
   },
   "file_extension": ".py",
   "mimetype": "text/x-python",
   "name": "python",
   "nbconvert_exporter": "python",
   "pygments_lexer": "ipython3",
   "version": "3.8.15"
  }
 },
 "nbformat": 4,
 "nbformat_minor": 5
}
