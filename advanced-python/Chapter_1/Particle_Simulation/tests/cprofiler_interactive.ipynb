{
 "cells": [
  {
   "cell_type": "code",
   "execution_count": 1,
   "id": "21bc9027",
   "metadata": {},
   "outputs": [],
   "source": [
    "import os \n",
    "import sys \n",
    "from pathlib import Path\n",
    "\n",
    "# get the path of src library and import the module \n",
    "file = os.getcwd()\n",
    "root = os.path.dirname(file)\n",
    "sys.path.append(os.path.join(root, 'src'))\n",
    "\n",
    "from particle import Particle, ParticleSimulator, benchmark # type: ignore "
   ]
  },
  {
   "cell_type": "code",
   "execution_count": 2,
   "id": "4f75bb66",
   "metadata": {},
   "outputs": [
    {
     "name": "stdout",
     "output_type": "stream",
     "text": [
      " "
     ]
    },
    {
     "name": "stdout",
     "output_type": "stream",
     "text": [
      "         7007 function calls in 4.280 seconds\n",
      "\n",
      "   Ordered by: internal time\n",
      "\n",
      "   ncalls  tottime  percall  cumtime  percall filename:lineno(function)\n",
      "        1    4.278    4.278    4.278    4.278 particle.py:53(evolve_faster)\n",
      "        1    0.001    0.001    0.002    0.002 particle.py:133(<listcomp>)\n",
      "     3000    0.001    0.000    0.001    0.000 random.py:415(uniform)\n",
      "     3000    0.000    0.000    0.000    0.000 {method 'random' of '_random.Random' objects}\n",
      "     1000    0.000    0.000    0.000    0.000 particle.py:14(__init__)\n",
      "        1    0.000    0.000    4.280    4.280 <string>:1(<module>)\n",
      "        1    0.000    0.000    4.280    4.280 {built-in method builtins.exec}\n",
      "        1    0.000    0.000    4.280    4.280 particle.py:128(benchmark)\n",
      "        1    0.000    0.000    0.000    0.000 {method 'disable' of '_lsprof.Profiler' objects}\n",
      "        1    0.000    0.000    0.000    0.000 particle.py:21(__init__)"
     ]
    }
   ],
   "source": [
    "%prun benchmark()"
   ]
  },
  {
   "cell_type": "code",
   "execution_count": null,
   "id": "eb9e4c31",
   "metadata": {},
   "outputs": [],
   "source": []
  }
 ],
 "metadata": {
  "kernelspec": {
   "display_name": "mlenv",
   "language": "python",
   "name": "python3"
  },
  "language_info": {
   "codemirror_mode": {
    "name": "ipython",
    "version": 3
   },
   "file_extension": ".py",
   "mimetype": "text/x-python",
   "name": "python",
   "nbconvert_exporter": "python",
   "pygments_lexer": "ipython3",
   "version": "3.8.15"
  }
 },
 "nbformat": 4,
 "nbformat_minor": 5
}
