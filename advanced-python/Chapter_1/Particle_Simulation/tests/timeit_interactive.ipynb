{
 "cells": [
  {
   "cell_type": "code",
   "execution_count": 6,
   "id": "76de45ea",
   "metadata": {},
   "outputs": [],
   "source": [
    "import os \n",
    "import sys \n",
    "from pathlib import Path\n",
    "\n",
    "# get the path of src library and import the module \n",
    "file = os.getcwd()\n",
    "root = os.path.dirname(file)\n",
    "sys.path.append(os.path.join(root, 'src'))\n",
    "\n",
    "from particle import Particle, ParticleSimulator, benchmark # type: ignore "
   ]
  },
  {
   "cell_type": "code",
   "execution_count": 7,
   "id": "116bdd6c",
   "metadata": {},
   "outputs": [
    {
     "name": "stdout",
     "output_type": "stream",
     "text": [
      "4.26 s ± 20.2 ms per loop (mean ± std. dev. of 7 runs, 1 loop each)\n"
     ]
    }
   ],
   "source": [
    "%timeit benchmark(nparts=1000, method='python')"
   ]
  },
  {
   "cell_type": "code",
   "execution_count": 8,
   "id": "24d36720",
   "metadata": {},
   "outputs": [
    {
     "name": "stdout",
     "output_type": "stream",
     "text": [
      "7.79 s ± 31.3 ms per loop (mean ± std. dev. of 7 runs, 1 loop each)\n"
     ]
    }
   ],
   "source": [
    "# Added as part of chapter 3 \n",
    "%timeit benchmark(nparts=1000, method='numpy')"
   ]
  },
  {
   "cell_type": "code",
   "execution_count": null,
   "id": "a12b1996",
   "metadata": {},
   "outputs": [],
   "source": []
  }
 ],
 "metadata": {
  "kernelspec": {
   "display_name": "mlenv",
   "language": "python",
   "name": "python3"
  },
  "language_info": {
   "codemirror_mode": {
    "name": "ipython",
    "version": 3
   },
   "file_extension": ".py",
   "mimetype": "text/x-python",
   "name": "python",
   "nbconvert_exporter": "python",
   "pygments_lexer": "ipython3",
   "version": "3.8.15"
  }
 },
 "nbformat": 4,
 "nbformat_minor": 5
}
