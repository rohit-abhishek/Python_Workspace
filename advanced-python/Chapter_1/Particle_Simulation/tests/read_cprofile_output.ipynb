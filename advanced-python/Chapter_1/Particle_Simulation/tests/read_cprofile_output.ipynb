{
 "cells": [
  {
   "cell_type": "code",
   "execution_count": 2,
   "id": "6cbb61aa",
   "metadata": {},
   "outputs": [],
   "source": [
    "import pstats"
   ]
  },
  {
   "cell_type": "code",
   "execution_count": null,
   "id": "c63025f6",
   "metadata": {},
   "outputs": [
    {
     "name": "stdout",
     "output_type": "stream",
     "text": [
      "Fri Apr 25 23:53:31 2025    /Users/rohitabhishek/Documents/Programming_Workspace/Github-Programs/advanced-python/Chapter_1/Particle_Simulation/tests/cProfile_cmd_unreadable.out\n",
      "\n",
      "         2788106 function calls (2764220 primitive calls) in 3.739 seconds\n",
      "\n",
      "   Ordered by: internal time\n",
      "   List reduced from 6261 to 20 due to restriction <20>\n",
      "\n",
      "   ncalls  tottime  percall  cumtime  percall filename:lineno(function)\n",
      "        1    1.590    1.590    2.120    2.120 {built-in method matplotlib.backends._macosx.show}\n",
      "      190    0.348    0.002    0.348    0.002 particle.py:53(evolve_faster)\n",
      "        1    0.296    0.296    0.296    0.296 {method 'dot' of 'numpy.ndarray' objects}\n",
      "    32051    0.148    0.000    0.258    0.000 /Users/rohitabhishek/opt/anaconda3/envs/mlenv/lib/python3.8/inspect.py:625(cleandoc)\n",
      "    62/61    0.143    0.002    0.145    0.002 {built-in method _imp.create_dynamic}\n",
      "      770    0.076    0.000    0.076    0.000 {built-in method io.open_code}\n",
      "        1    0.056    0.056    0.105    0.105 /Users/rohitabhishek/opt/anaconda3/envs/mlenv/lib/python3.8/site-packages/matplotlib/backend_bases.py:3496(new_figure_manager_given_figure)\n",
      "      770    0.054    0.000    0.054    0.000 {built-in method marshal.loads}\n",
      "        1    0.031    0.031    0.031    0.031 {method 'show' of '_macosx.FigureManager' objects}\n",
      "   198932    0.028    0.000    0.028    0.000 {built-in method builtins.min}\n",
      "     8724    0.027    0.000    0.075    0.000 /Users/rohitabhishek/opt/anaconda3/envs/mlenv/lib/python3.8/inspect.py:2124(_signature_from_function)\n",
      "        1    0.026    0.026    0.044    0.044 /Users/rohitabhishek/opt/anaconda3/envs/mlenv/lib/python3.8/site-packages/matplotlib/backends/backend_macosx.py:68(__init__)\n",
      "2636/2485    0.023    0.000    0.614    0.000 {built-in method builtins.__build_class__}\n",
      "526422/524765    0.023    0.000    0.024    0.000 {built-in method builtins.len}\n",
      "   298685    0.023    0.000    0.023    0.000 {method 'lstrip' of 'str' objects}\n",
      "        1    0.019    0.019    0.019    0.019 {method 'destroy' of '_macosx.FigureManager' objects}\n",
      "    23676    0.017    0.000    0.031    0.000 /Users/rohitabhishek/opt/anaconda3/envs/mlenv/lib/python3.8/inspect.py:2489(__init__)\n",
      "   128414    0.016    0.000    0.016    0.000 {method 'startswith' of 'str' objects}\n",
      "    38437    0.016    0.000    0.016    0.000 {method 'split' of 'str' objects}\n",
      "      533    0.016    0.000    0.016    0.000 {built-in method builtins.dir}\n",
      "\n",
      "\n"
     ]
    },
    {
     "data": {
      "text/plain": [
       "<pstats.Stats at 0x7f9db8ca3310>"
      ]
     },
     "execution_count": 6,
     "metadata": {},
     "output_type": "execute_result"
    }
   ],
   "source": [
    "stats = pstats.Stats('/Users/rohitabhishek/Documents/Programming_Workspace/Github-Programs/advanced-python/Chapter_1/Particle_Simulation/tests/data/cProfile_cmd_unreadable.out')\n",
    "stats.sort_stats('tottime').print_stats(20)"
   ]
  },
  {
   "cell_type": "code",
   "execution_count": null,
   "id": "1f8df016",
   "metadata": {},
   "outputs": [],
   "source": []
  }
 ],
 "metadata": {
  "kernelspec": {
   "display_name": "mlenv",
   "language": "python",
   "name": "python3"
  },
  "language_info": {
   "codemirror_mode": {
    "name": "ipython",
    "version": 3
   },
   "file_extension": ".py",
   "mimetype": "text/x-python",
   "name": "python",
   "nbconvert_exporter": "python",
   "pygments_lexer": "ipython3",
   "version": "3.8.15"
  }
 },
 "nbformat": 4,
 "nbformat_minor": 5
}
