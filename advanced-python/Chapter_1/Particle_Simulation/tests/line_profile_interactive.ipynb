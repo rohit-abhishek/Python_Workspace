{
 "cells": [
  {
   "cell_type": "code",
   "execution_count": 2,
   "id": "93ae8aac",
   "metadata": {},
   "outputs": [],
   "source": [
    "import os \n",
    "import sys \n",
    "from pathlib import Path\n",
    "\n",
    "# get the path of src library and import the module \n",
    "file = os.getcwd()\n",
    "root = os.path.dirname(file)\n",
    "sys.path.append(os.path.join(root, 'src'))\n",
    "\n",
    "from particle import ParticleSimulator, benchmark # type: ignore "
   ]
  },
  {
   "cell_type": "code",
   "execution_count": 3,
   "id": "1e64acb6",
   "metadata": {},
   "outputs": [],
   "source": [
    "%load_ext line_profiler"
   ]
  },
  {
   "cell_type": "code",
   "execution_count": 3,
   "id": "20a5ada4",
   "metadata": {},
   "outputs": [
    {
     "name": "stdout",
     "output_type": "stream",
     "text": [
      "Timer unit: 1e-09 s\n",
      "\n",
      "Total time: 19.6603 s\n",
      "File: /Users/rohitabhishek/Documents/Programming_Workspace/Github-Programs/advanced-python/Chapter_1/Particle_Simulation/src/particle.py\n",
      "Function: evolve at line 25\n",
      "\n",
      "Line #      Hits         Time  Per Hit   % Time  Line Contents\n",
      "==============================================================\n",
      "    25                                               @profile\n",
      "    26                                               def evolve(self, dt):\n",
      "    27                                                   \n",
      "    28                                                   # set timestep to 0.00001 \n",
      "    29         1       1000.0   1000.0      0.0          timestep = 0.00001\n",
      "    30                                           \n",
      "    31                                                   # numbner of steps in the simulation will be integer value of small elapsed time divided by timestep \n",
      "    32         1       3000.0   3000.0      0.0          nsteps = int(dt / timestep)\n",
      "    33                                           \n",
      "    34                                                   # iterate for all steps \n",
      "    35     10001    3095000.0    309.5      0.0          for i in range(nsteps):\n",
      "    36                                                       \n",
      "    37                                                       # for each particle iterate\n",
      "    38  10010000 2059741000.0    205.8     10.5              for p in self.particles:\n",
      "    39                                           \n",
      "    40                                                           # get the direction \n",
      "    41  10000000 4634754000.0    463.5     23.6                  norm = (p.x ** 2 + p.y ** 2) ** 0.5 \n",
      "    42  10000000 2131577000.0    213.2     10.8                  v_x = (-p.y)/norm \n",
      "    43  10000000 1946241000.0    194.6      9.9                  v_y = p.x/norm \n",
      "    44                                           \n",
      "    45                                                           # get the displacement \n",
      "    46  10000000 2241427000.0    224.1     11.4                  d_x = timestep * p.ang_vel * v_x\n",
      "    47  10000000 2134256000.0    213.4     10.9                  d_y = timestep * p.ang_vel * v_y\n",
      "    48                                           \n",
      "    49                                                           # increment the values for particles \n",
      "    50  10000000 2321324000.0    232.1     11.8                  p.x += d_x\n",
      "    51  10000000 2187842000.0    218.8     11.1                  p.y += d_y"
     ]
    }
   ],
   "source": [
    "%lprun -f ParticleSimulator.evolve benchmark()"
   ]
  },
  {
   "cell_type": "code",
   "execution_count": 4,
   "id": "9686fe60",
   "metadata": {},
   "outputs": [
    {
     "name": "stdout",
     "output_type": "stream",
     "text": [
      "Timer unit: 1e-09 s\n",
      "\n",
      "Total time: 10.3216 s\n",
      "File: /Users/rohitabhishek/Documents/Programming_Workspace/Github-Programs/advanced-python/Chapter_1/Particle_Simulation/src/particle.py\n",
      "Function: evolve_faster at line 54\n",
      "\n",
      "Line #      Hits         Time  Per Hit   % Time  Line Contents\n",
      "==============================================================\n",
      "    54                                               def evolve_faster(self, dt): \n",
      "    55                                                   \"\"\" This is created after running line by line profiling of evolve method and then optimizing the code \"\"\"\n",
      "    56                                           \n",
      "    57         1       2000.0   2000.0      0.0          timestep = 0.00001\n",
      "    58         1       4000.0   4000.0      0.0          nsteps = int(dt / timestep)\n",
      "    59                                           \n",
      "    60                                                   # change the loop order \n",
      "    61      1001     698000.0    697.3      0.0          for p in self.particles:\n",
      "    62                                           \n",
      "    63                                                       # get the angular distance covered \n",
      "    64      1000     453000.0    453.0      0.0              t_x_ang = timestep * p.ang_vel\n",
      "    65                                           \n",
      "    66                                                       # now iterate through the steps \n",
      "    67  10001000 1960934000.0    196.1     19.0              for i in range(nsteps):\n",
      "    68  10000000 4245708000.0    424.6     41.1                  norm = (p.x ** 2 + p.y ** 2) ** 0.5\n",
      "    69  10000000 4113839000.0    411.4     39.9                  p.x, p.y = p.x - t_x_ang*p.y/norm, p.y + t_x_ang * p.x/norm"
     ]
    }
   ],
   "source": [
    "%lprun -f ParticleSimulator.evolve_faster benchmark()"
   ]
  },
  {
   "cell_type": "code",
   "execution_count": null,
   "id": "9e246858",
   "metadata": {},
   "outputs": [],
   "source": []
  }
 ],
 "metadata": {
  "kernelspec": {
   "display_name": "mlenv",
   "language": "python",
   "name": "python3"
  },
  "language_info": {
   "codemirror_mode": {
    "name": "ipython",
    "version": 3
   },
   "file_extension": ".py",
   "mimetype": "text/x-python",
   "name": "python",
   "nbconvert_exporter": "python",
   "pygments_lexer": "ipython3",
   "version": "3.8.15"
  }
 },
 "nbformat": 4,
 "nbformat_minor": 5
}
