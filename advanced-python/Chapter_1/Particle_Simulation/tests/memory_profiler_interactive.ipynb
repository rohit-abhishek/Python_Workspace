{
 "cells": [
  {
   "cell_type": "code",
   "execution_count": 4,
   "id": "b34737c7",
   "metadata": {},
   "outputs": [],
   "source": [
    "import os \n",
    "import sys \n",
    "from pathlib import Path\n",
    "\n",
    "# get the path of src library and import the module \n",
    "file = os.getcwd()\n",
    "root = os.path.dirname(file)\n",
    "sys.path.append(os.path.join(root, 'src'))\n",
    "\n",
    "from particle import Particle, ParticleSimulator, benchmark, benchmark_memory # type: ignore "
   ]
  },
  {
   "cell_type": "code",
   "execution_count": 5,
   "id": "f9e72254",
   "metadata": {},
   "outputs": [
    {
     "name": "stdout",
     "output_type": "stream",
     "text": [
      "The memory_profiler extension is already loaded. To reload it, use:\n",
      "  %reload_ext memory_profiler\n"
     ]
    }
   ],
   "source": [
    "%load_ext memory_profiler"
   ]
  },
  {
   "cell_type": "code",
   "execution_count": 6,
   "id": "a0988cb4",
   "metadata": {},
   "outputs": [
    {
     "name": "stdout",
     "output_type": "stream",
     "text": [
      "Filename: /Users/rohitabhishek/Documents/Programming_Workspace/Github-Programs/advanced-python/Chapter_1/Particle_Simulation/src/particle.py\n",
      "\n",
      "Line #    Mem usage    Increment  Occurrences   Line Contents\n",
      "=============================================================\n",
      "   145    133.9 MiB    133.9 MiB           1   @mprofile\n",
      "   146                                         def benchmark_memory(): \n",
      "   147                                             \"\"\" This piece of code is added for benchmarking memory usage \"\"\"\n",
      "   148    152.0 MiB     18.1 MiB      100003       particles = [Particle(uniform(-1.0,1.0), uniform(-1.0,1.0), uniform(-1.0, 1.0)) for i in range(100000)]\n",
      "   149    152.0 MiB      0.0 MiB           1       simulator = ParticleSimulator(particles)\n",
      "   150    152.0 MiB      0.0 MiB           1       simulator.evolve_faster(0.001)\n",
      "\n",
      "\n",
      "\n"
     ]
    },
    {
     "name": "stdout",
     "output_type": "stream",
     "text": [
      "Filename: /Users/rohitabhishek/opt/anaconda3/envs/mlenv/lib/python3.8/site-packages/memory_profiler.py\n",
      "\n",
      "Line #    Mem usage    Increment  Occurrences   Line Contents\n",
      "=============================================================\n",
      "  1185    133.9 MiB    133.9 MiB           1               @wraps(wrapped=func)\n",
      "  1186                                                     def wrapper(*args, **kwargs):\n",
      "  1187    133.9 MiB      0.0 MiB           1                   prof = get_prof()\n",
      "  1188    152.0 MiB     18.1 MiB           1                   val = prof(func)(*args, **kwargs)\n",
      "  1189    152.0 MiB      0.0 MiB           1                   show_results_bound(prof)\n",
      "  1190    152.0 MiB      0.0 MiB           1                   return val"
     ]
    }
   ],
   "source": [
    "%mprun -f benchmark_memory benchmark_memory()"
   ]
  },
  {
   "cell_type": "code",
   "execution_count": null,
   "id": "63bad795",
   "metadata": {},
   "outputs": [],
   "source": []
  }
 ],
 "metadata": {
  "kernelspec": {
   "display_name": "mlenv",
   "language": "python",
   "name": "python3"
  },
  "language_info": {
   "codemirror_mode": {
    "name": "ipython",
    "version": 3
   },
   "file_extension": ".py",
   "mimetype": "text/x-python",
   "name": "python",
   "nbconvert_exporter": "python",
   "pygments_lexer": "ipython3",
   "version": "3.8.15"
  }
 },
 "nbformat": 4,
 "nbformat_minor": 5
}
